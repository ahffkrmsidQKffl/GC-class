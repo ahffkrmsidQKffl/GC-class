{
 "cells": [
  {
   "cell_type": "code",
   "execution_count": null,
   "id": "0d5b107e",
   "metadata": {},
   "outputs": [],
   "source": [
    "11번 - (1)"
   ]
  },
  {
   "cell_type": "code",
   "execution_count": 1,
   "id": "c39cac4e",
   "metadata": {},
   "outputs": [
    {
     "name": "stdout",
     "output_type": "stream",
     "text": [
      "A∩B: {8, 1, 2, 4}\n"
     ]
    }
   ],
   "source": [
    "A = {1, 2, 4, 6, 8, 10}\n",
    "B = {1, 2, 3, 4, 5, 8}\n",
    "\n",
    "\n",
    "print(f'A∩B: {A & B}')\n"
   ]
  },
  {
   "cell_type": "code",
   "execution_count": null,
   "id": "e714ae7f",
   "metadata": {},
   "outputs": [],
   "source": [
    "11번 - (2)"
   ]
  },
  {
   "cell_type": "code",
   "execution_count": 26,
   "id": "d63018b1",
   "metadata": {},
   "outputs": [
    {
     "name": "stdout",
     "output_type": "stream",
     "text": [
      "16\n"
     ]
    }
   ],
   "source": [
    "import itertools\n",
    "\n",
    "A = {1, 2, 4, 6, 8, 10}\n",
    "B = {1, 2, 3, 4, 5, 8}\n",
    "\n",
    "\n",
    "I = A & B\n",
    "result = []\n",
    "\n",
    "for i in range(len(I)+1):\n",
    "    result += list(itertools.combinations(I,i))\n",
    "\n",
    "print( len(result))"
   ]
  },
  {
   "cell_type": "code",
   "execution_count": null,
   "id": "7888482e",
   "metadata": {},
   "outputs": [],
   "source": [
    "12번 - (1)"
   ]
  },
  {
   "cell_type": "code",
   "execution_count": 17,
   "id": "609fea61",
   "metadata": {},
   "outputs": [
    {
     "name": "stdout",
     "output_type": "stream",
     "text": [
      "R1는 함수가 아니다.\n"
     ]
    }
   ],
   "source": [
    "def isCheckFunction(A, B, f):\n",
    "    is_func = True\n",
    "    domainCnt= dict()  \n",
    "    \n",
    "    \n",
    "    for r in f:\n",
    "        x, y = r[0], r[1]        \n",
    "        if x not in A: is_func = False\n",
    "        if y not in B: is_func = False\n",
    "        \n",
    "        \n",
    "        if x not in domainCnt: domainCnt[x] = 1\n",
    "        else: domainCnt[x] += 1     \n",
    "        \n",
    "        if domainCnt[x] > 1: is_func = False \n",
    "    \n",
    "    return is_func\n",
    "\n",
    "A = {'a','b','c','d'}\n",
    "B = {1, 2, 3}\n",
    "R1 = {('a', 1), ('b', 2), ('a', 2), ('c', 1), ('d', 2)}\n",
    "\n",
    "if isCheckFunction(A, B, R1):\n",
    "    print(f'R1는 함수다.')   \n",
    "else:\n",
    "    print(f'R1는 함수가 아니다.')"
   ]
  },
  {
   "cell_type": "code",
   "execution_count": null,
   "id": "cc6afc84",
   "metadata": {},
   "outputs": [],
   "source": [
    "12번 - (2)"
   ]
  },
  {
   "cell_type": "code",
   "execution_count": 18,
   "id": "2babd75e",
   "metadata": {},
   "outputs": [
    {
     "name": "stdout",
     "output_type": "stream",
     "text": [
      "R2는 함수이다.\n"
     ]
    }
   ],
   "source": [
    "def isCheckFunction(A, B, f):\n",
    "    is_func = True\n",
    "    domainCnt= dict()   \n",
    "    \n",
    "    \n",
    "    for r in f:\n",
    "        x, y = r[0], r[1]        \n",
    "        if x not in A: is_func = False\n",
    "        if y not in B: is_func = False\n",
    "        \n",
    "\n",
    "        if x not in domainCnt: domainCnt[x] = 1\n",
    "        else: domainCnt[x] += 1     \n",
    "        if domainCnt[x] > 1: is_func = False \n",
    "    \n",
    "    return is_func\n",
    "\n",
    "A = {'a','b','c','d'}\n",
    "B = {1, 2, 3}\n",
    "R2 = {('a', 1), ('b', 1), ('c', 1), ('d', 1)}\n",
    "\n",
    "if isCheckFunction(A, B, R2):\n",
    "    print(f'R2는 함수이다.')      \n",
    "else:\n",
    "    print(f'R2는 함수가 아니다.')"
   ]
  },
  {
   "cell_type": "markdown",
   "id": "211672b5",
   "metadata": {},
   "source": [
    "#13번"
   ]
  },
  {
   "cell_type": "code",
   "execution_count": 25,
   "id": "f4b38b00",
   "metadata": {},
   "outputs": [
    {
     "name": "stdout",
     "output_type": "stream",
     "text": [
      "W0=\n",
      "[[1 0 0 1 0]\n",
      " [0 1 0 0 0]\n",
      " [0 0 0 1 1]\n",
      " [1 0 0 0 0]\n",
      " [0 1 0 0 1]]\n",
      "------------------------------\n",
      "W1=\n",
      "[[1 0 0 1 0]\n",
      " [0 1 0 0 0]\n",
      " [0 0 0 1 1]\n",
      " [1 0 0 1 0]\n",
      " [0 1 0 0 1]]\n",
      "------------------------------\n",
      "W2=\n",
      "[[1 0 0 1 0]\n",
      " [0 1 0 0 0]\n",
      " [0 0 0 1 1]\n",
      " [1 0 0 1 0]\n",
      " [0 1 0 0 1]]\n",
      "------------------------------\n",
      "W3=\n",
      "[[1 0 0 1 0]\n",
      " [0 1 0 0 0]\n",
      " [0 0 0 1 1]\n",
      " [1 0 0 1 0]\n",
      " [0 1 0 0 1]]\n",
      "------------------------------\n",
      "W4=\n",
      "[[1 0 0 1 0]\n",
      " [0 1 0 0 0]\n",
      " [1 0 0 1 1]\n",
      " [1 0 0 1 0]\n",
      " [0 1 0 0 1]]\n",
      "------------------------------\n",
      "W5=\n",
      "[[1 0 0 1 0]\n",
      " [0 1 0 0 0]\n",
      " [1 1 0 1 1]\n",
      " [1 0 0 1 0]\n",
      " [0 1 0 0 1]]\n"
     ]
    }
   ],
   "source": [
    "### 와샬 알고리즘\n",
    "\n",
    "matrix0 = np.array([[1, 0, 0, 1, 0],\n",
    " [0, 1, 0, 0, 0],\n",
    " [0, 0, 0, 1, 1],\n",
    " [1, 0, 0, 0, 0],\n",
    " [0, 1, 0, 0, 1]])\n",
    "\n",
    "n = 5\n",
    "\n",
    "for l in range(n) :\n",
    "    print(f\"W{l}=\")\n",
    "    print(globals()['matrix{}'.format(l)])\n",
    "    print('-'*30)\n",
    "    globals()['matrix{}'.format(l+1)] = globals()['matrix{}'.format(l)]\n",
    "    \n",
    "    a=0\n",
    "    c=[]\n",
    "    for i in globals()['matrix{}'.format(l)][:, l] :\n",
    "        if i == 1 :\n",
    "            c.append(a)\n",
    "        a=a+1\n",
    "\n",
    "    b=0\n",
    "    d=[]\n",
    "    for i in globals()['matrix{}'.format(l)][l,:] :\n",
    "        if i == 1 :\n",
    "            d.append(b)\n",
    "        b=b+1\n",
    "\n",
    "    for i in c :\n",
    "        for j in d :\n",
    "            globals()['matrix{}'.format(l+1)][i, j] = 1\n",
    "\n",
    "print(f\"W{l+1}=\")\n",
    "print(globals()['matrix{}'.format(l+1)])\n"
   ]
  },
  {
   "cell_type": "markdown",
   "id": "5ecb1877",
   "metadata": {},
   "source": [
    "##14번"
   ]
  },
  {
   "cell_type": "code",
   "execution_count": 29,
   "id": "c9028218",
   "metadata": {},
   "outputs": [
    {
     "name": "stdout",
     "output_type": "stream",
     "text": [
      "Requirement already satisfied: matplotlib in c:\\programdata\\anaconda3\\lib\\site-packages (3.4.3)\n",
      "Requirement already satisfied: pyparsing>=2.2.1 in c:\\programdata\\anaconda3\\lib\\site-packages (from matplotlib) (3.0.4)\n",
      "Requirement already satisfied: python-dateutil>=2.7 in c:\\programdata\\anaconda3\\lib\\site-packages (from matplotlib) (2.8.2)\n",
      "Requirement already satisfied: kiwisolver>=1.0.1 in c:\\programdata\\anaconda3\\lib\\site-packages (from matplotlib) (1.3.1)\n",
      "Requirement already satisfied: cycler>=0.10 in c:\\programdata\\anaconda3\\lib\\site-packages (from matplotlib) (0.10.0)\n",
      "Requirement already satisfied: numpy>=1.16 in c:\\programdata\\anaconda3\\lib\\site-packages (from matplotlib) (1.20.3)\n",
      "Requirement already satisfied: pillow>=6.2.0 in c:\\programdata\\anaconda3\\lib\\site-packages (from matplotlib) (8.4.0)\n",
      "Requirement already satisfied: six in c:\\programdata\\anaconda3\\lib\\site-packages (from cycler>=0.10->matplotlib) (1.16.0)\n"
     ]
    }
   ],
   "source": [
    "!pip install matplotlib"
   ]
  },
  {
   "cell_type": "code",
   "execution_count": 30,
   "id": "0fdc9450",
   "metadata": {
    "scrolled": true
   },
   "outputs": [
    {
     "name": "stdout",
     "output_type": "stream",
     "text": [
      "Requirement already satisfied: networkx in c:\\programdata\\anaconda3\\lib\\site-packages (2.6.3)\n"
     ]
    }
   ],
   "source": [
    "!pip install networkx"
   ]
  },
  {
   "cell_type": "code",
   "execution_count": null,
   "id": "aaeae95a",
   "metadata": {},
   "outputs": [],
   "source": [
    "(1)"
   ]
  },
  {
   "cell_type": "code",
   "execution_count": 5,
   "id": "8261d95b",
   "metadata": {
    "scrolled": true
   },
   "outputs": [
    {
     "name": "stdout",
     "output_type": "stream",
     "text": [
      "관계행렬(M)\n",
      "[[1 0 0 1 0]\n",
      " [0 0 1 0 1]\n",
      " [0 0 0 0 1]\n",
      " [0 0 0 0 0]\n",
      " [1 1 0 0 0]]\n"
     ]
    }
   ],
   "source": [
    "import itertools\n",
    "\n",
    "A = [1, 2, 3, 4, 5]\n",
    "\n",
    "R = [(1, 1), (1, 4), (2, 3), (2, 5), (3, 5), (5, 1), (5, 2)]\n",
    "\n",
    "def printRelationMatrix(A, B, R):    \n",
    "    import numpy as np\n",
    "    \n",
    "    datas = []\n",
    "    for a in A: \n",
    "        data = []\n",
    "        for b in B: \n",
    "            r = (a, b)\n",
    "            if r in R: \n",
    "                data.append(1)\n",
    "            else:\n",
    "                data.append(0)\n",
    "        datas.append(data)\n",
    "        \n",
    "    return np.array(datas)\n",
    "\n",
    "matrix = printRelationMatrix(A, A, R)\n",
    "print('관계행렬(M)')\n",
    "print(matrix)"
   ]
  },
  {
   "cell_type": "code",
   "execution_count": null,
   "id": "149b2037",
   "metadata": {},
   "outputs": [],
   "source": [
    "(2)"
   ]
  },
  {
   "cell_type": "code",
   "execution_count": 6,
   "id": "d7e34d7a",
   "metadata": {},
   "outputs": [
    {
     "name": "stdout",
     "output_type": "stream",
     "text": [
      "유향그래프:\n"
     ]
    },
    {
     "data": {
      "image/png": "[encoded data removed]",
      "text/plain": [
       "<Figure size 432x288 with 1 Axes>"
      ]
     },
     "metadata": {},
     "output_type": "display_data"
    }
   ],
   "source": [
    "import itertools\n",
    "\n",
    "A = [1, 2, 3, 4, 5]\n",
    "\n",
    "R = [(1, 1), (1, 4), (2, 3), (2, 5), (3, 5), (5, 1), (5, 2)]\n",
    "\n",
    "\n",
    "# 유향 그래프 그리기\n",
    "def drawDirectGraph(A, R):\n",
    "    import networkx as nx\n",
    "    import matplotlib.pyplot as plt\n",
    "\n",
    "    G = nx.DiGraph() \n",
    "\n",
    "    G.add_nodes_from(A) \n",
    "    G.add_edges_from(R) \n",
    "    \n",
    "    print('유향그래프:')\n",
    "    nx.draw(G, with_labels=True)\n",
    "    plt.show()\n",
    "    \n",
    "\n",
    "drawDirectGraph(A, R)  "
   ]
  },
  {
   "cell_type": "code",
   "execution_count": null,
   "id": "24ab2ba3",
   "metadata": {},
   "outputs": [],
   "source": []
  }
 ],
 "metadata": {
  "kernelspec": {
   "display_name": "Python 3 (ipykernel)",
   "language": "python",
   "name": "python3"
  },
  "language_info": {
   "codemirror_mode": {
    "name": "ipython",
    "version": 3
   },
   "file_extension": ".py",
   "mimetype": "text/x-python",
   "name": "python",
   "nbconvert_exporter": "python",
   "pygments_lexer": "ipython3",
   "version": "3.9.7"
  }
 },
 "nbformat": 4,
 "nbformat_minor": 5
}
