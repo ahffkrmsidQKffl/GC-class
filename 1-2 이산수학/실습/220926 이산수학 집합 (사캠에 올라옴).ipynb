{
 "cells": [
  {
   "cell_type": "code",
   "execution_count": 1,
   "id": "1459c75f",
   "metadata": {},
   "outputs": [
    {
     "data": {
      "text/plain": [
       "(list, tuple, dict, set)"
      ]
     },
     "execution_count": 1,
     "metadata": {},
     "output_type": "execute_result"
    }
   ],
   "source": [
    "# 파이썬에서 여러 데이터를 담을 수 있는 자료형\n",
    "\n",
    "l = list()\n",
    "t = tuple()\n",
    "d=dict({'key':'value'})\n",
    "s= set({1,2,3,4,5})\n",
    "\n",
    "type(l), type(t), type(d), type(s)"
   ]
  },
  {
   "cell_type": "code",
   "execution_count": null,
   "id": "97987fac",
   "metadata": {},
   "outputs": [],
   "source": []
  },
  {
   "cell_type": "code",
   "execution_count": 4,
   "id": "23f40a0d",
   "metadata": {},
   "outputs": [
    {
     "name": "stdout",
     "output_type": "stream",
     "text": [
      "<class 'set'>\n",
      "<class 'set'>\n",
      "{1, 2, 3, 4}\n"
     ]
    }
   ],
   "source": [
    "mySet = set() #공집합\n",
    "print(type(mySet))\n",
    "\n",
    "mySet = {1,2,3,4,5}\n",
    "print(type(mySet))\n",
    "\n",
    "mySet = {1,1,2,2,3,3,4,4,} \n",
    "print(mySet)"
   ]
  },
  {
   "cell_type": "code",
   "execution_count": null,
   "id": "4a3c416a",
   "metadata": {},
   "outputs": [],
   "source": [
    "뭐였지여기 mySet = hello\n",
    "순서없이 막 프린트되는거 보여줌"
   ]
  },
  {
   "cell_type": "code",
   "execution_count": null,
   "id": "eda92b74",
   "metadata": {},
   "outputs": [],
   "source": [
    "파이썬에서 집합 조건제시법으로 표현하는 방법"
   ]
  },
  {
   "cell_type": "code",
   "execution_count": 6,
   "id": "4e491689",
   "metadata": {},
   "outputs": [
    {
     "name": "stdout",
     "output_type": "stream",
     "text": [
      "range(0, 10)\n",
      "{0, 1, 2, 3, 4, 5, 6, 7, 8, 9}\n",
      "{0, 4, 8, 12, 16}\n",
      "{32, 1, 2, 64, 4, 128, 256, 512, 8, 16}\n"
     ]
    }
   ],
   "source": [
    "N = set(range(10))\n",
    "print(range(10))\n",
    "evens = {2*n for n in N if n%2==0}    #짝수 :  {2n / n은 정수}\n",
    "powers = {2**n for n in N}  #순서가 없다\n",
    "print(N)\n",
    "print(evens)\n",
    "print(powers)"
   ]
  },
  {
   "cell_type": "code",
   "execution_count": null,
   "id": "7f1bab5a",
   "metadata": {},
   "outputs": [],
   "source": [
    "프린트 中 page 16 "
   ]
  },
  {
   "cell_type": "code",
   "execution_count": 9,
   "id": "58c0ef6a",
   "metadata": {},
   "outputs": [
    {
     "name": "stdout",
     "output_type": "stream",
     "text": [
      "{1, 2, 3, 4, 5, 6, 7, 8, 9, 10}\n",
      "{1, 2, 3, 4, 5, 6, 7, 8, 9, 10}\n",
      "집합의 원소들 :{1, 2, 3, 4, 5, 6, 7, 8, 9, 10}\n",
      "집합의 크기 :10\n"
     ]
    }
   ],
   "source": [
    "A = {n for n in range(1,11)}\n",
    "\n",
    "N = set(range(1,11))\n",
    "print (A)\n",
    "print (N)\n",
    "\n",
    "print (f'집합의 원소들 :{A}')\n",
    "print (f'집합의 크기 :{len(A)}') #크기 = 길이"
   ]
  },
  {
   "cell_type": "code",
   "execution_count": null,
   "id": "c573fffc",
   "metadata": {},
   "outputs": [],
   "source": [
    "프린트 中 page 18 예제 1,2,3"
   ]
  },
  {
   "cell_type": "code",
   "execution_count": 10,
   "id": "11a4471d",
   "metadata": {},
   "outputs": [
    {
     "name": "stdout",
     "output_type": "stream",
     "text": [
      "1는 S{1, 3, 5, 7, 9}의 원소이다\n",
      "2는 S{1, 3, 5, 7, 9}의 원소가 아니다\n",
      "3는 S{1, 3, 5, 7, 9}의 원소이다\n"
     ]
    }
   ],
   "source": [
    "S = {1, 3, 5, 7, 9}\n",
    "n = {1, 3, 2}\n",
    "\n",
    "for x in n :\n",
    "    if x in S :\n",
    "        print(f'{x}는 S{S}의 원소이다')\n",
    "    else :\n",
    "        print(f'{x}는 S{S}의 원소가 아니다')"
   ]
  },
  {
   "cell_type": "code",
   "execution_count": 12,
   "id": "b5e87abf",
   "metadata": {},
   "outputs": [
    {
     "name": "stdout",
     "output_type": "stream",
     "text": [
      "원소나열법 : {'y', 'b', 'e', 't'}\n",
      "조건제시법 : {'y', 'b', 'e', 't'}\n"
     ]
    }
   ],
   "source": [
    "string = 'byte'\n",
    "\n",
    "#원소나열법\n",
    "print(f'원소나열법 : {set(string)}')\n",
    "\n",
    "#조건제시법\n",
    "print(f'조건제시법 : { {s for s in string} }')"
   ]
  },
  {
   "cell_type": "code",
   "execution_count": null,
   "id": "cad8124f",
   "metadata": {},
   "outputs": [],
   "source": [
    "예제 3-7"
   ]
  },
  {
   "cell_type": "code",
   "execution_count": null,
   "id": "30b6ac90",
   "metadata": {},
   "outputs": [],
   "source": []
  },
  {
   "cell_type": "code",
   "execution_count": null,
   "id": "fe0acc2f",
   "metadata": {},
   "outputs": [],
   "source": [
    "부분집합 관계 표시"
   ]
  },
  {
   "cell_type": "code",
   "execution_count": null,
   "id": "ea4bb96f",
   "metadata": {},
   "outputs": [],
   "source": [
    "# 1. 부등호 사용 \n",
    "# 2. 함수사용 : issubset(), issuperset()"
   ]
  },
  {
   "cell_type": "code",
   "execution_count": null,
   "id": "3fd5c9bb",
   "metadata": {},
   "outputs": [],
   "source": [
    "예제 3-10"
   ]
  },
  {
   "cell_type": "code",
   "execution_count": null,
   "id": "78ddf511",
   "metadata": {},
   "outputs": [],
   "source": [
    "def check_subset(s1, s2, name1, name2):\n",
    "    print(f'{name1}{s1}, {name2}{s2}')\n",
    "    \n",
    "    ~~~"
   ]
  }
 ],
 "metadata": {
  "kernelspec": {
   "display_name": "Python 3 (ipykernel)",
   "language": "python",
   "name": "python3"
  },
  "language_info": {
   "codemirror_mode": {
    "name": "ipython",
    "version": 3
   },
   "file_extension": ".py",
   "mimetype": "text/x-python",
   "name": "python",
   "nbconvert_exporter": "python",
   "pygments_lexer": "ipython3",
   "version": "3.9.7"
  }
 },
 "nbformat": 4,
 "nbformat_minor": 5
}
