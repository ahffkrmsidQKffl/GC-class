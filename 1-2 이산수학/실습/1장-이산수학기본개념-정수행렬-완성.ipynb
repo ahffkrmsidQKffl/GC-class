{
 "cells": [
  {
   "cell_type": "markdown",
   "id": "0a9722f3",
   "metadata": {},
   "source": [
    "# 파이썬 실습"
   ]
  },
  {
   "cell_type": "markdown",
   "id": "2cb63943",
   "metadata": {},
   "source": [
    "## 1-1.이산수학이란?"
   ]
  },
  {
   "cell_type": "markdown",
   "id": "3cbe2a73",
   "metadata": {},
   "source": [
    "### [실습] 동전교환 프로그램"
   ]
  },
  {
   "cell_type": "code",
   "execution_count": 4,
   "id": "864cd194",
   "metadata": {},
   "outputs": [
    {
     "name": "stdout",
     "output_type": "stream",
     "text": [
      "동전으로 교환할 금액을 입력하세요: 4321\n",
      "----------------------------------------\n",
      "500원짜리 ==> 8개\n",
      "100원짜리 ==> 3개\n",
      "50원짜리 ==> 0개\n",
      "10원짜리 ==> 2개\n",
      "잔돈  ==> 1원\n"
     ]
    }
   ],
   "source": [
    "# 변수 선언\n",
    "c500, c100, c50, c10 = 0, 0, 0, 0 \n",
    "\n",
    "# 동전 교환할 금액 입력받기\n",
    "money = int(input(\"동전으로 교환할 금액을 입력하세요: \"))\n",
    "print('-'*40)\n",
    "\n",
    "# 각 동전 갯수 계산\n",
    "c500 = money // 500     # 500으로 나눈 몫\n",
    "money= money % 500      # 500으로 나눈 나머지\n",
    "\n",
    "c100 = money // 100     # 100으로 나눈 몫\n",
    "money= money % 100      # 100으로 나눈 나머지\n",
    "\n",
    "c50 = money // 50       # 50으로 나눈 몫\n",
    "money= money % 50       # 50으로 나눈 나머지\n",
    "\n",
    "c10 = money // 10       # 10으로 나눈 몫\n",
    "money= money % 10       # 10으로 나눈 나머지\n",
    "\n",
    "print(\"500원짜리 ==> %d개\" % c500)\n",
    "print(\"100원짜리 ==> %d개\" % c100)\n",
    "print(\"50원짜리 ==> %d개\" % c50)\n",
    "print(\"10원짜리 ==> %d개\" % c10)\n",
    "print(\"잔돈  ==> %d원\" % money)"
   ]
  },
  {
   "cell_type": "markdown",
   "id": "865cd22f",
   "metadata": {},
   "source": [
    "-------------------"
   ]
  },
  {
   "cell_type": "markdown",
   "id": "a92593dd",
   "metadata": {},
   "source": [
    "## 1-2.마술카드\n"
   ]
  },
  {
   "cell_type": "markdown",
   "id": "e9e958a4",
   "metadata": {},
   "source": [
    "### [실습] : 1~7 까지의 임의의 숫자를 생각하고 알아 맞추기"
   ]
  },
  {
   "cell_type": "code",
   "execution_count": 7,
   "id": "0f478b92",
   "metadata": {},
   "outputs": [
    {
     "name": "stdout",
     "output_type": "stream",
     "text": [
      "# 지금부터 여러분을 신비한 마술의 세계로 초대합니다.\n",
      "1 - 7의 숫자중 마음에 드는 숫자를 생각해 보세요.\n",
      "생각하셨어요? 시작하려면 엔터를 누르세요.\n",
      "--------------------------------------------------\n",
      "\n",
      " --------- A 카드 ---------\n",
      "\n",
      "      1      3\n",
      "      5      7\n",
      " --------------------------\n",
      "\n",
      "A 카드에 생각한 숫자가 있다면 YES(1),없다면 NO(0)을 입력해 주세요.0\n",
      "\n",
      " --------- B 카드 ---------\n",
      "\n",
      "      2      3\n",
      "      6      7\n",
      " --------------------------\n",
      "\n",
      "B 카드에 생각한 숫자가 있다면 YES(1),없다면 NO(0)을 입력해 주세요.1\n",
      "\n",
      " --------- C 카드 ---------\n",
      "\n",
      "      4      5\n",
      "      6      7\n",
      " --------------------------\n",
      "\n",
      "C 카드에 생각한 숫자가 있다면 YES(1),없다면 NO(0)을 입력해 주세요.1\n",
      "\n",
      "--------------------------------------------------\n",
      "당신이 마음에 드는 숫자는 [[ 6 ]]입니다.\n",
      "\n",
      "어때요? 신기하죠!!\n",
      "지금까지 마술의 세계였습니다.\n",
      "-------------------------------------------------- 끝\n"
     ]
    }
   ],
   "source": [
    "def my_card(index):\n",
    "    cardname = chr(ord('A') + index - 1)\n",
    "\n",
    "    while True:\n",
    "        print(f\" --------- {cardname} 카드 ---------\\n\")\n",
    "        for i in range(0, 2):\n",
    "            for j in range(0, 2):\n",
    "                print(\"%7d\" % card[index-1][i*2 + j], end='')\n",
    "            print()\n",
    "        \n",
    "        print(\" --------------------------\\n\")\n",
    "        script = f\"{cardname} 카드에 생각한 숫자가 있다면 YES(1),없다면 NO(0)을 입력해 주세요.: \"\n",
    "        result = int(input(script))\n",
    "        print(\"\")\n",
    "\n",
    "        if result in [0,1]:\n",
    "            return result\n",
    "\n",
    "\n",
    "def my_res(a,b,c):\n",
    "    #res = (c*2*2) + (b*2) + (a)\n",
    "    res = (c*2**2) + (b*2) + (a)\n",
    "    print('-'*50)\n",
    "    print(\"당신이 마음에 드는 숫자는 [[ %d ]]입니다.\\n\" % res);\n",
    "    print(\"어때요? 신기하죠!!\");\n",
    "    print(\"지금까지 마술의 세계였습니다.\"); \n",
    "    print('-'*50, '끝')\n",
    "\n",
    "#---------메인------------  \n",
    "card = [\n",
    "    [1,3,5,7],\n",
    "    [2,3,6,7],\n",
    "    [4,5,6,7]\n",
    "    ]\n",
    "\n",
    "print(\"# 지금부터 여러분을 신비한 마술의 세계로 초대합니다.\")\n",
    "print(\"1 - 7의 숫자중 마음에 드는 숫자를 생각해 보세요.\")\n",
    "\n",
    "n = input(\"생각하셨어요? 시작하려면 엔터를 누르세요.\")\n",
    "print('-'*50)\n",
    "print()\n",
    "\n",
    "a = my_card(1)\n",
    "b = my_card(2)\n",
    "c = my_card(3)\n",
    "\n",
    "my_res(a,b,c)\n",
    "\n"
   ]
  },
  {
   "cell_type": "markdown",
   "id": "56e520f8",
   "metadata": {},
   "source": [
    "### [실습] 1~31까지의 임의의 숫자를 생각하고 알아 맞추기"
   ]
  },
  {
   "cell_type": "code",
   "execution_count": 5,
   "id": "ce8402a1",
   "metadata": {
    "scrolled": false
   },
   "outputs": [
    {
     "name": "stdout",
     "output_type": "stream",
     "text": [
      "# 지금부터 여러분을 신비한 마술의 세계로 초대합니다.\n",
      "1 - 31의 숫자중 마음에 드는 숫자를 생각해 보세요.\n",
      "생각하셨어요? 시작하려면 엔터를 누르세요.\n",
      "--------------------------------------------------\n",
      "\n",
      " --------- A 카드 ---------\n",
      "\n",
      "      1      3      5      7\n",
      "      9     11     13     15\n",
      "     17     19     21     23\n",
      "     25     27     29     31\n",
      " --------------------------\n",
      "\n",
      "A 카드에 생각한 숫자가 있다면 YES(1),없다면 NO(0)을 입력해 주세요.2\n",
      "\n",
      " --------- A 카드 ---------\n",
      "\n",
      "      1      3      5      7\n",
      "      9     11     13     15\n",
      "     17     19     21     23\n",
      "     25     27     29     31\n",
      " --------------------------\n",
      "\n",
      "A 카드에 생각한 숫자가 있다면 YES(1),없다면 NO(0)을 입력해 주세요.0\n",
      "\n",
      " --------- B 카드 ---------\n",
      "\n",
      "      2      3      6      7\n",
      "     10     11     14     15\n",
      "     18     19     22     23\n",
      "     26     27     30     31\n",
      " --------------------------\n",
      "\n",
      "B 카드에 생각한 숫자가 있다면 YES(1),없다면 NO(0)을 입력해 주세요.1\n",
      "\n",
      " --------- C 카드 ---------\n",
      "\n",
      "      4      5      6      7\n",
      "     12     13     14     15\n",
      "     20     21     22     23\n",
      "     28     29     30     31\n",
      " --------------------------\n",
      "\n",
      "C 카드에 생각한 숫자가 있다면 YES(1),없다면 NO(0)을 입력해 주세요.1\n",
      "\n",
      " --------- D 카드 ---------\n",
      "\n",
      "      8      9     10     11\n",
      "     12     13     14     15\n",
      "     24     25     26     27\n",
      "     28     29     30     31\n",
      " --------------------------\n",
      "\n",
      "D 카드에 생각한 숫자가 있다면 YES(1),없다면 NO(0)을 입력해 주세요.0\n",
      "\n",
      " --------- E 카드 ---------\n",
      "\n",
      "     16     17     18     19\n",
      "     20     21     22     23\n",
      "     24     25     26     27\n",
      "     28     29     30     31\n",
      " --------------------------\n",
      "\n",
      "E 카드에 생각한 숫자가 있다면 YES(1),없다면 NO(0)을 입력해 주세요.1\n",
      "\n",
      "--------------------------------------------------\n",
      "당신이 마음에 드는 숫자는 [[ 22 ]]입니다.\n",
      "\n",
      "어때요? 신기하죠!!\n",
      "지금까지 마술의 세계였습니다.\n",
      "-------------------------------------------------- 끝\n"
     ]
    }
   ],
   "source": [
    "def my_card(index):\n",
    "    cardname = chr(ord('A') + index - 1)\n",
    "\n",
    "    while True:\n",
    "        print(\" --------- %s 카드 ---------\\n\" % cardname )\n",
    "        for i in range(0, 4):\n",
    "            for j in range(0, 4):\n",
    "                print(\"%7d\" % card[index-1][i*4 + j], end='')\n",
    "            print()\n",
    "        \n",
    "        print(\" --------------------------\\n\")\n",
    "        script = \"%s 카드에 생각한 숫자가 있다면 YES(1),없다면 NO(0)을 입력해 주세요.\"\n",
    "        result = int(input(script % cardname))\n",
    "        print(\"\")\n",
    "\n",
    "        if result in [0,1]:\n",
    "            return result\n",
    "\n",
    "\n",
    "def my_res(a,b,c,d,e):\n",
    "    #res = (e*2*2*2*2) + (d*2*2*2) + (c*2*2) + (b*2) + (a)\n",
    "    res = (e*2**4) + (d*2**3) + (c*2**2) + (b*2) + (a)\n",
    "    print('-'*50)\n",
    "    print(\"당신이 마음에 드는 숫자는 [[ %d ]]입니다.\\n\" % res);\n",
    "    print(\"어때요? 신기하죠!!\");\n",
    "    print(\"지금까지 마술의 세계였습니다.\"); \n",
    "    print('-'*50, '끝')\n",
    "\n",
    "#---------메인------------  \n",
    "card = [\n",
    "    [1,3,5,7,9,11,13,15,17,19,21,23,25,27,29,31],\n",
    "    [2,3,6,7,10,11,14,15,18,19,22,23,26,27,30,31],\n",
    "    [4,5,6,7,12,13,14,15,20,21,22,23,28,29,30,31],\n",
    "    [8,9,10,11,12,13,14,15,24,25,26,27,28,29,30,31],\n",
    "    [16,17,18,19,20,21,22,23,24,25,26,27,28,29,30,31]\n",
    "    ]\n",
    "\n",
    "print(\"# 지금부터 여러분을 신비한 마술의 세계로 초대합니다.\")\n",
    "print(\"1 - 31의 숫자중 마음에 드는 숫자를 생각해 보세요.\")\n",
    "\n",
    "n = input(\"생각하셨어요? 시작하려면 엔터를 누르세요.\")\n",
    "print('-'*50)\n",
    "print()\n",
    "\n",
    "a = my_card(1)\n",
    "b = my_card(2)\n",
    "c = my_card(3)\n",
    "d = my_card(4)\n",
    "e = my_card(5)\n",
    "\n",
    "my_res(a,b,c,d,e)\n",
    "\n"
   ]
  },
  {
   "cell_type": "markdown",
   "id": "2c96641b",
   "metadata": {},
   "source": [
    "---------------------------"
   ]
  },
  {
   "cell_type": "code",
   "execution_count": 2,
   "id": "a22a908c",
   "metadata": {
    "collapsed": true
   },
   "outputs": [
    {
     "name": "stdout",
     "output_type": "stream",
     "text": [
      "Help on class int in module builtins:\n",
      "\n",
      "class int(object)\n",
      " |  int([x]) -> integer\n",
      " |  int(x, base=10) -> integer\n",
      " |  \n",
      " |  Convert a number or string to an integer, or return 0 if no arguments\n",
      " |  are given.  If x is a number, return x.__int__().  For floating point\n",
      " |  numbers, this truncates towards zero.\n",
      " |  \n",
      " |  If x is not a number or if base is given, then x must be a string,\n",
      " |  bytes, or bytearray instance representing an integer literal in the\n",
      " |  given base.  The literal can be preceded by '+' or '-' and be surrounded\n",
      " |  by whitespace.  The base defaults to 10.  Valid bases are 0 and 2-36.\n",
      " |  Base 0 means to interpret the base from the string as an integer literal.\n",
      " |  >>> int('0b100', base=0)\n",
      " |  4\n",
      " |  \n",
      " |  Built-in subclasses:\n",
      " |      bool\n",
      " |  \n",
      " |  Methods defined here:\n",
      " |  \n",
      " |  __abs__(self, /)\n",
      " |      abs(self)\n",
      " |  \n",
      " |  __add__(self, value, /)\n",
      " |      Return self+value.\n",
      " |  \n",
      " |  __and__(self, value, /)\n",
      " |      Return self&value.\n",
      " |  \n",
      " |  __bool__(self, /)\n",
      " |      self != 0\n",
      " |  \n",
      " |  __ceil__(...)\n",
      " |      Ceiling of an Integral returns itself.\n",
      " |  \n",
      " |  __divmod__(self, value, /)\n",
      " |      Return divmod(self, value).\n",
      " |  \n",
      " |  __eq__(self, value, /)\n",
      " |      Return self==value.\n",
      " |  \n",
      " |  __float__(self, /)\n",
      " |      float(self)\n",
      " |  \n",
      " |  __floor__(...)\n",
      " |      Flooring an Integral returns itself.\n",
      " |  \n",
      " |  __floordiv__(self, value, /)\n",
      " |      Return self//value.\n",
      " |  \n",
      " |  __format__(self, format_spec, /)\n",
      " |      Default object formatter.\n",
      " |  \n",
      " |  __ge__(self, value, /)\n",
      " |      Return self>=value.\n",
      " |  \n",
      " |  __getattribute__(self, name, /)\n",
      " |      Return getattr(self, name).\n",
      " |  \n",
      " |  __getnewargs__(self, /)\n",
      " |  \n",
      " |  __gt__(self, value, /)\n",
      " |      Return self>value.\n",
      " |  \n",
      " |  __hash__(self, /)\n",
      " |      Return hash(self).\n",
      " |  \n",
      " |  __index__(self, /)\n",
      " |      Return self converted to an integer, if self is suitable for use as an index into a list.\n",
      " |  \n",
      " |  __int__(self, /)\n",
      " |      int(self)\n",
      " |  \n",
      " |  __invert__(self, /)\n",
      " |      ~self\n",
      " |  \n",
      " |  __le__(self, value, /)\n",
      " |      Return self<=value.\n",
      " |  \n",
      " |  __lshift__(self, value, /)\n",
      " |      Return self<<value.\n",
      " |  \n",
      " |  __lt__(self, value, /)\n",
      " |      Return self<value.\n",
      " |  \n",
      " |  __mod__(self, value, /)\n",
      " |      Return self%value.\n",
      " |  \n",
      " |  __mul__(self, value, /)\n",
      " |      Return self*value.\n",
      " |  \n",
      " |  __ne__(self, value, /)\n",
      " |      Return self!=value.\n",
      " |  \n",
      " |  __neg__(self, /)\n",
      " |      -self\n",
      " |  \n",
      " |  __or__(self, value, /)\n",
      " |      Return self|value.\n",
      " |  \n",
      " |  __pos__(self, /)\n",
      " |      +self\n",
      " |  \n",
      " |  __pow__(self, value, mod=None, /)\n",
      " |      Return pow(self, value, mod).\n",
      " |  \n",
      " |  __radd__(self, value, /)\n",
      " |      Return value+self.\n",
      " |  \n",
      " |  __rand__(self, value, /)\n",
      " |      Return value&self.\n",
      " |  \n",
      " |  __rdivmod__(self, value, /)\n",
      " |      Return divmod(value, self).\n",
      " |  \n",
      " |  __repr__(self, /)\n",
      " |      Return repr(self).\n",
      " |  \n",
      " |  __rfloordiv__(self, value, /)\n",
      " |      Return value//self.\n",
      " |  \n",
      " |  __rlshift__(self, value, /)\n",
      " |      Return value<<self.\n",
      " |  \n",
      " |  __rmod__(self, value, /)\n",
      " |      Return value%self.\n",
      " |  \n",
      " |  __rmul__(self, value, /)\n",
      " |      Return value*self.\n",
      " |  \n",
      " |  __ror__(self, value, /)\n",
      " |      Return value|self.\n",
      " |  \n",
      " |  __round__(...)\n",
      " |      Rounding an Integral returns itself.\n",
      " |      Rounding with an ndigits argument also returns an integer.\n",
      " |  \n",
      " |  __rpow__(self, value, mod=None, /)\n",
      " |      Return pow(value, self, mod).\n",
      " |  \n",
      " |  __rrshift__(self, value, /)\n",
      " |      Return value>>self.\n",
      " |  \n",
      " |  __rshift__(self, value, /)\n",
      " |      Return self>>value.\n",
      " |  \n",
      " |  __rsub__(self, value, /)\n",
      " |      Return value-self.\n",
      " |  \n",
      " |  __rtruediv__(self, value, /)\n",
      " |      Return value/self.\n",
      " |  \n",
      " |  __rxor__(self, value, /)\n",
      " |      Return value^self.\n",
      " |  \n",
      " |  __sizeof__(self, /)\n",
      " |      Returns size in memory, in bytes.\n",
      " |  \n",
      " |  __sub__(self, value, /)\n",
      " |      Return self-value.\n",
      " |  \n",
      " |  __truediv__(self, value, /)\n",
      " |      Return self/value.\n",
      " |  \n",
      " |  __trunc__(...)\n",
      " |      Truncating an Integral returns itself.\n",
      " |  \n",
      " |  __xor__(self, value, /)\n",
      " |      Return self^value.\n",
      " |  \n",
      " |  as_integer_ratio(self, /)\n",
      " |      Return integer ratio.\n",
      " |      \n",
      " |      Return a pair of integers, whose ratio is exactly equal to the original int\n",
      " |      and with a positive denominator.\n",
      " |      \n",
      " |      >>> (10).as_integer_ratio()\n",
      " |      (10, 1)\n",
      " |      >>> (-10).as_integer_ratio()\n",
      " |      (-10, 1)\n",
      " |      >>> (0).as_integer_ratio()\n",
      " |      (0, 1)\n",
      " |  \n",
      " |  bit_length(self, /)\n",
      " |      Number of bits necessary to represent self in binary.\n",
      " |      \n",
      " |      >>> bin(37)\n",
      " |      '0b100101'\n",
      " |      >>> (37).bit_length()\n",
      " |      6\n",
      " |  \n",
      " |  conjugate(...)\n",
      " |      Returns self, the complex conjugate of any int.\n",
      " |  \n",
      " |  to_bytes(self, /, length, byteorder, *, signed=False)\n",
      " |      Return an array of bytes representing an integer.\n",
      " |      \n",
      " |      length\n",
      " |        Length of bytes object to use.  An OverflowError is raised if the\n",
      " |        integer is not representable with the given number of bytes.\n",
      " |      byteorder\n",
      " |        The byte order used to represent the integer.  If byteorder is 'big',\n",
      " |        the most significant byte is at the beginning of the byte array.  If\n",
      " |        byteorder is 'little', the most significant byte is at the end of the\n",
      " |        byte array.  To request the native byte order of the host system, use\n",
      " |        `sys.byteorder' as the byte order value.\n",
      " |      signed\n",
      " |        Determines whether two's complement is used to represent the integer.\n",
      " |        If signed is False and a negative integer is given, an OverflowError\n",
      " |        is raised.\n",
      " |  \n",
      " |  ----------------------------------------------------------------------\n",
      " |  Class methods defined here:\n",
      " |  \n",
      " |  from_bytes(bytes, byteorder, *, signed=False) from builtins.type\n",
      " |      Return the integer represented by the given array of bytes.\n",
      " |      \n",
      " |      bytes\n",
      " |        Holds the array of bytes to convert.  The argument must either\n",
      " |        support the buffer protocol or be an iterable object producing bytes.\n",
      " |        Bytes and bytearray are examples of built-in objects that support the\n",
      " |        buffer protocol.\n",
      " |      byteorder\n",
      " |        The byte order used to represent the integer.  If byteorder is 'big',\n",
      " |        the most significant byte is at the beginning of the byte array.  If\n",
      " |        byteorder is 'little', the most significant byte is at the end of the\n",
      " |        byte array.  To request the native byte order of the host system, use\n",
      " |        `sys.byteorder' as the byte order value.\n",
      " |      signed\n",
      " |        Indicates whether two's complement is used to represent the integer.\n",
      " |  \n",
      " |  ----------------------------------------------------------------------\n",
      " |  Static methods defined here:\n",
      " |  \n",
      " |  __new__(*args, **kwargs) from builtins.type\n",
      " |      Create and return a new object.  See help(type) for accurate signature.\n",
      " |  \n",
      " |  ----------------------------------------------------------------------\n",
      " |  Data descriptors defined here:\n",
      " |  \n",
      " |  denominator\n",
      " |      the denominator of a rational number in lowest terms\n",
      " |  \n",
      " |  imag\n",
      " |      the imaginary part of a complex number\n",
      " |  \n",
      " |  numerator\n",
      " |      the numerator of a rational number in lowest terms\n",
      " |  \n",
      " |  real\n",
      " |      the real part of a complex number\n",
      "\n"
     ]
    }
   ],
   "source": [
    "help(int)"
   ]
  },
  {
   "cell_type": "markdown",
   "id": "17ad88f2",
   "metadata": {},
   "source": [
    "-------------------"
   ]
  },
  {
   "cell_type": "markdown",
   "id": "31a5f6ce",
   "metadata": {},
   "source": [
    "## 1-3.자연수와 정수의 성질"
   ]
  },
  {
   "cell_type": "markdown",
   "id": "99e31201",
   "metadata": {},
   "source": [
    "### [실습] 어떤 수가 정수인지 판단하는 프로그램"
   ]
  },
  {
   "cell_type": "code",
   "execution_count": 1,
   "id": "c45acb6c",
   "metadata": {},
   "outputs": [
    {
     "name": "stdout",
     "output_type": "stream",
     "text": [
      "숫자를 입력하세요: -10\n",
      "정수\n"
     ]
    }
   ],
   "source": [
    "# 정수 판별 프로그램\n",
    "def is_integer(N):\n",
    "    if N - int(N) == 0:\n",
    "        print(\"정수\")\n",
    "    if N - int(N) != 0:\n",
    "        print(\"소수\")\n",
    "\n",
    "try:\n",
    "    N = input('숫자를 입력하세요: ')\n",
    "    N = float(N)\n",
    "    is_integer(N)\n",
    "except ValueError:\n",
    "    print(\"math error\")"
   ]
  },
  {
   "cell_type": "markdown",
   "id": "09f83079",
   "metadata": {},
   "source": [
    "### [실습] : 어떤 수가 소수인가 판단하는 프로그램"
   ]
  },
  {
   "cell_type": "code",
   "execution_count": 1,
   "id": "f088dd6f",
   "metadata": {
    "scrolled": true
   },
   "outputs": [
    {
     "name": "stdout",
     "output_type": "stream",
     "text": [
      "\n",
      "소수 판별하기 위한 N 값을 입력해 주세요 : 123\n",
      "--------------------------------------------------\n",
      "  123 --> Not Prime number!!\n",
      "\n"
     ]
    }
   ],
   "source": [
    "# 소수 판별하기\n",
    "def is_prime_number(x):\n",
    "    for i in range(2, x):\n",
    "        if x % i == 0 and x != i:\n",
    "            return False # 소수가 아님\n",
    "    return True          # 소수임\n",
    "\n",
    "# 자연수 N을 입력한다.\n",
    "x = int(input('\\n소수 판별하기 위한 정수 값을 입력해 주세요 : '))\n",
    "print('-'*50)\n",
    "if is_prime_number(x):\n",
    "    print(f'{x} --> Prime number!!')\n",
    "else:\n",
    "    print(f'{x} --> Not Prime number!!')\n"
   ]
  },
  {
   "cell_type": "markdown",
   "id": "5e730799",
   "metadata": {},
   "source": [
    "### [실습] : 개선된 소수판별 프로그램 \n",
    "- 제곱근 표시 : math.sqrt(x),   x**(1/2)"
   ]
  },
  {
   "cell_type": "code",
   "execution_count": 3,
   "id": "7c5dc850",
   "metadata": {
    "scrolled": false
   },
   "outputs": [
    {
     "name": "stdout",
     "output_type": "stream",
     "text": [
      "\n",
      "소수 판별하기 위한 N 값을 입력해 주세요 : 49\n",
      "--------------------------------------------------\n",
      "49 --> Not Prime number!!\n"
     ]
    }
   ],
   "source": [
    "import math\n",
    "\n",
    "def is_prime_number(x):\n",
    "    for i in range(2, int(math.sqrt(x)) + 1):\n",
    "#     for i in range(2, x**(1/2) + 1)\n",
    "        if x % i == 0 and x != i:\n",
    "            return False \n",
    "    return True \n",
    "\n",
    "# 자연수 N을 입력한다.\n",
    "x = int(input('\\n소수 판별하기 위한 정수 값을 입력해 주세요 : '))\n",
    "print('-'*50)\n",
    "if is_prime_number(x):\n",
    "    print(f'{x} --> Prime number!!')\n",
    "else:\n",
    "    print(f'{x} --> Not Prime number!!')"
   ]
  },
  {
   "cell_type": "markdown",
   "id": "2b5f5eeb",
   "metadata": {},
   "source": [
    "- **소수판별 시간 체크하기**(여러번 실행한 후에 시간을 비교해본다.)"
   ]
  },
  {
   "cell_type": "code",
   "execution_count": 5,
   "id": "d8aaa6a3",
   "metadata": {},
   "outputs": [
    {
     "name": "stdout",
     "output_type": "stream",
     "text": [
      "0.000247500000114087\n",
      "0.00020260000019334257\n"
     ]
    }
   ],
   "source": [
    "import math\n",
    "import timeit\n",
    "\n",
    "def is_prime_number1(x):\n",
    "    for i in range(2, x):\n",
    "        if x % i == 0 and x != i:\n",
    "            return False # 소수가 아님\n",
    "    return True          # 소수임\n",
    "\n",
    "def is_prime_number2(x):\n",
    "    for i in range(2, int(math.sqrt(x)) + 1):\n",
    "        if x % i == 0 and x != i:\n",
    "            return False \n",
    "    return True \n",
    "\n",
    "x = 1597\n",
    "start = timeit.default_timer()\n",
    "is_prime_number1(x)\n",
    "end = timeit.default_timer()\n",
    "print(end - start)\n",
    "\n",
    "start = timeit.default_timer()\n",
    "is_prime_number2(x)\n",
    "end = timeit.default_timer()\n",
    "print(end - start)\n"
   ]
  },
  {
   "cell_type": "markdown",
   "id": "426d1750",
   "metadata": {},
   "source": [
    "### [실습] 암스트롱 수 구하기\n",
    "- Armstrong Number(암스트롱 수)란 세자리의 자연수로 각 자리수의 세제곱의 합이 자기 자신의 수와  같은 수"
   ]
  },
  {
   "cell_type": "code",
   "execution_count": 14,
   "id": "f32f4135",
   "metadata": {},
   "outputs": [
    {
     "name": "stdout",
     "output_type": "stream",
     "text": [
      "세 자리의 자연수인 암스트롱 수는: \n",
      "153 370 371 407 "
     ]
    }
   ],
   "source": [
    "def is_amstrong_number(x):\n",
    "    \n",
    "    if x == int(str(x)[0])**3 + int(str(x)[1])**3 + int(str(x)[2])**3:\n",
    "        return True\n",
    "    else:\n",
    "        return False\n",
    "    \n",
    "\n",
    "print('세 자리의 자연수인 암스트롱 수는: ')\n",
    "for x in range(100, 1000, 1):\n",
    "    if is_amstrong_number(x):\n",
    "        print(x, end=' ')\n",
    "    "
   ]
  },
  {
   "cell_type": "markdown",
   "id": "238e72a0",
   "metadata": {},
   "source": [
    "-------------------------------"
   ]
  },
  {
   "cell_type": "markdown",
   "id": "94b6eb29",
   "metadata": {},
   "source": [
    "## 1-4.행렬"
   ]
  },
  {
   "cell_type": "markdown",
   "id": "b4a5f94e",
   "metadata": {},
   "source": [
    "### Numpy\n",
    "고 성능 수치연산과 행렬식을 위한 라이브러리 설치하기"
   ]
  },
  {
   "cell_type": "code",
   "execution_count": 75,
   "id": "302b334a",
   "metadata": {
    "collapsed": true
   },
   "outputs": [
    {
     "name": "stdout",
     "output_type": "stream",
     "text": [
      "Requirement already satisfied: numpy in c:\\python\\python39\\lib\\site-packages (1.19.5)\n"
     ]
    },
    {
     "name": "stderr",
     "output_type": "stream",
     "text": [
      "WARNING: Ignoring invalid distribution -pencv-python-headless (c:\\python\\python39\\lib\\site-packages)\n",
      "WARNING: Ignoring invalid distribution -pencv-python-headless (c:\\python\\python39\\lib\\site-packages)\n",
      "WARNING: Ignoring invalid distribution -pencv-python-headless (c:\\python\\python39\\lib\\site-packages)\n",
      "WARNING: Ignoring invalid distribution -pencv-python-headless (c:\\python\\python39\\lib\\site-packages)\n",
      "WARNING: Ignoring invalid distribution -pencv-python-headless (c:\\python\\python39\\lib\\site-packages)\n",
      "WARNING: Ignoring invalid distribution -pencv-python-headless (c:\\python\\python39\\lib\\site-packages)\n",
      "\n",
      "[notice] A new release of pip available: 22.2.1 -> 22.2.2\n",
      "[notice] To update, run: python.exe -m pip install --upgrade pip\n"
     ]
    }
   ],
   "source": [
    "!pip install numpy"
   ]
  },
  {
   "cell_type": "markdown",
   "id": "0af84ad7",
   "metadata": {},
   "source": [
    "### Numpy 라이브러리 특징\n",
    "\n",
    "- ndarray : n차원 배열 데이터 구조\n",
    "- np.array(): ndarray 생성 (ex: arr = np.array([[5,2],[10,3]])  )"
   ]
  },
  {
   "cell_type": "markdown",
   "id": "ca3ba066",
   "metadata": {},
   "source": [
    "### 행렬을 이용하여 연립방정식 풀기\n",
    "5개의 빵과 2개의 우유를 사면 3000원을 지불해야하며, 10개의 빵과 3개의 우유를 사면 5000원을 지불해야 할때, 빵(x)과 우유(y) 각 1개씩의 가격은 얼마인가?\n"
   ]
  },
  {
   "cell_type": "code",
   "execution_count": 25,
   "id": "23909fb7",
   "metadata": {
    "scrolled": true
   },
   "outputs": [
    {
     "name": "stdout",
     "output_type": "stream",
     "text": [
      "[ 200. 1000.]\n",
      "float64\n"
     ]
    }
   ],
   "source": [
    "import numpy as np\n",
    "\n",
    "arr1 = np.array([[5,2],[10,3]])\n",
    "arr2 = np.array([3000,5000])\n",
    "\n",
    "result = np.linalg.solve(arr1, arr2) #행렬\n",
    "print(result)         # 연립방정식 결과\n",
    "print(result.dtype)   # 결과 data type"
   ]
  },
  {
   "cell_type": "markdown",
   "id": "8e82ec3e",
   "metadata": {},
   "source": [
    "### [예제-실생활에서 행렬이 사용된 예제] 이미지 처리"
   ]
  },
  {
   "cell_type": "code",
   "execution_count": null,
   "id": "c9227344",
   "metadata": {},
   "outputs": [],
   "source": [
    "!pip install opencv-python"
   ]
  },
  {
   "cell_type": "code",
   "execution_count": null,
   "id": "47fefb7f",
   "metadata": {},
   "outputs": [],
   "source": [
    "import cv2\n",
    "cv2.__version__"
   ]
  },
  {
   "cell_type": "code",
   "execution_count": 6,
   "id": "3303d84b",
   "metadata": {},
   "outputs": [],
   "source": [
    "import sys\n",
    "import numpy as np\n",
    "import cv2\n",
    "\n",
    "src = cv2.imread('image/lenna.bmp', cv2.IMREAD_GRAYSCALE)\n",
    "\n",
    "if src is None:\n",
    "    print('Image load failed!')\n",
    "    sys.exit()\n",
    "\n",
    "# 부드럽게\n",
    "mask = np.array([[1/9,1/9,1/9],\n",
    "                [1/9,1/9,1/9],\n",
    "                [1/9,1/9,1/9]])\n",
    "mask = np.ones((3,3), dtype=np.float64)/ 9.\n",
    "\n",
    "dst1 = cv2.filter2D(src, -1, mask) # 부드럽게\n",
    "\n",
    "\n",
    "# 날카롭게\n",
    "mask = np.array([[0,-1,0],\n",
    "                [-1,4,-1],\n",
    "                [0,-1,0]])\n",
    "\n",
    "dst2 = cv2.filter2D(src, -1, mask) # 날카롭게\n",
    "\n",
    "cv2.imshow('src', src)\n",
    "cv2.imshow('blur', dst1)\n",
    "cv2.imshow('sharp', dst2)\n",
    "\n",
    "cv2.waitKey()             # 키가 눌려질때까지 기다리기\n",
    "cv2.destroyAllWindows()"
   ]
  },
  {
   "cell_type": "markdown",
   "id": "73dbc0f0",
   "metadata": {},
   "source": [
    "#### 실시간 영상 이미지에 필터값 적용"
   ]
  },
  {
   "cell_type": "code",
   "execution_count": 7,
   "id": "182dcb64",
   "metadata": {},
   "outputs": [
    {
     "name": "stdout",
     "output_type": "stream",
     "text": [
      "cam_mode:1\n",
      "cam_mode:2\n",
      "cam_mode:3\n",
      "cam_mode:1\n",
      "cam_mode:2\n",
      "cam_mode:3\n",
      "cam_mode:1\n",
      "Video Finish!\n"
     ]
    }
   ],
   "source": [
    "import sys\n",
    "import cv2\n",
    "\n",
    "def cartoon_filter(img):\n",
    "    h, w = img.shape[:2]\n",
    "    img2 = cv2.resize(img, (w//2, h//2))\n",
    "\n",
    "    blr = cv2.bilateralFilter(img2, -1, 20, 7)\n",
    "    edge = 255 - cv2.Canny(img2, 80, 120)\n",
    "    edge = cv2.cvtColor(edge, cv2.COLOR_GRAY2BGR)\n",
    "\n",
    "    dst = cv2.bitwise_and(blr, edge)\n",
    "    dst = cv2.resize(dst, (w, h), interpolation=cv2.INTER_NEAREST)\n",
    "    return dst\n",
    "\n",
    "\n",
    "def pencil_sketch_filter(img):\n",
    "    gray = cv2.cvtColor(img, cv2.COLOR_BGR2GRAY)\n",
    "    blr = cv2.GaussianBlur(gray, (0, 0), 3)\n",
    "    dst = cv2.divide(gray, blr, scale=255)\n",
    "    return dst\n",
    "\n",
    "# 실시간 카메라 작동\n",
    "cap = cv2.VideoCapture(0)\n",
    "if not cap.isOpened():\n",
    "    print('Video open failed!')\n",
    "    sys.exit()\n",
    "\n",
    "cam_mode = 0    \n",
    "while True:\n",
    "    ret, frame = cap.read()\n",
    "    if not ret:\n",
    "        print('Video read failed!')\n",
    "        break\n",
    "            \n",
    "    # 모드에 따라 필터 적용한 영상(frame) 보여주기\n",
    "    if cam_mode == 1:\n",
    "        frame = cartoon_filter(frame)\n",
    "        title = f'{cam_mode} : cartoon_filter'\n",
    "        tcolor = (255,0,255)\n",
    "    elif cam_mode == 2:\n",
    "        frame = pencil_sketch_filter(frame)\n",
    "        title = f'{cam_mode} : pencil_sketch_filter'\n",
    "        tcolor = (0,0,0)\n",
    "    else:\n",
    "        title = f'{cam_mode} :  '\n",
    "        tcolor = (0,0,0)\n",
    "    \n",
    "    cv2.putText(frame, title, (30, 30),\n",
    "            cv2.FONT_HERSHEY_DUPLEX, 1, \n",
    "             tcolor, 2, cv2.LINE_AA)\n",
    "    cv2.imshow('frame', frame)\n",
    "    \n",
    "\n",
    "    key = cv2.waitKey(1)\n",
    "    if key==27: # ESC키 눌러졌을 때\n",
    "        break\n",
    "    elif key==ord(' '): #스페이스키 눌러졌을 때\n",
    "        cam_mode += 1        \n",
    "        print(f'cam_mode:{cam_mode}')\n",
    "        if cam_mode==3:\n",
    "            cam_mode = 0\n",
    "    \n",
    "cap.release()\n",
    "cv2.destroyAllWindows()\n",
    "print('Video Finish!')"
   ]
  },
  {
   "cell_type": "markdown",
   "id": "e750e97c",
   "metadata": {},
   "source": [
    "----------------------------"
   ]
  },
  {
   "cell_type": "markdown",
   "id": "f896c3cc",
   "metadata": {},
   "source": [
    "### [예제 1-9] 행렬의 합"
   ]
  },
  {
   "cell_type": "code",
   "execution_count": 20,
   "id": "fcfe50c3",
   "metadata": {},
   "outputs": [
    {
     "name": "stdout",
     "output_type": "stream",
     "text": [
      "[[ 7  9  2]\n",
      " [ 5 -3  0]]\n"
     ]
    }
   ],
   "source": [
    "import numpy as np\n",
    "\n",
    "arr1 = np.array([[3,4,-1],[5,0,-2]])\n",
    "arr2 = np.array([[4,5,3],[0,-3,2]])\n",
    "\n",
    "print(arr1 + arr2)"
   ]
  },
  {
   "cell_type": "markdown",
   "id": "4cd54605",
   "metadata": {},
   "source": [
    "### [예제 1-10] 스칼라 곱"
   ]
  },
  {
   "cell_type": "code",
   "execution_count": 26,
   "id": "0488d9f7",
   "metadata": {
    "scrolled": true
   },
   "outputs": [
    {
     "name": "stdout",
     "output_type": "stream",
     "text": [
      "[[ 4 -6  8]\n",
      " [12 18  0]]\n"
     ]
    }
   ],
   "source": [
    "import numpy as np\n",
    "\n",
    "A = np.array([[2,-3,4],[6,9,0]])\n",
    "c = 2\n",
    "\n",
    "print(c * A)"
   ]
  },
  {
   "cell_type": "markdown",
   "id": "9cb5a891",
   "metadata": {},
   "source": [
    "### [예제 1-11] 행렬의 곱\n",
    "- np.dot(A, B) \n",
    "- 행렬의 곱은 사칙연산의 * 와 다른 @ 기호를 사용한다."
   ]
  },
  {
   "cell_type": "code",
   "execution_count": 57,
   "id": "9b8564a7",
   "metadata": {
    "scrolled": true
   },
   "outputs": [
    {
     "name": "stdout",
     "output_type": "stream",
     "text": [
      "[[ 4 -5]\n",
      " [-1  3]]\n",
      "[[-1  3]\n",
      " [-5  8]]\n"
     ]
    }
   ],
   "source": [
    "import numpy as np\n",
    "\n",
    "A = np.array([[2,1],[3,-2]])\n",
    "B = np.array([[1,-1],[2,-3]])\n",
    "\n",
    "print( np.dot(A, B) )\n",
    "print( np.dot(B, A) )"
   ]
  },
  {
   "cell_type": "code",
   "execution_count": 28,
   "id": "e1cd6a4a",
   "metadata": {},
   "outputs": [
    {
     "name": "stdout",
     "output_type": "stream",
     "text": [
      "[[ 4 -5]\n",
      " [-1  3]]\n",
      "[[-1  3]\n",
      " [-5  8]]\n"
     ]
    }
   ],
   "source": [
    "import numpy as np\n",
    "\n",
    "A = np.array([[2,1],[3,-2]])\n",
    "B = np.array([[1,-1],[2,-3]])\n",
    "\n",
    "print(A @ B)\n",
    "print(B @ A)"
   ]
  },
  {
   "cell_type": "markdown",
   "id": "ed88770b",
   "metadata": {},
   "source": [
    "### 특수 행렬\n",
    "- numpy 행렬을 위한 참고 정보\n",
    "\n",
    "|구분 |영문설명| numpy.함수명()|\n",
    "|:---|:---|:---|\n",
    "|대각행렬|Diagonal matrix | np.diag(x) |\n",
    "|내적(행렬 곱)|Dot Product, Inner product| np.dot(a,b) , a @ b|\n",
    "|대각합|Trace | np.trace(x)|\n",
    "|행렬식|Matrix Deteminant  | np.linalg.det(x) |\n",
    "|역행렬|Inverse of a matrix  | np.linalg.inv(x) |\n",
    "|고유값, 고유벡터 |Eigenvalue, Eigenvector  | w, v = np.linalg.eig(x) |\n",
    "|특이값 분해 |Singular value Decomposition  |u,s,vh = np.linalg.svd(A) |\n",
    "|연립방정식 해 풀기 |Solve a linear matrix equation  | np.linalg.slove(a, b) |\n",
    "|최소자승 해 풀기 |Compute the Least-squares solution  | m, c = np.linalg.lstsq(A,y,rcond=None)[0] |"
   ]
  },
  {
   "cell_type": "markdown",
   "id": "f724048d",
   "metadata": {},
   "source": [
    "#### 대각행렬\n",
    "- 정방 행렬에서 주대각 원소를 제외한 나머지 원소(off-diagonal)가 모두 0인 행렬\n",
    "- np.diag(x) 대각행렬의 원소 추출하는 함수"
   ]
  },
  {
   "cell_type": "code",
   "execution_count": 45,
   "id": "7a9517da",
   "metadata": {
    "scrolled": true
   },
   "outputs": [
    {
     "name": "stdout",
     "output_type": "stream",
     "text": [
      "행렬: \n",
      " [[2 0 0]\n",
      " [0 3 0]\n",
      " [0 0 4]]\n",
      "대각행렬:  [2 3 4]\n"
     ]
    }
   ],
   "source": [
    "matrix = np.array([[2,0,0],[0,3,0],[0,0,4]])\n",
    "\n",
    "print( '행렬: \\n',  matrix ) \n",
    "print( '대각행렬: ', np.diag(matrix) )     # 대각행렬 추출하기"
   ]
  },
  {
   "cell_type": "code",
   "execution_count": 38,
   "id": "037204f2",
   "metadata": {
    "scrolled": true
   },
   "outputs": [
    {
     "name": "stdout",
     "output_type": "stream",
     "text": [
      "행렬: \n",
      " [[0 1 2]\n",
      " [3 4 5]\n",
      " [6 7 8]]\n",
      "대각행렬:  [0 4 8]\n",
      "대각행렬:  [1 5]\n"
     ]
    }
   ],
   "source": [
    "matrix = np.arange(9).reshape(3,3)\n",
    "\n",
    "print( '행렬: \\n',  matrix )               # 행렬\n",
    "print( '대각행렬: ', np.diag(matrix) )     # 대각행렬 추출하기\n",
    "print( '대각행렬: ', np.diag(matrix, k=1) )# k - start index"
   ]
  },
  {
   "cell_type": "markdown",
   "id": "8a033556",
   "metadata": {},
   "source": [
    "#### 단위 행렬\n",
    "- 주대각 원소들은 모두 1을 갖고 나머지 원소들은 모두 0인 행렬"
   ]
  },
  {
   "cell_type": "code",
   "execution_count": 54,
   "id": "92a60b1b",
   "metadata": {},
   "outputs": [
    {
     "data": {
      "text/plain": [
       "array([[1, 0, 0],\n",
       "       [0, 1, 0],\n",
       "       [0, 0, 1]], dtype=int8)"
      ]
     },
     "execution_count": 54,
     "metadata": {},
     "output_type": "execute_result"
    }
   ],
   "source": [
    "np.identity(3, dtype=np.int8)  # 행이 3개인 단위 행렬"
   ]
  },
  {
   "cell_type": "code",
   "execution_count": 53,
   "id": "a2c76e16",
   "metadata": {
    "scrolled": true
   },
   "outputs": [
    {
     "data": {
      "text/plain": [
       "array([[1, 0, 0],\n",
       "       [0, 1, 0],\n",
       "       [0, 0, 1]], dtype=int8)"
      ]
     },
     "execution_count": 53,
     "metadata": {},
     "output_type": "execute_result"
    }
   ],
   "source": [
    "np.eye(3, dtype=np.int8)"
   ]
  },
  {
   "cell_type": "code",
   "execution_count": 51,
   "id": "d60d6547",
   "metadata": {},
   "outputs": [
    {
     "data": {
      "text/plain": [
       "array([[1, 0, 0, 0, 0],\n",
       "       [0, 1, 0, 0, 0],\n",
       "       [0, 0, 1, 0, 0]], dtype=int8)"
      ]
     },
     "execution_count": 51,
     "metadata": {},
     "output_type": "execute_result"
    }
   ],
   "source": [
    "np.eye(N=3, M=5, dtype=np.int8)"
   ]
  },
  {
   "cell_type": "markdown",
   "id": "9aa4b0ae",
   "metadata": {},
   "source": [
    "#### 전치 행렬\n",
    "- A가 임의의 𝐧×m 행렬일 때 A의 전치 행렬은 $𝐀^𝐓$로 표기하고 A의 행과 열을 바꾸어서 얻어진 m×n 행렬\n",
    "- A.transpose()"
   ]
  },
  {
   "cell_type": "code",
   "execution_count": 91,
   "id": "080737b6",
   "metadata": {
    "scrolled": true
   },
   "outputs": [
    {
     "name": "stdout",
     "output_type": "stream",
     "text": [
      "[[1 2]\n",
      " [3 4]]\n",
      "----------\n",
      "[[1 3]\n",
      " [2 4]]\n",
      "----------\n",
      "[[1 2 3]\n",
      " [4 5 6]]\n",
      "----------\n",
      "[[1 4]\n",
      " [2 5]\n",
      " [3 6]]\n",
      "----------\n",
      "[[1 4]\n",
      " [2 5]\n",
      " [3 6]]\n",
      "----------\n"
     ]
    }
   ],
   "source": [
    "A = np.array([[1,2],[3,4]])\n",
    "B = np.array([[1,2,3],[4,5,6]])\n",
    "\n",
    "print(A)  ; print('-'*10)\n",
    "print(A.T); print('-'*10)\n",
    "print(B)  ; print('-'*10)\n",
    "print(B.T); print('-'*10)\n",
    "print(B.transpose()); print('-'*10)"
   ]
  },
  {
   "cell_type": "markdown",
   "id": "9aebeaf5",
   "metadata": {},
   "source": [
    "#### 상삼각 행렬"
   ]
  },
  {
   "cell_type": "code",
   "execution_count": 55,
   "id": "dfe4bc99",
   "metadata": {
    "scrolled": true
   },
   "outputs": [
    {
     "data": {
      "text/plain": [
       "array([[1, 2, 3],\n",
       "       [0, 5, 6],\n",
       "       [0, 0, 9]])"
      ]
     },
     "execution_count": 55,
     "metadata": {},
     "output_type": "execute_result"
    }
   ],
   "source": [
    "np.triu([[1,2,3],[4,5,6],[7,8,9]])"
   ]
  },
  {
   "cell_type": "markdown",
   "id": "4162b070",
   "metadata": {},
   "source": [
    "#### 하삼각 행렬"
   ]
  },
  {
   "cell_type": "code",
   "execution_count": 56,
   "id": "aef432f1",
   "metadata": {},
   "outputs": [
    {
     "data": {
      "text/plain": [
       "array([[1, 0, 0],\n",
       "       [4, 5, 0],\n",
       "       [7, 8, 9]])"
      ]
     },
     "execution_count": 56,
     "metadata": {},
     "output_type": "execute_result"
    }
   ],
   "source": [
    "np.tril([[1,2,3],[4,5,6],[7,8,9]])"
   ]
  },
  {
   "cell_type": "markdown",
   "id": "39569ff7",
   "metadata": {},
   "source": [
    "#### 역행렬 : [ 예제 1-16] "
   ]
  },
  {
   "cell_type": "code",
   "execution_count": 74,
   "id": "4d219d3b",
   "metadata": {
    "scrolled": false
   },
   "outputs": [
    {
     "name": "stdout",
     "output_type": "stream",
     "text": [
      "[[ 2 -5]\n",
      " [-1  3]]\n",
      "----------\n",
      "[[3. 5.]\n",
      " [1. 2.]]\n",
      "----------\n"
     ]
    }
   ],
   "source": [
    "import numpy as np\n",
    "\n",
    "A = np.array([[2,-5],[-1,3]])\n",
    "B = np.linalg.inv(A)\n",
    "\n",
    "print(A); print('-'*10)\n",
    "print(B); print('-'*10)"
   ]
  },
  {
   "cell_type": "markdown",
   "id": "df792d19",
   "metadata": {},
   "source": [
    "### [ 예제 1-18] 역행렬  "
   ]
  },
  {
   "cell_type": "code",
   "execution_count": 83,
   "id": "6aaa342f",
   "metadata": {
    "scrolled": true
   },
   "outputs": [
    {
     "name": "stdout",
     "output_type": "stream",
     "text": [
      "[[3 5]\n",
      " [2 3]]\n",
      "----------\n",
      "[[-3.  5.]\n",
      " [ 2. -3.]]\n",
      "----------\n"
     ]
    }
   ],
   "source": [
    "import numpy as np\n",
    "\n",
    "A = np.array([[3,5],[2,3]])\n",
    "B = np.linalg.inv(A)\n",
    "\n",
    "print(A); print('-'*10)\n",
    "print(B); print('-'*10)"
   ]
  },
  {
   "cell_type": "markdown",
   "id": "f0e3ca56",
   "metadata": {},
   "source": [
    "#### numpy 역행렬 확인하기"
   ]
  },
  {
   "cell_type": "code",
   "execution_count": 88,
   "id": "6552186b",
   "metadata": {
    "scrolled": false
   },
   "outputs": [
    {
     "name": "stdout",
     "output_type": "stream",
     "text": [
      "True\n",
      "True\n"
     ]
    }
   ],
   "source": [
    "from numpy.linalg import inv\n",
    "\n",
    "A = np.array([[3,5],[2,3]])\n",
    "Ainv = inv(A)\n",
    "\n",
    "print( np.allclose(np.dot(A, Ainv), np.eye(2)) )\n",
    "print( np.allclose(np.dot(Ainv, A), np.eye(2)) )"
   ]
  },
  {
   "cell_type": "markdown",
   "id": "57a8854d",
   "metadata": {},
   "source": [
    "### [ 예제 1-19] 직교행렬 여부 판단하기\n",
    "- 직교행렬 : $A^-1$ = $A^T$가 되는 행렬"
   ]
  },
  {
   "cell_type": "code",
   "execution_count": 90,
   "id": "2033c11d",
   "metadata": {},
   "outputs": [
    {
     "name": "stdout",
     "output_type": "stream",
     "text": [
      "False\n"
     ]
    }
   ],
   "source": [
    "from numpy.linalg import inv\n",
    "\n",
    "A = np.array([[3,5],[2,3]])\n",
    "Ainv = inv(a)\n",
    "AT = A.T\n",
    "\n",
    "print( np.allclose(Ainv, AT) )"
   ]
  },
  {
   "cell_type": "code",
   "execution_count": null,
   "id": "37bc93d2",
   "metadata": {},
   "outputs": [],
   "source": []
  },
  {
   "cell_type": "code",
   "execution_count": 125,
   "id": "5af2c803",
   "metadata": {},
   "outputs": [
    {
     "name": "stdout",
     "output_type": "stream",
     "text": [
      "[[1 1 1]\n",
      " [1 1 1]\n",
      " [1 1 1]\n",
      " [1 1 0]]\n",
      "----------\n",
      "[[1 0 0]\n",
      " [0 0 1]\n",
      " [0 0 0]\n",
      " [0 0 0]]\n",
      "----------\n"
     ]
    }
   ],
   "source": [
    "import numpy as np\n",
    "\n",
    "A = np.array([[1,0,1],[0,1,1],[1,1,0],[0,0,0]])\n",
    "B = np.array([[1,1,0],[1,0,1],[0,0,1],[1,1,0]])\n",
    "C = np.array([[1,0,0],[0,1,1],[1,0,1]])\n",
    "\n",
    "print(A | B) ; print('-'*10)  # 요소간의 합집합\n",
    "print(A & B) ; print('-'*10)  # 요소간의 교집합"
   ]
  },
  {
   "cell_type": "markdown",
   "id": "a27191e8",
   "metadata": {},
   "source": [
    "### [예제 1-21] 행렬식 구하기"
   ]
  },
  {
   "cell_type": "code",
   "execution_count": 97,
   "id": "13b3d8c8",
   "metadata": {},
   "outputs": [
    {
     "name": "stdout",
     "output_type": "stream",
     "text": [
      "[[3 2]\n",
      " [4 6]]\n",
      "10\n"
     ]
    }
   ],
   "source": [
    "import numpy as np\n",
    "\n",
    "A = np.array([[3,2],[4,6]])\n",
    "result = np.linalg.det(A)\n",
    "\n",
    "print(A)\n",
    "print(np.int8(result))"
   ]
  },
  {
   "cell_type": "markdown",
   "id": "34b1be36",
   "metadata": {},
   "source": [
    "### [예제 1-22] 행렬식 구하기"
   ]
  },
  {
   "cell_type": "code",
   "execution_count": 98,
   "id": "820ca588",
   "metadata": {},
   "outputs": [
    {
     "name": "stdout",
     "output_type": "stream",
     "text": [
      "[[5 4 0]\n",
      " [6 7 2]\n",
      " [0 9 3]]\n",
      "-57\n"
     ]
    }
   ],
   "source": [
    "import numpy as np\n",
    "\n",
    "A = np.array([[5,4,0],[6,7,2],[0,9,3]])\n",
    "result = np.linalg.det(A)\n",
    "\n",
    "print(A)\n",
    "print(np.int8(result))"
   ]
  },
  {
   "cell_type": "markdown",
   "id": "e91429aa",
   "metadata": {},
   "source": [
    "#### 고유값과 고유벡터\n",
    "- 행렬 A를 선형변환으로 봤을 때, 선형변환 A에 의한 변환 결과가 자기 자신의 상수배가 되는 0이 아닌 벡터를고유벡터(eigenvector)라 하고 \n",
    "- 이 상수배 값을 고유값(eigenvalue)이라 한다"
   ]
  },
  {
   "cell_type": "markdown",
   "id": "b6692c61",
   "metadata": {},
   "source": [
    "### [예제 1-26] 고유값과 고유벡터 구하기"
   ]
  },
  {
   "cell_type": "code",
   "execution_count": 128,
   "id": "8f8ebf79",
   "metadata": {},
   "outputs": [
    {
     "name": "stdout",
     "output_type": "stream",
     "text": [
      "[1. 5.] [[-0.70710678 -0.31622777]\n",
      " [ 0.70710678 -0.9486833 ]]\n"
     ]
    }
   ],
   "source": [
    "import numpy as np\n",
    "\n",
    "A = np.array([[2,1],[3,4]])\n",
    "\n",
    "# 고유값(w), 고유벡터(v)\n",
    "w, v = np.linalg.eig(A)\n",
    "\n",
    "print(w, v)\n",
    "# 선형 변환을 했을 때 그 크기는 변하고 \n",
    "# 방향이 변하지 않는 벡터가 있다고 할 때, \n",
    "# 그 벡터의 크기는 각각 1배와 5배가 된다는 의미"
   ]
  }
 ],
 "metadata": {
  "kernelspec": {
   "display_name": "Python 3",
   "language": "python",
   "name": "python3"
  },
  "language_info": {
   "codemirror_mode": {
    "name": "ipython",
    "version": 3
   },
   "file_extension": ".py",
   "mimetype": "text/x-python",
   "name": "python",
   "nbconvert_exporter": "python",
   "pygments_lexer": "ipython3",
   "version": "3.9.10"
  }
 },
 "nbformat": 4,
 "nbformat_minor": 5
}
