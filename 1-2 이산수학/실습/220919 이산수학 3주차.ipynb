{
 "cells": [
  {
   "cell_type": "markdown",
   "id": "6545bdca",
   "metadata": {},
   "source": [
    "###논리곱"
   ]
  },
  {
   "cell_type": "code",
   "execution_count": 5,
   "id": "820af047",
   "metadata": {
    "scrolled": true
   },
   "outputs": [
    {
     "name": "stdout",
     "output_type": "stream",
     "text": [
      "P:True\t  Q:True\t  P∧Q:True\n",
      "P:True\t  Q:False\t  P∧Q:False\n",
      "P:False\t  Q:True\t  P∧Q:False\n",
      "P:False\t  Q:False\t  P∧Q:False\n"
     ]
    }
   ],
   "source": [
    "P = [True, True, False, False]\n",
    "Q = [True, False, True, False]\n",
    "\n",
    "for p, q in zip (P, Q) :\n",
    "    print(f'P:{p}\\t  Q:{q}\\t  P∧Q:{p and q}')"
   ]
  },
  {
   "cell_type": "markdown",
   "id": "86892659",
   "metadata": {},
   "source": [
    "###논리합"
   ]
  },
  {
   "cell_type": "code",
   "execution_count": 6,
   "id": "36f035ee",
   "metadata": {},
   "outputs": [
    {
     "name": "stdout",
     "output_type": "stream",
     "text": [
      "P:True\t  Q:True\t  P∨Q:True\n",
      "P:True\t  Q:False\t  P∨Q:True\n",
      "P:False\t  Q:True\t  P∨Q:True\n",
      "P:False\t  Q:False\t  P∨Q:False\n"
     ]
    }
   ],
   "source": [
    "P = [True, True, False, False] #대괄호 = 리스트 자료형\n",
    "Q = [True, False, True, False]\n",
    "\n",
    "for p, q in zip (P, Q) :\n",
    "    print(f'P:{p}\\t  Q:{q}\\t  P∨Q:{p or q}') # \\t = 탭키가 눌러진 것처럼 작동, f'{}' = {}안의 변수를 값으로 print"
   ]
  },
  {
   "cell_type": "code",
   "execution_count": null,
   "id": "2dad832c",
   "metadata": {},
   "outputs": [],
   "source": []
  },
  {
   "cell_type": "code",
   "execution_count": 7,
   "id": "6bd3d4b8",
   "metadata": {
    "scrolled": false
   },
   "outputs": [
    {
     "name": "stdout",
     "output_type": "stream",
     "text": [
      "P:True\t  Q:True\t (P∧Q)∧(P∨Q):True\n",
      "P:True\t  Q:False\t (P∧Q)∧(P∨Q):False\n",
      "P:False\t  Q:True\t (P∧Q)∧(P∨Q):False\n",
      "P:False\t  Q:False\t (P∧Q)∧(P∨Q):False\n"
     ]
    }
   ],
   "source": [
    "P = [True, True, False, False] \n",
    "Q = [True, False, True, False]\n",
    "\n",
    "for p, q in zip (P, Q) :\n",
    "    print(f'P:{p}\\t  Q:{q}\\t (P∧Q)∧(P∨Q):{(p and q)and(p or q)}')"
   ]
  },
  {
   "cell_type": "code",
   "execution_count": null,
   "id": "c444285c",
   "metadata": {},
   "outputs": [],
   "source": [
    "###부정"
   ]
  },
  {
   "cell_type": "code",
   "execution_count": 10,
   "id": "b421c9cd",
   "metadata": {},
   "outputs": [
    {
     "name": "stdout",
     "output_type": "stream",
     "text": [
      "P:True\t  Q:True\t ~(P∧Q)∧(~P∨Q):False\n",
      "P:True\t  Q:False\t ~(P∧Q)∧(~P∨Q):False\n",
      "P:False\t  Q:True\t ~(P∧Q)∧(~P∨Q):True\n",
      "P:False\t  Q:False\t ~(P∧Q)∧(~P∨Q):True\n"
     ]
    }
   ],
   "source": [
    "P = [True, True, False, False] \n",
    "Q = [True, False, True, False]\n",
    "\n",
    "for p, q in zip (P, Q) :\n",
    "    print(f'P:{p}\\t  Q:{q}\\t ~(P∧Q)∧(~P∨Q):{not (p and q)and(not p or q)}')"
   ]
  },
  {
   "cell_type": "code",
   "execution_count": null,
   "id": "a703da3d",
   "metadata": {},
   "outputs": [],
   "source": [
    "###배타적 논리합"
   ]
  },
  {
   "cell_type": "code",
   "execution_count": 11,
   "id": "cb43577a",
   "metadata": {},
   "outputs": [
    {
     "name": "stdout",
     "output_type": "stream",
     "text": [
      "P:True\t  Q:True\t ~(P∧Q)⊕(~P∨Q):True\n",
      "P:True\t  Q:False\t ~(P∧Q)⊕(~P∨Q):True\n",
      "P:False\t  Q:True\t ~(P∧Q)⊕(~P∨Q):False\n",
      "P:False\t  Q:False\t ~(P∧Q)⊕(~P∨Q):False\n"
     ]
    }
   ],
   "source": [
    "P = [True, True, False, False] \n",
    "Q = [True, False, True, False]\n",
    "\n",
    "for p, q in zip (P, Q) :\n",
    "    print(f'P:{p}\\t  Q:{q}\\t ~(P∧Q)⊕(~P∨Q):{not (p and q)^(not p or q)}')"
   ]
  },
  {
   "cell_type": "code",
   "execution_count": null,
   "id": "822230c0",
   "metadata": {},
   "outputs": [],
   "source": []
  }
 ],
 "metadata": {
  "kernelspec": {
   "display_name": "Python 3 (ipykernel)",
   "language": "python",
   "name": "python3"
  },
  "language_info": {
   "codemirror_mode": {
    "name": "ipython",
    "version": 3
   },
   "file_extension": ".py",
   "mimetype": "text/x-python",
   "name": "python",
   "nbconvert_exporter": "python",
   "pygments_lexer": "ipython3",
   "version": "3.9.7"
  }
 },
 "nbformat": 4,
 "nbformat_minor": 5
}
