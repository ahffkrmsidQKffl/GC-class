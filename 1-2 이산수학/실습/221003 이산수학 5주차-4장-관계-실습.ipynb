{
 "cells": [
  {
   "cell_type": "markdown",
   "id": "ef20cce6",
   "metadata": {},
   "source": [
    "# 4장(관계)-프로그래밍 실습"
   ]
  },
  {
   "cell_type": "markdown",
   "id": "a2489d4e",
   "metadata": {},
   "source": [
    "## 4-1. 곱집합 (Cartesian Product) : 데카르트곱"
   ]
  },
  {
   "cell_type": "markdown",
   "id": "4ea41f4b",
   "metadata": {},
   "source": [
    "#### 순서쌍(ordered pair) 표현하기"
   ]
  },
  {
   "cell_type": "code",
   "execution_count": 16,
   "id": "9aa911f4",
   "metadata": {},
   "outputs": [
    {
     "name": "stdout",
     "output_type": "stream",
     "text": [
      "[('A', 'X'), ('A', 'Y'), ('B', 'X'), ('B', 'Y'), ('C', 'X'), ('C', 'Y'), ('D', 'X'), ('D', 'Y')]\n"
     ]
    }
   ],
   "source": [
    "iterable1 = 'ABCD'\n",
    "iterable2 = 'XY'\n",
    "\n",
    "data = list()\n",
    "for a in iterable1:\n",
    "    for b in iterable2:\n",
    "        data.append( (a, b))\n",
    "        \n",
    "print(data)"
   ]
  },
  {
   "cell_type": "code",
   "execution_count": 14,
   "id": "2260550e",
   "metadata": {},
   "outputs": [
    {
     "name": "stdout",
     "output_type": "stream",
     "text": [
      "[('y', 1), ('y', 2), ('y', 3), ('x', 1), ('x', 2), ('x', 3), ('z', 1), ('z', 2), ('z', 3)]\n"
     ]
    }
   ],
   "source": [
    "A = {'x','y','z'}\n",
    "B = {1, 2, 3}\n",
    "\n",
    "# S = set()\n",
    "S = list()\n",
    "for a in A:\n",
    "    for b in B:\n",
    "#         S.add((a, b))\n",
    "        S.append((a, b))\n",
    "print(S)"
   ]
  },
  {
   "cell_type": "markdown",
   "id": "1c79b773",
   "metadata": {},
   "source": [
    "### [예제 4-1] 곱집합 계산2\n",
    "- $A X B$\n",
    "- $B X A$"
   ]
  },
  {
   "cell_type": "code",
   "execution_count": 18,
   "id": "29d8b626",
   "metadata": {},
   "outputs": [
    {
     "name": "stdout",
     "output_type": "stream",
     "text": [
      "{(3, 'y'), (2, 'x'), (3, 'x'), (1, 'y'), (1, 'x'), (2, 'y')}\n",
      "{('y', 3), ('x', 3), ('x', 2), ('y', 2), ('x', 1), ('y', 1)}\n"
     ]
    }
   ],
   "source": [
    "import itertools\n",
    "\n",
    "A = {1, 2, 3}\n",
    "B = {'x','y'}\n",
    "\n",
    "print(set(itertools.product(A, B)))\n",
    "print(set(itertools.product(B, A)))"
   ]
  },
  {
   "cell_type": "markdown",
   "id": "e77a1794",
   "metadata": {},
   "source": [
    "### [예제 4-2] 곱집합 계산2\n",
    "- $L  X  M X O$"
   ]
  },
  {
   "cell_type": "code",
   "execution_count": 32,
   "id": "0d32a5c5",
   "metadata": {
    "scrolled": true
   },
   "outputs": [
    {
     "name": "stdout",
     "output_type": "stream",
     "text": [
      "*곱집합:  {('P', 256, 'U'), ('J', 128, 'W'), ('J', 256, 'W'), ('C', 128, 'W'), ('C', 512, 'W'), ('P', 512, 'W'), ('C', 256, 'U'), ('P', 128, 'W'), ('P', 256, 'W'), ('J', 128, 'U'), ('J', 512, 'U'), ('C', 512, 'U'), ('P', 128, 'U'), ('J', 256, 'U'), ('C', 128, 'U'), ('P', 512, 'U'), ('J', 512, 'W'), ('C', 256, 'W')}\n",
      "*원소개수: 18\n"
     ]
    }
   ],
   "source": [
    "import itertools\n",
    "\n",
    "L = {'C','J','P'}  # 언어\n",
    "M = {128,256,512}  # 메모리\n",
    "O = {'U','W'}      # 운영체제\n",
    "\n",
    "print('*곱집합: ', set(itertools.product(L, M, O)))\n",
    "print('*원소개수:', len(set(itertools.product(L, M, O))))\n",
    "# print(list(itertools.product(L, M, O)))"
   ]
  },
  {
   "cell_type": "markdown",
   "id": "1d9b3202",
   "metadata": {},
   "source": [
    "----------------------------"
   ]
  },
  {
   "cell_type": "markdown",
   "id": "2370682b",
   "metadata": {},
   "source": [
    "## 4-2 관계와 관계 표현"
   ]
  },
  {
   "cell_type": "markdown",
   "id": "ce33e4d9",
   "metadata": {},
   "source": [
    "### [예제 4-3] 이항관계\n",
    "- R의 원소들이 AxB의 부분집합인지 확인한다."
   ]
  },
  {
   "cell_type": "code",
   "execution_count": 43,
   "id": "15d5628c",
   "metadata": {},
   "outputs": [
    {
     "name": "stdout",
     "output_type": "stream",
     "text": [
      "R은 A에서 B로의 관계이다\n",
      "원소들의 관계: \n",
      "1Ra, 1Rb, 2Rb, 3Rb, "
     ]
    }
   ],
   "source": [
    "import itertools\n",
    "\n",
    "A = {1, 2, 3}\n",
    "B = {'a','b'}\n",
    "R = {(1,'a'), (2,'b'), (3,'b'), (1,'b')}\n",
    "\n",
    "AxB = set(itertools.product(A, B))\n",
    "\n",
    "result = 'R은 A에서 B로의 관계이다'\n",
    "for r in R:\n",
    "    if r not in AxB:\n",
    "        result = 'R은 A에서 B로의 관계가 아니다'\n",
    "        break\n",
    "print(result)\n",
    "\n",
    "print('원소들의 관계: ')\n",
    "for r in R:\n",
    "    print(f'{ r[0] }R{ r[1] }', end=', ')"
   ]
  },
  {
   "cell_type": "markdown",
   "id": "a8fc680c",
   "metadata": {},
   "source": [
    "### [예제 4-5] : 관계구하기1\n",
    "A = {1,2,3,4,5}일 때  aRb <--> a<b로 정의되는  R을 구하라"
   ]
  },
  {
   "cell_type": "code",
   "execution_count": 49,
   "id": "9a85a461",
   "metadata": {},
   "outputs": [
    {
     "name": "stdout",
     "output_type": "stream",
     "text": [
      "R의 정의역: {1, 2, 3, 4}\n",
      "R의 치역:   {2, 3, 4, 5}\n",
      "R의 공변역: {1, 2, 3, 4, 5}\n"
     ]
    }
   ],
   "source": [
    "import itertools\n",
    "\n",
    "A = {1, 2, 3, 4, 5}\n",
    "\n",
    "R = set()\n",
    "for r in set(itertools.product(A, A)): # 순서쌍\n",
    "    if r[0] < r[1]:\n",
    "        R.add( r )\n",
    "\n",
    "DomR = {r[0] for r in R}\n",
    "RanR = {r[1] for r in R}\n",
    "coDomR = DomR | RanR        # 합집합\n",
    "print(f'R의 정의역: {DomR}')\n",
    "print(f'R의 치역:   {RanR}')\n",
    "print(f'R의 공변역: {coDomR}')"
   ]
  },
  {
   "cell_type": "markdown",
   "id": "73cf242e",
   "metadata": {},
   "source": [
    "### [예제 4-6] : 관계구하기2"
   ]
  },
  {
   "cell_type": "code",
   "execution_count": 51,
   "id": "c6d0e822",
   "metadata": {},
   "outputs": [
    {
     "name": "stdout",
     "output_type": "stream",
     "text": [
      "R의 순서쌍(a,b): {(4, 4), (2, 4), (2, 2), (3, 3), (2, 6), (3, 6)}\n"
     ]
    }
   ],
   "source": [
    "import itertools\n",
    "\n",
    "A = {2, 3, 4, 7}\n",
    "B = {2, 3, 4, 5, 6}\n",
    "\n",
    "R = set()\n",
    "for r in set(itertools.product(A, B)): # 순서쌍\n",
    "    if r[1]%r[0]==0:\n",
    "        R.add( r )\n",
    "\n",
    "print(f'R의 순서쌍(a,b): {R}')"
   ]
  },
  {
   "cell_type": "markdown",
   "id": "871b2a3c",
   "metadata": {},
   "source": [
    "### 관계 표현하기"
   ]
  },
  {
   "cell_type": "markdown",
   "id": "9aeef38d",
   "metadata": {},
   "source": [
    "- 1.화살표 그림(arrow diagram) \n",
    "- 2.관계 행렬(Relation Matrix) \n",
    "- 3.유향 그래프(directed graph)\n",
    "- 4."
   ]
  },
  {
   "cell_type": "markdown",
   "id": "aec7e37a",
   "metadata": {},
   "source": [
    "### #관계 행렬(Relation Matrix) 표현하기\n",
    "- https://pypi.org/project/numpy/\n",
    "- https://numpy.org/"
   ]
  },
  {
   "cell_type": "code",
   "execution_count": null,
   "id": "6afc374c",
   "metadata": {},
   "outputs": [],
   "source": [
    "!pip install numpy"
   ]
  },
  {
   "cell_type": "markdown",
   "id": "17ba4216",
   "metadata": {},
   "source": [
    "### [예제 4-8] :  관계 행렬 표현하기1\n",
    "**[주의!!]**\n",
    "- 관계 행렬을 표시할 때는 집합 대신에 리스트를 이용해야 정확한 관계 행렬을 표시할 수 있다\n",
    "- 집합은 순서가 없기 때문에 리스트로 변환하여 처리함"
   ]
  },
  {
   "cell_type": "code",
   "execution_count": 12,
   "id": "9aa4878d",
   "metadata": {},
   "outputs": [
    {
     "name": "stdout",
     "output_type": "stream",
     "text": [
      "관계행렬(M):\n",
      " [[1 1]\n",
      " [0 1]\n",
      " [0 1]]\n"
     ]
    }
   ],
   "source": [
    "import numpy as np\n",
    "\n",
    "# A = {1,2,3}  \n",
    "# B = {'a', 'b'}\n",
    "A = [1,2,3]  \n",
    "B = ['a', 'b']\n",
    "R = {(1,'a'), (2,'b'), (3,'b'), (1,'b')}\n",
    "\n",
    "# 리스트로 표시하기 \n",
    "datas = []\n",
    "for a in A: # 행\n",
    "    data = []\n",
    "    for b in B: # 열\n",
    "        r = (a, b)\n",
    "        if r in R:\n",
    "            data.append(1)\n",
    "        else:\n",
    "            data.append(0)\n",
    "    datas.append(data)\n",
    "\n",
    "# 행렬로 표시하기\n",
    "matrix = np.array(datas)\n",
    "print('관계행렬(M):\\n', matrix)"
   ]
  },
  {
   "cell_type": "markdown",
   "id": "e3681897",
   "metadata": {},
   "source": [
    "- 함수로 표현하기"
   ]
  },
  {
   "cell_type": "code",
   "execution_count": 2,
   "id": "f42ba652",
   "metadata": {},
   "outputs": [
    {
     "name": "stdout",
     "output_type": "stream",
     "text": [
      "[[1 1]\n",
      " [0 1]\n",
      " [0 1]]\n"
     ]
    }
   ],
   "source": [
    "import numpy as np\n",
    "\n",
    "A = [1,2,3]  # 집합은 순서가 없기 때문에 리스트로 변환하여 처리함\n",
    "B = ['a', 'b']\n",
    "R = {(1,'a'), (2,'b'), (3,'b'), (1,'b')}\n",
    "\n",
    "def getBooleanValue(r):   #R순서쌍에 해당하는지 여부 확인\n",
    "    for pair in R:\n",
    "        if r == pair: return 1\n",
    "    return 0\n",
    "\n",
    "def makeRelationMatrix(A, B):    # 관계 행렬 리스트 만들기\n",
    "    datas = []\n",
    "    for a in A:\n",
    "        data = []\n",
    "        for b in B:\n",
    "            r = (a, b) \n",
    "            value = getBooleanValue(r)\n",
    "            data.append(value)\n",
    "        datas.append(data)\n",
    "\n",
    "    return np.array(datas)\n",
    "\n",
    "matrix = makeRelationMatrix(A, B)\n",
    "print(matrix)"
   ]
  },
  {
   "cell_type": "markdown",
   "id": "62f129f5",
   "metadata": {},
   "source": [
    "### [예제 4-9] :  관계 행렬 표현하기2"
   ]
  },
  {
   "cell_type": "code",
   "execution_count": 14,
   "id": "3a6a1205",
   "metadata": {},
   "outputs": [
    {
     "name": "stdout",
     "output_type": "stream",
     "text": [
      "관계행렬(M):\n",
      " [[1 0 0 1]\n",
      " [0 1 1 0]\n",
      " [1 0 1 0]]\n"
     ]
    }
   ],
   "source": [
    "import numpy as np\n",
    "\n",
    "A = ['a1','a2','a3']  \n",
    "B = ['b1','b2','b3','b4']\n",
    "R = {('a1','b1'),('a1','b4'),('a2','b2'),('a2','b3'),('a3','b1'),('a3','b3')}\n",
    "\n",
    "# 리스트로 표시하기 \n",
    "datas = []\n",
    "for a in A: # 행\n",
    "    data = []\n",
    "    for b in B: # 열\n",
    "        r = (a, b)\n",
    "        if r in R:\n",
    "            data.append(1)\n",
    "        else:\n",
    "            data.append(0)\n",
    "    datas.append(data)\n",
    "\n",
    "# 행렬로 표시하기\n",
    "matrix = np.array(datas)\n",
    "print('관계행렬(M):\\n', matrix)"
   ]
  },
  {
   "cell_type": "markdown",
   "id": "11e359ce",
   "metadata": {},
   "source": [
    "### [예제 4-10] :  관계 행렬 표현하기3"
   ]
  },
  {
   "cell_type": "code",
   "execution_count": 1,
   "id": "54d5e472",
   "metadata": {},
   "outputs": [
    {
     "name": "stdout",
     "output_type": "stream",
     "text": [
      "[[0 1 1 1 1]\n",
      " [0 0 1 1 1]\n",
      " [0 0 0 1 1]\n",
      " [0 0 0 0 1]\n",
      " [0 0 0 0 0]]\n"
     ]
    }
   ],
   "source": [
    "import numpy as np\n",
    "\n",
    "A = [1,2,3,4,5]  \n",
    "R = {(1,2),(1,3),(1,4),(1,5),(2,3),(2,4),(2,5),(3,4),(3,5),(4,5)}\n",
    "\n",
    "# 관계 행렬 만들기\n",
    "def makeRelationMatrix(A, B):    \n",
    "    datas = []\n",
    "    for a in A:\n",
    "        data = []\n",
    "        for b in B:\n",
    "            r = (a, b) \n",
    "            if r in R: data.append(1)\n",
    "            else: data.append(0)\n",
    "        datas.append(data)\n",
    "        \n",
    "    return np.array(datas)\n",
    "\n",
    "matrix = makeRelationMatrix(A, A)\n",
    "print(matrix)"
   ]
  },
  {
   "cell_type": "markdown",
   "id": "6462fadc",
   "metadata": {},
   "source": [
    "### #유향 그래프(directed graph) 그리기\n",
    "- https://pypi.org/project/networkx/ \n",
    "- https://networkx.org/\n",
    "- https://networkx.org/documentation/stable/auto_examples/index.html#examples-gallery"
   ]
  },
  {
   "cell_type": "code",
   "execution_count": null,
   "id": "43d076ef",
   "metadata": {},
   "outputs": [],
   "source": [
    "!pip install matplotlib"
   ]
  },
  {
   "cell_type": "code",
   "execution_count": 17,
   "id": "4e997514",
   "metadata": {
    "collapsed": true
   },
   "outputs": [
    {
     "name": "stdout",
     "output_type": "stream",
     "text": [
      "Collecting networkx\n",
      "  Downloading networkx-2.8.7-py3-none-any.whl (2.0 MB)\n",
      "     ---------------------------------------- 2.0/2.0 MB 16.1 MB/s eta 0:00:00\n",
      "Installing collected packages: networkx\n",
      "Successfully installed networkx-2.8.7\n"
     ]
    },
    {
     "name": "stderr",
     "output_type": "stream",
     "text": [
      "WARNING: Ignoring invalid distribution -pencv-python-headless (c:\\python\\python39\\lib\\site-packages)\n",
      "WARNING: Ignoring invalid distribution -pencv-python-headless (c:\\python\\python39\\lib\\site-packages)\n",
      "WARNING: Ignoring invalid distribution -pencv-python-headless (c:\\python\\python39\\lib\\site-packages)\n",
      "WARNING: Ignoring invalid distribution -pencv-python-headless (c:\\python\\python39\\lib\\site-packages)\n",
      "WARNING: Ignoring invalid distribution -pencv-python-headless (c:\\python\\python39\\lib\\site-packages)\n",
      "WARNING: Ignoring invalid distribution -pencv-python-headless (c:\\python\\python39\\lib\\site-packages)\n",
      "WARNING: Ignoring invalid distribution -pencv-python-headless (c:\\python\\python39\\lib\\site-packages)\n",
      "\n",
      "[notice] A new release of pip available: 22.2.1 -> 22.2.2\n",
      "[notice] To update, run: python.exe -m pip install --upgrade pip\n"
     ]
    }
   ],
   "source": [
    "!pip install networkx"
   ]
  },
  {
   "cell_type": "markdown",
   "id": "8e255c0e",
   "metadata": {},
   "source": [
    "### [예제 4-11] : 유향 그래프 그리기  "
   ]
  },
  {
   "cell_type": "code",
   "execution_count": 37,
   "id": "96c61fee",
   "metadata": {
    "scrolled": true
   },
   "outputs": [
    {
     "data": {
      "image/png": "[encoded data removed]",
      "text/plain": [
       "<Figure size 432x288 with 1 Axes>"
      ]
     },
     "metadata": {},
     "output_type": "display_data"
    }
   ],
   "source": [
    "import networkx as nx\n",
    "import matplotlib.pyplot as plt\n",
    "\n",
    "G = nx.DiGraph()  # DirectedGraph(유향 그래프)\n",
    "\n",
    "# vertex(node)=점, edge=선 \n",
    "# A = {1,2,3,4}\n",
    "# R = {(1,1),(1,2),(2,1),(2,2),(2,3),(2,4),(3,4),(4,1)}\n",
    "A = [1,2,3,4]\n",
    "R = [(1,1),(1,2),(2,1),(2,2),(2,3),(2,4),(3,4),(4,1)]\n",
    "G.add_nodes_from(A) # 점 추가\n",
    "G.add_edges_from(R) # 간선 추가\n",
    "\n",
    "#그래프 그리기: 실행될 때마다 vertex(node)의 위치가 변경될 수 있다.)\n",
    "nx.draw(G, with_labels=True)\n",
    "\n",
    "#이 프로그램이 위치하는 곳에 사진으로 저장\n",
    "# plt.savefig(\"G.png\")\n",
    "plt.show()"
   ]
  },
  {
   "cell_type": "markdown",
   "id": "4936589d",
   "metadata": {},
   "source": [
    "### [예제 4-12] :  유향 그래프와 관계 행렬 나타내기"
   ]
  },
  {
   "cell_type": "code",
   "execution_count": 50,
   "id": "3327ee36",
   "metadata": {},
   "outputs": [
    {
     "name": "stdout",
     "output_type": "stream",
     "text": [
      "[('b', 'a'), ('c', 'b'), ('c', 'a'), ('d', 'b'), ('d', 'a'), ('d', 'c'), ('e', 'b'), ('e', 'a'), ('e', 'c'), ('e', 'd')]\n",
      "유향그래프:\n"
     ]
    },
    {
     "data": {
      "image/png": "[encoded data removed]",
      "text/plain": [
       "<Figure size 432x288 with 1 Axes>"
      ]
     },
     "metadata": {},
     "output_type": "display_data"
    },
    {
     "name": "stdout",
     "output_type": "stream",
     "text": [
      "관계행렬(M)\n",
      "[[0 1 0 0 0]\n",
      " [0 0 0 0 0]\n",
      " [1 1 0 0 0]\n",
      " [1 1 1 0 0]\n",
      " [1 1 1 1 0]]\n"
     ]
    }
   ],
   "source": [
    "import itertools\n",
    "\n",
    "# A->A의 관계(R) 만들기\n",
    "X = {1,2,3,4}\n",
    "# R = {(r[0],r[1]) for r in list(itertools.product(A,A)) if r[0]>r[1]} # 순서쌍\n",
    "R = [(r[0],r[1]) for r in list(itertools.product(A,A)) if r[0]>r[1]] \n",
    "print(R)\n",
    "\n",
    "\n",
    "# 유향 그래프 그리기\n",
    "def makeDirectGraph(A, R):\n",
    "    import networkx as nx\n",
    "    import matplotlib.pyplot as plt\n",
    "\n",
    "    G = nx.DiGraph()  # DirectedGraph(유향 그래프)\n",
    "\n",
    "    G.add_nodes_from(A) # 점 추가\n",
    "    G.add_edges_from(R) # 간선 추가\n",
    "\n",
    "    #그래프 그리기: 실행될 때마다 vertex(node)의 위치가 변경될 수 있다.)\n",
    "    print('유향그래프:')\n",
    "    nx.draw(G, with_labels=True)\n",
    "    plt.show()\n",
    "    \n",
    "\n",
    "# 관계 행렬 만들기\n",
    "def makeRelationMatrix(A, B, R):    \n",
    "    import numpy as np\n",
    "    \n",
    "    datas = []\n",
    "    for a in A: # 행\n",
    "        data = []\n",
    "        for b in B: # 열\n",
    "            r = (a, b)\n",
    "            if r in R: \n",
    "                data.append(1)\n",
    "            else:\n",
    "                data.append(0)\n",
    "        datas.append(data)\n",
    "        \n",
    "    return np.array(datas)\n",
    "\n",
    "makeDirectGraph(A, R)  # 유행 그래프 만들기\n",
    "matrix = makeRelationMatrix(A, A, R) # 관계헹렬만들기\n",
    "print('관계행렬(M)')\n",
    "print(matrix)"
   ]
  },
  {
   "cell_type": "markdown",
   "id": "4d244cfe",
   "metadata": {},
   "source": [
    "------------------------"
   ]
  },
  {
   "cell_type": "markdown",
   "id": "800023fb",
   "metadata": {},
   "source": [
    "## 4-3. 경로 (Path)"
   ]
  },
  {
   "cell_type": "markdown",
   "id": "98082758",
   "metadata": {},
   "source": [
    "### [예제 4-16] : 부울곱(논리곱)을 이용해 길이가 2인 경로 찾기\n",
    "- 부울곱=행렬곱"
   ]
  },
  {
   "cell_type": "code",
   "execution_count": 83,
   "id": "01d556c7",
   "metadata": {},
   "outputs": [
    {
     "name": "stdout",
     "output_type": "stream",
     "text": [
      "[[1 1 0 0 0]\n",
      " [0 0 1 0 0]\n",
      " [0 0 0 1 1]\n",
      " [0 0 0 0 1]\n",
      " [0 0 0 0 0]]\n",
      "[[1 1 1 0 0]\n",
      " [0 0 0 1 1]\n",
      " [0 0 0 0 1]\n",
      " [0 0 0 0 0]\n",
      " [0 0 0 0 0]]\n",
      "[('a', 'a'), ('a', 'b'), ('a', 'c'), ('b', 'd'), ('b', 'e'), ('c', 'e')]\n"
     ]
    }
   ],
   "source": [
    "import numpy as np\n",
    "\n",
    "A = ['a','b','c','d','e']  #집합은 순서가 없기 때문에 리스트로 변환하여 처리함\n",
    "R = [('a','a'),('a','b'),('b','c'),('c','d'),('c','e'),('d','e')]\n",
    "\n",
    "\n",
    "# 관계 행렬 만들기\n",
    "def makeRelationMatrix(A, B):    \n",
    "    datas = []\n",
    "    for a in A:\n",
    "        data = []\n",
    "        for b in B:\n",
    "            r = (a, b) \n",
    "            if r in R: \n",
    "                data.append(1)\n",
    "            else:\n",
    "                data.append(0)\n",
    "        datas.append(data)\n",
    "    datas = np.array(datas)\n",
    "    return datas\n",
    "\n",
    "\n",
    "# 길이가 2인 관계 행렬의 부울곱(논리곱) \n",
    "def getBooleanProduct(M_A, M_B):\n",
    "        return M_A @ M_B    # np.dot(x,y)\n",
    "\n",
    "    \n",
    "# 부울곱을 이용해 길이가 2인 경로 \n",
    "def getBooleanProductMatrix(matrix):\n",
    "    R2 = list()\n",
    "    r, c = matrix.shape\n",
    "    for i in range(r):\n",
    "        for j in range(c):\n",
    "            if matrix[i][j]<=1:\n",
    "                R2.append((A[i],A[j])) \n",
    "    return R2\n",
    "\n",
    "\n",
    "# 관계 행렬 만들기\n",
    "matrix = makeRelationMatrix(A, A)\n",
    "print(matrix)\n",
    "\n",
    "# 관계 행렬의 부울곱 만들기\n",
    "matrix = getBooleanProduct(matrix)\n",
    "print(matrix)\n",
    "\n",
    "# 부울곱을 이용해 길이가 2인 경로 출력하기\n",
    "R2 = getBooleanProductMatrix(matrix)\n",
    "print(R2)"
   ]
  },
  {
   "cell_type": "markdown",
   "id": "0cbe00ea",
   "metadata": {},
   "source": [
    "------------------------------"
   ]
  },
  {
   "cell_type": "markdown",
   "id": "b0b83f65",
   "metadata": {},
   "source": [
    "## 4-4. 관계의 성질\n",
    "- 반사 관계(reflexive), 비반사 관계(irreflexive) : \n",
    "- 대칭 관계(symmetric), 비대칭 관계(asymmetric), 반대칭 관계(antisymmetric) : \n",
    "- 추이 관계(transitive)\n",
    "- **동치 관계(equivalence): 반사 & 대칭 & 추이**"
   ]
  },
  {
   "cell_type": "markdown",
   "id": "19139593",
   "metadata": {},
   "source": [
    "### [예제 4-19]: (a) 반사관계/비반사관계 확인"
   ]
  },
  {
   "cell_type": "code",
   "execution_count": 46,
   "id": "fab4ba77",
   "metadata": {
    "scrolled": true
   },
   "outputs": [
    {
     "name": "stdout",
     "output_type": "stream",
     "text": [
      "집합 A : {1, 2, 3}\n",
      "집합 A의 R 순서쌍: [(1, 1), (1, 2), (1, 3), (2, 2), (2, 3), (3, 3)]\n",
      "집합 A는 반사관계이다\n"
     ]
    }
   ],
   "source": [
    "A = {1,2,3}\n",
    "\n",
    "R = [] # 관계(순서쌍) 저장\n",
    "rcnt = 0   # 반사관계 개수\n",
    "for a in A:\n",
    "    for b in A:\n",
    "        if a<=b:\n",
    "            R.append((a, b))\n",
    "            if a==b: rcnt+=1\n",
    "\n",
    "print(f'집합 A : {A}')\n",
    "print(f'집합 A의 R 순서쌍: {R}')\n",
    "\n",
    "# 반사관계 확인\n",
    "if len(A)>0 and len(A)==rcnt:\n",
    "    print('집합 A는 반사관계이다')    \n",
    "elif len(A)>0 and rcnt==0:\n",
    "    print('집합 A는 비반사관계이다')\n",
    "else:\n",
    "    print('집합 A는 반사관계와 비반사관계가 모두 아니다')"
   ]
  },
  {
   "cell_type": "markdown",
   "id": "ae27fcab",
   "metadata": {},
   "source": [
    "### [예제 4-21]: 대칭 관계 확인 - 관계 행렬 출력해서 확인해보기"
   ]
  },
  {
   "cell_type": "code",
   "execution_count": 47,
   "id": "5b1f9711",
   "metadata": {},
   "outputs": [
    {
     "name": "stdout",
     "output_type": "stream",
     "text": [
      "[[0 1 0 0]\n",
      " [1 0 1 0]\n",
      " [0 1 0 1]\n",
      " [0 0 1 0]]\n"
     ]
    }
   ],
   "source": [
    "A = [1,2,3,4]  #집합은 순서가 없기 때문에 리스트로 변환하여 처리함\n",
    "R = [(1,2),(2,1),(2,3),(3,2),(3,4),(4,3)]\n",
    "\n",
    "def makeRelationMatrix(A, B):    # 관계 행렬 리스트 만들기\n",
    "    datas = []\n",
    "    for a in A:\n",
    "        data = []\n",
    "        for b in B:\n",
    "            r = (a, b) \n",
    "            if r in R: \n",
    "                data.append(1)\n",
    "            else:\n",
    "                data.append(0)\n",
    "        datas.append(data)\n",
    "    datas = np.array(datas)\n",
    "    return datas\n",
    "\n",
    "matrix = makeRelationMatrix(A, A)\n",
    "print(matrix)"
   ]
  },
  {
   "cell_type": "markdown",
   "id": "fd125aca",
   "metadata": {},
   "source": [
    "### [예제 4-24] : 유향 그래프와 대칭 관계"
   ]
  },
  {
   "cell_type": "code",
   "execution_count": 49,
   "id": "8bdab47c",
   "metadata": {
    "scrolled": true
   },
   "outputs": [
    {
     "name": "stdout",
     "output_type": "stream",
     "text": [
      "유향그래프:\n"
     ]
    },
    {
     "data": {
      "image/png": "[encoded data removed]",
      "text/plain": [
       "<Figure size 432x288 with 1 Axes>"
      ]
     },
     "metadata": {},
     "output_type": "display_data"
    },
    {
     "name": "stdout",
     "output_type": "stream",
     "text": [
      "관계행렬(M)\n",
      "[[0 1 1 0 1]\n",
      " [1 0 1 0 0]\n",
      " [1 1 0 1 0]\n",
      " [0 0 1 0 1]\n",
      " [1 0 0 1 0]]\n"
     ]
    }
   ],
   "source": [
    "A = {'a','b','c','d','e'}  \n",
    "R = [('a','b'),('b','a'),('a','c'),('c','a'),('b','c'),('c','b'),('b','e'),\n",
    "     ('e','b'),('e','d'),('d','e'),('c','d'),('d','c')]\n",
    "\n",
    "\n",
    "# 유향 그래프 그리기\n",
    "def makeDirectGraph(A, R):\n",
    "    import networkx as nx\n",
    "    import matplotlib.pyplot as plt\n",
    "\n",
    "    G = nx.DiGraph()  # DirectedGraph(유향 그래프)\n",
    "\n",
    "    G.add_nodes_from(A) # 점 추가\n",
    "    G.add_edges_from(R) # 간선 추가\n",
    "\n",
    "    #그래프 그리기: 실행될 때마다 vertex(node)의 위치가 변경될 수 있다.)\n",
    "    print('유향그래프:')\n",
    "    nx.draw(G, with_labels=True)\n",
    "    plt.show()\n",
    "    \n",
    "\n",
    "# 관계 행렬 만들기\n",
    "def makeRelationMatrix(A, B, R):    \n",
    "    import numpy as np\n",
    "    \n",
    "    datas = []\n",
    "    for a in A: # 행\n",
    "        data = []\n",
    "        for b in B: # 열\n",
    "            r = (a, b)\n",
    "            if r in R: \n",
    "                data.append(1)\n",
    "            else:\n",
    "                data.append(0)\n",
    "        datas.append(data)\n",
    "        \n",
    "    return np.array(datas)\n",
    "\n",
    "makeDirectGraph(A, R)  # 유행 그래프 만들기\n",
    "matrix = makeRelationMatrix(A, A, R) # 관계헹렬만들기\n",
    "print('관계행렬(M)')\n",
    "print(matrix)"
   ]
  },
  {
   "cell_type": "markdown",
   "id": "989f345e",
   "metadata": {},
   "source": [
    "### [예제 4-26] : 동치 관계 --> 관계 행렬과 그래프 그리기"
   ]
  },
  {
   "cell_type": "code",
   "execution_count": 51,
   "id": "b794c9f2",
   "metadata": {
    "scrolled": true
   },
   "outputs": [
    {
     "name": "stdout",
     "output_type": "stream",
     "text": [
      "유향그래프:\n"
     ]
    },
    {
     "data": {
      "image/png": "[encoded data removed]",
      "text/plain": [
       "<Figure size 432x288 with 1 Axes>"
      ]
     },
     "metadata": {},
     "output_type": "display_data"
    },
    {
     "name": "stdout",
     "output_type": "stream",
     "text": [
      "관계행렬(M)\n",
      "[[1 1 0 0]\n",
      " [1 1 0 0]\n",
      " [0 0 1 1]\n",
      " [0 0 1 1]]\n"
     ]
    }
   ],
   "source": [
    "A = {1,2,3,4}\n",
    "R = [(1,1),(1,2),(2,1),(2,2),(3,3),(3,4),(4,3),(4,4)]\n",
    "\n",
    "# 유향 그래프 그리기\n",
    "def makeDirectGraph(A, R):\n",
    "    import networkx as nx\n",
    "    import matplotlib.pyplot as plt\n",
    "\n",
    "    G = nx.DiGraph()  # DirectedGraph(유향 그래프)\n",
    "\n",
    "    G.add_nodes_from(A) # 점 추가\n",
    "    G.add_edges_from(R) # 간선 추가\n",
    "\n",
    "    #그래프 그리기: 실행될 때마다 vertex(node)의 위치가 변경될 수 있다.)\n",
    "    print('유향그래프:')\n",
    "    nx.draw(G, with_labels=True)\n",
    "    plt.show()\n",
    "    \n",
    "\n",
    "# 관계 행렬 만들기\n",
    "def makeRelationMatrix(A, B, R):    \n",
    "    import numpy as np\n",
    "    \n",
    "    datas = []\n",
    "    for a in A: # 행\n",
    "        data = []\n",
    "        for b in B: # 열\n",
    "            r = (a, b)\n",
    "            if r in R: \n",
    "                data.append(1)\n",
    "            else:\n",
    "                data.append(0)\n",
    "        datas.append(data)\n",
    "        \n",
    "    return np.array(datas)\n",
    "\n",
    "makeDirectGraph(A, R)  # 유행 그래프 만들기\n",
    "matrix = makeRelationMatrix(A, A, R) # 관계헹렬만들기\n",
    "print('관계행렬(M)')\n",
    "print(matrix)"
   ]
  },
  {
   "cell_type": "markdown",
   "id": "c321d6be",
   "metadata": {},
   "source": [
    "--------------------------"
   ]
  },
  {
   "cell_type": "markdown",
   "id": "7b9b1bde",
   "metadata": {},
   "source": [
    "## 4-5: 역관계와 합성 관계"
   ]
  },
  {
   "cell_type": "markdown",
   "id": "cf5bdaae",
   "metadata": {},
   "source": [
    "### [예제 4-29] : 역관계와 여관계"
   ]
  },
  {
   "cell_type": "code",
   "execution_count": 59,
   "id": "3766d9fc",
   "metadata": {},
   "outputs": [
    {
     "name": "stdout",
     "output_type": "stream",
     "text": [
      "AxB:       {(4, 'a'), (1, 'b'), (2, 'a'), (3, 'a'), (4, 'c'), (4, 'b'), (3, 'c'), (1, 'a'), (2, 'c'), (2, 'b'), (3, 'b'), (1, 'c')}\n",
      "--------------------------------------------------\n",
      "R 여관계: {(2, 'a'), (3, 'a'), (4, 'c'), (4, 'b'), (3, 'c'), (1, 'c')}\n",
      "R∩S:     {(2, 'c'), (3, 'b'), (1, 'b')}\n",
      "R∪S:     {(4, 'a'), (1, 'b'), (4, 'b'), (1, 'a'), (2, 'c'), (2, 'b'), (3, 'b')}\n",
      "R 역관계: {('c', 2), ('b', 2), ('a', 1), ('b', 1), ('a', 4), ('b', 3)}\n"
     ]
    }
   ],
   "source": [
    "import itertools\n",
    "\n",
    "A = {1,2,3,4}\n",
    "B = {'a','b','c'}\n",
    "R = {(1,'a'),(1,'b'),(2,'b'),(2,'c'),(3,'b'),(4,'a')}\n",
    "S = {(1,'b'),(2,'c'),(3,'b'),(4,'b')}\n",
    "\n",
    "# 역관계\n",
    "def getInverseRelation(R):\n",
    "    data = []\n",
    "    for r in R:\n",
    "        data.append((r[1],r[0]))\n",
    "    return set(data)    \n",
    "\n",
    "\n",
    "AxB = set(itertools.product(A, B))\n",
    "print(f'AxB:       {AxB}')\n",
    "print('-'*50)\n",
    "print(f'R 여관계: {AxB.difference(R)}') \n",
    "print(f'R∩S:     {R&S}')  # 교집합\n",
    "print(f'R∪S:     {R|S}')  # 합집합\n",
    "print(f'R 역관계: {getInverseRelation(R)}')"
   ]
  },
  {
   "cell_type": "markdown",
   "id": "8b133bdb",
   "metadata": {},
   "source": [
    "### [예제 4-31] : 관계 행렬을 이용한 역관계와 여관계"
   ]
  },
  {
   "cell_type": "code",
   "execution_count": 78,
   "id": "5a3848c2",
   "metadata": {},
   "outputs": [
    {
     "name": "stdout",
     "output_type": "stream",
     "text": [
      "[[1 0 1]\n",
      " [0 1 1]\n",
      " [0 0 0]]\n",
      "[[0 1 1]\n",
      " [1 1 0]\n",
      " [0 1 0]]\n",
      "--------------------------------------------------\n",
      "M_R 여관계:\n",
      "[[0 1 0]\n",
      " [1 0 0]\n",
      " [1 1 1]]\n",
      "M_R 역관계:\n",
      "[[1 0 0]\n",
      " [0 1 0]\n",
      " [1 1 0]]\n",
      "M_R∩M_S:\n",
      "[[0 0 1]\n",
      " [0 1 0]\n",
      " [0 0 0]]\n",
      "M_R∪M_S:\n",
      "[[1 1 1]\n",
      " [1 1 1]\n",
      " [0 1 0]]\n"
     ]
    }
   ],
   "source": [
    "import numpy as np\n",
    "\n",
    "A  = {1,2,3,4}\n",
    "M_R= np.array([[1,0,1],[0,1,1],[0,0,0]])\n",
    "M_S= np.array([[0,1,1],[1,1,0],[0,1,0]])\n",
    "print(M_R)\n",
    "print(M_S)\n",
    "\n",
    "def getComplementaryRelation(matrix):\n",
    "    datas = []\n",
    "    r, c = matrix.shape\n",
    "    for i in range(r):\n",
    "        data = []\n",
    "        for j in range(c):\n",
    "            if matrix[i][j]==0: data.append(1) \n",
    "            else: data.append(0)\n",
    "        datas.append(data)\n",
    "    return np.array(datas)\n",
    "\n",
    "print('-'*50)\n",
    "print('M_R 여관계:')\n",
    "print(getComplementaryRelation(M_R)) # 여행렬\n",
    "print('M_R 역관계:')\n",
    "print( M_R.T )                       # 전치행렬  A.transpose()\n",
    "\n",
    "print('M_R∩M_S:')\n",
    "print(M_R & M_S)\n",
    "print('M_R∪M_S:')\n",
    "print(M_R | M_S)"
   ]
  },
  {
   "cell_type": "markdown",
   "id": "c55117aa",
   "metadata": {},
   "source": [
    "### [예제 4-32] : 관계 행렬을 이용한 역관계와 여관계"
   ]
  },
  {
   "cell_type": "code",
   "execution_count": 80,
   "id": "d830fad2",
   "metadata": {
    "scrolled": true
   },
   "outputs": [
    {
     "name": "stdout",
     "output_type": "stream",
     "text": [
      "[[1 1 1]\n",
      " [0 1 0]\n",
      " [0 0 1]]\n",
      "[[1 1 0]\n",
      " [0 1 0]\n",
      " [0 1 1]]\n",
      "--------------------------------------------------\n",
      "M_R 여관계:\n",
      "[[0 0 0]\n",
      " [1 0 1]\n",
      " [1 1 0]]\n",
      "M_R 역관계:\n",
      "[[1 0 0]\n",
      " [1 1 0]\n",
      " [1 0 1]]\n",
      "M_R∩M_S:\n",
      "[[1 1 0]\n",
      " [0 1 0]\n",
      " [0 0 1]]\n",
      "M_R∪M_S:\n",
      "[[1 1 1]\n",
      " [0 1 0]\n",
      " [0 1 1]]\n"
     ]
    }
   ],
   "source": [
    "import numpy as np\n",
    "\n",
    "A = {1,2,3}\n",
    "R = [(1,1),(1,2),(1,3),(2,2),(3,3)]\n",
    "S = [(1,1),(1,2),(2,2),(3,2),(3,3)]\n",
    "\n",
    "# 관계 행렬 만들기\n",
    "def makeRelationMatrix(A, B, R):    \n",
    "    import numpy as np\n",
    "    \n",
    "    datas = []\n",
    "    for a in A: # 행\n",
    "        data = []\n",
    "        for b in B: # 열\n",
    "            r = (a, b)\n",
    "            if r in R: \n",
    "                data.append(1)\n",
    "            else:\n",
    "                data.append(0)\n",
    "        datas.append(data)\n",
    "        \n",
    "    return np.array(datas)\n",
    "\n",
    "\n",
    "def getComplementaryRelation(matrix):\n",
    "    datas = []\n",
    "    r, c = matrix.shape\n",
    "    for i in range(r):\n",
    "        data = []\n",
    "        for j in range(c):\n",
    "            if matrix[i][j]==0: data.append(1) \n",
    "            else: data.append(0)\n",
    "        datas.append(data)\n",
    "    return np.array(datas)\n",
    "\n",
    "\n",
    "# 관계헹렬만들기\n",
    "M_R = makeRelationMatrix(A, A, R) \n",
    "M_S = makeRelationMatrix(A, A, S)\n",
    "print(M_R)\n",
    "print(M_S)\n",
    "\n",
    "print('-'*50)\n",
    "print('M_R 여관계:')\n",
    "print(getComplementaryRelation(M_R)) # 여행렬\n",
    "print('M_R 역관계:')\n",
    "print( M_R.T )                       # 전치행렬  A.transpose()\n",
    "\n",
    "print('M_R∩M_S:')\n",
    "print(M_R & M_S)\n",
    "print('M_R∪M_S:')\n",
    "print(M_R | M_S)"
   ]
  },
  {
   "cell_type": "markdown",
   "id": "662e3126",
   "metadata": {},
   "source": [
    "### [예제 4-36] : 합성 관계를 부울곱(논리곱)으로 계산하기"
   ]
  },
  {
   "cell_type": "code",
   "execution_count": 88,
   "id": "92c268a7",
   "metadata": {
    "scrolled": true
   },
   "outputs": [
    {
     "name": "stdout",
     "output_type": "stream",
     "text": [
      "[[1 0 1]\n",
      " [1 1 1]\n",
      " [0 1 0]]\n",
      "[[1 0 0]\n",
      " [0 1 1]\n",
      " [1 0 1]]\n",
      "[[2 0 1]\n",
      " [2 1 2]\n",
      " [0 1 1]]\n",
      "[('a', 'b'), ('a', 'c'), ('b', 'b'), ('c', 'a'), ('c', 'b'), ('c', 'c')]\n"
     ]
    }
   ],
   "source": [
    "import numpy as np\n",
    "\n",
    "A  = ['a','b','c']\n",
    "M_R= np.array([[1,0,1],[1,1,1],[0,1,0]])\n",
    "M_S= np.array([[1,0,0],[0,1,1],[1,0,1]])\n",
    "print(M_R)\n",
    "print(M_S)\n",
    "\n",
    "\n",
    "# 관계 행렬의 부울곱(논리곱) \n",
    "def getBooleanProduct(M_A, M_B):\n",
    "        return M_A @ M_B    # np.dot(x,y)\n",
    "\n",
    "    \n",
    "# 부울곱을 이용해 길이가 2인 경로 \n",
    "def getBooleanProductMatrix(matrix):\n",
    "    R2 = list()\n",
    "    r, c = matrix.shape\n",
    "    for i in range(r):\n",
    "        for j in range(c):\n",
    "            if matrix[i][j]<=1:\n",
    "                R2.append((A[i],A[j])) \n",
    "    return R2\n",
    "\n",
    "\n",
    "# 관계 행렬의 부울곱 만들기\n",
    "matrix = getBooleanProduct(M_R, M_S)\n",
    "print(matrix)\n",
    "\n",
    "# 합성 관계를 부울곱으로 계산한 결과\n",
    "R_S = getBooleanProductMatrix(matrix)\n",
    "print(R_S)"
   ]
  },
  {
   "cell_type": "markdown",
   "id": "af46c860",
   "metadata": {},
   "source": [
    "-------------------------------------"
   ]
  },
  {
   "cell_type": "markdown",
   "id": "6cc9e876",
   "metadata": {},
   "source": [
    "## 4-6: 연결 관계와 와샬 알고리즘"
   ]
  },
  {
   "cell_type": "markdown",
   "id": "a518efbc",
   "metadata": {},
   "source": [
    "### [예제 4-41] : 연결 관계와 추이 닫힘"
   ]
  },
  {
   "cell_type": "code",
   "execution_count": 97,
   "id": "27c9c4a6",
   "metadata": {},
   "outputs": [
    {
     "name": "stdout",
     "output_type": "stream",
     "text": [
      "유향그래프:\n"
     ]
    },
    {
     "data": {
      "image/png": "[encoded data removed]",
      "text/plain": [
       "<Figure size 432x288 with 1 Axes>"
      ]
     },
     "metadata": {},
     "output_type": "display_data"
    },
    {
     "name": "stdout",
     "output_type": "stream",
     "text": [
      "관계행렬(M)\n",
      "[[0 1 0 0]\n",
      " [1 0 1 0]\n",
      " [0 0 0 1]\n",
      " [0 0 0 0]]\n",
      "[[1 0 1 0]\n",
      " [0 1 0 1]\n",
      " [0 0 0 0]\n",
      " [0 0 0 0]]\n",
      "[[0 1 0 1]\n",
      " [1 0 1 0]\n",
      " [0 0 0 0]\n",
      " [0 0 0 0]]\n",
      "[[1 1 1 1]\n",
      " [1 1 1 1]\n",
      " [0 0 0 1]\n",
      " [0 0 0 0]]\n",
      "[(1, 1), (1, 2), (1, 3), (1, 4), (2, 1), (2, 2), (2, 3), (2, 4), (3, 4)]\n"
     ]
    }
   ],
   "source": [
    "A = [1, 2, 3, 4]\n",
    "R = [(1,2),(2,1),(2,3),(3,4)]\n",
    "\n",
    "\n",
    "# 유향 그래프 그리기\n",
    "def makeDirectGraph(A, R):\n",
    "    import networkx as nx\n",
    "    import matplotlib.pyplot as plt\n",
    "\n",
    "    G = nx.DiGraph()  # DirectedGraph(유향 그래프)\n",
    "\n",
    "    G.add_nodes_from(A) # 점 추가\n",
    "    G.add_edges_from(R) # 간선 추가\n",
    "\n",
    "    #그래프 그리기: 실행될 때마다 vertex(node)의 위치가 변경될 수 있다.)\n",
    "    print('유향그래프:')\n",
    "    nx.draw(G, with_labels=True)\n",
    "    plt.show()\n",
    "    \n",
    "\n",
    "# 관계 행렬 만들기\n",
    "def makeRelationMatrix(A, B, R):    \n",
    "    import numpy as np\n",
    "    \n",
    "    datas = []\n",
    "    for a in A: # 행\n",
    "        data = []\n",
    "        for b in B: # 열\n",
    "            r = (a, b)\n",
    "            if r in R: \n",
    "                data.append(1)\n",
    "            else:\n",
    "                data.append(0)\n",
    "        datas.append(data)\n",
    "        \n",
    "    return np.array(datas)\n",
    "\n",
    "\n",
    "# 길이가 2인 관계 행렬의 부울곱(논리곱) \n",
    "def getBooleanProduct(M_A, M_B):\n",
    "        return M_A @ M_B    # np.dot(x,y)\n",
    "\n",
    "    \n",
    "# 부울곱을 이용해 길이가 2인 경로 \n",
    "def getBooleanProductMatrix(matrix):\n",
    "    R2 = list()\n",
    "    r, c = matrix.shape\n",
    "    for i in range(r):\n",
    "        for j in range(c):\n",
    "            if matrix[i][j]==1:\n",
    "                R2.append((A[i],A[j])) \n",
    "    return R2\n",
    "\n",
    "\n",
    "makeDirectGraph(A, R)  # 유향 그래프 만들기\n",
    "matrix = makeRelationMatrix(A, A, R) # 관계행렬만들기\n",
    "print('관계행렬(M)')\n",
    "print(matrix)\n",
    "\n",
    "# 관계 행렬의 부울곱 만들기\n",
    "matrix2 = getBooleanProduct(matrix, matrix)\n",
    "print(matrix2)\n",
    "matrix3 = getBooleanProduct(matrix2, matrix)\n",
    "print(matrix3)\n",
    "matrix4 = matrix|matrix2|matrix3\n",
    "print(matrix4)\n",
    "\n",
    "# 부울곱을 이용해 길이가 2인 경로 출력하기\n",
    "R2 = getBooleanProductMatrix(matrix4)\n",
    "print(R2)\n"
   ]
  },
  {
   "cell_type": "markdown",
   "id": "005fe493",
   "metadata": {},
   "source": [
    "### [예제 4-42] : 와샬 알고리즘"
   ]
  },
  {
   "cell_type": "code",
   "execution_count": null,
   "id": "e262863e",
   "metadata": {},
   "outputs": [],
   "source": []
  }
 ],
 "metadata": {
  "kernelspec": {
   "display_name": "Python 3 (ipykernel)",
   "language": "python",
   "name": "python3"
  },
  "language_info": {
   "codemirror_mode": {
    "name": "ipython",
    "version": 3
   },
   "file_extension": ".py",
   "mimetype": "text/x-python",
   "name": "python",
   "nbconvert_exporter": "python",
   "pygments_lexer": "ipython3",
   "version": "3.9.7"
  }
 },
 "nbformat": 4,
 "nbformat_minor": 5
}
