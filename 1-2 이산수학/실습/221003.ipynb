{
 "cells": [
  {
   "cell_type": "code",
   "execution_count": 2,
   "id": "36be2647",
   "metadata": {},
   "outputs": [
    {
     "name": "stdout",
     "output_type": "stream",
     "text": [
      "{(2, 'y'), (2, 'x'), (3, 'y'), (3, 'x'), (1, 'x'), (1, 'y')}\n",
      "{('y', 2), ('x', 1), ('x', 3), ('y', 1), ('x', 2), ('y', 3)}\n",
      "집합 길이(원소개수): 6\n"
     ]
    }
   ],
   "source": [
    "import itertools\n",
    "\n",
    "A = {1, 2, 3}\n",
    "B = {'x', 'y'}\n",
    "\n",
    "AxB = set(itertools.product(A,B))\n",
    "BxA = set(itertools.product(B,A))\n",
    "\n",
    "print(AxB)\n",
    "print(BxA)\n",
    "print('집합 길이(원소개수):', len(AxB))"
   ]
  },
  {
   "cell_type": "code",
   "execution_count": null,
   "id": "122af32c",
   "metadata": {},
   "outputs": [],
   "source": []
  }
 ],
 "metadata": {
  "kernelspec": {
   "display_name": "Python 3 (ipykernel)",
   "language": "python",
   "name": "python3"
  },
  "language_info": {
   "codemirror_mode": {
    "name": "ipython",
    "version": 3
   },
   "file_extension": ".py",
   "mimetype": "text/x-python",
   "name": "python",
   "nbconvert_exporter": "python",
   "pygments_lexer": "ipython3",
   "version": "3.9.7"
  }
 },
 "nbformat": 4,
 "nbformat_minor": 5
}
