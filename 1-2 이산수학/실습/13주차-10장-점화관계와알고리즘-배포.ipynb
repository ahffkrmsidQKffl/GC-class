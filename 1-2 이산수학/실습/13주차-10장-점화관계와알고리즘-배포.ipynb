{
 "cells": [
  {
   "cell_type": "markdown",
   "id": "5da88f78",
   "metadata": {},
   "source": [
    "# 10장(점화관계와 알고리즘)-프로그래밍 실습"
   ]
  },
  {
   "cell_type": "markdown",
   "id": "c1da108a",
   "metadata": {},
   "source": [
    "## 10-1.점화 관계"
   ]
  },
  {
   "cell_type": "code",
   "execution_count": null,
   "id": "cbd9be81",
   "metadata": {},
   "outputs": [],
   "source": [
    "import math \n",
    "\n",
    "math.factorial(10)"
   ]
  },
  {
   "cell_type": "code",
   "execution_count": null,
   "id": "d0254537",
   "metadata": {},
   "outputs": [],
   "source": [
    "# 재귀함수 사용\n",
    "# if n > 1 : n * factorial_recursive(n-1)\n",
    "# else : 1\n",
    "def factorial_recursive(n):\n",
    "    return n * factorial_recursive(n-1) if n > 1 else 1\n",
    "\n",
    "factorial_recursive(10)"
   ]
  },
  {
   "cell_type": "markdown",
   "id": "f6b49d67",
   "metadata": {},
   "source": [
    "### [예제 10-1]  점화 관계: 피보나치 토끼 번식 문제"
   ]
  },
  {
   "cell_type": "code",
   "execution_count": null,
   "id": "ed6fcac3",
   "metadata": {},
   "outputs": [],
   "source": [
    "def Fibonacci_loop_rabbits(months, offsprings):\n",
    "    \n",
    "\n",
    "\n",
    "Fibonacci_loop_rabbits(12, 1)  # months, offsprings = 월, 자손"
   ]
  },
  {
   "cell_type": "markdown",
   "id": "64656fd7",
   "metadata": {},
   "source": [
    "### 피보나치 수열 : 반복문"
   ]
  },
  {
   "cell_type": "code",
   "execution_count": null,
   "id": "7347b3a4",
   "metadata": {},
   "outputs": [],
   "source": [
    "def fibonacci_loop(n):    \n",
    "    series = [1] # 초기값\n",
    "\n",
    "    while len(series) < n:\n",
    "        if len(series) == 1:\n",
    "            series.append(1)\n",
    "        else:\n",
    "            series.append(series[-1] + series[-2]) # 리스트의 index 이용\n",
    "\n",
    "    return series\n",
    "\n",
    "num = int(input(\"How many numbers do you need?: \"))\n",
    "print(fibonacci_loop(num))"
   ]
  },
  {
   "cell_type": "markdown",
   "id": "43a93ae3",
   "metadata": {},
   "source": [
    "### 피보나치 수열 : 재귀문"
   ]
  },
  {
   "cell_type": "code",
   "execution_count": null,
   "id": "a9d911c7",
   "metadata": {},
   "outputs": [],
   "source": [
    "def fibonacci(n):\n",
    "    if n in (0,1):\n",
    "        return n\n",
    "    else:\n",
    "        return fibonacci(n-1) + fibonacci(n-2)\n",
    "    \n",
    "num = int(input(\"How many numbers do you need?: \"))\n",
    "print(fibonacci(num))\n"
   ]
  },
  {
   "cell_type": "markdown",
   "id": "3cc3fa72",
   "metadata": {},
   "source": [
    "### [예제 10-2] 하노이 탑"
   ]
  },
  {
   "cell_type": "code",
   "execution_count": null,
   "id": "b143c0c3",
   "metadata": {
    "scrolled": true
   },
   "outputs": [],
   "source": [
    "answer = [] # 원판을 옮기는 순서를 담을 배열\n",
    "\n",
    "def moveHanoi_1(start, assist, end, n):\n",
    "\n",
    "    \n",
    "    \n",
    "num = int(input('원판 개수: '))\n",
    "moveHanoi_1(1, 2, 3, num)      #기둥번호(1 - 2 - 3 순) 원판개수\n",
    "print(f'원판 옮긴 횟수: {len(answer)}')\n"
   ]
  },
  {
   "cell_type": "code",
   "execution_count": null,
   "id": "bd4cdaea",
   "metadata": {},
   "outputs": [],
   "source": [
    "def moveHanoi_2(disk_num, start, end):\n",
    "    other = 6 - (start+end)\n",
    "    if disk_num == 1:\n",
    "        print(f'{disk_num} 번 디스크를 {start} 기둥에서 {end} 기둥으로 이동')\n",
    "        return 0\n",
    "    else:\n",
    "        moveHanoi_2(disk_num-1, start, other)\n",
    "        print(f'{disk_num} 번 디스크를 {start} 기둥에서 {end} 기둥으로 이동')\n",
    "        moveHanoi_2(disk_num-1, other, end)\n",
    "\n",
    "num = int(input('원판 개수: '))\n",
    "moveHanoi_2(num, 1, 3)   # 원판개수, start기둥, end기둥"
   ]
  },
  {
   "cell_type": "markdown",
   "id": "93a7fddd",
   "metadata": {},
   "source": [
    "### 알고리즘 시간 측정"
   ]
  },
  {
   "cell_type": "code",
   "execution_count": null,
   "id": "c0700d18",
   "metadata": {},
   "outputs": [],
   "source": [
    "import time \n",
    "\n",
    "num = int(input('원판 개수: '))\n",
    "answer = [] # 원판을 옮기는 순서를 담을 배열\n",
    "\n",
    "start = time.time()  # 시간 측정 시작\n",
    "moveHanoi_1(1, 2, 3, num) # 원판개수, 기둥번호(1 - 3 - 2 순) \n",
    "end = time.time()    # 시간 측정 종료\n",
    "\n",
    "print(f'원판 옮긴 횟수: {len(answer)}')\n",
    "print(f\"{end - start:.5f} sec\")\n",
    "\n"
   ]
  },
  {
   "cell_type": "markdown",
   "id": "20aa413e",
   "metadata": {},
   "source": [
    "--------------"
   ]
  },
  {
   "cell_type": "markdown",
   "id": "a616a2c8",
   "metadata": {},
   "source": [
    "## 10-2.알고리즘과 의사코드"
   ]
  },
  {
   "cell_type": "markdown",
   "id": "981ae896",
   "metadata": {},
   "source": [
    "-----"
   ]
  },
  {
   "cell_type": "markdown",
   "id": "d715c90a",
   "metadata": {},
   "source": [
    "## 10-3.알고리즘의 복잡도"
   ]
  },
  {
   "cell_type": "markdown",
   "id": "5541610d",
   "metadata": {},
   "source": [
    "- https://towardsdatascience.com/understanding-time-complexity-with-python-examples-2bda6e8158a7 "
   ]
  },
  {
   "cell_type": "markdown",
   "id": "f65415c9",
   "metadata": {},
   "source": [
    "------"
   ]
  },
  {
   "cell_type": "markdown",
   "id": "7f02949f",
   "metadata": {},
   "source": [
    "## 10-4.여러 가지 알고리즘"
   ]
  },
  {
   "cell_type": "markdown",
   "id": "7332573b",
   "metadata": {},
   "source": [
    "### 방정식의 해"
   ]
  },
  {
   "cell_type": "markdown",
   "id": "37cffe18",
   "metadata": {},
   "source": [
    "- https://pypi.org/project/sympy/"
   ]
  },
  {
   "cell_type": "code",
   "execution_count": null,
   "id": "fa3eaa8f",
   "metadata": {},
   "outputs": [],
   "source": [
    "!pip install sympy"
   ]
  },
  {
   "cell_type": "code",
   "execution_count": null,
   "id": "45abbbf0",
   "metadata": {},
   "outputs": [],
   "source": [
    "from sympy import Symbol\n",
    "\n",
    "help(Symbol)"
   ]
  },
  {
   "cell_type": "markdown",
   "id": "7f1000c4",
   "metadata": {},
   "source": [
    "### 방정식 $ax^2 + bx + c = 0$ 풀기"
   ]
  },
  {
   "cell_type": "code",
   "execution_count": null,
   "id": "d4c39a9d",
   "metadata": {},
   "outputs": [],
   "source": [
    "from sympy import symbols, solve\n",
    "\n",
    "x = symbols('x')\n",
    "a, b, c = symbols('a, b, c')\n",
    "\n",
    "equation= a * x**2 + b * x + c\n",
    "\n",
    "print( solve(equation, x, dict=True)  )# x에 대한 방정식 해 구하기\n",
    "print( solve(equation) )  # x를 지정하지 않으면 a에 대한 해가 구해진다. "
   ]
  },
  {
   "cell_type": "markdown",
   "id": "cf1e2300",
   "metadata": {},
   "source": [
    "### [예제 10-5]  방정식의 해 구하기\n",
    "- $2x^2+5x+3=0$"
   ]
  },
  {
   "cell_type": "code",
   "execution_count": null,
   "id": "662c422a",
   "metadata": {},
   "outputs": [],
   "source": [
    "from sympy import Symbol, solve \n",
    "\n"
   ]
  },
  {
   "cell_type": "markdown",
   "id": "71a9a1b3",
   "metadata": {},
   "source": [
    "- $x + 2y - 3 = 0$\n",
    "- $3x -y + 2 =0$"
   ]
  },
  {
   "cell_type": "code",
   "execution_count": null,
   "id": "9ff0480a",
   "metadata": {},
   "outputs": [],
   "source": [
    "from sympy import symbols\n",
    "\n",
    "x, y = symbols('x, y')\n",
    "equation1 = x + 2 * y - 3\n",
    "equation2 = 3 * x - y + 2\n",
    "solve((equation1, equation2), dict=True)"
   ]
  },
  {
   "cell_type": "markdown",
   "id": "db80e925",
   "metadata": {},
   "source": [
    "### [예제 10-6] 에라토스테네스의 체 : 소수(prime number) 구하기\n",
    " - 주의: 교재와 풀이방법이 살짝 다름"
   ]
  },
  {
   "cell_type": "code",
   "execution_count": null,
   "id": "c439c158",
   "metadata": {},
   "outputs": [],
   "source": [
    "def print_arr(arr): # 소수 출력하기\n",
    "    for i in range(len(arr)): \n",
    "        if i > 1 and arr[i] == True:\n",
    "            print(i, end=' ')\n",
    "    print()\n",
    "\n",
    "def is_prime_num(n): # 소수 구하기 위한 함수\n",
    "    arr = [True] * (n + 1) # 특정 수가 지워졌는지 아닌지 확인하기 위한 배열\n",
    "\n",
    "    for i in range(2, n + 1):\n",
    "        if arr[i] == True: # 특정 수가 지워지지 않았다면 (소수여서)\n",
    "            j = 2   # 배수를 지우기 위해\n",
    "\n",
    "            while (i * j) <= n:\n",
    "                arr[i*j] = False # i의 배수의 값을 False로 지워준다.\n",
    "                j += 1\n",
    "        print_arr(arr)\n",
    "    return arr\n",
    "\n",
    "\n",
    "arr = is_prime_num(50) # 50보다 작은 소수를 구하기 위한 함수\n",
    "print_arr(arr)         # 소수 출력하기"
   ]
  },
  {
   "cell_type": "markdown",
   "id": "d17fded0",
   "metadata": {},
   "source": [
    "### 소수 구하기"
   ]
  },
  {
   "cell_type": "markdown",
   "id": "f53e1f5e",
   "metadata": {},
   "source": [
    "### [예제 10-7] 약수 구하기"
   ]
  },
  {
   "cell_type": "code",
   "execution_count": null,
   "id": "36e24edc",
   "metadata": {},
   "outputs": [],
   "source": [
    "num = int(input(\"약수를 구할 수는?: \"))\n",
    "\n",
    "for i in range(1, num+1):\n",
    "    if num % i == 0:\n",
    "        # 약수임\n",
    "        print(i, end=' ')\n",
    "print()"
   ]
  },
  {
   "cell_type": "markdown",
   "id": "31893c3c",
   "metadata": {},
   "source": [
    "### [예제 10-8] 소수 판별 알고리즘"
   ]
  },
  {
   "cell_type": "code",
   "execution_count": null,
   "id": "67611fb9",
   "metadata": {},
   "outputs": [],
   "source": [
    "def is_prime_num(n):\n",
    "\n",
    "    \n",
    "\n",
    "n = int(input(\"소수 판별 숫자는: \"))\n",
    "print(f'{n}은' , '소수이다' if is_prime_num(n) else '소수가 아니다')"
   ]
  },
  {
   "cell_type": "markdown",
   "id": "93011f5d",
   "metadata": {},
   "source": [
    "####  약수의 대칭적 특성으로 인해 연산 횟수를 반으로 줄여줄 수 있다."
   ]
  },
  {
   "cell_type": "code",
   "execution_count": null,
   "id": "4a55a328",
   "metadata": {},
   "outputs": [],
   "source": [
    "import math\n",
    "\n",
    "def is_prime_num(n):\n",
    "    for i in range(2, int(math.sqrt(n))+1): # n의 제곱근을 정수화 시켜준 후 + 1\n",
    "        if n % i == 0:\n",
    "            return False # i로 나누어 떨어지면 소수가 아니므로 False 리턴\n",
    "    \n",
    "    return True # False가 리턴되지 않고 for문을 빠져나왔다면 소수이므로 True 리턴\n",
    "\n",
    "n = int(input(\"소수 판별 숫자는: \"))\n",
    "print('소수이다' if is_prime_num(n) else '소수가 아니다')    "
   ]
  },
  {
   "cell_type": "markdown",
   "id": "b83e9890",
   "metadata": {},
   "source": [
    "### 최대공약수 & 최소공배수 구하기"
   ]
  },
  {
   "cell_type": "markdown",
   "id": "254f602e",
   "metadata": {},
   "source": [
    "- 최대공약수: GCD(Greatest Common Divisor) 약수 중 공통이며 가장 큰 수\n",
    "--->  x, y의 최대공약수는 y, r의 최대공약수와 같다.(x % y = r (x를 y로 나눈 나머지 값은 == r) )\n",
    "- 최소공배수: LCM(Largest Common Multiple) 각 배수 중 공통이며 가장 작은 수 "
   ]
  },
  {
   "cell_type": "code",
   "execution_count": null,
   "id": "b1d60f31",
   "metadata": {},
   "outputs": [],
   "source": [
    "x = int(input('최대공약수를 위한 첫번째 숫자: '))\n",
    "y = int(input('최대공약수를 위한 두번째 숫자: '))\n",
    "\n",
    "# 최대 공약수\n",
    "for i in range(min(x,y), 0, -1):\n",
    "    if x % i == 0 and y % i == 0:\n",
    "        print(f'{x, y}의 최대공약수: {i}')\n",
    "        break\n"
   ]
  },
  {
   "cell_type": "code",
   "execution_count": null,
   "id": "deb5daab",
   "metadata": {},
   "outputs": [],
   "source": [
    "x = int(input('최소공배수를 위한 첫번째 숫자: '))\n",
    "y = int(input('최소공배수를 위한 두번째 숫자: '))\n",
    "\n",
    "# 최소 공배수\n",
    "for i in range(max(x, y), (x*y)+1):\n",
    "    if i % x == 0 and i % y == 0:\n",
    "        print(f'{x, y}의 최소공배수: {i}')\n",
    "        break"
   ]
  },
  {
   "cell_type": "markdown",
   "id": "c62da4f5",
   "metadata": {},
   "source": [
    "### 유클리드 알고리즘"
   ]
  },
  {
   "cell_type": "markdown",
   "id": "ef79e543",
   "metadata": {},
   "source": [
    "### [예제 10-9]  최대 공약수 구하기"
   ]
  },
  {
   "cell_type": "code",
   "execution_count": null,
   "id": "643e8ae5",
   "metadata": {},
   "outputs": [],
   "source": [
    "gcd = 0\n",
    "def find_gcd(a, b):\n",
    "    while b != 0:\n",
    "        q, r = (a // b), (a % b)\n",
    "        a, b = b, r \n",
    "        print(f'q: {q}, r: {r}, a: {a}, b: {b}')\n",
    "    gcd = 2\n",
    "    return gcd\n",
    "    \n",
    "find_gcd(190, 34)"
   ]
  },
  {
   "cell_type": "code",
   "execution_count": null,
   "id": "d4e8fe6a",
   "metadata": {},
   "outputs": [],
   "source": [
    "# 최대 공약수\n",
    "def GCD(x, y):\n",
    "    while y:\n",
    "        x, y = y, x % y\n",
    "    return x\n",
    "\n",
    "print(f'GCD: {GCD(190, 34)}')"
   ]
  },
  {
   "cell_type": "code",
   "execution_count": null,
   "id": "73eb03ef",
   "metadata": {},
   "outputs": [],
   "source": [
    "# 최소 공배수\n",
    "def LCM(x, y):\n",
    "    result = (x * y) / GCD(x, y)\n",
    "    return result\n",
    "           \n",
    "print(f'LCM: {LCM(190, 34)}')"
   ]
  },
  {
   "cell_type": "markdown",
   "id": "e039a5c4",
   "metadata": {},
   "source": [
    "### sympy.gcd() & sympy.lcm()\n",
    "- sympy.gcd(var1, var2)\n",
    "- sympy.lcm(var1, var2)"
   ]
  },
  {
   "cell_type": "code",
   "execution_count": null,
   "id": "0a271bd7",
   "metadata": {},
   "outputs": [],
   "source": [
    "import sympy\n",
    "\n",
    "print(f'GCD: {sympy.gcd(190, 34)}')\n",
    "print(f'LCM: {sympy.lcm(190, 34)}')"
   ]
  },
  {
   "cell_type": "markdown",
   "id": "93fd7db8",
   "metadata": {},
   "source": [
    "### math.gcd() & math.lcm()\n",
    "- math.gcd(): arguments 3개 이상은 파이썬 3.9 이상부터 가능 예상\n",
    "- math.lcm(): 함수는 파이썬 3.9 이상부터 가능"
   ]
  },
  {
   "cell_type": "code",
   "execution_count": null,
   "id": "f4b4a1e0",
   "metadata": {},
   "outputs": [],
   "source": [
    "import math\n",
    "\n",
    "print(f'GCD: {math.gcd(190, 34)}')\n",
    "\n",
    "#print(f'LCM: {math.lcm(190, 34)}')"
   ]
  },
  {
   "cell_type": "markdown",
   "id": "bc7abfbb",
   "metadata": {},
   "source": [
    "-------------------------------------"
   ]
  },
  {
   "cell_type": "markdown",
   "id": "015ea997",
   "metadata": {},
   "source": [
    "### 2원 1차 방정식에 대한 정수 해"
   ]
  },
  {
   "cell_type": "markdown",
   "id": "9e3b368c",
   "metadata": {},
   "source": [
    "### 디오판토스 선형 방정식\n",
    "- https://ko.wikipedia.org/wiki/%EB%94%94%EC%98%A4%ED%8C%90%ED%86%A0%EC%8A%A4_%EB%B0%A9%EC%A0%95%EC%8B%9D\n",
    "- https://docs.sympy.org/latest/modules/solvers/diophantine.html#diop-linear"
   ]
  },
  {
   "cell_type": "markdown",
   "id": "2b5aada1",
   "metadata": {},
   "source": [
    "### [예제 10-10] 2원 1차 방정식에 대한 정수 해\n"
   ]
  },
  {
   "cell_type": "code",
   "execution_count": null,
   "id": "7b1971ce",
   "metadata": {},
   "outputs": [],
   "source": [
    "from sympy.solvers.diophantine.diophantine import diop_linear\n",
    "from sympy.abc import x, y, z\n",
    "diop_linear(84*x + 55*y - 1) # 84x + 55y = 1 \n"
   ]
  },
  {
   "cell_type": "markdown",
   "id": "17234f95",
   "metadata": {},
   "source": [
    "### RAS 암호화"
   ]
  },
  {
   "cell_type": "markdown",
   "id": "32cc1993",
   "metadata": {},
   "source": [
    "### [예제 10-12] 암호화\n",
    "- [실습] 리스트나 딕셔너리를 이용하여 각자 암호화 해보기"
   ]
  },
  {
   "cell_type": "code",
   "execution_count": 1,
   "id": "445f9c2a",
   "metadata": {},
   "outputs": [
    {
     "ename": "IndentationError",
     "evalue": "expected an indented block (Temp/ipykernel_11664/1184459230.py, line 7)",
     "output_type": "error",
     "traceback": [
      "\u001b[1;36m  File \u001b[1;32m\"C:\\Users\\tksmd\\AppData\\Local\\Temp/ipykernel_11664/1184459230.py\"\u001b[1;36m, line \u001b[1;32m7\u001b[0m\n\u001b[1;33m    def decryption(words): #복호화\u001b[0m\n\u001b[1;37m    ^\u001b[0m\n\u001b[1;31mIndentationError\u001b[0m\u001b[1;31m:\u001b[0m expected an indented block\n"
     ]
    }
   ],
   "source": [
    "original = ' ABCDEFGHIJKLMNOPQRSTUVWXYZ'\n",
    "cypher = 'EIJFUAXVHWP CSRKOBTQYDMLZNG'\n",
    "\n",
    "def encryption(words):  # 암호화\n",
    "\n",
    "\n",
    "def decryption(words): #복호화\n",
    "\n",
    "    \n",
    "    \n",
    "word1 = 'SEND MONEY'\n",
    "word2 = 'SKRANEKRELIN'\n",
    "print(f'암호할 메시지:{word1} 암호화:{encryption(word1)}')    \n",
    "print(f'암호된 메시지:{word2} 복호화:{decryption(word2)}') "
   ]
  },
  {
   "cell_type": "markdown",
   "id": "2376bfe9",
   "metadata": {},
   "source": [
    "### 재귀적 알고리즘"
   ]
  },
  {
   "cell_type": "markdown",
   "id": "bbf91c9e",
   "metadata": {},
   "source": [
    "### [예제 10-13]: 피보나치 수열"
   ]
  },
  {
   "cell_type": "code",
   "execution_count": null,
   "id": "a6cb6e11",
   "metadata": {},
   "outputs": [],
   "source": [
    "def fibonacci(n):\n",
    "    if n in (0,1):\n",
    "        return n\n",
    "    else:\n",
    "        return fibonacci(n-1) + fibonacci(n-2)\n",
    "    \n",
    "num = int(input(\"How many numbers do you need?: \"))\n",
    "print(fibonacci(num))"
   ]
  },
  {
   "cell_type": "markdown",
   "id": "4611e9cc",
   "metadata": {},
   "source": [
    "### [예제 10-14]  1~N까지 자연수 합 구하기"
   ]
  },
  {
   "cell_type": "code",
   "execution_count": null,
   "id": "dea54db7",
   "metadata": {},
   "outputs": [],
   "source": [
    "def sum_recursive(n):\n",
    "    \n",
    "    \n",
    "\n",
    "n = int(input('1~N까지의 합구하기(N): '))\n",
    "sum_recursive(n)"
   ]
  },
  {
   "cell_type": "markdown",
   "id": "4c9f73d9",
   "metadata": {},
   "source": [
    "### [예제 10-15] 최대공약수 재귀 알고리즘"
   ]
  },
  {
   "cell_type": "code",
   "execution_count": null,
   "id": "707e76d1",
   "metadata": {},
   "outputs": [],
   "source": [
    "def gcd(a, b):\n",
    "#     if b == 0:\n",
    "#         return a\n",
    "#     else:\n",
    "#         return gcd(b, a % b)\n",
    "    return ?\n",
    "\n",
    "print(f'최대공약수 gcd: {gcd(190, 34)}')"
   ]
  },
  {
   "cell_type": "markdown",
   "id": "26c009d0",
   "metadata": {},
   "source": [
    "----------------------------"
   ]
  },
  {
   "cell_type": "markdown",
   "id": "174d9e8f",
   "metadata": {},
   "source": [
    "THE END"
   ]
  }
 ],
 "metadata": {
  "kernelspec": {
   "display_name": "Python 3 (ipykernel)",
   "language": "python",
   "name": "python3"
  },
  "language_info": {
   "codemirror_mode": {
    "name": "ipython",
    "version": 3
   },
   "file_extension": ".py",
   "mimetype": "text/x-python",
   "name": "python",
   "nbconvert_exporter": "python",
   "pygments_lexer": "ipython3",
   "version": "3.9.7"
  }
 },
 "nbformat": 4,
 "nbformat_minor": 5
}
