{
 "cells": [
  {
   "cell_type": "markdown",
   "id": "2079831a",
   "metadata": {},
   "source": [
    "# 6장(부분순서관계와 부울대수)-프로그래밍 실습"
   ]
  },
  {
   "cell_type": "markdown",
   "id": "70fa7040",
   "metadata": {},
   "source": [
    "## 6-1 부분 순서 관계"
   ]
  },
  {
   "cell_type": "markdown",
   "id": "01866376",
   "metadata": {},
   "source": [
    "### # 부분 순서 관계 확인\n",
    "- **관계 행렬**로 확인 가능\n",
    "1. **R의 반사관계 확인**: 주대각 원소가 모두 1?\n",
    "2. **R의 반대칭관계 확인**: 주대각 원소를 기준으로 마주보는 원소가 서로 다른 값?\n",
    "3. **R의 추이관계 확인**:  거듭제곱으로 관계행렬이 자신과 같은가?"
   ]
  },
  {
   "cell_type": "code",
   "execution_count": 116,
   "id": "718b605c",
   "metadata": {},
   "outputs": [
    {
     "name": "stdout",
     "output_type": "stream",
     "text": [
      "#관계행렬: \n",
      "[[1 1 1]\n",
      " [0 1 0]\n",
      " [0 0 1]]\n"
     ]
    }
   ],
   "source": [
    "import numpy as np\n",
    "\n",
    "# 이항관계 관계행렬 만들기\n",
    "def makeRelationMatrix(A, B, R):\n",
    "    datas = []\n",
    "    for a in A:\n",
    "        data = []\n",
    "        for b in B:\n",
    "            r = (a, b) \n",
    "            if r in R: data.append(1)\n",
    "            else: data.append(0)\n",
    "        datas.append(data)\n",
    "        \n",
    "    print(\"#관계행렬: \")\n",
    "    print(np.array(datas))\n",
    "    return np.array(datas)\n",
    "\n",
    "\n",
    "\n",
    "A = [1,2,3]  \n",
    "R = {(1,1),(1,2),(1,3),(2,2),(3,3)}\n",
    "\n",
    "# 이항관계 관계행렬 만들기\n",
    "matrix = makeRelationMatrix(A, A, R)"
   ]
  },
  {
   "cell_type": "markdown",
   "id": "9af3864e",
   "metadata": {},
   "source": [
    "- 대각성분 추출\n",
    "1. **R의 반사관계 확인**: 주대각 원소가 모두 1?"
   ]
  },
  {
   "cell_type": "code",
   "execution_count": 112,
   "id": "4c585b9c",
   "metadata": {},
   "outputs": [
    {
     "name": "stdout",
     "output_type": "stream",
     "text": [
      "반사관계이다\n"
     ]
    }
   ],
   "source": [
    "# 반사관계 확인: 대각성분이 모두 1인지 체크\n",
    "def isReflexiveRelation(matrix):\n",
    "#     print( '주대각원소: ', np.diagonal(matrix) )\n",
    "    for i in np.diagonal(matrix):\n",
    "        if i != 1: return False\n",
    "    return True    \n",
    "\n",
    "\n",
    "if isReflexiveRelation(matrix): \n",
    "    print('반사관계이다')\n",
    "else: \n",
    "    print('반사관계가 아니다')"
   ]
  },
  {
   "cell_type": "markdown",
   "id": "72344ec1",
   "metadata": {},
   "source": [
    "2. **R의 반대칭관계 확인**: 주대각 원소를 기준으로 마주보는 원소가 서로 다른 값?"
   ]
  },
  {
   "cell_type": "code",
   "execution_count": 105,
   "id": "b69e6211",
   "metadata": {},
   "outputs": [
    {
     "name": "stdout",
     "output_type": "stream",
     "text": [
      "반대칭관계이다\n"
     ]
    }
   ],
   "source": [
    "# 반대칭관계 확인: 주대각 원소를 기준으로 마주보는 원소가 서로 다른 값인지 체크\n",
    "def isAntiSymmetricRelation(matrix):\n",
    "    r, c = matrix.shape\n",
    "    for i in range(r):\n",
    "        for j in range(c):\n",
    "            if i != j and matrix[i][j] == 1 and matrix[j][i] == 1: \n",
    "                return False\n",
    "    return True    \n",
    "\n",
    "\n",
    "if isAntiSymmetricRelation(matrix): \n",
    "    print('반대칭관계이다')\n",
    "else: \n",
    "    print('반대칭관계가 아니다')"
   ]
  },
  {
   "cell_type": "markdown",
   "id": "322c71d7",
   "metadata": {},
   "source": [
    "3. **R의 추이관계 확인**:  거듭제곱으로 관계행렬이 자신과 같은가?"
   ]
  },
  {
   "cell_type": "code",
   "execution_count": 106,
   "id": "3097f95e",
   "metadata": {
    "scrolled": true
   },
   "outputs": [
    {
     "name": "stdout",
     "output_type": "stream",
     "text": [
      "추이관계이다\n"
     ]
    }
   ],
   "source": [
    "# 추이관계  확인\n",
    "def isTransitiveRelation(matrix):\n",
    "    r2 = matrix * matrix\n",
    "    r3 = matrix * matrix * matrix\n",
    "\n",
    "    if np.array_equal(matrix, r2) and np.array_equal(matrix, r3):\n",
    "        return True \n",
    "    else:\n",
    "        return False\n",
    "\n",
    "\n",
    "if isTransitiveRelation(matrix): \n",
    "    print('추이관계이다')\n",
    "else: \n",
    "    print('추이관계가 아니다')"
   ]
  },
  {
   "cell_type": "markdown",
   "id": "3e1043f1",
   "metadata": {},
   "source": [
    "- 부분 순서 관계 확인"
   ]
  },
  {
   "cell_type": "code",
   "execution_count": 122,
   "id": "642e8ce2",
   "metadata": {},
   "outputs": [],
   "source": [
    "# 부분순서관계 확인\n",
    "def isPartialOrderedRelation(matrix): \n",
    "    R_R = isReflexiveRelation(matrix)     # 반사관계\n",
    "    A_R = isAntiSymmetricRelation(matrix) # 반대칭관계\n",
    "    T_R = isTransitiveRelation(matrix)    # 추이관계\n",
    "    \n",
    "    if R_R and A_R and T_R:\n",
    "        print('부분순서관계 이다')\n",
    "        print(f'부분순서관계 여부: {True}')\n",
    "        return True\n",
    "    else:\n",
    "        print('부분순서관계 아니다')\n",
    "        print(f'부분순서관계 여부: {False}')\n",
    "        return False\n",
    "    "
   ]
  },
  {
   "cell_type": "code",
   "execution_count": 123,
   "id": "ea6c6be9",
   "metadata": {},
   "outputs": [
    {
     "name": "stdout",
     "output_type": "stream",
     "text": [
      "#관계행렬: \n",
      "[[1 1 1]\n",
      " [0 1 0]\n",
      " [0 0 1]]\n",
      "부분순서관계 이다\n",
      "부분순서관계 여부: True\n"
     ]
    }
   ],
   "source": [
    "A = [1,2,3]  \n",
    "R = {(1,1),(1,2),(1,3),(2,2),(3,3)}\n",
    "    \n",
    "# 이항관계 관계행렬 만들기\n",
    "matrix = makeRelationMatrix(A, A, R)\n",
    "\n",
    "# 부분순서관계 확인하기\n",
    "result = isPartialOrderedRelation(matrix)"
   ]
  },
  {
   "cell_type": "markdown",
   "id": "6d9e9fb3",
   "metadata": {},
   "source": [
    "- 유향그래프 그리기"
   ]
  },
  {
   "cell_type": "code",
   "execution_count": 113,
   "id": "59c22af2",
   "metadata": {},
   "outputs": [
    {
     "name": "stdout",
     "output_type": "stream",
     "text": [
      "유향그래프:\n"
     ]
    },
    {
     "data": {
      "image/png": "[encoded data removed]",
      "text/plain": [
       "<Figure size 432x288 with 1 Axes>"
      ]
     },
     "metadata": {},
     "output_type": "display_data"
    }
   ],
   "source": [
    "# 유향 그래프 그리기\n",
    "def makeDirectGraph(A, R):\n",
    "    import networkx as nx\n",
    "    import matplotlib.pyplot as plt\n",
    "\n",
    "    G = nx.DiGraph()  # DirectedGraph(유향 그래프)\n",
    "\n",
    "    G.add_nodes_from(A) # 점 추가\n",
    "    G.add_edges_from(R) # 간선 추가\n",
    "\n",
    "    #그래프 그리기: 실행될 때마다 vertex(node)의 위치가 변경될 수 있다.)\n",
    "    print('유향그래프:')\n",
    "    nx.draw(G, with_labels=True)\n",
    "    plt.show()\n",
    "    \n",
    "makeDirectGraph(A, R)  # 유행 그래프 만들기"
   ]
  },
  {
   "cell_type": "code",
   "execution_count": null,
   "id": "6e187deb",
   "metadata": {},
   "outputs": [],
   "source": [
    "# 역행렬\n",
    "# matrix = matrix.T"
   ]
  },
  {
   "cell_type": "markdown",
   "id": "d91edbff",
   "metadata": {},
   "source": [
    "### [실습] 사전식 정렬"
   ]
  },
  {
   "cell_type": "code",
   "execution_count": 128,
   "id": "1a02e98d",
   "metadata": {},
   "outputs": [
    {
     "name": "stdout",
     "output_type": "stream",
     "text": [
      "# 문자열 정렬\n",
      "['1', '3', '4', '5']\n",
      "1345\n",
      "# 알파벳 리스트 정렬\n",
      "['A', 'ABC', 'Abc', 'C', 'a', 'abc', 'abcd', 'acd', 'c']\n",
      "# 숫자포함 알파벳 리스트 정렬\n",
      "['1ABC', '2abcd', '3abc', 'A', 'Abc', 'C', 'a', 'ac4d', 'c']\n",
      "['help', 'helping']\n",
      "['helper', 'helping']\n"
     ]
    }
   ],
   "source": [
    "print('# 문자열 정렬')\n",
    "value = '1453'\n",
    "print(sorted(value))   #sorted(value, reverse=True)\n",
    "print(''.join(sorted(value)))\n",
    "\n",
    "print('# 알파벳 리스트 정렬')\n",
    "value = ['abc','ABC','Abc','abcd','acd','a','A','c','C']\n",
    "value.sort()          #value.reverse()\n",
    "print(value)\n",
    "\n",
    "print('# 숫자포함 알파벳 리스트 정렬')\n",
    "value = ['3abc','1ABC','Abc','2abcd','ac4d','a','A','c','C']\n",
    "value.sort()          #value.reverse()\n",
    "print(value)\n",
    "\n",
    "value = ['help','helping']\n",
    "value.sort() \n",
    "print(value)\n",
    "\n",
    "value = ['helper','helping']\n",
    "value.sort() \n",
    "print(value)"
   ]
  },
  {
   "cell_type": "markdown",
   "id": "ff87f453",
   "metadata": {},
   "source": [
    "#### A = {x, y, z} 멱집합 표현하기"
   ]
  },
  {
   "cell_type": "code",
   "execution_count": 115,
   "id": "97822af2",
   "metadata": {},
   "outputs": [
    {
     "name": "stdout",
     "output_type": "stream",
     "text": [
      "000 - set()\n",
      "001 - {'x'}\n",
      "010 - {'y'}\n",
      "011 - {'x', 'y'}\n",
      "100 - {'z'}\n",
      "101 - {'x', 'z'}\n",
      "110 - {'z', 'y'}\n",
      "111 - {'x', 'z', 'y'}\n",
      "# 멱집합 길이: 8\n"
     ]
    }
   ],
   "source": [
    "def powerSet(A):\n",
    "    A_size = len(A)\n",
    "    A_pow = []\n",
    "    A.reverse()\n",
    "    for i in range(2**A_size):\n",
    "        flag = bin(i)[2:].zfill(A_size)        \n",
    "        subset = {A[j] for j in range(A_size) if flag[j] == '1'}\n",
    "        print(f'{flag} - {subset}')        \n",
    "        A_pow.append(subset)\n",
    "    return A_pow\n",
    "\n",
    "A = {'x', 'y', 'z'}\n",
    "A = list(A)\n",
    "A.sort()\n",
    "\n",
    "powerSet = powerSet(A)\n",
    "print(f\"# 멱집합 길이: {len(powerSet)}\")"
   ]
  },
  {
   "cell_type": "markdown",
   "id": "5cfc262f",
   "metadata": {},
   "source": [
    "### [예제 6-5] 하세 도형 그리기\n",
    "A = {1,2,3,4,12}이고, A에 관한 부분순서관계는 아래과 같다.<br>\n",
    " a,b∈A에 대해서 a≤b <--> a|b (b는 a로 나누어 떨어진다)<br>\n",
    " \n",
    "1. 부분 순서 관계 확인하기  \n",
    "2. 하세도형 관계 만들기\n",
    "3. 하세도형 그리기"
   ]
  },
  {
   "cell_type": "markdown",
   "id": "5c6fa575",
   "metadata": {},
   "source": [
    "#### 1.부분 순서 관계 확인하기"
   ]
  },
  {
   "cell_type": "code",
   "execution_count": 129,
   "id": "7cfe1335",
   "metadata": {
    "scrolled": false
   },
   "outputs": [
    {
     "name": "stdout",
     "output_type": "stream",
     "text": [
      "A: {1, 2, 3, 4, 12}\n",
      "#관계 순서쌍\n",
      "[(1, 1), (1, 2), (1, 3), (1, 4), (1, 12), (2, 2), (2, 4), (2, 12), (3, 3), (3, 12), (4, 4), (4, 12), (12, 12)]\n",
      "#관계행렬: \n",
      "[[1 1 1 1 1]\n",
      " [0 1 0 1 1]\n",
      " [0 0 1 0 1]\n",
      " [0 0 0 1 1]\n",
      " [0 0 0 0 1]]\n",
      "부분순서관계 이다\n",
      "부분순서관계 여부: True\n"
     ]
    }
   ],
   "source": [
    "# 관계 순서쌍 만들기\n",
    "def makeRelationSet(A, B):\n",
    "    data = []\n",
    "    for a in A:\n",
    "        for b in B:\n",
    "            r = (a, b)\n",
    "            if (a <= b) and (b%a == 0) :\n",
    "                data.append(r)\n",
    "    print('#관계 순서쌍')\n",
    "    print(data)\n",
    "    return data\n",
    "\n",
    "\n",
    "A = {1,2,3,4,12}\n",
    "print(f'A: {A}')\n",
    "\n",
    "# 1-1.관계 순서쌍 만들기\n",
    "R = makeRelationSet(A, A)\n",
    "\n",
    "# 2-2.이항관계 관계행렬 만들기\n",
    "matrix = makeRelationMatrix(A, A, R)\n",
    "\n",
    "# 3.부분순서관계 확인하기\n",
    "result = isPartialOrderedRelation(matrix)\n"
   ]
  },
  {
   "cell_type": "markdown",
   "id": "ebb96c3c",
   "metadata": {},
   "source": [
    "#### 2.하세도형 관계(순서쌍) 만들기"
   ]
  },
  {
   "cell_type": "code",
   "execution_count": 227,
   "id": "282ac7f7",
   "metadata": {
    "scrolled": true
   },
   "outputs": [
    {
     "name": "stdout",
     "output_type": "stream",
     "text": [
      "#관계 순서쌍\n",
      "[(1, 1), (1, 2), (1, 3), (1, 4), (1, 12), (2, 2), (2, 4), (2, 12), (3, 3), (3, 12), (4, 4), (4, 12), (12, 12)]\n",
      "#반사관계 제거 순서쌍\n",
      "[(1, 2), (1, 3), (1, 4), (1, 12), (2, 4), (2, 12), (3, 12), (4, 12)]\n",
      "#추이관계 순서쌍\n",
      "[(1, 4), (1, 12), (2, 12)]\n",
      "# 하세도형 순서쌍\n",
      "[(1, 2), (1, 3), (2, 4), (3, 12), (4, 12)]\n"
     ]
    }
   ],
   "source": [
    "# 하세도형 순서쌍\n",
    "def makeHasseDiagram(A, R):    \n",
    "    \n",
    "    # 추이관계 순서쌍 만들기\n",
    "    data = []\n",
    "    for r in R:        \n",
    "        # 1.순회(self-loop) 제거\n",
    "        if r[0] == r[1]: continue\n",
    "        data.append(r)\n",
    "    print('#반사관계 제거 순서쌍') \n",
    "    print(data)        \n",
    "    \n",
    "    skip_data = []\n",
    "    for r in data:        \n",
    "        for r_ in data: \n",
    "            if r[1] == r_[0] and r_[0] < r_[1]:\n",
    "                t = (r[0], r_[1])\n",
    "                if (t in data) and (t not in skip_data): \n",
    "                    skip_data.append(t)\n",
    "    \n",
    "    print('#추이관계 순서쌍') \n",
    "    print(skip_data)\n",
    "    \n",
    "    \n",
    "    data = [] \n",
    "    for r in R:        \n",
    "        # 1.순회(self-loop) 제거\n",
    "        if r[0] == r[1]: continue            \n",
    "        # 2.추이관계 간선 제거\n",
    "        if r not in skip_data:   \n",
    "            data.append(r)    \n",
    "    \n",
    "    print('# 하세도형 순서쌍')\n",
    "    print(data)\n",
    "    return data\n",
    "\n",
    "A = {1,2,3,4,12}\n",
    "R = makeRelationSet(A, A) # 관계 순서쌍 만들기\n",
    "\n",
    "Result = makeHasseDiagram(A, R)"
   ]
  },
  {
   "cell_type": "markdown",
   "id": "1ba9fc60",
   "metadata": {},
   "source": [
    "#### 3. 하세도형 그리기 : 무향그래프 그리기"
   ]
  },
  {
   "cell_type": "code",
   "execution_count": 228,
   "id": "305a3f5e",
   "metadata": {},
   "outputs": [
    {
     "name": "stdout",
     "output_type": "stream",
     "text": [
      "#관계 순서쌍\n",
      "[(1, 1), (1, 2), (1, 3), (1, 4), (1, 12), (2, 2), (2, 4), (2, 12), (3, 3), (3, 12), (4, 4), (4, 12), (12, 12)]\n",
      "#반사관계 제거 순서쌍\n",
      "[(1, 2), (1, 3), (1, 4), (1, 12), (2, 4), (2, 12), (3, 12), (4, 12)]\n",
      "#추이관계 순서쌍\n",
      "[(1, 4), (1, 12), (2, 12)]\n",
      "# 하세도형 순서쌍\n",
      "[(1, 2), (1, 3), (2, 4), (3, 12), (4, 12)]\n",
      "#무향그래프:\n"
     ]
    },
    {
     "data": {
      "image/png": "[encoded data removed]",
      "text/plain": [
       "<Figure size 432x288 with 1 Axes>"
      ]
     },
     "metadata": {},
     "output_type": "display_data"
    }
   ],
   "source": [
    "# 무향 그래프 그리기\n",
    "def makeGraph(A, R):\n",
    "    import networkx as nx\n",
    "    import matplotlib.pyplot as plt\n",
    "\n",
    "    G = nx.Graph()  # UndirectedGraph(무향 그래프)\n",
    "\n",
    "    G.add_nodes_from(A) # 점 추가\n",
    "    G.add_edges_from(R) # 간선 추가\n",
    "\n",
    "    #그래프 그리기: 실행될 때마다 vertex(node)의 위치가 변경될 수 있다.)\n",
    "    print('#무향그래프:')\n",
    "    # 방법1: 기본 그래프\n",
    "#     nx.draw(G, with_labels=True)\n",
    "    # 방법2: 꾸민 그래프\n",
    "    nx.draw(G, with_labels=True, \n",
    "            node_color=\"tab:red\", node_size=800, # 노드\n",
    "            edge_color=\"tab:blue\", width=8,      # 에지\n",
    "            font_size=22, alpha=0.8)\n",
    "\n",
    "    plt.show()\n",
    "\n",
    "\n",
    "A = {1,2,3,4,12}\n",
    "R = makeRelationSet(A, A)       # 1.관계 순서쌍 만들기\n",
    "\n",
    "Result = makeHasseDiagram(A, R) # 2. 하세도형 관계 만들기\n",
    "\n",
    "makeGraph(A, Result)            # 3. 하세도형(무향 그래프) 그리기"
   ]
  },
  {
   "cell_type": "markdown",
   "id": "ce165609",
   "metadata": {},
   "source": [
    "### [실습] 하세도형 그리기"
   ]
  },
  {
   "cell_type": "code",
   "execution_count": 230,
   "id": "5f9be8ab",
   "metadata": {},
   "outputs": [
    {
     "name": "stdout",
     "output_type": "stream",
     "text": [
      "#반사관계 제거 순서쌍\n",
      "[(2, 4), (1, 2), (3, 4), (1, 4), (1, 3)]\n",
      "#추이관계 순서쌍\n",
      "[(1, 4)]\n",
      "# 하세도형 순서쌍\n",
      "[(2, 4), (1, 2), (3, 4), (1, 3)]\n",
      "#무향그래프:\n"
     ]
    },
    {
     "data": {
      "image/png": "[encoded data removed]",
      "text/plain": [
       "<Figure size 432x288 with 1 Axes>"
      ]
     },
     "metadata": {},
     "output_type": "display_data"
    }
   ],
   "source": [
    "A = {1,2,3,4,5}\n",
    "R = {(1,1),(1,2),(1,3),(1,4),(2,2),(2,4),(3,3),(3,4),(4,4)}\n",
    "\n",
    "Result = makeHasseDiagram(A, R)\n",
    "makeGraph(A, Result)"
   ]
  },
  {
   "cell_type": "code",
   "execution_count": 231,
   "id": "f8a61e3d",
   "metadata": {},
   "outputs": [
    {
     "name": "stdout",
     "output_type": "stream",
     "text": [
      "#반사관계 제거 순서쌍\n",
      "[('c', 'e'), ('a', 'd'), ('a', 'c'), ('b', 'd'), ('a', 'e'), ('b', 'e'), ('b', 'c'), ('c', 'd')]\n",
      "#추이관계 순서쌍\n",
      "[('a', 'e'), ('a', 'd'), ('b', 'e'), ('b', 'd')]\n",
      "# 하세도형 순서쌍\n",
      "[('c', 'e'), ('a', 'c'), ('b', 'c'), ('c', 'd')]\n",
      "#무향그래프:\n"
     ]
    },
    {
     "data": {
      "image/png": "[encoded data removed]",
      "text/plain": [
       "<Figure size 432x288 with 1 Axes>"
      ]
     },
     "metadata": {},
     "output_type": "display_data"
    }
   ],
   "source": [
    "A = {'a','b','c','d','e'}\n",
    "R = {('a','a'),('a','c'),('a','d'),('a','e'),\n",
    "     ('b','b'),('b','c'),('b','d'),('b','e'),\n",
    "     ('c','c'),('c','d'),('c','e'),\n",
    "     ('d','d'),('e','e')}\n",
    "\n",
    "Result = makeHasseDiagram(A, R)\n",
    "makeGraph(A, Result)"
   ]
  },
  {
   "cell_type": "markdown",
   "id": "572aee78",
   "metadata": {},
   "source": [
    "### [예제 6-7] 위상 정렬(Topological Sorting) \n",
    "- 하세도형의 위상 정렬(Topological Sorting) "
   ]
  },
  {
   "cell_type": "code",
   "execution_count": 232,
   "id": "79f793af",
   "metadata": {},
   "outputs": [
    {
     "name": "stdout",
     "output_type": "stream",
     "text": [
      "#무향그래프:\n"
     ]
    },
    {
     "data": {
      "image/png": "[encoded data removed]",
      "text/plain": [
       "<Figure size 432x288 with 1 Axes>"
      ]
     },
     "metadata": {},
     "output_type": "display_data"
    },
    {
     "name": "stdout",
     "output_type": "stream",
     "text": [
      "#유향그래프:\n"
     ]
    },
    {
     "data": {
      "image/png": "[encoded data removed]",
      "text/plain": [
       "<Figure size 432x288 with 1 Axes>"
      ]
     },
     "metadata": {},
     "output_type": "display_data"
    },
    {
     "name": "stdout",
     "output_type": "stream",
     "text": [
      "위상정렬: \n",
      "['a', 'b', 'd', 'c', 'e', 'f', 'g']\n"
     ]
    }
   ],
   "source": [
    "# 위상정렬 \n",
    "def makeTopologicalSorting(A, R):\n",
    "    import networkx as nx\n",
    "    import matplotlib.pyplot as plt\n",
    "\n",
    "    G = nx.DiGraph()  # UndirectedGraph(유향 그래프)\n",
    "\n",
    "    G.add_nodes_from(A) # 점 추가\n",
    "    G.add_edges_from(R) # 간선 추가\n",
    "    \n",
    "    print('#유향그래프:')\n",
    "    nx.draw(G, with_labels=True)\n",
    "    plt.show()\n",
    "    \n",
    "    #그래프 그리기: 실행될 때마다 vertex(node)의 위치가 변경될 수 있다.)\n",
    "    print('위상정렬: ')\n",
    "    print(list(nx.topological_sort(G)))\n",
    "\n",
    "A = {'a','b','c','d','e','f','g'}  \n",
    "R = {('a','b'),('a','c'),('a','d'),('b','e'),('c','g'),\n",
    "     ('d','e'),('e','f'),('f','g'),}\n",
    "\n",
    "\n",
    "makeGraph(A, R)               # 무향 그래프 만들기\n",
    "makeTopologicalSorting(A, R)  # 위상 정렬 \n",
    "\n"
   ]
  },
  {
   "cell_type": "markdown",
   "id": "79370881",
   "metadata": {},
   "source": [
    "---------------------"
   ]
  },
  {
   "cell_type": "markdown",
   "id": "ec495f78",
   "metadata": {},
   "source": [
    "## 6-2 부분 순서 집합의 상한과 하한"
   ]
  },
  {
   "cell_type": "markdown",
   "id": "837ed4a3",
   "metadata": {},
   "source": [
    "### [예제 6-12] 상한, 하한\n",
    "- 위상 정렬 값을 출력한 후 그 값에서 찾아본다."
   ]
  },
  {
   "cell_type": "code",
   "execution_count": 234,
   "id": "049b8e48",
   "metadata": {},
   "outputs": [
    {
     "name": "stdout",
     "output_type": "stream",
     "text": [
      "#무향그래프:\n"
     ]
    },
    {
     "data": {
      "image/png": "[encoded data removed]",
      "text/plain": [
       "<Figure size 432x288 with 1 Axes>"
      ]
     },
     "metadata": {},
     "output_type": "display_data"
    },
    {
     "name": "stdout",
     "output_type": "stream",
     "text": [
      "#유향그래프:\n"
     ]
    },
    {
     "data": {
      "image/png": "[encoded data removed]",
      "text/plain": [
       "<Figure size 432x288 with 1 Axes>"
      ]
     },
     "metadata": {},
     "output_type": "display_data"
    },
    {
     "name": "stdout",
     "output_type": "stream",
     "text": [
      "위상정렬: \n",
      "['b', 'a', 'c', 'e', 'd', 'f', 'g', 'h']\n"
     ]
    }
   ],
   "source": [
    "A = {'a','b','c','d','e','f','g','h'}  \n",
    "R = {('a','c'),('b','c'),('c','d'),('c','e'),('d','f'),('d','g'),\n",
    "     ('e','f'),('e','g'),('f','h'),('g','h'),}\n",
    "\n",
    "\n",
    "makeGraph(A, R)               # 무향 그래프 만들기\n",
    "makeTopologicalSorting(A, R)  # 위상 정렬 "
   ]
  },
  {
   "cell_type": "markdown",
   "id": "f9c3570a",
   "metadata": {},
   "source": [
    "-------------------------------------"
   ]
  },
  {
   "cell_type": "markdown",
   "id": "b9118dc0",
   "metadata": {},
   "source": [
    "## 6-3 격자"
   ]
  },
  {
   "cell_type": "markdown",
   "id": "617bbfc0",
   "metadata": {},
   "source": [
    "### 약수 구하기"
   ]
  },
  {
   "cell_type": "code",
   "execution_count": 243,
   "id": "a972ce32",
   "metadata": {},
   "outputs": [
    {
     "name": "stdout",
     "output_type": "stream",
     "text": [
      "20의 약수: [1, 2, 4, 5, 10, 20]\n",
      "30의 약수: [1, 2, 3, 5, 6, 10, 15, 30]\n"
     ]
    },
    {
     "data": {
      "text/plain": [
       "[1, 2, 3, 5, 6, 10, 15, 30]"
      ]
     },
     "execution_count": 243,
     "metadata": {},
     "output_type": "execute_result"
    }
   ],
   "source": [
    "def divisor(N): \n",
    "    result = [i for i in range(1,N+1) if N%i == 0]\n",
    "    \n",
    "    print(f'{N}의 약수: {result}')\n",
    "    return result\n",
    "\n",
    "N = 20\n",
    "divisor(N)\n",
    "\n",
    "N = 30\n",
    "divisor(N)        "
   ]
  },
  {
   "cell_type": "markdown",
   "id": "8b1ae555",
   "metadata": {},
   "source": [
    "### [예제 6-15] 격자"
   ]
  },
  {
   "cell_type": "code",
   "execution_count": 247,
   "id": "dded4744",
   "metadata": {},
   "outputs": [
    {
     "name": "stdout",
     "output_type": "stream",
     "text": [
      "20의 약수: [1, 2, 4, 5, 10, 20]\n",
      "#관계 순서쌍\n",
      "[(1, 1), (1, 2), (1, 4), (1, 5), (1, 10), (1, 20), (2, 2), (2, 4), (2, 10), (2, 20), (4, 4), (4, 20), (5, 5), (5, 10), (5, 20), (10, 10), (10, 20), (20, 20)]\n",
      "#반사관계 제거 순서쌍\n",
      "[(1, 2), (1, 4), (1, 5), (1, 10), (1, 20), (2, 4), (2, 10), (2, 20), (4, 20), (5, 10), (5, 20), (10, 20)]\n",
      "#추이관계 순서쌍\n",
      "[(1, 4), (1, 10), (1, 20), (2, 20), (5, 20)]\n",
      "# 하세도형 순서쌍\n",
      "[(1, 2), (1, 5), (2, 4), (2, 10), (4, 20), (5, 10), (10, 20)]\n",
      "#무향그래프:\n"
     ]
    },
    {
     "data": {
      "image/png": "[encoded data removed]",
      "text/plain": [
       "<Figure size 432x288 with 1 Axes>"
      ]
     },
     "metadata": {},
     "output_type": "display_data"
    }
   ],
   "source": [
    "# 관계 순서쌍 만들기\n",
    "def makeRelationSet(A, B):\n",
    "    data = []\n",
    "    for a in A:\n",
    "        for b in B:\n",
    "            r = (a, b)\n",
    "            if (a <= b) and (b%a == 0) :\n",
    "                data.append(r)\n",
    "    print('#관계 순서쌍')\n",
    "    print(data)\n",
    "    return data\n",
    "\n",
    "\n",
    "# 약수 만들기\n",
    "A = divisor(20)\n",
    "\n",
    "# 하세 도형 그리기\n",
    "R = makeRelationSet(A, A)       # 1.관계 순서쌍 만들기\n",
    "Result = makeHasseDiagram(A, R) # 2. 하세도형 관계 만들기\n",
    "makeGraph(A, Result)            # 3. 하세도형(무향 그래프) 그리기"
   ]
  },
  {
   "cell_type": "code",
   "execution_count": 248,
   "id": "162a6d9f",
   "metadata": {},
   "outputs": [
    {
     "name": "stdout",
     "output_type": "stream",
     "text": [
      "30의 약수: [1, 2, 3, 5, 6, 10, 15, 30]\n",
      "#관계 순서쌍\n",
      "[(1, 1), (1, 2), (1, 3), (1, 5), (1, 6), (1, 10), (1, 15), (1, 30), (2, 2), (2, 6), (2, 10), (2, 30), (3, 3), (3, 6), (3, 15), (3, 30), (5, 5), (5, 10), (5, 15), (5, 30), (6, 6), (6, 30), (10, 10), (10, 30), (15, 15), (15, 30), (30, 30)]\n",
      "#반사관계 제거 순서쌍\n",
      "[(1, 2), (1, 3), (1, 5), (1, 6), (1, 10), (1, 15), (1, 30), (2, 6), (2, 10), (2, 30), (3, 6), (3, 15), (3, 30), (5, 10), (5, 15), (5, 30), (6, 30), (10, 30), (15, 30)]\n",
      "#추이관계 순서쌍\n",
      "[(1, 6), (1, 10), (1, 30), (1, 15), (2, 30), (3, 30), (5, 30)]\n",
      "# 하세도형 순서쌍\n",
      "[(1, 2), (1, 3), (1, 5), (2, 6), (2, 10), (3, 6), (3, 15), (5, 10), (5, 15), (6, 30), (10, 30), (15, 30)]\n",
      "#무향그래프:\n"
     ]
    },
    {
     "data": {
      "image/png": "[encoded data removed]",
      "text/plain": [
       "<Figure size 432x288 with 1 Axes>"
      ]
     },
     "metadata": {},
     "output_type": "display_data"
    }
   ],
   "source": [
    "# 약수 만들기\n",
    "A = divisor(30)\n",
    "\n",
    "# 하세 도형 그리기\n",
    "R = makeRelationSet(A, A)       # 1.관계 순서쌍 만들기\n",
    "Result = makeHasseDiagram(A, R) # 2. 하세도형 관계 만들기\n",
    "makeGraph(A, Result)            # 3. 하세도형(무향 그래프) 그리기"
   ]
  },
  {
   "cell_type": "markdown",
   "id": "b89ced77",
   "metadata": {},
   "source": [
    "----------------------------"
   ]
  },
  {
   "cell_type": "markdown",
   "id": "95bff004",
   "metadata": {},
   "source": [
    "## 6-4 특별한 형태의 격자"
   ]
  },
  {
   "cell_type": "markdown",
   "id": "55597ad6",
   "metadata": {},
   "source": [
    "----------------------"
   ]
  },
  {
   "cell_type": "markdown",
   "id": "09839190",
   "metadata": {},
   "source": [
    "## 6-5 부울 대수"
   ]
  },
  {
   "cell_type": "markdown",
   "id": "e4b37b21",
   "metadata": {},
   "source": [
    "#### AND 게이트"
   ]
  },
  {
   "cell_type": "code",
   "execution_count": 258,
   "id": "22895f57",
   "metadata": {},
   "outputs": [
    {
     "name": "stdout",
     "output_type": "stream",
     "text": [
      "in : (0, 0)\n",
      "out: 0\n",
      "in : (0, 1)\n",
      "out: 0\n",
      "in : (1, 0)\n",
      "out: 0\n",
      "in : (1, 1)\n",
      "out: 1\n"
     ]
    }
   ],
   "source": [
    "#AND 게이트 구현\n",
    "def AND(x1, x2):\n",
    "    w1, w2, theta = 0.5, 0.5, 0.7\n",
    "    tmp = w1*x1 + w2*x2\n",
    "    if tmp <= theta : # 임계값\n",
    "        return 0\n",
    "    elif tmp > theta:\n",
    "        return 1\n",
    "\n",
    "R = [(0,0),(0,1),(1,0),(1,1)]\n",
    "for a, b in R:\n",
    "    print(f'in : {a, b}')\n",
    "    print(f'out: {AND(a, b)}')"
   ]
  },
  {
   "cell_type": "markdown",
   "id": "2d8c495e",
   "metadata": {},
   "source": [
    "### OR 게이트"
   ]
  },
  {
   "cell_type": "code",
   "execution_count": 257,
   "id": "64f59f1d",
   "metadata": {},
   "outputs": [
    {
     "name": "stdout",
     "output_type": "stream",
     "text": [
      "in : (0, 0)\n",
      "out: 0\n",
      "in : (0, 1)\n",
      "out: 1\n",
      "in : (1, 0)\n",
      "out: 1\n",
      "in : (1, 1)\n",
      "out: 1\n"
     ]
    }
   ],
   "source": [
    "#OR 게이트 구현\n",
    "def OR(x1,x2):\n",
    "    w1,w2,theta = 0.5,0.5,0.4\n",
    "    tmp = w1*x1 + w2*x2\n",
    "    if tmp <= theta : # 임계값\n",
    "        return 0\n",
    "    elif tmp > theta:\n",
    "        return 1\n",
    "\n",
    "R = [(0,0),(0,1),(1,0),(1,1)]\n",
    "for a, b in R:\n",
    "    print(f'in : {a, b}')\n",
    "    print(f'out: {OR(a, b)}')"
   ]
  },
  {
   "cell_type": "markdown",
   "id": "3a62959c",
   "metadata": {},
   "source": [
    "### Not AND 게이트"
   ]
  },
  {
   "cell_type": "code",
   "execution_count": 259,
   "id": "96f01e30",
   "metadata": {},
   "outputs": [
    {
     "name": "stdout",
     "output_type": "stream",
     "text": [
      "in : (0, 0)\n",
      "out: 1\n",
      "in : (0, 1)\n",
      "out: 1\n",
      "in : (1, 0)\n",
      "out: 1\n",
      "in : (1, 1)\n",
      "out: 0\n"
     ]
    }
   ],
   "source": [
    "#Not AND 게이트 구현\n",
    "def NAND(x1,x2):\n",
    "    w1,w2,theta = 0.5,0.5,0.7\n",
    "    tmp = w1*x1 + w2*x2\n",
    "    if tmp <= theta : # 임계값\n",
    "        return 1\n",
    "    elif tmp > theta:\n",
    "        return 0\n",
    "\n",
    "R = [(0,0),(0,1),(1,0),(1,1)]\n",
    "for a, b in R:\n",
    "    print(f'in : {a, b}')\n",
    "    print(f'out: {NAND(a, b)}')"
   ]
  },
  {
   "cell_type": "markdown",
   "id": "fb070019",
   "metadata": {},
   "source": [
    "### NOT 게이트"
   ]
  },
  {
   "cell_type": "code",
   "execution_count": 260,
   "id": "f6917cd2",
   "metadata": {},
   "outputs": [
    {
     "name": "stdout",
     "output_type": "stream",
     "text": [
      "in : 0\n",
      "out: 1\n",
      "in : 1\n",
      "out: 0\n"
     ]
    }
   ],
   "source": [
    "def NOT(x):\n",
    "    return NAND(x, x)\n",
    "\n",
    "R = [0, 1]\n",
    "for a in R:\n",
    "    print(f'in : {a}')\n",
    "    print(f'out: {NOT(a)}')"
   ]
  },
  {
   "cell_type": "markdown",
   "id": "4565819d",
   "metadata": {},
   "source": [
    "-----------------------"
   ]
  },
  {
   "cell_type": "markdown",
   "id": "da80cb22",
   "metadata": {},
   "source": [
    "## 6.6 2-비트 가산기의 설계"
   ]
  },
  {
   "cell_type": "markdown",
   "id": "74ea4b7a",
   "metadata": {},
   "source": [
    "### # 비트 연산자 종류\n",
    "| 기호 | 설명 |\n",
    "|---|---|\n",
    "| &   |   비트 AND |\n",
    "| |   |   비트 OR |\n",
    "| ~   |   비트 NOT |\n",
    "| ^   |   비트 XOR |\n",
    "| $>>$  |   비트 오른쪽 쉬프트 |\n",
    "| $<<$  |   비트 왼쪽 쉬프트 |"
   ]
  },
  {
   "cell_type": "markdown",
   "id": "c8f2fde7",
   "metadata": {},
   "source": [
    "#### # 비트 AND"
   ]
  },
  {
   "cell_type": "code",
   "execution_count": 277,
   "id": "7520978c",
   "metadata": {},
   "outputs": [
    {
     "name": "stdout",
     "output_type": "stream",
     "text": [
      "0b100\n",
      "4\n"
     ]
    }
   ],
   "source": [
    "print(bin(12 & 5))   #2진수 12와 5의 논리곱\n",
    "print(12 & 5)"
   ]
  },
  {
   "cell_type": "markdown",
   "id": "3dee7695",
   "metadata": {},
   "source": [
    "#### # 비트 OR"
   ]
  },
  {
   "cell_type": "code",
   "execution_count": 278,
   "id": "9d7f2b01",
   "metadata": {},
   "outputs": [
    {
     "name": "stdout",
     "output_type": "stream",
     "text": [
      "0b1101\n",
      "13\n"
     ]
    }
   ],
   "source": [
    "print(bin(12 | 5))  #2진수 12와 5의 논리합\n",
    "print(12 | 5)"
   ]
  },
  {
   "cell_type": "markdown",
   "id": "1d0c34a0",
   "metadata": {},
   "source": [
    "#### # 비트 NOT"
   ]
  },
  {
   "cell_type": "code",
   "execution_count": 279,
   "id": "3e73287c",
   "metadata": {},
   "outputs": [
    {
     "name": "stdout",
     "output_type": "stream",
     "text": [
      "-0b1101\n",
      "-13\n"
     ]
    }
   ],
   "source": [
    "print(bin(~12))   \n",
    "print(~12)"
   ]
  },
  {
   "cell_type": "markdown",
   "id": "02f15991",
   "metadata": {},
   "source": [
    "#### # 비트 XOR"
   ]
  },
  {
   "cell_type": "code",
   "execution_count": 280,
   "id": "10da9704",
   "metadata": {},
   "outputs": [
    {
     "name": "stdout",
     "output_type": "stream",
     "text": [
      "0b1001\n",
      "9\n"
     ]
    }
   ],
   "source": [
    "print(bin(12 ^ 5))\n",
    "print(12 ^ 5)"
   ]
  },
  {
   "cell_type": "markdown",
   "id": "991e1728",
   "metadata": {},
   "source": [
    "#### # 비트 오른쪽 쉬프트"
   ]
  },
  {
   "cell_type": "markdown",
   "id": "27b2ff80",
   "metadata": {},
   "source": [
    "print(bin(12 >> 2))\n",
    "print(12 >> 2)"
   ]
  },
  {
   "cell_type": "markdown",
   "id": "762040fd",
   "metadata": {},
   "source": [
    "#### # 비트 왼쪽 쉬프트"
   ]
  },
  {
   "cell_type": "code",
   "execution_count": 281,
   "id": "73b87b4e",
   "metadata": {},
   "outputs": [
    {
     "name": "stdout",
     "output_type": "stream",
     "text": [
      "0b110000\n",
      "48\n"
     ]
    }
   ],
   "source": [
    "print(bin(12 << 2))\n",
    "print(12 << 2)"
   ]
  },
  {
   "cell_type": "markdown",
   "id": "b63817b3",
   "metadata": {},
   "source": [
    "### # 비트 연산"
   ]
  },
  {
   "cell_type": "code",
   "execution_count": 264,
   "id": "24a5ec24",
   "metadata": {},
   "outputs": [
    {
     "data": {
      "text/plain": [
       "'0b11'"
      ]
     },
     "execution_count": 264,
     "metadata": {},
     "output_type": "execute_result"
    }
   ],
   "source": [
    "# 10진수를 2진수로\n",
    "bin(3) # oct(), hex()"
   ]
  },
  {
   "cell_type": "code",
   "execution_count": 263,
   "id": "7a3e40ba",
   "metadata": {},
   "outputs": [
    {
     "data": {
      "text/plain": [
       "'00000011'"
      ]
     },
     "execution_count": 263,
     "metadata": {},
     "output_type": "execute_result"
    }
   ],
   "source": [
    "#bin(3)\n",
    "bin(3)[2:].zfill(8)"
   ]
  },
  {
   "cell_type": "code",
   "execution_count": 266,
   "id": "4149fcba",
   "metadata": {},
   "outputs": [
    {
     "data": {
      "text/plain": [
       "4"
      ]
     },
     "execution_count": 266,
     "metadata": {},
     "output_type": "execute_result"
    }
   ],
   "source": [
    "# 2진수 계산\n",
    "0b01+0b11"
   ]
  },
  {
   "cell_type": "code",
   "execution_count": 275,
   "id": "cf979a3a",
   "metadata": {},
   "outputs": [
    {
     "data": {
      "text/plain": [
       "'0b100'"
      ]
     },
     "execution_count": 275,
     "metadata": {},
     "output_type": "execute_result"
    }
   ],
   "source": [
    "# 2진수 계산\n",
    "bin(1+3)"
   ]
  },
  {
   "cell_type": "code",
   "execution_count": 269,
   "id": "f6bef15c",
   "metadata": {},
   "outputs": [
    {
     "data": {
      "text/plain": [
       "4"
      ]
     },
     "execution_count": 269,
     "metadata": {},
     "output_type": "execute_result"
    }
   ],
   "source": [
    "# 2진수를 10진수로 변환\n",
    "int( bin(1+3), 2) "
   ]
  },
  {
   "cell_type": "code",
   "execution_count": 273,
   "id": "7e5f73a7",
   "metadata": {},
   "outputs": [
    {
     "data": {
      "text/plain": [
       "'0o22'"
      ]
     },
     "execution_count": 273,
     "metadata": {},
     "output_type": "execute_result"
    }
   ],
   "source": [
    "# 10진수를 8진수로 변환\n",
    "oct(18)"
   ]
  },
  {
   "cell_type": "code",
   "execution_count": 274,
   "id": "067e5b1a",
   "metadata": {},
   "outputs": [
    {
     "data": {
      "text/plain": [
       "18"
      ]
     },
     "execution_count": 274,
     "metadata": {},
     "output_type": "execute_result"
    }
   ],
   "source": [
    "# 8진수를 10진수로 변환\n",
    "int( oct(18), 8)"
   ]
  },
  {
   "cell_type": "markdown",
   "id": "158a90bf",
   "metadata": {},
   "source": [
    "---------------------------"
   ]
  },
  {
   "cell_type": "markdown",
   "id": "262b07f8",
   "metadata": {},
   "source": [
    "THE END"
   ]
  }
 ],
 "metadata": {
  "kernelspec": {
   "display_name": "Python 3 (ipykernel)",
   "language": "python",
   "name": "python3"
  },
  "language_info": {
   "codemirror_mode": {
    "name": "ipython",
    "version": 3
   },
   "file_extension": ".py",
   "mimetype": "text/x-python",
   "name": "python",
   "nbconvert_exporter": "python",
   "pygments_lexer": "ipython3",
   "version": "3.9.7"
  }
 },
 "nbformat": 4,
 "nbformat_minor": 5
}
