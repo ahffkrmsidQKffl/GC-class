{
 "cells": [
  {
   "cell_type": "markdown",
   "id": "bd2d669b",
   "metadata": {},
   "source": [
    "# 3장(집합)-프로그래밍 실습\n"
   ]
  },
  {
   "cell_type": "markdown",
   "id": "cf8665d3",
   "metadata": {},
   "source": [
    "## 3-1. 집합의 개념"
   ]
  },
  {
   "cell_type": "markdown",
   "id": "91d2ebba",
   "metadata": {},
   "source": [
    "### 파이썬에서의 집합(set) 자료형\n",
    "- ① 집합 자료는 키만 모아 놓은 딕셔너리의 특수한 형태\n",
    "- ② 딕셔너리의 키는 중복되면 안 되므로 세트에 들어 있는 값은 항상 유일\n",
    "- ③ 중복된 키는 자동으로 하나만 남음\n"
   ]
  },
  {
   "cell_type": "code",
   "execution_count": 3,
   "id": "54183759",
   "metadata": {},
   "outputs": [
    {
     "data": {
      "text/plain": [
       "(list, tuple, dict, set)"
      ]
     },
     "execution_count": 3,
     "metadata": {},
     "output_type": "execute_result"
    }
   ],
   "source": [
    "# 파이썬에서 여러 데이터를 담을 수 있는 자료형\n",
    "\n",
    "l = list()\n",
    "t = tuple()\n",
    "d = dict({'key':'value'})  \n",
    "s = set({1,2,3,4,5})\n",
    "\n",
    "type(l), type(t), type(d), type(s)"
   ]
  },
  {
   "cell_type": "markdown",
   "id": "7307a011",
   "metadata": {},
   "source": [
    "### 집합의 정의와 사용"
   ]
  },
  {
   "cell_type": "code",
   "execution_count": 23,
   "id": "18c811ff",
   "metadata": {
    "scrolled": true
   },
   "outputs": [
    {
     "name": "stdout",
     "output_type": "stream",
     "text": [
      "<class 'set'>\n",
      "<class 'set'>\n",
      "{1, 2, 3, 4}\n"
     ]
    }
   ],
   "source": [
    "mySet = set()      # 공집합\n",
    "print(type(mySet))\n",
    "\n",
    "mySet = {1,2,3,4,5}\n",
    "print(type(mySet))\n",
    "\n",
    "mySet = {1,2,2,3,3,4,4,4,}\n",
    "print(mySet)"
   ]
  },
  {
   "cell_type": "code",
   "execution_count": 24,
   "id": "3d9dcf46",
   "metadata": {},
   "outputs": [
    {
     "name": "stdout",
     "output_type": "stream",
     "text": [
      "{'o', 'e', 'H', 'l'}\n"
     ]
    }
   ],
   "source": [
    "mySet = set('Hello')\n",
    "print(mySet)"
   ]
  },
  {
   "cell_type": "markdown",
   "id": "2ebe400d",
   "metadata": {},
   "source": [
    "### 파이썬에서 집합 조건제시법으로 표현하는 방법"
   ]
  },
  {
   "cell_type": "code",
   "execution_count": 2,
   "id": "2796b1b5",
   "metadata": {},
   "outputs": [
    {
     "name": "stdout",
     "output_type": "stream",
     "text": [
      "{0, 1, 2, 3, 4, 5, 6, 7, 8, 9}\n",
      "{0, 4, 8, 12, 16}\n",
      "{32, 1, 2, 64, 4, 128, 256, 512, 8, 16}\n"
     ]
    }
   ],
   "source": [
    "N = set(range(10))\n",
    "# print(range(10))\n",
    "# print(N)\n",
    "evens = { 2 * n for n in N if n%2==0 }   # 짝수: {2n | n은 정수}\n",
    "powers = { 2 ** n for n in N }  # 순서가 없다.\n",
    "print(N)\n",
    "print(evens)\n",
    "print(powers)"
   ]
  },
  {
   "cell_type": "code",
   "execution_count": 4,
   "id": "e29f6fd7",
   "metadata": {},
   "outputs": [
    {
     "name": "stdout",
     "output_type": "stream",
     "text": [
      "집합의 원소들: {1, 2, 3, 4, 5, 6, 7, 8, 9, 10}\n",
      "집합의 크기: 10\n"
     ]
    }
   ],
   "source": [
    "A = {n for n in range(1,11)} # 10보다 작은 자연수의 모임\n",
    "print(f'집합의 원소들: {A}')\n",
    "print(f'집합의 크기: {len(A)}')"
   ]
  },
  {
   "cell_type": "markdown",
   "id": "45756aaf",
   "metadata": {},
   "source": [
    "### 집합의 길이(Cardinality)"
   ]
  },
  {
   "cell_type": "code",
   "execution_count": 1,
   "id": "34000df1",
   "metadata": {},
   "outputs": [
    {
     "name": "stdout",
     "output_type": "stream",
     "text": [
      "{1, 2, 3, 4, 5}\n",
      "5\n"
     ]
    }
   ],
   "source": [
    "mySet = {1,2,2,3,4,3,4,5}\n",
    "print(mySet)\n",
    "print(len(mySet))  # 길이"
   ]
  },
  {
   "cell_type": "code",
   "execution_count": 2,
   "id": "1dbb8cde",
   "metadata": {},
   "outputs": [
    {
     "name": "stdout",
     "output_type": "stream",
     "text": [
      "길이=3, 원소={'포도', '오렌지', '사과'}\n"
     ]
    }
   ],
   "source": [
    "mySet = {'사과','포도','오렌지','포도','포도'}\n",
    "print(f'길이={len(mySet)}, 원소={mySet}')"
   ]
  },
  {
   "cell_type": "markdown",
   "id": "71587621",
   "metadata": {},
   "source": [
    "### [예제 3-1] 집합의 원소"
   ]
  },
  {
   "cell_type": "code",
   "execution_count": 20,
   "id": "7afdbd1c",
   "metadata": {},
   "outputs": [
    {
     "name": "stdout",
     "output_type": "stream",
     "text": [
      "1는 S{1, 3, 5, 7, 9}의 원소이다\n",
      "2는 S{1, 3, 5, 7, 9}의 원소가 아니다\n",
      "3는 S{1, 3, 5, 7, 9}의 원소이다\n"
     ]
    }
   ],
   "source": [
    "S = {1, 3, 5, 7, 9}\n",
    "n = {1, 3, 2}\n",
    "\n",
    "for x in n:\n",
    "    if x in S :\n",
    "        print(f'{x}는 S{S}의 원소이다')\n",
    "    else:\n",
    "        print(f'{x}는 S{S}의 원소가 아니다')"
   ]
  },
  {
   "cell_type": "markdown",
   "id": "f8412cb5",
   "metadata": {},
   "source": [
    "### [예제 3-2] 집합의 표시"
   ]
  },
  {
   "cell_type": "code",
   "execution_count": 21,
   "id": "2ee70c46",
   "metadata": {},
   "outputs": [
    {
     "name": "stdout",
     "output_type": "stream",
     "text": [
      "원소나열법: {'t', 'y', 'e', 'b'}\n",
      "조건제시법: {'t', 'y', 'e', 'b'}\n"
     ]
    }
   ],
   "source": [
    "string = 'byte'\n",
    "\n",
    "# 원소나열별\n",
    "print(f'원소나열법: {set(string)}')\n",
    "\n",
    "# 조건제시법\n",
    "print(f'조건제시법: { { s for s in string } }')\n"
   ]
  },
  {
   "cell_type": "markdown",
   "id": "c9eff4ce",
   "metadata": {},
   "source": [
    "- 10보다 작거나 같은 자연수의 모임"
   ]
  },
  {
   "cell_type": "code",
   "execution_count": 11,
   "id": "51bb046b",
   "metadata": {},
   "outputs": [
    {
     "data": {
      "text/plain": [
       "{1, 2, 3, 4, 5, 6, 7, 8, 9, 10}"
      ]
     },
     "execution_count": 11,
     "metadata": {},
     "output_type": "execute_result"
    }
   ],
   "source": [
    "A = {1,2,3,4,5,6,7,8,9,10}    # 원소나열별\n",
    "A = {n for n in range(1,11)} # 조건제시법"
   ]
  },
  {
   "cell_type": "markdown",
   "id": "55647dee",
   "metadata": {},
   "source": [
    "### [예제 3-3] 집합의 크기"
   ]
  },
  {
   "cell_type": "code",
   "execution_count": 25,
   "id": "39930da8",
   "metadata": {},
   "outputs": [
    {
     "name": "stdout",
     "output_type": "stream",
     "text": [
      "5\n"
     ]
    }
   ],
   "source": [
    "S = {1, 3, 5, 7, 9}\n",
    "print( len(S)  )"
   ]
  },
  {
   "cell_type": "markdown",
   "id": "49972e9d",
   "metadata": {},
   "source": [
    "### [예제 3-7] 두 집합의 같음"
   ]
  },
  {
   "cell_type": "code",
   "execution_count": 18,
   "id": "41c835bf",
   "metadata": {},
   "outputs": [
    {
     "name": "stdout",
     "output_type": "stream",
     "text": [
      "True\n"
     ]
    }
   ],
   "source": [
    "A = {1, 2, 3}### [예제 3-7] 두 집합의 같음\n",
    "B = {x for x in range(1,13) if x**2 < 12}\n",
    "\n",
    "print(A==B)"
   ]
  },
  {
   "cell_type": "markdown",
   "id": "b2da91a6",
   "metadata": {},
   "source": [
    "### [예제 3-8] 두 집합의 같음"
   ]
  },
  {
   "cell_type": "code",
   "execution_count": 26,
   "id": "332d4ead",
   "metadata": {},
   "outputs": [
    {
     "name": "stdout",
     "output_type": "stream",
     "text": [
      "True\n"
     ]
    }
   ],
   "source": [
    "A = {'C','JAVA','파이썬'}\n",
    "B = {'파이썬','C','JAVA'}\n",
    "\n",
    "print(A==B)"
   ]
  },
  {
   "cell_type": "markdown",
   "id": "7fe65833",
   "metadata": {},
   "source": [
    "### 파이썬에서의 부분집합 관계 표시\n",
    "- 부등호 사용\n",
    "- 함수 사용: issubset(), issuperset()"
   ]
  },
  {
   "cell_type": "code",
   "execution_count": 36,
   "id": "f2323e44",
   "metadata": {},
   "outputs": [
    {
     "name": "stdout",
     "output_type": "stream",
     "text": [
      "True, True\n"
     ]
    }
   ],
   "source": [
    "A = {1,2,3,4,5,6,}\n",
    "B = {2,4,5}\n",
    "C = {1,2,3,4,5}\n",
    "\n",
    "print(f'{A>B}, {B.issubset(A)}')"
   ]
  },
  {
   "cell_type": "markdown",
   "id": "a98891e9",
   "metadata": {},
   "source": [
    "### [예제 3-10] 부분집합 관계 표시"
   ]
  },
  {
   "cell_type": "code",
   "execution_count": 5,
   "id": "05f86964",
   "metadata": {
    "scrolled": false
   },
   "outputs": [
    {
     "name": "stdout",
     "output_type": "stream",
     "text": [
      "A{1, 2, 3, 4, 5, 6}, B{2, 4, 5}\n",
      "B는 A의 부분집합이다\n",
      "\n",
      "B{2, 4, 5}, C{1, 2, 3, 4, 5}\n",
      "B는 C의 부분집합이다\n",
      "\n",
      "A{1, 2, 3, 4, 5, 6}, C{1, 2, 3, 4, 5}\n",
      "C는 A의 부분집합이다\n",
      "\n"
     ]
    }
   ],
   "source": [
    "def check_subset(s1, s2, name1, name2):\n",
    "    print(f'{name1}{s1}, {name2}{s2}')\n",
    "    \n",
    "    if s1 <= s2: \n",
    "        print(f'{name1}는 {name2}의 부분집합이다')\n",
    "    elif s1 >= s2: \n",
    "        print(f'{name2}는 {name1}의 부분집합이다')\n",
    "    else:\n",
    "        print(f'{name1}와 {name2}는 서로소이다')\n",
    "    print()\n",
    "\n",
    "A = {1,2,3,4,5,6,}\n",
    "B = {2,4,5}\n",
    "C = {1,2,3,4,5}\n",
    "\n",
    "check_subset(A, B, 'A', 'B')\n",
    "check_subset(B, C, 'B', 'C')\n",
    "check_subset(A, C, 'A', 'C')"
   ]
  },
  {
   "cell_type": "markdown",
   "id": "c7a32c57",
   "metadata": {},
   "source": [
    "### 파이썬에서 멱집합 출력하기\n",
    "- 멱집합의 길이: $2^n$\n",
    "- itertools의 combinations() 함수 사용\n",
    "- 반복문과 리스트 사용 "
   ]
  },
  {
   "cell_type": "markdown",
   "id": "28229c59",
   "metadata": {},
   "source": [
    "### [예제 3-14] 멱집합"
   ]
  },
  {
   "cell_type": "code",
   "execution_count": 58,
   "id": "ee8ce031",
   "metadata": {
    "scrolled": true
   },
   "outputs": [
    {
     "name": "stdout",
     "output_type": "stream",
     "text": [
      "[(), (1,), (2,), (3,), (1, 2), (1, 3), (2, 3), (1, 2, 3)]\n"
     ]
    }
   ],
   "source": [
    "import itertools\n",
    "\n",
    "A = {1, 2, 3}\n",
    "result = []\n",
    "\n",
    "for i in range(len(A)+1):\n",
    "    result += list(itertools.combinations(A,i))\n",
    "\n",
    "print(result)"
   ]
  },
  {
   "cell_type": "code",
   "execution_count": 67,
   "id": "e129820f",
   "metadata": {},
   "outputs": [
    {
     "name": "stdout",
     "output_type": "stream",
     "text": [
      "1\n",
      "-- [[], [1]]\n",
      "2\n",
      "-- [[], [1], [2]]\n",
      "-- [[], [1], [2], [1, 2]]\n",
      "4\n",
      "-- [[], [1], [2], [1, 2], [3]]\n",
      "-- [[], [1], [2], [1, 2], [3], [1, 3]]\n",
      "-- [[], [1], [2], [1, 2], [3], [1, 3], [2, 3]]\n",
      "-- [[], [1], [2], [1, 2], [3], [1, 3], [2, 3], [1, 2, 3]]\n",
      "최종:  [[], [1], [2], [1, 2], [3], [1, 3], [2, 3], [1, 2, 3]]\n"
     ]
    }
   ],
   "source": [
    "A = {1, 2, 3}\n",
    "subsets = [[]]\n",
    "\n",
    "for a in A:\n",
    "    size = len(subsets)\n",
    "    print(size)\n",
    "    for y in range(size):\n",
    "        subsets.append(subsets[y]+[a])\n",
    "        print('--',subsets)\n",
    "print('최종: ', subsets)"
   ]
  },
  {
   "cell_type": "markdown",
   "id": "6509361e",
   "metadata": {},
   "source": [
    "### 연습문제1 - 멱집합 만들기\n",
    "N값을 입력 받아서 N의 멱집합을 구하는 프로그램을 만들어 보시오"
   ]
  },
  {
   "cell_type": "code",
   "execution_count": 81,
   "id": "c33ffb73",
   "metadata": {
    "scrolled": true
   },
   "outputs": [
    {
     "name": "stdout",
     "output_type": "stream",
     "text": [
      "양의 정수를 입력하세요: 3\n",
      "000 - set()\n",
      "001 - {3}\n",
      "010 - {2}\n",
      "011 - {2, 3}\n",
      "100 - {1}\n",
      "101 - {1, 3}\n",
      "110 - {1, 2}\n",
      "111 - {1, 2, 3}\n",
      "멱집합의 원소 개수 =  8\n",
      "Result =  [set(), {3}, {2}, {2, 3}, {1}, {1, 3}, {1, 2}, {1, 2, 3}]\n"
     ]
    }
   ],
   "source": [
    "N = int(input('양의 정수를 입력하세요: '))\n",
    "\n",
    "powerset = []\n",
    "for i in range(2**N):  # 멱집합의 길이는 2**n\n",
    "    # bin(): 2진수르 만들어주는 함수\n",
    "    # bin(i)[2:]--> 앞의 0b를 제거하기 위해\n",
    "    # zfill(x): x자리수만큼 앞에서부터 0으로 채움\n",
    "    flag = bin(i)[2:].zfill(N)   \n",
    "\n",
    "    subset = {j for j in range(1, N+1) if flag[j-1] == '1'}\n",
    " \n",
    "    print(f'{flag} - {subset}')\n",
    "    powerset.append(subset)\n",
    "\n",
    "print(f'멱집합의 원소 개수 =  {len(powerset)}')\n",
    "print(f'Result =  {powerset}')"
   ]
  },
  {
   "cell_type": "code",
   "execution_count": 72,
   "id": "f1394632",
   "metadata": {
    "scrolled": true
   },
   "outputs": [
    {
     "name": "stdout",
     "output_type": "stream",
     "text": [
      "멱집합 길이: 8\n",
      "[[], [3], [2], [2, 3], [1], [1, 3], [1, 2], [1, 2, 3]]\n"
     ]
    }
   ],
   "source": [
    "def get_powerset(A):\n",
    "    size = len(A)\n",
    "    powerset = []\n",
    "    for i in range(2**size):\n",
    "        flag = bin(i)[2:].zfill(size)        \n",
    "        subset = [A[j] for j in range(size) if flag[j] == '1']        \n",
    "        powerset.append(subset)\n",
    "        \n",
    "    return powerset\n",
    "\n",
    "A = ['1','2','a','b','c']\n",
    "# A = [1, 2, 3]\n",
    "print(f\"멱집합 길이: {len(get_powerset(A))}\")\n",
    "print(f\"{get_powerset(A)}\")"
   ]
  },
  {
   "cell_type": "markdown",
   "id": "d9dd051a",
   "metadata": {},
   "source": [
    "------------------------------------------"
   ]
  },
  {
   "cell_type": "markdown",
   "id": "9b6a04ea",
   "metadata": {},
   "source": [
    "## 3-2. 집합의 연산"
   ]
  },
  {
   "cell_type": "markdown",
   "id": "566f2610",
   "metadata": {},
   "source": [
    "- **합집합**: A |B, B.union(A)\n",
    "- **교집합**: A & B, A.intersection(B)\n",
    "- **차집합**: A - B, A.difference(B)\n",
    "- **대칭차집합**: A ^ B"
   ]
  },
  {
   "cell_type": "markdown",
   "id": "759420f4",
   "metadata": {},
   "source": [
    "### 1. 합집합 : | union()"
   ]
  },
  {
   "cell_type": "markdown",
   "id": "dbea1551",
   "metadata": {},
   "source": [
    "### [예제 3-15] 합집합 연산"
   ]
  },
  {
   "cell_type": "code",
   "execution_count": 95,
   "id": "b394323f",
   "metadata": {},
   "outputs": [
    {
     "name": "stdout",
     "output_type": "stream",
     "text": [
      "A∪B: {'r', 's', 'e', 'b', 'c', 'a', 'd'}\n",
      "A∪B: {'r', 's', 'e', 'b', 'c', 'a', 'd'}\n",
      "A∪B: {'r', 's', 'e', 'b', 'c', 'a', 'd'}\n",
      "['a', 'b', 'c', 'd', 'e', 'r', 's']\n",
      "['a', 'b', 'c', 'd', 'e', 'r', 's']\n"
     ]
    }
   ],
   "source": [
    "A = {'a', 'b', 'c', 'd', 'e'}\n",
    "B = {'b', 'd', 'r', 's'}\n",
    "\n",
    "print(f'A∪B: {A | B}')\n",
    "print(f'A∪B: {B.union(A)}')\n",
    "print(f'A∪B: {A.union(B)}')\n",
    "\n",
    "print(sorted(A | B))   # sorted() 함수는 리스트로 출력된다.\n",
    "print(sorted(B.union(A)))"
   ]
  },
  {
   "cell_type": "markdown",
   "id": "b75d3fa7",
   "metadata": {},
   "source": [
    "### [예제 3-16] 합집합 연산"
   ]
  },
  {
   "cell_type": "code",
   "execution_count": 96,
   "id": "4ffe105f",
   "metadata": {},
   "outputs": [
    {
     "name": "stdout",
     "output_type": "stream",
     "text": [
      "[1, 2, 3, 6]\n",
      "[1, 2, 3, 6]\n"
     ]
    }
   ],
   "source": [
    "A1 = {1,2}\n",
    "A2 = {2,3}\n",
    "A3 = {1,2,3,6}\n",
    "\n",
    "print(sorted(A1 | A2 | A3))\n",
    "print(sorted(A3.union(A2.union(A1)) ))"
   ]
  },
  {
   "cell_type": "markdown",
   "id": "d2d71e27",
   "metadata": {},
   "source": [
    "### 2. 교집합 : & intersection()"
   ]
  },
  {
   "cell_type": "markdown",
   "id": "cfccfc57",
   "metadata": {},
   "source": [
    "### [예제 3-17] 교집합 연산"
   ]
  },
  {
   "cell_type": "code",
   "execution_count": 107,
   "id": "5fba9cde",
   "metadata": {},
   "outputs": [
    {
     "name": "stdout",
     "output_type": "stream",
     "text": [
      "A∩B: {'b'}\n",
      "A∩B: {'a'}\n",
      "A∩B: set()\n",
      "{'b'}\n",
      "{'a'}\n",
      "set()\n"
     ]
    }
   ],
   "source": [
    "A = {'a', 'b', 'c', 'e', 'f'}\n",
    "B = {'b', 'd', 'r', 's'}\n",
    "C = {'a', 't', 'u', 'v'}\n",
    "\n",
    "print(f'A∩B: {A & B}')\n",
    "print(f'A∩B: {A & C}')\n",
    "print(f'A∩B: {B & C}')\n",
    "\n",
    "print(A.intersection(B))\n",
    "print(A.intersection(C))\n",
    "print(B.intersection(C))"
   ]
  },
  {
   "cell_type": "markdown",
   "id": "7a29452a",
   "metadata": {},
   "source": [
    "### 서로소 집합(disjoint set)"
   ]
  },
  {
   "cell_type": "code",
   "execution_count": 111,
   "id": "fefa6e3e",
   "metadata": {},
   "outputs": [
    {
     "name": "stdout",
     "output_type": "stream",
     "text": [
      "A1{1, 2}과 A2{3, 4}는\n",
      "서로소이다\n"
     ]
    }
   ],
   "source": [
    "A1 = {1,2}\n",
    "A2 = {3,4}\n",
    "\n",
    "print(f'A1{A1}과 A2{A2}는' )\n",
    "if A1 & A2 == set():\n",
    "    print('서로소이다')\n",
    "else:\n",
    "    print('서로소가 아니다')"
   ]
  },
  {
   "cell_type": "markdown",
   "id": "f76494dc",
   "metadata": {},
   "source": [
    "### 분할\n",
    "A ∩ B = ∅ (배반인 두 집합에 대해여 : 교집합이 공집합)"
   ]
  },
  {
   "cell_type": "markdown",
   "id": "5c082689",
   "metadata": {},
   "source": [
    "### [예제 3-18] 분할 판별"
   ]
  },
  {
   "cell_type": "code",
   "execution_count": 108,
   "id": "7742dbae",
   "metadata": {
    "scrolled": true
   },
   "outputs": [
    {
     "name": "stdout",
     "output_type": "stream",
     "text": [
      "A1 ∪ A5 :['a', 'b', 'c', 'd', 'f', 'h']는\n",
      "S의 분할이 아니다\n",
      "A3 ∪ A4 ∪ A5 :['a', 'b', 'c', 'd', 'e', 'f', 'g', 'h']는\n",
      "- S의 분할이다\n",
      "set()\n"
     ]
    }
   ],
   "source": [
    "S = {'a', 'b', 'c', 'd', 'e', 'f','g','h'}\n",
    "A1= {'a', 'b', 'c', 'd'}\n",
    "A2= {'a', 'c', 'e', 'f', 'g', 'h'}\n",
    "A3= {'a', 'c', 'e', 'g'}\n",
    "A4= {'b', 'd'}\n",
    "A5= {'f', 'h'}\n",
    "\n",
    "print(f'A1 ∪ A5 :{sorted(A1 | A5)}는')\n",
    "if (A1 | A5) == S and (A1 & A5)=={}: \n",
    "    print('- S의 분할이다')\n",
    "else: \n",
    "    print('S의 분할이 아니다')\n",
    "\n",
    "    \n",
    "print(f'A3 ∪ A4 ∪ A5 :{sorted(A3 | A4 | A5)}는')\n",
    "if (A3 | A4 | A5) == S and A3&A4==set() and A4&A5==set() and A3&A5==set(): \n",
    "    print('- S의 분할이다')\n",
    "else: \n",
    "    print('S의 분할이 아니다')\n",
    "    \n",
    "print(A3&A4)"
   ]
  },
  {
   "cell_type": "markdown",
   "id": "61def58b",
   "metadata": {},
   "source": [
    "### 3. 차집합 : -, difference()"
   ]
  },
  {
   "cell_type": "markdown",
   "id": "dccff375",
   "metadata": {},
   "source": [
    "### [예제 3-20] 차집합 연산"
   ]
  },
  {
   "cell_type": "code",
   "execution_count": 113,
   "id": "56c123ad",
   "metadata": {},
   "outputs": [
    {
     "name": "stdout",
     "output_type": "stream",
     "text": [
      "{'c', 'f', 'e', 'a'}\n",
      "{'s', 'r', 'd'}\n",
      "{'c', 'f', 'e', 'a'}\n",
      "{'s', 'r', 'd'}\n"
     ]
    }
   ],
   "source": [
    "A = {'a', 'b', 'c', 'e', 'f'}\n",
    "B = {'b', 'd', 'r', 's'}\n",
    "\n",
    "print(A-B)\n",
    "print(B-A)\n",
    "\n",
    "print(A.difference(B)) \n",
    "print(B.difference(A)) "
   ]
  },
  {
   "cell_type": "markdown",
   "id": "58ab7dba",
   "metadata": {},
   "source": [
    "### 4. 여집합"
   ]
  },
  {
   "cell_type": "code",
   "execution_count": 114,
   "id": "42c107db",
   "metadata": {},
   "outputs": [
    {
     "name": "stdout",
     "output_type": "stream",
     "text": [
      "{1, 3, 5, 7, 9}\n"
     ]
    }
   ],
   "source": [
    "U = {1,2,3,4,5,6,7,8,9,10}\n",
    "A = {2, 4, 6, 8, 10}\n",
    "\n",
    " \n",
    "print(U - A)\n"
   ]
  },
  {
   "cell_type": "markdown",
   "id": "d10a39f3",
   "metadata": {},
   "source": [
    "### 5. 대칭차집합: ^ \n",
    "- (A - B) ∪ (B - A)\n",
    "- (A ∪ B) - (B ∩ A)"
   ]
  },
  {
   "cell_type": "markdown",
   "id": "b5d8b4b4",
   "metadata": {},
   "source": [
    "### [예제 3-22] 대칭 차집합 연산"
   ]
  },
  {
   "cell_type": "code",
   "execution_count": 116,
   "id": "79ae28bb",
   "metadata": {},
   "outputs": [
    {
     "name": "stdout",
     "output_type": "stream",
     "text": [
      "{'f', 'r', 's', 'c', 'e', 'a', 'd'}\n",
      "{'r', 's', 'e', 'f', 'c', 'a', 'd'}\n",
      "{'r', 's', 'e', 'f', 'c', 'a', 'd'}\n"
     ]
    }
   ],
   "source": [
    "A = {'a', 'b', 'c', 'e', 'f'}\n",
    "B = {'b', 'd', 'r', 's'}\n",
    "\n",
    "print((A-B)|(B-A))\n",
    "print((A|B)-(B&A))\n",
    "print(A ^ B)"
   ]
  },
  {
   "cell_type": "markdown",
   "id": "60004525",
   "metadata": {},
   "source": [
    "### 집합에 요소  추가  & 제거"
   ]
  },
  {
   "cell_type": "code",
   "execution_count": 119,
   "id": "a1b5890b",
   "metadata": {},
   "outputs": [
    {
     "name": "stdout",
     "output_type": "stream",
     "text": [
      "요소 한개 추가: add - None\n",
      "{1, 2, 3, 4, 5, 10}\n"
     ]
    }
   ],
   "source": [
    "# 요소 한개 추가하기\n",
    "A = {1, 2, 3, 4, 5}\n",
    "A.add(10)\n",
    "print(A)"
   ]
  },
  {
   "cell_type": "code",
   "execution_count": 120,
   "id": "692f0501",
   "metadata": {
    "scrolled": true
   },
   "outputs": [
    {
     "name": "stdout",
     "output_type": "stream",
     "text": [
      "{1, 2, 3, 4, 5, 6, 7, 8}\n"
     ]
    }
   ],
   "source": [
    "# 요소 여러 개 추가하기\n",
    "A = {1, 2, 3, 4, 5}\n",
    "A.update([6,7,8])\n",
    "print(A)"
   ]
  },
  {
   "cell_type": "code",
   "execution_count": 121,
   "id": "3587c46c",
   "metadata": {},
   "outputs": [
    {
     "name": "stdout",
     "output_type": "stream",
     "text": [
      "{1, 2, 4, 5}\n"
     ]
    }
   ],
   "source": [
    "# 요소 한 개 제거하기\n",
    "A = {1, 2, 3, 4, 5}\n",
    "A.remove(3)  \n",
    "print(A)"
   ]
  },
  {
   "cell_type": "markdown",
   "id": "7c8c4ecf",
   "metadata": {},
   "source": [
    "-----------------"
   ]
  },
  {
   "cell_type": "markdown",
   "id": "a7c1a6ab",
   "metadata": {},
   "source": [
    "## 3.3 집합의 대수적 성질"
   ]
  },
  {
   "cell_type": "markdown",
   "id": "d7c45492",
   "metadata": {},
   "source": [
    "#### 진리표를 이용하는 방법"
   ]
  },
  {
   "cell_type": "code",
   "execution_count": 127,
   "id": "79b6ab5e",
   "metadata": {
    "scrolled": true
   },
   "outputs": [
    {
     "name": "stdout",
     "output_type": "stream",
     "text": [
      "A\t B\t A∪B\t not(A∪B)\t notA\t notB\t notA∩notB\n",
      "False\t False\t False\t True\t\t True\t True\t True  \n",
      "False\t True\t True\t False\t\t True\t False\t False  \n",
      "True\t False\t True\t False\t\t False\t True\t False  \n",
      "True\t True\t True\t False\t\t False\t False\t False  \n"
     ]
    }
   ],
   "source": [
    "A = [False, False, True, True]\n",
    "B = [False, True, False, True]\n",
    "\n",
    "print(f'A\\t B\\t A∪B\\t not(A∪B)\\t notA\\t notB\\t notA∩notB')\n",
    "for a, b in zip(A, B):\n",
    "    print(f'{a}\\t {b}\\t {a|b}\\t {not(a|b)}\\t\\t {not a}\\t {not b}\\t {(not a)&(not b)}  ')"
   ]
  },
  {
   "cell_type": "code",
   "execution_count": null,
   "id": "1a3549e5",
   "metadata": {},
   "outputs": [],
   "source": []
  }
 ],
 "metadata": {
  "kernelspec": {
   "display_name": "Python 3 (ipykernel)",
   "language": "python",
   "name": "python3"
  },
  "language_info": {
   "codemirror_mode": {
    "name": "ipython",
    "version": 3
   },
   "file_extension": ".py",
   "mimetype": "text/x-python",
   "name": "python",
   "nbconvert_exporter": "python",
   "pygments_lexer": "ipython3",
   "version": "3.9.7"
  }
 },
 "nbformat": 4,
 "nbformat_minor": 5
}
