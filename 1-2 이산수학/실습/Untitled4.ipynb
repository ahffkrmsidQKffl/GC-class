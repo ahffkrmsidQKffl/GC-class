{
 "cells": [
  {
   "cell_type": "code",
   "execution_count": null,
   "id": "bae1fde4",
   "metadata": {},
   "outputs": [],
   "source": []
  },
  {
   "cell_type": "code",
   "execution_count": 5,
   "id": "fdf98ee1",
   "metadata": {
    "scrolled": true
   },
   "outputs": [
    {
     "name": "stdout",
     "output_type": "stream",
     "text": [
      "n=20, recursion(20)=6765\n"
     ]
    }
   ],
   "source": [
    "def recursion(n):\n",
    "    return recursion(n-1) + recursion(n-2) if n >= 3  else 1\n",
    "n = 20\n",
    "print(f'n={n}, recursion(20)={recursion(n)}')"
   ]
  },
  {
   "cell_type": "code",
   "execution_count": null,
   "id": "5feb0a6d",
   "metadata": {},
   "outputs": [],
   "source": []
  },
  {
   "cell_type": "code",
   "execution_count": 17,
   "id": "b7423cf9",
   "metadata": {},
   "outputs": [
    {
     "name": "stdout",
     "output_type": "stream",
     "text": [
      "암호화할 메시지:have to study 암호화 결과:GGGGEGGEGGGGG\n",
      "복호화할 메시지:UWQFTAYAESIYHASIYWFQ 복호화 결과:discrete mathematics\n"
     ]
    }
   ],
   "source": [
    "original = ' ABCDEFGHIJKLMNOPQRSTUVWXYZ'\n",
    "cypher = 'EIJFUAXVHWP CSRKOBTQYDMLZNG'\n",
    "def encryption(words): # 암호화\n",
    "    message = ''\n",
    "    for c in words:\n",
    "        idx = original.find(c)\n",
    "        message += cypher[idx]\n",
    "    return message\n",
    "\n",
    "def decryption(words): #복호화\n",
    "    message = ''\n",
    "    for c in words:\n",
    "        idx = cypher.find(c)\n",
    "        message += original[idx]\n",
    "    return message\n",
    "\n",
    "\n",
    "word1 = 'have to study'\n",
    "word2 = 'UWQFTAYAESIYHASIYWFQ'\n",
    "print(f'암호화할 메시지:{word1} 암호화 결과:{encryption(word1).upper()}')    \n",
    "print(f'복호화할 메시지:{word2} 복호화 결과:{decryption(word2).lower()}') "
   ]
  },
  {
   "cell_type": "code",
   "execution_count": null,
   "id": "20185449",
   "metadata": {},
   "outputs": [],
   "source": []
  },
  {
   "cell_type": "code",
   "execution_count": 25,
   "id": "c8f2fa4c",
   "metadata": {},
   "outputs": [
    {
     "name": "stdout",
     "output_type": "stream",
     "text": [
      "#유향 그래프 인접행렬:\n",
      "{(1, 2), (3, 4), (5, 4), (6, 4), (1, 4), (4, 2), (2, 3), (5, 6), (1, 6)}\n",
      "[[0 1 0 1 0 1]\n",
      " [0 0 1 0 0 0]\n",
      " [0 0 0 1 0 0]\n",
      " [0 1 0 0 0 0]\n",
      " [0 0 0 1 0 1]\n",
      " [0 0 0 1 0 0]]\n",
      "\n",
      "#유향 그래프 연결리스트:\n",
      "v[1]의 연결 리스트 =  [2, 4, 6]\n",
      "v[2]의 연결 리스트 =  [3]\n",
      "v[3]의 연결 리스트 =  [4]\n",
      "v[4]의 연결 리스트 =  [2]\n",
      "v[5]의 연결 리스트 =  [4, 6]\n",
      "v[6]의 연결 리스트 =  [4]\n"
     ]
    },
    {
     "data": {
      "text/plain": [
       "[[2, 4, 6], [3], [4], [2], [4, 6], [4]]"
      ]
     },
     "execution_count": 25,
     "metadata": {},
     "output_type": "execute_result"
    }
   ],
   "source": [
    "import numpy as np\n",
    "\n",
    "# 숫자 순서쌍으로 변환\n",
    "def convertEdgeToNum(V, E):\n",
    "    # 만약 V 원소가 String일 경우 숫자 순서쌍으로 변환하기\n",
    "    if any(isinstance(v, str) for v in V):\n",
    "        data  = { v:idx+1 for idx, v in enumerate(V) }  # V 원소 숫자로 표시\n",
    "        result= [(data[v1], data[v2])  for v1, v2 in E] # E 순서쌍으로 표시    \n",
    "        return result\n",
    "    else:\n",
    "        return E\n",
    "\n",
    "def makeMatirx(V, E):\n",
    "    \n",
    "    # 만약 V 원소가 String일 경우 숫자 순서쌍으로 변환하기\n",
    "    E = convertEdgeToNum(V, E)\n",
    "    print(E)\n",
    "\n",
    "    # 빈(0) 행렬 만들기\n",
    "    adj = [[0 for _ in range(len(V))] for _ in range(len(V))]\n",
    "\n",
    "    # 인접 행렬 만들기\n",
    "    for t in E:\n",
    "        src, dest = t\n",
    "        adj[src-1][dest-1] = 1\n",
    "\n",
    "    print(np.array(adj) )        \n",
    "    return np.array(adj) \n",
    "\n",
    "V = {1,2,3,4,5,6}\n",
    "E = {(1,2),(1,4),(1,6),(2,3),(3,4),(4,2),(5,4),(5,6),(6,4)} \n",
    "\n",
    "print('#유향 그래프 인접행렬:')\n",
    "makeMatirx(V, E)  # 유향 그래프 인접행렬\n",
    "\n",
    "# 연결리스트 만들기\n",
    "def makeLinkedList(V, E):\n",
    "    \n",
    "    # 만약 V 원소가 String일 경우 숫자 순서쌍으로 변환하기\n",
    "    E = convertEdgeToNum(V, E)\n",
    "    \n",
    "    adj = [[] for _ in range(len(V))]\n",
    "\n",
    "    for t in E:\n",
    "        src, dest = t    \n",
    "        \n",
    "        adj[src-1].append(dest)\n",
    "    \n",
    "    # 연결 리스트 출력하기\n",
    "    if isinstance(V, str): # V 원소가 문자인 경우\n",
    "        for idx, v in enumerate(adj):\n",
    "            v.sort()\n",
    "            print(f'v[{V[idx]}]의 연결 리스트 =  {V[v-1]}')\n",
    "    else:\n",
    "        for idx, v in enumerate(adj):\n",
    "            v.sort()\n",
    "            print(f'v[{idx+1}]의 연결 리스트 =  {v}')\n",
    "        \n",
    "    return adj\n",
    "\n",
    "print()\n",
    "print('#유향 그래프 연결리스트:')\n",
    "makeLinkedList(V, E)  # 유향 그래프 인접행렬"
   ]
  },
  {
   "cell_type": "code",
   "execution_count": null,
   "id": "5d7d34ba",
   "metadata": {},
   "outputs": [],
   "source": []
  }
 ],
 "metadata": {
  "kernelspec": {
   "display_name": "Python 3 (ipykernel)",
   "language": "python",
   "name": "python3"
  },
  "language_info": {
   "codemirror_mode": {
    "name": "ipython",
    "version": 3
   },
   "file_extension": ".py",
   "mimetype": "text/x-python",
   "name": "python",
   "nbconvert_exporter": "python",
   "pygments_lexer": "ipython3",
   "version": "3.9.7"
  }
 },
 "nbformat": 4,
 "nbformat_minor": 5
}
