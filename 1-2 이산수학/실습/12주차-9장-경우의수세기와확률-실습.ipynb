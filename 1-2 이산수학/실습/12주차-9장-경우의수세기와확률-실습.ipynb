{
 "cells": [
  {
   "cell_type": "markdown",
   "id": "5da88f78",
   "metadata": {},
   "source": [
    "# 9장(경우의 수 세기와 확률)-실습"
   ]
  },
  {
   "cell_type": "markdown",
   "id": "c1da108a",
   "metadata": {},
   "source": [
    "## 9-1.세기의 기본 원리"
   ]
  },
  {
   "cell_type": "markdown",
   "id": "f023f7c9",
   "metadata": {},
   "source": [
    "--------------------------------"
   ]
  },
  {
   "cell_type": "markdown",
   "id": "abc510cc",
   "metadata": {},
   "source": [
    "## 9-2.순열과 조합\n",
    "\n",
    "- https://docs.python.org/ko/3/library/itertools.html"
   ]
  },
  {
   "cell_type": "markdown",
   "id": "b725e978",
   "metadata": {},
   "source": [
    "### [예제 9-9] 중복 순열"
   ]
  },
  {
   "cell_type": "code",
   "execution_count": 14,
   "id": "0f455fac",
   "metadata": {},
   "outputs": [
    {
     "name": "stdout",
     "output_type": "stream",
     "text": [
      "중복 순열 경우의 수: 64\n"
     ]
    }
   ],
   "source": [
    "import itertools\n",
    "\n",
    "S = {'x','y','z','w'}  \n",
    "S = 'xyzw'\n",
    "\n",
    "R = list(itertools.product(S, repeat=3))\n",
    "\n",
    "print(f'중복 순열 경우의 수: {len(R)}')\n",
    "for r in R : print(''.join(r))"
   ]
  },
  {
   "cell_type": "markdown",
   "id": "8e77fa72",
   "metadata": {},
   "source": [
    "### [예제 9-11] 중복 조합"
   ]
  },
  {
   "cell_type": "code",
   "execution_count": 18,
   "id": "eb09b673",
   "metadata": {},
   "outputs": [
    {
     "name": "stdout",
     "output_type": "stream",
     "text": [
      "중복 조합 경우의 수: 20\n"
     ]
    }
   ],
   "source": [
    "import itertools\n",
    "\n",
    "S = {'x','y','z','w'}  \n",
    "S = 'xyzw'\n",
    "\n",
    "R = list(itertools.combinations_with_replacement(S, 3))\n",
    "\n",
    "print(f'중복 조합 경우의 수: {len(R)}')"
   ]
  },
  {
   "cell_type": "markdown",
   "id": "3db50fa6",
   "metadata": {},
   "source": [
    "### [예제 9-12] 순열"
   ]
  },
  {
   "cell_type": "code",
   "execution_count": 20,
   "id": "8ea37ea7",
   "metadata": {},
   "outputs": [
    {
     "name": "stdout",
     "output_type": "stream",
     "text": [
      "순열 경우의 수: 24\n"
     ]
    }
   ],
   "source": [
    "import itertools\n",
    "\n",
    "S = 'xyzw'\n",
    "\n",
    "R = list(itertools.permutations(S, 3))\n",
    "\n",
    "print(f'순열 경우의 수: {len(R)}')"
   ]
  },
  {
   "cell_type": "markdown",
   "id": "3dbcb128",
   "metadata": {},
   "source": [
    "### Factorial 알고리즘 나타내기"
   ]
  },
  {
   "cell_type": "code",
   "execution_count": 26,
   "id": "fae4f822",
   "metadata": {},
   "outputs": [
    {
     "data": {
      "text/plain": [
       "120"
      ]
     },
     "execution_count": 26,
     "metadata": {},
     "output_type": "execute_result"
    }
   ],
   "source": [
    "# 단순 반복 함수로 구현\n",
    "def factorial_for(n):\n",
    "    ret = 1\n",
    "    for i in range(1, n+1):        \n",
    "        ret *= i\n",
    "    return ret\n",
    "\n",
    "factorial_for(5)"
   ]
  },
  {
   "cell_type": "code",
   "execution_count": 43,
   "id": "3cd608a4",
   "metadata": {},
   "outputs": [
    {
     "data": {
      "text/plain": [
       "120"
      ]
     },
     "execution_count": 43,
     "metadata": {},
     "output_type": "execute_result"
    }
   ],
   "source": [
    "# 재귀함수 사용\n",
    "# if n > 1 : n * factorial_recursive(n-1)\n",
    "# else : 1\n",
    "def factorial_recursive(n):\n",
    "    return n * factorial_recursive(n-1) if n > 1 else 1\n",
    "\n",
    "factorial_recursive(5)"
   ]
  },
  {
   "cell_type": "code",
   "execution_count": 28,
   "id": "ca0871a2",
   "metadata": {},
   "outputs": [
    {
     "data": {
      "text/plain": [
       "120"
      ]
     },
     "execution_count": 28,
     "metadata": {},
     "output_type": "execute_result"
    }
   ],
   "source": [
    "# 이미 만들어진 함수 사용 : math.factorial\n",
    "import math\n",
    "\n",
    "math.factorial(5)"
   ]
  },
  {
   "cell_type": "code",
   "execution_count": 29,
   "id": "dac73fbc",
   "metadata": {},
   "outputs": [],
   "source": [
    "# # 이미 만들어진 함수 사용 : functools.reduce \n",
    "# reduce: 원 자료구조의 부분구조를 반복적으로 처리해 재결합해서 하나의 결과값으로 반환하는 고순위(higher-order) 함수\n",
    "from functools import reduce\n",
    "\n",
    "def factorial_reduce(n):\n",
    "    return reduce(lambda x, y: x * y, range(1, n+1))"
   ]
  },
  {
   "cell_type": "markdown",
   "id": "fed2c7d4",
   "metadata": {},
   "source": [
    "### [예제 9-13] 순열"
   ]
  },
  {
   "cell_type": "code",
   "execution_count": 48,
   "id": "17d70ecf",
   "metadata": {},
   "outputs": [
    {
     "name": "stdout",
     "output_type": "stream",
     "text": [
      "순열 경우의 수: 840\n"
     ]
    }
   ],
   "source": [
    "import itertools\n",
    "\n",
    "R = list(itertools.permutations('cabinet', 4))\n",
    "\n",
    "print(f'순열 경우의 수: {len(R)}')"
   ]
  },
  {
   "cell_type": "markdown",
   "id": "fbd70066",
   "metadata": {},
   "source": [
    "### [예제 9-14] 조합"
   ]
  },
  {
   "cell_type": "code",
   "execution_count": 30,
   "id": "3b03caf1",
   "metadata": {},
   "outputs": [
    {
     "name": "stdout",
     "output_type": "stream",
     "text": [
      "조합 경우의 수: 4\n"
     ]
    }
   ],
   "source": [
    "import itertools\n",
    "\n",
    "R = list(itertools.combinations(S, 3))\n",
    "\n",
    "print(f'조합 경우의 수: {len(R)}')"
   ]
  },
  {
   "cell_type": "markdown",
   "id": "3830f107",
   "metadata": {},
   "source": [
    "### [예제 9-15] 조합"
   ]
  },
  {
   "cell_type": "code",
   "execution_count": 31,
   "id": "16e27bb3",
   "metadata": {},
   "outputs": [
    {
     "name": "stdout",
     "output_type": "stream",
     "text": [
      "조합 경우의 수: 28\n"
     ]
    }
   ],
   "source": [
    "R = list(itertools.combinations(list(range(1,9)), 2))\n",
    "\n",
    "print(f'조합 경우의 수: {len(R)}')"
   ]
  },
  {
   "cell_type": "markdown",
   "id": "18661280",
   "metadata": {},
   "source": [
    "### [예제 9-16] 조합"
   ]
  },
  {
   "cell_type": "code",
   "execution_count": 32,
   "id": "19853a64",
   "metadata": {},
   "outputs": [
    {
     "name": "stdout",
     "output_type": "stream",
     "text": [
      "조합 경우의 수: 2598960\n"
     ]
    }
   ],
   "source": [
    "R = list(itertools.combinations(list(range(1,53)), 5))\n",
    "\n",
    "print(f'조합 경우의 수: {len(R)}')"
   ]
  },
  {
   "cell_type": "markdown",
   "id": "45c0b3ad",
   "metadata": {},
   "source": [
    "### [ 포커 게임]  일부 기능(틀리플, 로얄 플러시)만 구현함"
   ]
  },
  {
   "cell_type": "code",
   "execution_count": 23,
   "id": "3f6ff1b5",
   "metadata": {},
   "outputs": [
    {
     "name": "stdout",
     "output_type": "stream",
     "text": [
      "#--포커 확률 시뮬레이터--\n",
      "몇번을 실행할까요?: 100\n",
      "deck_of_cards : 총52개\n",
      "['◇2', '◇3', '◇4', '◇5', '◇6', '◇7', '◇8', '◇9', '◇10', '◇J', '◇Q', '◇K', '◇A', '♡2', '♡3', '♡4', '♡5', '♡6', '♡7', '♡8', '♡9', '♡10', '♡J', '♡Q', '♡K', '♡A', '♤2', '♤3', '♤4', '♤5', '♤6', '♤7', '♤8', '♤9', '♤10', '♤J', '♤Q', '♤K', '♤A', '♧2', '♧3', '♧4', '♧5', '♧6', '♧7', '♧8', '♧9', '♧10', '♧J', '♧Q', '♧K', '♧A']\n",
      "[    1] my_cards: ['♧K', '♧4', '♡J', '◇3', '♧5']\n",
      "result: NONE\n",
      "[    2] my_cards: ['♤10', '♧10', '♤J', '♤2', '◇K']\n",
      "result: NONE\n",
      "[    3] my_cards: ['♧Q', '◇7', '◇K', '♧8', '♡3']\n",
      "result: NONE\n",
      "[    4] my_cards: ['♤6', '♡6', '♤9', '♧7', '♡5']\n",
      "result: NONE\n",
      "[    5] my_cards: ['◇5', '♡J', '♡Q', '◇6', '◇2']\n",
      "result: NONE\n",
      "[    6] my_cards: ['◇6', '♤7', '♤K', '◇8', '◇Q']\n",
      "result: NONE\n",
      "[    7] my_cards: ['♧4', '◇J', '♤9', '♡8', '◇8']\n",
      "result: NONE\n",
      "[    8] my_cards: ['♡6', '♡2', '♡8', '◇4', '♧2']\n",
      "result: NONE\n",
      "[    9] my_cards: ['♡6', '♤5', '◇5', '◇8', '♧3']\n",
      "result: NONE\n",
      "[   10] my_cards: ['◇A', '♡5', '♧2', '♧4', '◇9']\n",
      "result: NONE\n",
      "[   11] my_cards: ['♡8', '♤9', '♧Q', '♡3', '♤A']\n",
      "result: NONE\n",
      "[   12] my_cards: ['◇8', '◇6', '♧3', '♡3', '♧6']\n",
      "result: NONE\n",
      "[   13] my_cards: ['◇4', '♡8', '♡10', '♤3', '♡J']\n",
      "result: NONE\n",
      "[   14] my_cards: ['♡2', '♤10', '♤7', '♧4', '♧8']\n",
      "result: NONE\n",
      "[   15] my_cards: ['♤5', '♡6', '◇4', '♤A', '◇Q']\n",
      "result: NONE\n",
      "[   16] my_cards: ['♧J', '♧A', '◇J', '♧8', '♤10']\n",
      "result: NONE\n",
      "[   17] my_cards: ['♡9', '◇A', '◇9', '♡8', '♡10']\n",
      "result: NONE\n",
      "[   18] my_cards: ['◇J', '♧3', '♤4', '♧J', '◇5']\n",
      "result: NONE\n",
      "[   19] my_cards: ['◇7', '♧10', '♧3', '♡5', '♤4']\n",
      "result: NONE\n",
      "[   20] my_cards: ['♤10', '♤Q', '♧9', '♤9', '♡J']\n",
      "result: NONE\n",
      "[   21] my_cards: ['♧5', '♤8', '♧9', '◇K', '♧7']\n",
      "result: NONE\n",
      "[   22] my_cards: ['♡8', '◇9', '◇2', '♧7', '♡A']\n",
      "result: NONE\n",
      "[   23] my_cards: ['◇Q', '♧5', '♤K', '♤J', '♧9']\n",
      "result: NONE\n",
      "[   24] my_cards: ['◇3', '♧Q', '♡9', '◇9', '♤J']\n",
      "result: NONE\n",
      "[   25] my_cards: ['♡3', '♡9', '♡5', '♧4', '♡2']\n",
      "result: NONE\n",
      "[   26] my_cards: ['♧8', '◇2', '♡2', '♤J', '◇A']\n",
      "result: NONE\n",
      "[   27] my_cards: ['♤J', '◇A', '◇9', '♡K', '♤A']\n",
      "result: NONE\n",
      "[   28] my_cards: ['♡5', '◇7', '♧A', '♤6', '♡3']\n",
      "result: NONE\n",
      "[   29] my_cards: ['♧8', '♡7', '♡K', '♡J', '♤8']\n",
      "result: NONE\n",
      "[   30] my_cards: ['♤K', '♤2', '♡9', '◇7', '♡2']\n",
      "result: NONE\n",
      "[   31] my_cards: ['♧A', '◇9', '♧Q', '♡9', '♡6']\n",
      "result: NONE\n",
      "[   32] my_cards: ['♡10', '◇A', '◇5', '◇6', '♧J']\n",
      "result: NONE\n",
      "[   33] my_cards: ['♤5', '♧K', '♧Q', '♧J', '♧10']\n",
      "result: NONE\n",
      "[   34] my_cards: ['♤9', '◇K', '◇Q', '♧10', '♤3']\n",
      "result: NONE\n",
      "[   35] my_cards: ['◇6', '◇9', '♡9', '◇5', '♡7']\n",
      "result: NONE\n",
      "[   36] my_cards: ['♤7', '♡9', '♡4', '♧Q', '◇5']\n",
      "result: NONE\n",
      "[   37] my_cards: ['♡7', '◇Q', '♧7', '♧2', '♡10']\n",
      "result: NONE\n",
      "[   38] my_cards: ['♤7', '♧4', '♧8', '◇J', '♡9']\n",
      "result: NONE\n",
      "[   39] my_cards: ['◇9', '♡10', '◇10', '♤K', '♡8']\n",
      "result: NONE\n",
      "[   40] my_cards: ['◇8', '♡5', '♤K', '◇K', '♡2']\n",
      "result: NONE\n",
      "[   41] my_cards: ['♡10', '◇4', '♧9', '♧3', '◇A']\n",
      "result: NONE\n",
      "[   42] my_cards: ['♤6', '◇10', '♧5', '♧10', '♧4']\n",
      "result: NONE\n",
      "[   43] my_cards: ['♧5', '◇6', '♤10', '♧J', '♧A']\n",
      "result: NONE\n",
      "[   44] my_cards: ['◇9', '♤A', '♧8', '◇2', '♡10']\n",
      "result: NONE\n",
      "[   45] my_cards: ['♡4', '♡6', '◇3', '♤10', '♧4']\n",
      "result: NONE\n",
      "[   46] my_cards: ['♡4', '♧3', '♡A', '♤K', '♤A']\n",
      "result: NONE\n",
      "[   47] my_cards: ['♧7', '♡A', '♤3', '◇8', '♧A']\n",
      "result: NONE\n",
      "[   48] my_cards: ['♤8', '◇5', '♡8', '◇3', '♡4']\n",
      "result: NONE\n",
      "[   49] my_cards: ['♧7', '♡9', '♡K', '♡2', '♡6']\n",
      "result: NONE\n",
      "[   50] my_cards: ['♡9', '♡2', '♤8', '♡3', '♤3']\n",
      "result: NONE\n",
      "[   51] my_cards: ['♤9', '◇2', '♡4', '♧3', '♡5']\n",
      "result: NONE\n",
      "[   52] my_cards: ['♤2', '◇3', '◇A', '♧7', '♧4']\n",
      "result: NONE\n",
      "[   53] my_cards: ['◇Q', '◇4', '♡5', '♡7', '♤4']\n",
      "result: NONE\n",
      "[   54] my_cards: ['♧4', '♧Q', '♡6', '◇9', '♡9']\n",
      "result: NONE\n",
      "[   55] my_cards: ['♡6', '♤2', '♤K', '♧5', '♡4']\n",
      "result: NONE\n",
      "[   56] my_cards: ['◇8', '◇Q', '♤6', '♡5', '◇6']\n",
      "result: NONE\n",
      "[   57] my_cards: ['♧2', '◇4', '♡10', '♤2', '♡9']\n",
      "result: NONE\n",
      "[   58] my_cards: ['♤9', '♤8', '◇9', '♡6', '♤10']\n",
      "result: NONE\n",
      "[   59] my_cards: ['♧8', '♧K', '♧3', '♡8', '♡7']\n",
      "result: NONE\n",
      "[   60] my_cards: ['♤10', '♧3', '♧9', '♤9', '♡2']\n",
      "result: NONE\n",
      "[   61] my_cards: ['◇5', '♧8', '◇A', '♧4', '◇Q']\n",
      "result: NONE\n",
      "[   62] my_cards: ['♡9', '♡Q', '♡3', '♡8', '♡J']\n",
      "result: Flush\n",
      "[   63] my_cards: ['♤7', '♤J', '◇2', '♡Q', '♧2']\n",
      "result: NONE\n",
      "[   64] my_cards: ['♡2', '♤9', '◇K', '♡A', '♧5']\n",
      "result: NONE\n",
      "[   65] my_cards: ['♡7', '◇10', '♡10', '♡J', '♤10']\n",
      "result: NONE\n",
      "[   66] my_cards: ['◇10', '◇9', '♡4', '♧J', '♤A']\n",
      "result: NONE\n",
      "[   67] my_cards: ['♡6', '♡J', '♡K', '♧K', '♤J']\n",
      "result: NONE\n",
      "[   68] my_cards: ['♧2', '♧3', '♤Q', '◇8', '♧5']\n",
      "result: NONE\n",
      "[   69] my_cards: ['◇K', '♡2', '♤A', '◇10', '♧10']\n",
      "result: NONE\n",
      "[   70] my_cards: ['♧5', '♡6', '♡J', '♧Q', '♡Q']\n",
      "result: NONE\n",
      "[   71] my_cards: ['◇Q', '♡5', '♤8', '♧8', '♤9']\n",
      "result: NONE\n",
      "[   72] my_cards: ['♧6', '♤2', '♡K', '◇6', '♧7']\n",
      "result: NONE\n",
      "[   73] my_cards: ['♡5', '♤J', '♤9', '♧Q', '♧A']\n",
      "result: NONE\n",
      "[   74] my_cards: ['♤4', '♧Q', '♧5', '◇9', '♧6']\n",
      "result: NONE\n",
      "[   75] my_cards: ['♤4', '◇9', '◇3', '◇10', '◇6']\n",
      "result: NONE\n",
      "[   76] my_cards: ['◇A', '♡J', '♧5', '♡5', '♡8']\n",
      "result: NONE\n",
      "[   77] my_cards: ['◇8', '♡8', '♡7', '♧2', '♤3']\n",
      "result: NONE\n",
      "[   78] my_cards: ['♤10', '♧Q', '♡A', '◇10', '♧9']\n",
      "result: NONE\n",
      "[   79] my_cards: ['♤A', '♤5', '♤8', '♡2', '♤K']\n",
      "result: NONE\n",
      "[   80] my_cards: ['♡3', '♧3', '♡Q', '♧10', '◇8']\n",
      "result: NONE\n",
      "[   81] my_cards: ['◇A', '♤4', '♡A', '♡7', '◇Q']\n",
      "result: NONE\n",
      "[   82] my_cards: ['♧8', '♡10', '♤9', '♡J', '♡8']\n",
      "result: NONE\n",
      "[   83] my_cards: ['◇Q', '♧J', '♧6', '♡10', '♡K']\n",
      "result: NONE\n",
      "[   84] my_cards: ['◇J', '♧6', '♧J', '◇9', '♤2']\n",
      "result: NONE\n",
      "[   85] my_cards: ['◇10', '♤8', '♧A', '◇7', '♡5']\n",
      "result: NONE\n",
      "[   86] my_cards: ['♡A', '♧7', '♡5', '♡4', '♡3']\n",
      "result: NONE\n",
      "[   87] my_cards: ['◇Q', '♧J', '♡K', '◇2', '♡10']\n",
      "result: NONE\n",
      "[   88] my_cards: ['♧5', '♤K', '♡J', '◇3', '♧A']\n",
      "result: NONE\n",
      "[   89] my_cards: ['♤8', '◇5', '♡5', '◇Q', '◇10']\n",
      "result: NONE\n",
      "[   90] my_cards: ['♡K', '♧J', '♤4', '◇7', '♧Q']\n",
      "result: NONE\n",
      "[   91] my_cards: ['♤A', '♤8', '♤Q', '◇5', '♤6']\n",
      "result: NONE\n",
      "[   92] my_cards: ['♡A', '♤6', '◇2', '♡3', '♤K']\n",
      "result: NONE\n",
      "[   93] my_cards: ['◇9', '♡4', '♤A', '♡K', '♤8']\n",
      "result: NONE\n",
      "[   94] my_cards: ['♧7', '♡8', '♤9', '♤2', '♡10']\n",
      "result: NONE\n",
      "[   95] my_cards: ['◇7', '♤Q', '♡4', '◇K', '♧8']\n",
      "result: NONE\n",
      "[   96] my_cards: ['♡K', '♡8', '◇A', '◇8', '♧9']\n",
      "result: NONE\n",
      "[   97] my_cards: ['♡A', '◇9', '♡8', '♧3', '♧2']\n",
      "result: NONE\n",
      "[   98] my_cards: ['♡5', '♤K', '♡10', '♧6', '♡6']\n",
      "result: NONE\n",
      "[   99] my_cards: ['◇8', '◇3', '♧4', '◇7', '♧J']\n",
      "result: NONE\n",
      "[  100] my_cards: ['♡A', '♤8', '◇4', '♡4', '◇5']\n",
      "result: NONE\n",
      "--------------------------------------------------\n",
      "#Total simulations: 100 times\n",
      "- NONE : 99 (99.00%)\n",
      "- Flush : 1 (1.00%)\n"
     ]
    }
   ],
   "source": [
    "import random\n",
    "\n",
    "class PokerHandSimulator():\n",
    "    \n",
    "    # 카드 만들기\n",
    "    def __init__(self, n):\n",
    "        shapes = '◇♡♤♧'\n",
    "        nums = [2,3,4,5,6,7,8,9,10,'J','Q','K','A']\n",
    "        self.deck_of_cards = []  # 카드 담을 리스트\n",
    "        self.n = n               # 시행 횟수\n",
    "        for shape in shapes:\n",
    "            for num in nums:\n",
    "                self.deck_of_cards.append(shape+str(num))\n",
    "        print(f'deck_of_cards : 총{len(self.deck_of_cards)}개')\n",
    "        print(f'{self.deck_of_cards}')\n",
    "        \n",
    "        self.log = {}  # 카드의 결과를 담을 딕셔너리\n",
    "        \n",
    "    # 카드의 결과를 기록하기\n",
    "    def write_log(self, result):\n",
    "        if result not in self.log.keys(): # 동일한 종류의 결과가 없으면\n",
    "            self.log[result] = 1\n",
    "        else:                             # 동일한 종류의 결과가 있으면\n",
    "            self.log[result] += 1 \n",
    "    \n",
    "    # 카드 나눠주기\n",
    "    def main(self):        \n",
    "        # self.n 만큼 반복하기\n",
    "        for i in range(self.n):        \n",
    "            random.shuffle(self.deck_of_cards) # 카드 섞기\n",
    "\n",
    "            # deck_of_cards에서 맨 위의 5개 카드가져오기\n",
    "            my_cards = self.deck_of_cards[:5]\n",
    "            print(f'[{i+1:>5}] my_cards: {my_cards}')\n",
    "\n",
    "            # 내 카드 조합 확인하기    \n",
    "            self.check_hand(my_cards)\n",
    "            \n",
    "        # 확률 구하기 ------------\n",
    "        print('-'*50)\n",
    "        print(f'#Total simulations: {self.n} times')\n",
    "        for k, v in self.log.items():\n",
    "            print(f'- {k} : {v} ({v/self.n*100:>.2f}%)')\n",
    "        \n",
    "        \n",
    "    # 카드 조합 확인하기    \n",
    "    def check_hand(self, cards):\n",
    "        result = 'NONE'\n",
    "        if self.is_tree_of_a_kind(cards):     # 트리플 \n",
    "            result = self.is_tree_of_a_kind(cards)\n",
    "        elif self.is_royal_flush(cards):      # 로얄플러시     \n",
    "            result = self.is_royal_flush(cards)\n",
    "        elif self.is_flush(cards):            # 플러시     \n",
    "            result = self.is_flush(cards)\n",
    "                    \n",
    "        self.write_log(result)       # 카드의 결과 기록하기\n",
    "        \n",
    "        print(f'result: {result}')\n",
    "        \n",
    "        \n",
    "    # 카드의 종류가 트리플(tree_of_a_kind)인지 확인\n",
    "    def is_tree_of_a_kind(self, cards):\n",
    "        nums = [c[1:] for c in cards]  # 카드들의 숫자만 담기\n",
    "        set_nums = list(set(nums))     # 중복안된 숫자 종류만 추출\n",
    "        for num in set_nums:\n",
    "            if nums.count(num) == 3:\n",
    "                return 'Three Of A Kind'\n",
    "            else:\n",
    "                return False\n",
    "    \n",
    "    # 카드의 종류가 플러시(flush)인지 확인\n",
    "    def is_flush(self, cards):\n",
    "        suits = [c[0] for c in cards]  # 카드의 종류만 추출\n",
    "        if len(set(suits)) == 1:       # 모든 카드의 종류가 1가지\n",
    "            return 'Flush'\n",
    "        else:\n",
    "            return False\n",
    "        \n",
    "    # 카드의 종류가 로얄 플러시(royal_flush)인지 확인\n",
    "    def is_royal_flush(self, cards):\n",
    "        suits = [c[0]  for c in cards]  # 카드의 종류만 추출\n",
    "        nums  = [c[1:] for c in cards]  # 카드들의 숫자만 담기\n",
    "        \n",
    "        # 로얄 플러시(=10,J,Q,K,A) and 모든 카드의 종류가 1가지\n",
    "        if len(set(suits)) == 1 and (sorted(nums) == sorted(['10','J','Q','K','A'])):\n",
    "            return 'Royal Flush'\n",
    "        else:\n",
    "            return False\n",
    "    \n",
    "N = int(input('#--포커 확률 시뮬레이터--\\n몇번을 실행할까요?: '))    \n",
    "app = PokerHandSimulator(N)\n",
    "\n",
    "# 방법1: 임의로 카드 부여\n",
    "app.main()  # 임의로 카드 부여하기\n",
    "\n",
    "# 방법2: 테스트를 위한 방법\n",
    "# my_cards = ['♧3', '♡10', '♤10', '◇10', '♡2']\n",
    "# my_cards = ['♡3', '♡10', '♡K', '♡9', '♡2']\n",
    "# my_cards = ['♡A', '♡10', '♡K', '♡J', '♡Q']\n",
    "# print(f'my_cards : {my_cards}')\n",
    "# app.check_hand(my_cards) "
   ]
  },
  {
   "cell_type": "markdown",
   "id": "20aa413e",
   "metadata": {},
   "source": [
    "--------------"
   ]
  },
  {
   "cell_type": "markdown",
   "id": "d715c90a",
   "metadata": {},
   "source": [
    "## 9-3.이항정리와 다항정리"
   ]
  },
  {
   "cell_type": "markdown",
   "id": "866b014d",
   "metadata": {},
   "source": [
    "#### 파스칼 삼각형 출력하기"
   ]
  },
  {
   "cell_type": "code",
   "execution_count": 31,
   "id": "cbab39b6",
   "metadata": {
    "scrolled": true
   },
   "outputs": [
    {
     "name": "stdout",
     "output_type": "stream",
     "text": [
      "파스칼의 삼각형의 행의 개수는: 6\n",
      "[[1, 1]]\n",
      "[[1, 1], [1, 1]]\n",
      "[[1, 1], [1, 1], [1, 2, 1]]\n",
      "[[1, 1], [1, 1], [1, 2, 1], [1, 3, 3, 1]]\n",
      "[[1, 1], [1, 1], [1, 2, 1], [1, 3, 3, 1], [1, 4, 6, 4, 1]]\n",
      "[[1, 1], [1, 1], [1, 2, 1], [1, 3, 3, 1], [1, 4, 6, 4, 1], [1, 5, 10, 10, 5, 1]]\n",
      "                        1 \n",
      "                     1      1 \n",
      "                  1      2      1 \n",
      "               1      3      3      1 \n",
      "            1      4      6      4      1 \n",
      "         1      5     10     10      5      1 \n"
     ]
    }
   ],
   "source": [
    "rows = int(input(\"파스칼의 삼각형의 행의 개수는: \"))\n",
    "lst=[]\n",
    "\n",
    "# 이항 계수 출력하기\n",
    "for i in range(rows):\n",
    "    lst.append([])\n",
    "    lst[i].append(1)\n",
    "    \n",
    "    for j in range(1, i):\n",
    "        lst[i].append(lst[i-1][j-1]+lst[i-1][j])\n",
    "        \n",
    "    if(rows != 0):\n",
    "        lst[i].append(1)\n",
    "        \n",
    "    print(lst)\n",
    "\n",
    "# 파스칼 삼각형 그리기\n",
    "for i in range(rows):\n",
    "    print('   ' * (rows - i), end=' ', sep=' ')\n",
    "    for j in range(0, i+1):\n",
    "        print(f'{lst[i][j]:6}',  end=' ', sep=' ')\n",
    "    print()"
   ]
  },
  {
   "cell_type": "markdown",
   "id": "d16a1d6b",
   "metadata": {},
   "source": [
    "------------------------------------------"
   ]
  },
  {
   "cell_type": "markdown",
   "id": "7f02949f",
   "metadata": {},
   "source": [
    "## 9-4.확률의 기초 및 조건부 확률\n",
    "- $P(A|B) = P(AandB) / P(B)$"
   ]
  },
  {
   "cell_type": "markdown",
   "id": "bee0a9a1",
   "metadata": {},
   "source": [
    "### 조건부 확률 계산"
   ]
  },
  {
   "cell_type": "code",
   "execution_count": 42,
   "id": "f1a214c4",
   "metadata": {
    "scrolled": true
   },
   "outputs": [
    {
     "name": "stdout",
     "output_type": "stream",
     "text": [
      "P_M(메이커): 0.4\n",
      "P_P(시제품): 0.6\n",
      "P_G(양질의서비스): 0.53\n",
      "P_B(저질의서비스): 0.53\n",
      "P_G_M(메이커면서 양질의서비스): 0.8\n",
      "P_B_M: 0.2\n",
      "P_G_P: 0.35\n",
      "P_B_P: 0.65\n"
     ]
    }
   ],
   "source": [
    "import pandas as pd\n",
    "\n",
    "tiresale = {'M' : {'G':64, 'B':16},\n",
    "            'P' : {'G':42, 'B':78}}\n",
    "\n",
    "table = pd.DataFrame(tiresale).transpose()\n",
    "table\n",
    "\n",
    "# 각각 확률\n",
    "P_M = table.loc['M'].sum() / table.values.sum()\n",
    "P_P = table.loc['P'].sum() / table.values.sum()\n",
    "P_G = table['G'].sum() / table.values.sum()\n",
    "P_B = table['G'].sum() / table.values.sum()\n",
    "P_G_M = table.loc['M']['G'] / table.loc['M'].sum()\n",
    "P_B_M = table.loc['M']['B'] / table.loc['M'].sum()\n",
    "P_G_P = table.loc['P']['G'] / table.loc['P'].sum()\n",
    "P_B_P = table.loc['P']['B'] / table.loc['P'].sum()\n",
    "print(f'P_M(메이커): {P_M}')\n",
    "print(f'P_P(시제품): {P_P}')\n",
    "print(f'P_G(양질의서비스): {P_G}')\n",
    "print(f'P_B(저질의서비스): {P_B}')\n",
    "print(f'P_G_M(메이커면서 양질의서비스): {P_G_M}')\n",
    "print(f'P_B_M: {P_B_M}')\n",
    "print(f'P_G_P: {P_G_P}')\n",
    "print(f'P_B_P: {P_B_P}')\n",
    "\n",
    "#"
   ]
  },
  {
   "cell_type": "markdown",
   "id": "4fa0a05e",
   "metadata": {},
   "source": [
    "### 응용: 조건부 확률 계산"
   ]
  },
  {
   "cell_type": "code",
   "execution_count": 36,
   "id": "b0c98232",
   "metadata": {
    "scrolled": true
   },
   "outputs": [
    {
     "name": "stdout",
     "output_type": "stream",
     "text": [
      "20대 비율    : 0.16576\n",
      "20대 구매확율: 0.03392\n",
      "20대 구매할 조건부확율: 0.20463320463320464\n",
      "------------------------------\n",
      "30대 비율    : 0.16619\n",
      "30대 구매확율: 0.04974\n",
      "30대 구매할 조건부확율: 0.29929598652145134\n",
      "------------------------------\n",
      "40대 비율    : 0.16632\n",
      "40대 구매확율: 0.0667\n",
      "40대 구매할 조건부확율: 0.401034151034151\n",
      "------------------------------\n",
      "50대 비율    : 0.16805\n",
      "50대 구매확율: 0.08319\n",
      "50대 구매할 조건부확율: 0.49503124070217197\n",
      "------------------------------\n",
      "60대 비율    : 0.16664\n",
      "60대 구매확율: 0.09944\n",
      "60대 구매할 조건부확율: 0.5967354776764282\n",
      "------------------------------\n",
      "70대 비율    : 0.16704\n",
      "70대 구매확율: 0.11713\n",
      "70대 구매할 조건부확율: 0.7012092911877394\n",
      "------------------------------\n",
      "인구비율: 1.0\n"
     ]
    }
   ],
   "source": [
    "from numpy import random\n",
    "\n",
    "random.seed(0)\n",
    "\n",
    "N = 100000\n",
    "\n",
    "연령층 = [20, 30, 40, 50, 60, 70]\n",
    "연령층인구수 = {age:0 for age in 연령층}\n",
    "연령층구매량 = {age:0 for age in 연령층}\n",
    "전체구매량 = 0\n",
    "\n",
    "for _ in range(N):\n",
    "    특정연령층 = random.choice(연령층)\n",
    "    구매확률 = float(특정연령층) / 100.0\n",
    "    연령층인구수[특정연령층] += 1\n",
    "    if random.random() < 구매확률:\n",
    "        전체구매량 += 1\n",
    "        연령층구매량[특정연령층] += 1\n",
    "    \n",
    "\n",
    "for age in 연령층:\n",
    "    print(f'{age}대 비율    : {float(연령층인구수[age]/N)}')   \n",
    "    print(f'{age}대 구매확율: {float(연령층구매량[age]/N)}')   \n",
    "    print(f'{age}대 구매할 조건부확율: {float(연령층구매량[age]/N) / float(연령층인구수[age]/N)}') \n",
    "    print('-'*30)\n",
    "    \n",
    "print(f'인구비율: {sum(연령층인구수.values())/N}')"
   ]
  },
  {
   "cell_type": "markdown",
   "id": "cc2e4f9b",
   "metadata": {},
   "source": [
    "---------------------"
   ]
  },
  {
   "cell_type": "markdown",
   "id": "5287ba98",
   "metadata": {},
   "source": [
    "THE END"
   ]
  }
 ],
 "metadata": {
  "kernelspec": {
   "display_name": "Python 3 (ipykernel)",
   "language": "python",
   "name": "python3"
  },
  "language_info": {
   "codemirror_mode": {
    "name": "ipython",
    "version": 3
   },
   "file_extension": ".py",
   "mimetype": "text/x-python",
   "name": "python",
   "nbconvert_exporter": "python",
   "pygments_lexer": "ipython3",
   "version": "3.9.7"
  }
 },
 "nbformat": 4,
 "nbformat_minor": 5
}
