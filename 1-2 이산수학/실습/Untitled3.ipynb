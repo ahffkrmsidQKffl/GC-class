{
 "cells": [
  {
   "cell_type": "code",
   "execution_count": null,
   "id": "473adc39",
   "metadata": {},
   "outputs": [],
   "source": [
    "import numpy as np\n",
    "\n",
    "A = [1,2,3]  \n",
    "R = {(1, 1), (2, 2), (1, 3),,  (2, 2), (3, 2)}\n",
    "\n",
    "# 리스트로 표시하기 \n",
    "datas = []\n",
    "for a in A: # 행\n",
    "    data = []\n",
    "    for b in B: # 열\n",
    "        r = (a, b)\n",
    "        if r in R:\n",
    "            data.append(1)\n",
    "        else:\n",
    "            data.append(0)\n",
    "    datas.append(data)\n",
    "\n",
    "# 행렬로 표시하기\n",
    "matrix = np.array(datas)\n",
    "print('관계행렬(M):\\n', matrix)"
   ]
  }
 ],
 "metadata": {
  "kernelspec": {
   "display_name": "Python 3 (ipykernel)",
   "language": "python",
   "name": "python3"
  },
  "language_info": {
   "codemirror_mode": {
    "name": "ipython",
    "version": 3
   },
   "file_extension": ".py",
   "mimetype": "text/x-python",
   "name": "python",
   "nbconvert_exporter": "python",
   "pygments_lexer": "ipython3",
   "version": "3.9.7"
  }
 },
 "nbformat": 4,
 "nbformat_minor": 5
}
