{
 "cells": [
  {
   "cell_type": "markdown",
   "id": "7d666a34",
   "metadata": {},
   "source": [
    "# 5장(함수)-프로그래밍 실습"
   ]
  },
  {
   "cell_type": "markdown",
   "id": "ea773fd5",
   "metadata": {},
   "source": [
    "## 5-1. 함수의 정의"
   ]
  },
  {
   "cell_type": "code",
   "execution_count": 1,
   "id": "c91f25bf",
   "metadata": {},
   "outputs": [
    {
     "name": "stdout",
     "output_type": "stream",
     "text": [
      "{2, 4, 6, 8, 10}\n"
     ]
    }
   ],
   "source": [
    "def two_times(x):\n",
    "    return x*2\n",
    "\n",
    "A = {1,2,3,4,5}\n",
    "B = set()\n",
    "for i in A:\n",
    "    B.add(two_times(i))\n",
    "print(B)"
   ]
  },
  {
   "cell_type": "markdown",
   "id": "3e4e699b",
   "metadata": {},
   "source": [
    "### [예제 5-1]  함수의 정의1\n",
    "- 함수 판별: AxB의 부분집합인지 확인\n",
    "- 정의역, 치역, 공변역 확인"
   ]
  },
  {
   "cell_type": "code",
   "execution_count": 42,
   "id": "c645eeac",
   "metadata": {},
   "outputs": [
    {
     "name": "stdout",
     "output_type": "stream",
     "text": [
      "f는 함수다.\n",
      "f의 정의역 Dom(f)={1, 2, 3, 4}\n",
      "f의 공변역 coDom(f)={'a', 'c', 'b', 'd'}\n",
      "f의 치역 Ran(f)={'c', 'd', 'a'}\n"
     ]
    }
   ],
   "source": [
    "# 방법1: f가 AxB의 부분집합인지 확인\n",
    "def isFunction(A, B, f):\n",
    "    import itertools\n",
    "    AxB = set(itertools.product(A, B))\n",
    "\n",
    "    is_func = True\n",
    "    for r in f:\n",
    "        if r not in AxB:\n",
    "            is_func = False\n",
    "            break\n",
    "    return is_func\n",
    "\n",
    "\n",
    "# 방법2: f의 원소(x,y)가 (A, B)에 속하는지 + 정의역의 개수\n",
    "def isFunction(A, B, f):\n",
    "    is_func = True\n",
    "    domainCnt= dict()   # 정의역의 대응 개수를 딕셔너리형태로 만듦\n",
    "    \n",
    "    # 함수 여부 체크\n",
    "    for r in f:\n",
    "        x, y = r[0], r[1]        \n",
    "        if x not in A: is_func = False\n",
    "        if y not in B: is_func = False\n",
    "        \n",
    "        # 정의역 개수 세기\n",
    "        if x not in domainCnt: domainCnt[x] = 1\n",
    "        else: domainCnt[x] += 1     \n",
    "        # 함수 체크(X가 여러 개의 Y와 연결되어 있는지 확인)\n",
    "        if domainCnt[x] > 1: is_func = False \n",
    "    \n",
    "    return is_func\n",
    "\n",
    "\n",
    "A = {1, 2, 3, 4}\n",
    "B = {'a','b','c','d'}\n",
    "f = {(1,'a'), (2,'a'), (3,'d'), (4,'c')}\n",
    "\n",
    "if isFunction(A, B, f):\n",
    "    print(f'f는 함수다.')\n",
    "    print(f'f의 정의역 Dom(f)={A}')\n",
    "    print(f'f의 공변역 coDom(f)={B}') \n",
    "    print(f'f의 치역 Ran(f)={ set(r[1] for r in f)}')       \n",
    "else:\n",
    "    print(f'f는 함수가 아니다.')"
   ]
  },
  {
   "cell_type": "markdown",
   "id": "22bad4ab",
   "metadata": {},
   "source": [
    "### [예제 5-2]  함수의 정의2"
   ]
  },
  {
   "cell_type": "code",
   "execution_count": 43,
   "id": "d2da9e72",
   "metadata": {},
   "outputs": [
    {
     "name": "stdout",
     "output_type": "stream",
     "text": [
      "{(-1, 1), (1, 1), (0, 0)}\n",
      "f는 함수다.\n",
      "f의 정의역 Dom(f)={0, 1, -1}\n",
      "f의 치역 Ran(f)={0, 1}\n"
     ]
    }
   ],
   "source": [
    "def func(x):\n",
    "    return x**2\n",
    "    \n",
    "A = {-1, 0, 1}\n",
    "B = A\n",
    "f = { ( a, int(func(a)) ) for a in A }\n",
    "\n",
    "print(f)\n",
    "if isFunction(A, B, f):\n",
    "    print(f'f는 함수다.')\n",
    "    print(f'f의 정의역 Dom(f)={A}')\n",
    "    print(f'f의 치역 Ran(f)={ set(r[1] for r in f)}')       \n",
    "else:\n",
    "    print(f'f는 함수가 아니다.')"
   ]
  },
  {
   "cell_type": "markdown",
   "id": "349f01ed",
   "metadata": {},
   "source": [
    "### 프로그램 함수\n",
    "- 내장함수 : https://docs.python.org/ko/3.10/library/functions.html \n",
    "- 사용자 정의 함수 : 사용자가 필요에 의해 직접 정의한 함수"
   ]
  },
  {
   "cell_type": "markdown",
   "id": "4975362f",
   "metadata": {},
   "source": [
    "### [실습] 사용자 정의함수 : 커피 자판기 사용자 함수 만들기"
   ]
  },
  {
   "cell_type": "code",
   "execution_count": null,
   "id": "8d36ae71",
   "metadata": {},
   "outputs": [],
   "source": [
    "def coffeeMachine(coffee1, coffee2, coffee3):\n",
    "\n",
    "    total = coffee1*2500 + coffee2*3000 + coffee3*3000\n",
    "    print(\"지불할 총 금액은 \", total, \"원 입니다\")\n",
    "\n",
    "    money, change = 0, 0\n",
    "    while True:\n",
    "        print('-'*30)\n",
    "        money = int(input(f'[지불할 금액:{total}] : 돈을 넣어주세요: '))\n",
    "\n",
    "        change = money - total\n",
    "        if change < 0:\n",
    "            print(\"입력한 금액이 부족합니다. \", change*-1, \"원을 더 넣어주세요.\")\n",
    "            total = total - money\n",
    "        else:\n",
    "            print(\"거스름돈은 \", change, \"원 입니다\")\n",
    "            break\n",
    "       \n",
    "        \n",
    "\n",
    "menu = '''[커피 자동주문 머신 메뉴]\n",
    "------------------------------\n",
    "-아메리카노는 2500원\n",
    "-카레라떼는 3000원\n",
    "-카푸치노는 3000원\n",
    "입니다. 원하시는 커피종류와 잔수를 입력하세요.\n",
    "------------------------------'''\n",
    "print(menu)\n",
    "coffee1 = int(input(\"아메리카노 몇잔?: \"))\n",
    "coffee2 = int(input(\"카페라떼 몇잔?: \"))\n",
    "coffee3 = int(input(\"카푸치노 몇잔?: \"))\n",
    "\n",
    "coffeeMachine(coffee1, coffee2, coffee3)"
   ]
  },
  {
   "cell_type": "markdown",
   "id": "0f4d1bc8",
   "metadata": {},
   "source": [
    "### 함수 그래프 (Function Graph)\n",
    "- 그래프 그리기: https://www.desmos.com/calculator?lang=ko \n",
    "- 파이썬 matplotlib 라이브러리 설치하기\n",
    "- matplotlib 선그래프 참고: https://matplotlib.org/stable/plot_types/basic/plot.html"
   ]
  },
  {
   "cell_type": "code",
   "execution_count": null,
   "id": "34478d4c",
   "metadata": {},
   "outputs": [],
   "source": [
    "!pip install matplotlib"
   ]
  },
  {
   "cell_type": "markdown",
   "id": "4c70478b",
   "metadata": {},
   "source": [
    "### [실습] $y=f(x)=x^2$ 그래프 그리기"
   ]
  },
  {
   "cell_type": "code",
   "execution_count": 34,
   "id": "f9ab4f05",
   "metadata": {
    "scrolled": true
   },
   "outputs": [
    {
     "data": {
      "image/png": "[encoded data removed]",
      "text/plain": [
       "<Figure size 432x288 with 1 Axes>"
      ]
     },
     "metadata": {
      "needs_background": "light"
     },
     "output_type": "display_data"
    }
   ],
   "source": [
    "\n",
    "import matplotlib.pyplot as plt\n",
    "import numpy as np\n",
    "\n",
    "def f(x):\n",
    "    return x**2\n",
    "\n",
    "x = np.linspace(-1, 1, 10)\n",
    "y = f(x)\n",
    "plt.plot(x, y)\n",
    "\n",
    "# ‘ro-’는 빨간색 (‘red’)의 원형 (‘o’) 마커와 실선(‘-’)를 의미\n",
    "plt.plot(x, y, color='red', marker='o', label=\"f(x) = x**2\")   \n",
    "plt.xlabel(\"x\")\n",
    "plt.ylabel(\"y\")\n",
    "plt.title(\"y=f(x)=x**2 function graph\")\n",
    "plt.legend()\n",
    "\n",
    "plt.show()"
   ]
  },
  {
   "cell_type": "markdown",
   "id": "7cf0ee83",
   "metadata": {},
   "source": [
    "------------------------------"
   ]
  },
  {
   "cell_type": "markdown",
   "id": "7e0732a8",
   "metadata": {},
   "source": [
    "## 5-2. 단사, 전사, 전단사 함수"
   ]
  },
  {
   "cell_type": "markdown",
   "id": "17bdb814",
   "metadata": {},
   "source": [
    "### [예제 5-4] 단사, 전사, 전단사 함수 판별하기"
   ]
  },
  {
   "cell_type": "code",
   "execution_count": 50,
   "id": "dac50d6a",
   "metadata": {
    "scrolled": true
   },
   "outputs": [
    {
     "name": "stdout",
     "output_type": "stream",
     "text": [
      "A={'a1', 'a2', 'a3'}\n",
      "B={'b2', 'b3', 'b1'}\n",
      "f={('a3', 'b1'), ('a1', 'b2'), ('a2', 'b3')}\n",
      "f는 전단사 함수이다\n",
      "------------------------------\n",
      "A={'a1', 'a2', 'a3'}\n",
      "B={'d1', 'd3', 'd4', 'd2'}\n",
      "f={('a1', 'd2'), ('a3', 'd4'), ('a2', 'd1')}\n",
      "f는 단사 함수이다\n",
      "------------------------------\n",
      "A={'b2', 'b3', 'b1'}\n",
      "B={'c2', 'c1'}\n",
      "f={('b3', 'c1'), ('b1', 'c2'), ('b2', 'c2')}\n",
      "f는 전사 함수이다\n",
      "------------------------------\n",
      "A={'a1', 'a2', 'a3'}\n",
      "B={'b2', 'b3', 'b1'}\n",
      "f={('a1', 'b1'), ('a3', 'b3'), ('a2', 'b1')}\n",
      "f는 단사 함수도, 전사 함수도 아니다\n"
     ]
    }
   ],
   "source": [
    "# 함수 형태 판별하기\n",
    "def isfuncion(A, B, f):\n",
    "    print(f'A={A}\\nB={B}\\nf={f}')\n",
    "\n",
    "    is_func = True     # 함수\n",
    "    is_injective = True  # 단사함수 \n",
    "    is_surjective= True  # 전사함수   \n",
    "    \n",
    "    domainCnt= dict()   # 정의역의 대응 개수를 딕셔너리형태로 만듦\n",
    "    rangeCnt = dict()   # 치역의 대응 개수를 딕셔너리형태로 만듦\n",
    "    \n",
    "    for r in f:\n",
    "        x = r[0]\n",
    "        y = r[1]\n",
    "        # 함수 여부 체크\n",
    "        if x not in A: is_func = False\n",
    "        if y not in B: is_func = False\n",
    "        \n",
    "        # 정의역 개수 세기\n",
    "        if x not in domainCnt: domainCnt[x] = 1\n",
    "        else: domainCnt[x] += 1     \n",
    "        # 함수 체크(X가 여러 개의 Y와 연결되어 있는지 확인)\n",
    "        if domainCnt[x] > 1: is_func = False     \n",
    "        \n",
    "        # 치역 개수 세기\n",
    "        if y not in rangeCnt: rangeCnt[y] = 1\n",
    "        else: rangeCnt[y] += 1  \n",
    "        # 단사함수 체크(치역이 여러 개 인지 확인)\n",
    "        if rangeCnt[y] > 1: is_injective = False \n",
    "    \n",
    "#     print(f'정의역 개수: {len(A)}/{domainCnt}')\n",
    "#     print(f'치역 개수: {len(B)}/{rangeCnt}')\n",
    "\n",
    "    # 함수 여부\n",
    "    if is_func == False:\n",
    "        print(f'{f}는 함수가 아니다.')\n",
    "            \n",
    "    # 단사 함수 여부\n",
    "    if len(A) != len(domainCnt):\n",
    "        is_injective = False\n",
    "    \n",
    "    # 전사 함수 여부\n",
    "    if len(B) != len(rangeCnt):\n",
    "        is_surjective = False\n",
    "        \n",
    "    # 전단사 함수 여부\n",
    "    if (is_surjective == True) and (is_injective == True):\n",
    "        print('f는 전단사 함수이다')\n",
    "    elif (is_surjective == False) and (is_injective == False):\n",
    "        print('f는 단사 함수도, 전사 함수도 아니다')\n",
    "    elif is_injective == True:\n",
    "        print('f는 단사 함수이다')\n",
    "    elif is_surjective == True:\n",
    "        print('f는 전사 함수이다')\n",
    "\n",
    "        \n",
    "#----------------------\n",
    "# 함수 형태 판별하기\n",
    "#----------------------\n",
    "A = {'a1','a2','a3'}\n",
    "B = {'b1','b2','b3'}\n",
    "C = {'c1','c2'}\n",
    "D = {'d1','d2','d3','d4'}\n",
    "\n",
    "f1 = {('a1','b2'),('a2','b3'),('a3','b1')}\n",
    "f2 = {('a1','d2'),('a2','d1'),('a3','d4')}\n",
    "f3 = {('b1','c2'),('b2','c2'),('b3','c1')}\n",
    "f4 = {('a1','b1'),('a2','b1'),('a3','b3')}        \n",
    "        \n",
    "isfuncion(A, B, f1)\n",
    "print('-'*30)\n",
    "isfuncion(A, D, f2)\n",
    "print('-'*30)\n",
    "isfuncion(B, C, f3)\n",
    "print('-'*30)\n",
    "isfuncion(A, B, f4)    \n",
    "       "
   ]
  },
  {
   "cell_type": "markdown",
   "id": "3bc92806",
   "metadata": {},
   "source": [
    "- 각 기능별로 함수화 하여 사용한다."
   ]
  },
  {
   "cell_type": "code",
   "execution_count": 49,
   "id": "40ec9511",
   "metadata": {},
   "outputs": [
    {
     "name": "stdout",
     "output_type": "stream",
     "text": [
      "A={'a1', 'a2', 'a3'}\n",
      "B={'b2', 'b3', 'b1'}\n",
      "f={('a3', 'b1'), ('a1', 'b2'), ('a2', 'b3')}\n",
      "f는 전단사 함수이다\n",
      "------------------------------\n",
      "A={'a1', 'a2', 'a3'}\n",
      "B={'d1', 'd3', 'd4', 'd2'}\n",
      "f={('a1', 'd2'), ('a3', 'd4'), ('a2', 'd1')}\n",
      "f는 단사 함수이다\n",
      "------------------------------\n",
      "A={'b2', 'b3', 'b1'}\n",
      "B={'c2', 'c1'}\n",
      "f={('b3', 'c1'), ('b1', 'c2'), ('b2', 'c2')}\n",
      "f는 전사 함수이다\n",
      "------------------------------\n",
      "A={'a1', 'a2', 'a3'}\n",
      "B={'b2', 'b3', 'b1'}\n",
      "f={('a1', 'b1'), ('a3', 'b3'), ('a2', 'b1')}\n",
      "f는 단사 함수도, 전사 함수도 아니다\n"
     ]
    }
   ],
   "source": [
    "# 함수 판별\n",
    "def isFunction(A, B, f):\n",
    "    print(f'A={A}\\nB={B}\\nf={f}')\n",
    "    is_func = True\n",
    "    domainCnt= dict()   # 정의역의 대응 개수를 딕셔너리형태로 만듦\n",
    "    \n",
    "    # 함수 여부 체크\n",
    "    for r in f:\n",
    "        x, y = r[0], r[1]        \n",
    "        if x not in A: is_func = False\n",
    "        if y not in B: is_func = False\n",
    "        \n",
    "        # 정의역 개수 세기\n",
    "        if x not in domainCnt: domainCnt[x] = 1\n",
    "        else: domainCnt[x] += 1     \n",
    "        # 함수 체크(X가 여러 개의 Y와 연결되어 있는지 확인)\n",
    "        if domainCnt[x] > 1: is_func = False \n",
    "    \n",
    "    return is_func\n",
    "\n",
    "\n",
    "# 단사함수 형태 판별하기\n",
    "def isInjective(A, B, f):\n",
    "    is_injective = True  # 단사함수 \n",
    "    domainCnt= dict()   # 정의역의 대응 개수를 딕셔너리형태로 만듦\n",
    "    rangeCnt = dict()   # 치역의 대응 개수를 딕셔너리형태로 만듦\n",
    "    \n",
    "    for r in f:\n",
    "        x, y = r[0], r[1]\n",
    "        \n",
    "        # 정의역 개수 세기\n",
    "        if x not in domainCnt: domainCnt[x] = 1\n",
    "        else: domainCnt[x] += 1     \n",
    "        \n",
    "        # 치역 개수 세기\n",
    "        if y not in rangeCnt: rangeCnt[y] = 1\n",
    "        else: rangeCnt[y] += 1  \n",
    "            \n",
    "        # 단사함수 여부 체크(치역이 여러 개 인지 확인)\n",
    "        if rangeCnt[y] > 1: \n",
    "            is_injective = False \n",
    "            \n",
    "    # 단사함수 여부 체크(집합 A의 개수와 정의역의 개수가 같은지 확인 \n",
    "    if len(A) != len(domainCnt):\n",
    "        is_injective = False\n",
    "\n",
    "    return is_injective\n",
    "\n",
    "\n",
    "# 전사함수 형태 판별하기\n",
    "def isSurjective(A, B, f):\n",
    "    is_surjective= True  # 전사함수\n",
    "    domainCnt= dict()   # 정의역의 대응 개수를 딕셔너리형태로 만듦\n",
    "    rangeCnt = dict()   # 치역의 대응 개수를 딕셔너리형태로 만듦\n",
    "    \n",
    "    for r in f:\n",
    "        y = r[1]\n",
    "        # 치역 개수 세기\n",
    "        if y not in rangeCnt: rangeCnt[y] = 1\n",
    "        else: rangeCnt[y] += 1  \n",
    "            \n",
    "    # 전사 함수 여부\n",
    "    if len(B) != len(rangeCnt):\n",
    "        is_surjective = False\n",
    "        \n",
    "    return is_surjective\n",
    "\n",
    "\n",
    "def checkFunctionType(A, B, f):    \n",
    "    \n",
    "    if isFunction(A, B, f):\n",
    "        if isSurjective(A, B, f) and isInjective(A, B, f):\n",
    "            print('f는 전단사 함수이다')\n",
    "        elif isSurjective(A, B, f)==False and isInjective(A, B, f)==False:\n",
    "            print('f는 단사 함수도, 전사 함수도 아니다')\n",
    "        elif isInjective(A, B, f):\n",
    "            print('f는 단사 함수이다')\n",
    "        elif isSurjective(A, B, f):\n",
    "            print('f는 전사 함수이다')\n",
    "    else:\n",
    "        print('f는 함수가 아닙니다.')\n",
    "\n",
    "        \n",
    "#----------------------\n",
    "# 함수 형태 판별하기\n",
    "#----------------------\n",
    "A = {'a1','a2','a3'}\n",
    "B = {'b1','b2','b3'}\n",
    "C = {'c1','c2'}\n",
    "D = {'d1','d2','d3','d4'}\n",
    "\n",
    "f1 = {('a1','b2'),('a2','b3'),('a3','b1')}\n",
    "f2 = {('a1','d2'),('a2','d1'),('a3','d4')}\n",
    "f3 = {('b1','c2'),('b2','c2'),('b3','c1')}\n",
    "f4 = {('a1','b1'),('a2','b1'),('a3','b3')}        \n",
    "        \n",
    "    \n",
    "checkFunctionType(A, B, f1)\n",
    "print('-'*30)\n",
    "checkFunctionType(A, D, f2)\n",
    "print('-'*30)\n",
    "checkFunctionType(B, C, f3)\n",
    "print('-'*30)\n",
    "checkFunctionType(A, B, f4)"
   ]
  },
  {
   "cell_type": "markdown",
   "id": "e39616b1",
   "metadata": {},
   "source": [
    "### [부교제 예제6-11] 단사함수 판별하기"
   ]
  },
  {
   "cell_type": "code",
   "execution_count": 54,
   "id": "169f7f1d",
   "metadata": {
    "scrolled": true
   },
   "outputs": [
    {
     "name": "stdout",
     "output_type": "stream",
     "text": [
      "A={1, 2, 3}\n",
      "B={1, 2, 3, 4, 5}\n",
      "f={(2, 3), (1, 1), (3, 4)}\n",
      "f는 단사함수이다\n",
      "------------------------------\n",
      "A={1, 2, 3}\n",
      "B={1, 2, 3, 4, 5}\n",
      "f={(2, 3), (1, 1), (3, 3)}\n",
      "g는 단사함수가 아니다\n"
     ]
    }
   ],
   "source": [
    "A={1,2,3}\n",
    "B={1,2,3,4,5}\n",
    "f={(1,1),(2,3),(3,4)}\n",
    "g={(1,1),(2,3),(3,3)}\n",
    "\n",
    "if isFunction(A, B, f):\n",
    "    if isInjective(A, B, f):\n",
    "        print('f는 단사함수이다')\n",
    "    else:\n",
    "        print('f는 단사함수가 아니다')\n",
    "print('-'*30)        \n",
    "if isFunction(A, B, g):\n",
    "    if isInjective(A, B, g):\n",
    "        print('g는 단사함수이다')\n",
    "    else:\n",
    "        print('g는 단사함수가 아니다')"
   ]
  },
  {
   "cell_type": "markdown",
   "id": "041d9d1a",
   "metadata": {},
   "source": [
    "### 함수의 개수와 조건 (A에서  B 로 가는 함수)\n",
    "|A|= m, |B| = n  \n",
    "- 함수의 개수: $m^n$\n",
    "- 단사 함수의 조건과 개수: $m>=n, mPn=$ $m!\\over(m-n)!$\n",
    "- 전사 함수의 조건과 개수: $n >= m, nPm + nCm$ x $m^{n-m}$\n",
    "- 전단사 함수의 조건과 개수: $n = m$, $n!$"
   ]
  },
  {
   "cell_type": "markdown",
   "id": "2f5a26d8",
   "metadata": {},
   "source": [
    "#### 순열(Permutations)\n",
    "- 반복 가능한 객체(=길이가 n인)에 대해서 중복을 허용하지 않고 r개를 뽑아서 나열한다.\n",
    "- 뽑힌 순서대로 나열하기 때문에 순서가 의미 있다. (즉, 같은 값이 뽑히더라도 순서가 다르면 다른 경우의 수로 취급한다.)\n",
    "- permutations(반복 가능한 객체, r) --> 객체에서 r개를 추출"
   ]
  },
  {
   "cell_type": "code",
   "execution_count": 51,
   "id": "0d5293c0",
   "metadata": {},
   "outputs": [
    {
     "name": "stdout",
     "output_type": "stream",
     "text": [
      "(1, 2) (1, 3) (1, 4) (2, 1) (2, 3) (2, 4) (3, 1) (3, 2) (3, 4) (4, 1) (4, 2) (4, 3) "
     ]
    }
   ],
   "source": [
    "from itertools import permutations\n",
    "\n",
    "for i in permutations([1,2,3,4], 2):\n",
    "    print(i, end=\" \")"
   ]
  },
  {
   "cell_type": "markdown",
   "id": "bd0afb3d",
   "metadata": {},
   "source": [
    "#### 조합(Ccombinations)\n",
    "- 반복 가능한 객체(=길이가 n인)에 대해서 중복을 허용하지 않고 r개를 뽑는다.\n",
    "- 순서 의미 없다.\n",
    "- combinations(반복 가능한 객체, r)"
   ]
  },
  {
   "cell_type": "code",
   "execution_count": 52,
   "id": "c1997478",
   "metadata": {},
   "outputs": [
    {
     "name": "stdout",
     "output_type": "stream",
     "text": [
      "(1, 2) (1, 3) (1, 4) (2, 3) (2, 4) (3, 4) "
     ]
    }
   ],
   "source": [
    "from itertools import combinations\n",
    "\n",
    "for i in combinations([1,2,3,4], 2):\n",
    "    print(i, end=\" \")"
   ]
  },
  {
   "cell_type": "markdown",
   "id": "9e8d447a",
   "metadata": {},
   "source": [
    "--------------------------------"
   ]
  },
  {
   "cell_type": "markdown",
   "id": "fcc798f1",
   "metadata": {},
   "source": [
    "## 5-3. 역함수와 합성 함수"
   ]
  },
  {
   "cell_type": "markdown",
   "id": "8164a0f8",
   "metadata": {},
   "source": [
    "### 역함수(inverse function) : 전단사 함수 일때 정의됨\n",
    "- 함수  f의 역함수는  $ f^{-1}$ : $y=f(x)$, $x=f^{-1}(y)$  \n",
    "- f가 전단사 함수이면 $f^{-1}$도 전단사함수이고,  $(f^{-1})^{-1} = f$이다"
   ]
  },
  {
   "cell_type": "code",
   "execution_count": 55,
   "id": "7285f983",
   "metadata": {
    "scrolled": true
   },
   "outputs": [
    {
     "data": {
      "image/png": "[encoded data removed]",
      "text/plain": [
       "<Figure size 432x288 with 1 Axes>"
      ]
     },
     "metadata": {
      "needs_background": "light"
     },
     "output_type": "display_data"
    }
   ],
   "source": [
    "def f1(x):\n",
    "    return x ** 2\n",
    "\n",
    "\n",
    "def f1inv(x):\n",
    "    return np.sqrt(x)\n",
    "\n",
    "\n",
    "x = np.linspace(0, 3, 300)\n",
    "plt.plot(x, f1(x), \"r-\", label=\"$f(x) = x^2$\")\n",
    "plt.plot(x, f1inv(x), \"b-.\", label=\"$f^{-1}(x) = \\sqrt{x}$\")\n",
    "plt.plot(x, x, \"g--\")\n",
    "plt.axis(\"equal\")\n",
    "plt.xlim(0, 2)\n",
    "plt.ylim(0, 2)\n",
    "plt.legend()\n",
    "plt.title(\"inverse function graph\")\n",
    "plt.show()"
   ]
  },
  {
   "cell_type": "markdown",
   "id": "9a7c7809",
   "metadata": {},
   "source": [
    "### [예제5-5] 역함수의 존재\n",
    "- A에서 B로의 관계 f가 존재할 때\n",
    "- f의 역관계($f^{-1} = g$)가  B에서 A로의 함수인지 확인 "
   ]
  },
  {
   "cell_type": "code",
   "execution_count": 56,
   "id": "350d67b8",
   "metadata": {},
   "outputs": [
    {
     "name": "stdout",
     "output_type": "stream",
     "text": [
      "A={'a', 'c', 'b', 'd'}\n",
      "B={1, 2, 3, 4}\n",
      "f={('a', 2), ('a', 1), ('c', 4), ('d', 3)}\n",
      "f는 역함수가 존재하지 않는다.\n"
     ]
    }
   ],
   "source": [
    "A = {1, 2, 3, 4}\n",
    "B = {'a','b','c','d'}\n",
    "f = {(1,'a'), (2,'a'), (3,'d'), (4,'c')}\n",
    "\n",
    "# f의 역관계 g 만들기\n",
    "g = {(r[1], r[0]) for r in f}  # f \n",
    "\n",
    "# g가 B에서 A로의 함수인지 확인한다.\n",
    "# 앞에서 정의한 isFunction함수를 사용한다.\n",
    "if isFunction(B, A, g) :\n",
    "    print('f는 역함수가 존재한다.')\n",
    "else:\n",
    "    print('f는 역함수가 존재하지 않는다.')"
   ]
  },
  {
   "cell_type": "markdown",
   "id": "f7f4749b",
   "metadata": {},
   "source": [
    "### 합성 함수(composition function)\n",
    "- 함수 $f, g가 f:X  \\to Y, g: Y  \\to Z$라 할 때  집합 $X에서 집합 Z$로의 함수를  $f와 g$의 합성 함수라고 하고,  $g \\circ f $로 나타낸다.  "
   ]
  },
  {
   "cell_type": "markdown",
   "id": "04546d73",
   "metadata": {},
   "source": [
    "### [실습]: $f(x) = 2x, g(x) = x^2$,  --> g(f(x))를 구하는 예제"
   ]
  },
  {
   "cell_type": "code",
   "execution_count": 57,
   "id": "fed96fd6",
   "metadata": {},
   "outputs": [
    {
     "name": "stdout",
     "output_type": "stream",
     "text": [
      "16\n"
     ]
    }
   ],
   "source": [
    "import numpy as np\n",
    "\n",
    "def linear(x):\n",
    "    return 2*x\n",
    "\n",
    "def square(x):\n",
    "    return np.power(x, 2)\n",
    "\n",
    "def comp_func(list_func, x):\n",
    "    f1 = list_func[0]\n",
    "    f2 = list_func[1]\n",
    "    return f2(f1(x))\n",
    "\n",
    "func_list = [linear, square]\n",
    "\n",
    "print(comp_func(func_list, 2))"
   ]
  },
  {
   "cell_type": "markdown",
   "id": "f20e339d",
   "metadata": {},
   "source": [
    "------------------------------------"
   ]
  },
  {
   "cell_type": "markdown",
   "id": "72648deb",
   "metadata": {},
   "source": [
    "## 5-4. 특수 함수"
   ]
  },
  {
   "cell_type": "markdown",
   "id": "3d782d78",
   "metadata": {},
   "source": [
    "### [예제 5-8] 같은 함수인지 판별하기"
   ]
  },
  {
   "cell_type": "code",
   "execution_count": 60,
   "id": "098e4b07",
   "metadata": {},
   "outputs": [
    {
     "name": "stdout",
     "output_type": "stream",
     "text": [
      "f1:{0, 1}, g1:{0, 1}\n",
      "f1와 g1는 같은 함수이다.\n"
     ]
    }
   ],
   "source": [
    "import numpy as np \n",
    "\n",
    "A = B = {-1, 0, 1}\n",
    "\n",
    "def f(x):\n",
    "    return np.power(x, 2)\n",
    "\n",
    "def g(x):\n",
    "    return np.power(x, 4)\n",
    "\n",
    "f1 = {f(x) for x in A}\n",
    "g1 = {g(x) for x in A}\n",
    "print(f'f1:{f1}, g1:{g1}')\n",
    "if f1 == g1:\n",
    "    print('f1와 g1는 같은 함수이다.')\n",
    "else:\n",
    "    print('f1와 g1는 같은 함수가 아니다.')    "
   ]
  },
  {
   "cell_type": "markdown",
   "id": "a0699801",
   "metadata": {},
   "source": [
    "### 천장 함수(ceiling function) & 바닥 함수(floor function)\n",
    "-  ceil: 실수 𝑥에 대해서 𝑥보다 크거나 같은 정수 중에서 가장 작은 정수를 지정하는 함수\n",
    "- floor: 실수 𝑥에 대해서 𝑥보다 작거나 같은 정수 중에서 가장 큰 정수를 지정하는 함수"
   ]
  },
  {
   "cell_type": "code",
   "execution_count": 61,
   "id": "5b138d49",
   "metadata": {},
   "outputs": [
    {
     "name": "stdout",
     "output_type": "stream",
     "text": [
      "4\n",
      "3\n",
      "4\n",
      "4\n"
     ]
    }
   ],
   "source": [
    "import math\n",
    "\n",
    "print( math.ceil(3.5) )\n",
    "print( math.floor(3.5) )\n",
    "\n",
    "print(round(4.5))\n",
    "print(round(3.5))"
   ]
  },
  {
   "cell_type": "code",
   "execution_count": 62,
   "id": "f41948df",
   "metadata": {},
   "outputs": [
    {
     "name": "stdout",
     "output_type": "stream",
     "text": [
      "3\n",
      "2\n",
      "-2\n",
      "-3\n"
     ]
    }
   ],
   "source": [
    "import math\n",
    "\n",
    "print( math.ceil(2.51) )\n",
    "print( math.floor(2.51) )\n",
    "print( math.ceil(-2.51) )\n",
    "print( math.floor(-2.51) )"
   ]
  },
  {
   "cell_type": "markdown",
   "id": "5b6912d6",
   "metadata": {},
   "source": [
    "### 해시 함수(hash function)\n",
    "- 해시 함수는 임의의 길이를 가진 자료를 고정된 길이를 가진 자료로 변환시킴으로써 자료를 빨리 찾을 수 있도록 하는 함수"
   ]
  },
  {
   "cell_type": "markdown",
   "id": "020f0b19",
   "metadata": {},
   "source": [
    "### [예제 5-15] 해시 함수"
   ]
  },
  {
   "cell_type": "code",
   "execution_count": 65,
   "id": "df9e3297",
   "metadata": {},
   "outputs": [
    {
     "name": "stdout",
     "output_type": "stream",
     "text": [
      "6\n",
      "1\n",
      "6\n"
     ]
    }
   ],
   "source": [
    "def h(x):\n",
    "    return x % 10\n",
    "\n",
    "print( h(46) )\n",
    "print( h(251) )\n",
    "print( h(3256) )"
   ]
  },
  {
   "cell_type": "markdown",
   "id": "04c2414a",
   "metadata": {},
   "source": [
    "### [예제 5-16] 해시 함수의 응용"
   ]
  },
  {
   "cell_type": "code",
   "execution_count": 67,
   "id": "019ebcd4",
   "metadata": {},
   "outputs": [
    {
     "name": "stdout",
     "output_type": "stream",
     "text": [
      "78\n",
      "78\n"
     ]
    }
   ],
   "source": [
    "def h(x):\n",
    "    return x % 101\n",
    "\n",
    "print( h(2473871) )\n",
    "print( h(280) )"
   ]
  },
  {
   "cell_type": "markdown",
   "id": "7f1f86d2",
   "metadata": {},
   "source": [
    "### [실습] 해시 알고리즘 구현하기\n",
    "- 크기가 8인 해시 테이블"
   ]
  },
  {
   "cell_type": "markdown",
   "id": "69850a9d",
   "metadata": {},
   "source": [
    "#### 1. 해시 테이블 만들기(딕셔너리 구조 이용 )"
   ]
  },
  {
   "cell_type": "code",
   "execution_count": 100,
   "id": "310a394b",
   "metadata": {},
   "outputs": [
    {
     "name": "stdout",
     "output_type": "stream",
     "text": [
      "[0, 'a', 0, 0, 0, 0, 0, 0]\n",
      "[0, 'a', 0, 0, 0, 'cho', 0, 0]\n",
      "[0, 'a', 'b', 0, 0, 'cho', 0, 0]\n",
      "[0, 'a', 'b', 0, 0, 'cho', 0, 'd']\n",
      "key(2)-->value:b\n",
      "[0, 'a', 'b', 0, 0, 'cho', 0, 'kim']\n"
     ]
    }
   ],
   "source": [
    "# 크기가 8인 해시 테이블 만들기\n",
    "hash_table = list([0 for i in range(8)]) \n",
    "        \n",
    "def hash_function(key): \n",
    "    return key % 8 \n",
    "\n",
    "def insert(key, value): \n",
    "    index_key = hash(key)\n",
    "    hash_addr = hash_function(index_key) \n",
    "    hash_table[hash_addr] = value\n",
    "    print(hash_table)\n",
    "\n",
    "def read(key): \n",
    "    index_key = hash(key)\n",
    "    hash_addr = hash_function(index_key) \n",
    "    return hash_table[hash_addr] \n",
    "\n",
    "# key는 0부터 시작한다.(0~7)\n",
    "insert(1, 'a')          # key(1), value('a') 추가\n",
    "insert('name', 'cho')   # key('name'), value('a') 추가\n",
    "insert(2, 'b')          # key(2), value('b') 추가\n",
    "insert(7, 'd')          # key(7), value('d') 추가\n",
    "print(f'key(2)-->value:{read(2)}')          # key(2) 읽기\n",
    "\n",
    "# 키 값 충돌 발생\n",
    "insert(15, 'kim')        # key(15), value(kim') 추가"
   ]
  },
  {
   "cell_type": "markdown",
   "id": "309eb7d7",
   "metadata": {},
   "source": [
    "- 클래스로 구현함"
   ]
  },
  {
   "cell_type": "code",
   "execution_count": 94,
   "id": "e32f375e",
   "metadata": {},
   "outputs": [],
   "source": [
    "class HashTable: \n",
    "    def __init__(self): \n",
    "        self.hash_table = list([0 for i in range(8)]) \n",
    "        \n",
    "    def hash_function(self, key): \n",
    "        return key % 8 \n",
    "    \n",
    "    def insert(self, data, value): \n",
    "        index_key = hash(data)\n",
    "        hash_addr = self.hash_function(index_key) \n",
    "        self.hash_table[hash_addr] = value \n",
    "        \n",
    "    def read(self, data): \n",
    "        index_key = hash(data)\n",
    "        hash_addr = self.hash_function(index_key) \n",
    "        return self.hash_table[hash_addr] \n",
    "    \n",
    "    def print(self): \n",
    "        print(self.hash_table)\n"
   ]
  },
  {
   "cell_type": "code",
   "execution_count": 101,
   "id": "e687ebc6",
   "metadata": {},
   "outputs": [
    {
     "name": "stdout",
     "output_type": "stream",
     "text": [
      "[0, 'a', 0, 0, 0, 0, 0, 0]\n",
      "[0, 'a', 0, 0, 0, 'cho', 0, 0]\n",
      "[0, 'a', 'b', 0, 0, 'cho', 0, 0]\n",
      "[0, 'a', 'b', 0, 0, 'cho', 0, 'd']\n",
      "b\n",
      "[0, 'a', 'b', 0, 0, 'cho', 0, 'kim']\n"
     ]
    }
   ],
   "source": [
    "ht = HashTable()\n",
    "\n",
    "ht.insert(1, 'a')          # key값(1), value('a') 추가\n",
    "ht.print()\n",
    "ht.insert('name', 'cho')   # key값('name'), value('a') 추가\n",
    "ht.print()\n",
    "ht.insert(2, 'b')          # key값(2), value('b') 추가\n",
    "ht.print()\n",
    "ht.insert(7, 'd')          # key값(7), value('d') 추가\n",
    "ht.print()\n",
    "print(ht.read(2))\n",
    "\n",
    "\n",
    "# 키 값 충돌 발생\n",
    "ht.insert(15, 'kim')          # key값(15), value('kim') 추가\n",
    "ht.print()"
   ]
  },
  {
   "cell_type": "markdown",
   "id": "bc41c4c9",
   "metadata": {},
   "source": [
    "#### 2. 충돌 해결하기 : Chaining\n",
    "linked list로 데이터를 추가로 뒤에 연결시키는 방법"
   ]
  },
  {
   "cell_type": "code",
   "execution_count": 104,
   "id": "d37039dc",
   "metadata": {},
   "outputs": [],
   "source": [
    "class HashTable: \n",
    "    def __init__(self): \n",
    "        self.hash_table = list([0 for i in range(8)]) \n",
    "        \n",
    "    def hash_function(self, key): \n",
    "        return key % 8 \n",
    "    \n",
    "    def insert(self, key, value): \n",
    "        index_key = hash(key)\n",
    "        hash_addr = self.hash_function(index_key) \n",
    "        \n",
    "        #Linked list형태로 만듦\n",
    "        if self.hash_table[hash_addr] != 0: # 값이 이미 존재하면\n",
    "            for index in range(len(self.hash_table[hash_addr])):\n",
    "                if self.hash_table[hash_addr][index][0] == index_key:\n",
    "                    self.hash_table[hash_addr][index][1] = value\n",
    "                    return\n",
    "            self.hash_table[hash_addr].append([index_key, value]) \n",
    "        else: \n",
    "            self.hash_table[hash_addr] = [[index_key, value]] \n",
    "        \n",
    "    def read(self, key):\n",
    "        index_key = hash(key)\n",
    "        hash_addr = self.hash_function(index_key)\n",
    "        \n",
    "        if self.hash_table[hash_addr] != 0:\n",
    "            for i in range(len(self.hash_table[hash_addr])): \n",
    "                if self.hash_table[hash_addr][i][0] == index_key: \n",
    "                    # 키와 동일할 경우 -> 해당 value return \n",
    "                    return self.hash_table[hash_addr][i][1]\n",
    "\n",
    "            return None\n",
    "        else:\n",
    "            return None\n",
    "    \n",
    "    def print(self): \n",
    "        print(self.hash_table)     \n"
   ]
  },
  {
   "cell_type": "code",
   "execution_count": 105,
   "id": "accca717",
   "metadata": {},
   "outputs": [
    {
     "name": "stdout",
     "output_type": "stream",
     "text": [
      "[0, [[1, 'a']], 0, 0, 0, 0, 0, 0]\n",
      "[0, [[1, 'a']], 0, 0, 0, [[-7183154567869627123, 'cho']], 0, 0]\n",
      "[0, [[1, 'a']], [[2, 'b']], 0, 0, [[-7183154567869627123, 'cho']], 0, 0]\n",
      "[0, [[1, 'a']], [[2, 'b']], 0, 0, [[-7183154567869627123, 'cho']], 0, [[7, 'd']]]\n",
      "[0, [[1, 'a']], [[2, 'b']], 0, 0, [[-7183154567869627123, 'cho']], 0, [[7, 'd'], [15, 'kim']]]\n"
     ]
    }
   ],
   "source": [
    "ht = HashTable()\n",
    "\n",
    "ht.insert(1, 'a')\n",
    "ht.print()\n",
    "ht.insert('name', 'cho')\n",
    "ht.print()\n",
    "ht.insert(2, 'b')\n",
    "ht.print()\n",
    "ht.insert(7, 'd')\n",
    "ht.print()\n",
    "ht.insert(15, 'kim')\n",
    "ht.print()"
   ]
  },
  {
   "cell_type": "markdown",
   "id": "038b150b",
   "metadata": {},
   "source": [
    "#### 문자열 해싱\n",
    " - SHA-1:   SHA-1은 해쉬값의 크기를 160으로 고정하는 알고리즘\n",
    " - SHA-256: SHA-256은 해쉬값의 크기를 256으로 고정하는 알고리즘"
   ]
  },
  {
   "cell_type": "code",
   "execution_count": 108,
   "id": "e2781e3b",
   "metadata": {},
   "outputs": [
    {
     "name": "stdout",
     "output_type": "stream",
     "text": [
      "a94a8fe5ccb19ba61c4c0873d391e987982fbbd3\n",
      "2aae6c35c94fcfb415dbe95f408b9ce91ee846ed\n",
      "9f86d081884c7d659a2feaa0c55ad015a3bf4f1b2b0b822cd15d6c15b0f00a08\n",
      "b94d27b9934d3e08a52e52d7da7dabfac484efe37a5380ee9088f7ace2efcde9\n"
     ]
    }
   ],
   "source": [
    "import hashlib  \n",
    "\n",
    "def hash_sha1(data):\n",
    "    hash_object = hashlib.sha1()  \n",
    "    hash_object.update(data) \n",
    "    hex_dig = hash_object.hexdigest() \n",
    "    print(hex_dig) \n",
    "\n",
    "def hash_sha256(data):\n",
    "    hash_object = hashlib.sha256()\n",
    "    hash_object.update(data) \n",
    "    hex_dig = hash_object.hexdigest() \n",
    "    print(hex_dig) \n",
    "\n",
    "test1 = 'test'.encode()\n",
    "test2 = 'hello world'.encode()\n",
    "hash_sha1( test1 )\n",
    "hash_sha1( test2 )\n",
    "hash_sha256( test1 )\n",
    "hash_sha256( test2 )"
   ]
  },
  {
   "cell_type": "markdown",
   "id": "5737d746",
   "metadata": {},
   "source": [
    "---------------------------------------------"
   ]
  },
  {
   "cell_type": "markdown",
   "id": "6b90fd80",
   "metadata": {},
   "source": [
    "## 5-5. 응용 : 순열"
   ]
  },
  {
   "cell_type": "markdown",
   "id": "5e32da08",
   "metadata": {},
   "source": [
    "### 순열(Permutations)\n",
    "- 참고: https://docs.python.org/ko/3/library/itertools.html\n",
    "- 반복 가능한 객체(=길이가 n인)에 대해서 중복을 허용하지 않고 r개를 뽑아서 나열한다.\n",
    "- 뽑힌 순서대로 나열하기 때문에 순서가 의미 있다. (즉, 같은 값이 뽑히더라도 순서가 다르면 다른 경우의 수로 취급한다.)\n",
    "- permutations(반복 가능한 객체, r) --> 객체에서 r개를 추출"
   ]
  },
  {
   "cell_type": "markdown",
   "id": "219d0ff0",
   "metadata": {},
   "source": [
    "### [예제 5-18] 순열 표현하기"
   ]
  },
  {
   "cell_type": "code",
   "execution_count": 127,
   "id": "5caac716",
   "metadata": {},
   "outputs": [
    {
     "name": "stdout",
     "output_type": "stream",
     "text": [
      "[(1, 2, 3), (1, 3, 2), (2, 1, 3), (2, 3, 1), (3, 1, 2), (3, 2, 1)]\n"
     ]
    }
   ],
   "source": [
    "from itertools import permutations\n",
    "\n",
    "A = ['1','2','3']\n",
    "P = permutations([1,2,3])\n",
    "print( list(P) )"
   ]
  },
  {
   "cell_type": "code",
   "execution_count": 128,
   "id": "7f73c22a",
   "metadata": {},
   "outputs": [
    {
     "name": "stdout",
     "output_type": "stream",
     "text": [
      "['123', '132', '213', '231', '312', '321']\n"
     ]
    }
   ],
   "source": [
    "A = ['1','2','3']\n",
    "print( list(map(''.join, permutations(A))) )"
   ]
  },
  {
   "cell_type": "markdown",
   "id": "0fdf514e",
   "metadata": {},
   "source": [
    "### 순열 곱(product) : 두 개의 순열에 대한 합성"
   ]
  },
  {
   "cell_type": "markdown",
   "id": "e58e989f",
   "metadata": {},
   "source": [
    "### [예제 5-19] : 순열 곱 계산하기"
   ]
  },
  {
   "cell_type": "code",
   "execution_count": 157,
   "id": "ca5171bc",
   "metadata": {
    "scrolled": false
   },
   "outputs": [
    {
     "name": "stdout",
     "output_type": "stream",
     "text": [
      "matrix:\n",
      " [[0 0 1]\n",
      " [0 1 0]\n",
      " [1 0 0]]\n",
      "[(1, 3), (2, 2), (3, 1)]\n",
      "------------------------------\n",
      "matrix:\n",
      " [[1 0 0]\n",
      " [0 0 1]\n",
      " [0 1 0]]\n",
      "[(1, 1), (2, 3), (3, 2)]\n"
     ]
    }
   ],
   "source": [
    "import numpy as np\n",
    "\n",
    "A = [1,2,3] \n",
    "\n",
    "# 관계 행렬 만들기\n",
    "def makeRelationMatrix(A, B):    \n",
    "    datas = []\n",
    "    for a in A:\n",
    "        data = []\n",
    "        for b in A:\n",
    "            r = (a, b) \n",
    "            if r in B: data.append(1)\n",
    "            else: data.append(0)\n",
    "        datas.append(data)\n",
    "        \n",
    "    return np.array(datas)\n",
    "\n",
    "\n",
    "# 부울곱을 이용한 Matrix 출력\n",
    "def getBooleanProductMatrix(matrix):\n",
    "    R2 = list()\n",
    "    r, c = matrix.shape\n",
    "    for i in range(r):\n",
    "        for j in range(c):\n",
    "            if matrix[i][j]==1:\n",
    "                R2.append((A[i],A[j])) \n",
    "    return R2\n",
    "\n",
    "\n",
    "def makeProduct(A, R1, R2):\n",
    "    M1 = makeRelationMatrix(A, R1)\n",
    "    M2 = makeRelationMatrix(A, R2)\n",
    "    matrix = M1 @ M2\n",
    "    print(f'matrix:\\n {matrix}')\n",
    "    \n",
    "    # 합성 관계를 부울곱으로 계산한 결과\n",
    "    R_S = getBooleanProductMatrix(matrix) \n",
    "    return R_S\n",
    "\n",
    "# 순서 출렬을 위해 리스트로 표현함\n",
    "P2 = [(1,2),(2,1),(3,3)]\n",
    "P3 = [(1,2),(2,3),(3,1)]\n",
    "print( makeProduct(A, P2, P3) )\n",
    "print('-'*30)\n",
    "P4 = [(1,3),(2,1),(3,2)]\n",
    "P5 = [(1,3),(2,2),(3,1)]\n",
    "print( makeProduct(A, P4, P5) )\n"
   ]
  },
  {
   "cell_type": "markdown",
   "id": "6386888c",
   "metadata": {},
   "source": [
    "#### 연습문제: 26-a"
   ]
  },
  {
   "cell_type": "code",
   "execution_count": 145,
   "id": "e1be3c4e",
   "metadata": {},
   "outputs": [
    {
     "name": "stdout",
     "output_type": "stream",
     "text": [
      "matrix:\n",
      " [[0 1 0 0 0 0]\n",
      " [0 0 0 0 1 0]\n",
      " [0 0 0 0 0 1]\n",
      " [0 0 1 0 0 0]\n",
      " [1 0 0 0 0 0]\n",
      " [0 0 0 1 0 0]]\n",
      "[(1, 2), (2, 5), (3, 6), (4, 3), (5, 1), (6, 4)]\n",
      "------------------------------\n"
     ]
    }
   ],
   "source": [
    "A = [1,2,3,4,5,6]  \n",
    "R1 = [(1,3),(2,4),(3,1),(4,2),(5,6),(6,5)]\n",
    "R2 = [(1,6),(2,3),(3,2),(4,5),(5,4),(6,1)]\n",
    "\n",
    "print( makeProduct(A, R1, R2) )\n",
    "print('-'*30)"
   ]
  },
  {
   "cell_type": "markdown",
   "id": "46a5b891",
   "metadata": {},
   "source": [
    "#### 연습문제: 27-a"
   ]
  },
  {
   "cell_type": "code",
   "execution_count": 146,
   "id": "3160f266",
   "metadata": {},
   "outputs": [
    {
     "name": "stdout",
     "output_type": "stream",
     "text": [
      "matrix:\n",
      " [[0 0 0 0 1 0 0 0]\n",
      " [1 0 0 0 0 0 0 0]\n",
      " [0 1 0 0 0 0 0 0]\n",
      " [0 0 0 1 0 0 0 0]\n",
      " [0 0 0 0 0 0 1 0]\n",
      " [0 0 0 0 0 1 0 0]\n",
      " [0 0 0 0 0 0 0 1]\n",
      " [0 0 1 0 0 0 0 0]]\n",
      "[(1, 5), (2, 1), (3, 2), (4, 4), (5, 7), (6, 6), (7, 8), (8, 3)]\n",
      "------------------------------\n"
     ]
    }
   ],
   "source": [
    "A = [1,2,3,4,5,6,7,8]  \n",
    "R1 = [(1,3),(2,1),(3,2),(4,4),(5,5),(6,6),(7,7),(8,8)]\n",
    "R2 = [(1,1),(2,2),(3,5),(4,4),(5,7),(6,6),(7,8),(8,3)]\n",
    "\n",
    "print( makeProduct(A, R1, R2) )\n",
    "print('-'*30)"
   ]
  },
  {
   "cell_type": "markdown",
   "id": "60541f6b",
   "metadata": {},
   "source": [
    "### [예제 5-20] 순환적 순열 표기"
   ]
  },
  {
   "cell_type": "code",
   "execution_count": 158,
   "id": "53c6dc5e",
   "metadata": {},
   "outputs": [
    {
     "name": "stdout",
     "output_type": "stream",
     "text": [
      "[(1, 3), (2, 2), (3, 5), (4, 4), (5, 1)]\n",
      "[(1, 3), (2, 2), (3, 5), (4, 4), (5, 1)]\n",
      "[(1, 3), (2, 2), (3, 5), (4, 4), (5, 1)]\n"
     ]
    }
   ],
   "source": [
    "def cycleNotation(A, C):\n",
    "    L = []\n",
    "    for a in list(A):\n",
    "        if a in C:\n",
    "            if C.index(a) == len(C)-1: # 순환적순열의 마지막 요소\n",
    "                L.append( (a,C[0]) )\n",
    "            else:\n",
    "                L.append( (a,C[C.index(a)+1]) )\n",
    "        else:\n",
    "            L.append( (a,a) )\n",
    "    return L\n",
    "\n",
    "\n",
    "A = {1,2,3,4,5}\n",
    "cycle = (1,3,5)\n",
    "print( cycleNotation(A, cycle) )   \n",
    "\n",
    "cycle = (3,5,1)\n",
    "print( cycleNotation(A, cycle) ) \n",
    "\n",
    "cycle = (5,1,3)\n",
    "print( cycleNotation(A, cycle) ) "
   ]
  },
  {
   "cell_type": "markdown",
   "id": "d78e5078",
   "metadata": {},
   "source": [
    "### [예제 5-21] 순환적 순열의 곱"
   ]
  },
  {
   "cell_type": "code",
   "execution_count": 161,
   "id": "0554696f",
   "metadata": {},
   "outputs": [
    {
     "name": "stdout",
     "output_type": "stream",
     "text": [
      "matrix:\n",
      " [[0 0 0 0 1 0]\n",
      " [0 1 0 0 0 0]\n",
      " [0 0 0 0 0 1]\n",
      " [1 0 0 0 0 0]\n",
      " [0 0 0 1 0 0]\n",
      " [0 0 1 0 0 0]]\n",
      "[(1, 5), (2, 2), (3, 6), (4, 1), (5, 4), (6, 3)]\n",
      "------------------------------\n",
      "matrix:\n",
      " [[0 0 1 0 0 0]\n",
      " [0 1 0 0 0 0]\n",
      " [0 0 0 1 0 0]\n",
      " [1 0 0 0 0 0]\n",
      " [0 0 0 0 0 1]\n",
      " [0 0 0 0 1 0]]\n",
      "[(1, 3), (2, 2), (3, 4), (4, 1), (5, 6), (6, 5)]\n",
      "------------------------------\n"
     ]
    }
   ],
   "source": [
    "A = [1,2,3,4,5,6]\n",
    "cycle = (4,1,3,5)\n",
    "R1 = cycleNotation(A, cycle)\n",
    "\n",
    "cycle = (5,6,3)\n",
    "R2 = cycleNotation(A, cycle)\n",
    "\n",
    "print( makeProduct(A, R1, R2) )\n",
    "print('-'*30)\n",
    "\n",
    "print( makeProduct(A, R2, R1) )\n",
    "print('-'*30)"
   ]
  },
  {
   "cell_type": "markdown",
   "id": "8010e8d4",
   "metadata": {},
   "source": [
    "-------------------------"
   ]
  },
  {
   "cell_type": "markdown",
   "id": "0f56d003",
   "metadata": {},
   "source": [
    "THE END"
   ]
  }
 ],
 "metadata": {
  "kernelspec": {
   "display_name": "Python 3 (ipykernel)",
   "language": "python",
   "name": "python3"
  },
  "language_info": {
   "codemirror_mode": {
    "name": "ipython",
    "version": 3
   },
   "file_extension": ".py",
   "mimetype": "text/x-python",
   "name": "python",
   "nbconvert_exporter": "python",
   "pygments_lexer": "ipython3",
   "version": "3.9.7"
  }
 },
 "nbformat": 4,
 "nbformat_minor": 5
}
