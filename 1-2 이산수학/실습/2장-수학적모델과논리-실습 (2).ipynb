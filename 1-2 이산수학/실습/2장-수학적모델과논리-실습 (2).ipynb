{
 "cells": [
  {
   "cell_type": "markdown",
   "id": "43775709",
   "metadata": {},
   "source": [
    "## 2장 수학적 모델과 논리"
   ]
  },
  {
   "cell_type": "code",
   "execution_count": 1,
   "id": "5ade7234",
   "metadata": {},
   "outputs": [],
   "source": [
    "P = [True, True, False, False]\n",
    "Q = [True, False, True, False]"
   ]
  },
  {
   "cell_type": "markdown",
   "id": "ac2e33b4",
   "metadata": {},
   "source": [
    "### 예제: 2-2 : 논리곱"
   ]
  },
  {
   "cell_type": "code",
   "execution_count": 4,
   "id": "7ab65412",
   "metadata": {
    "scrolled": false
   },
   "outputs": [
    {
     "name": "stdout",
     "output_type": "stream",
     "text": [
      "P : True\t Q : True\t P∧Q : True\n",
      "P : True\t Q : False\t P∧Q : False\n",
      "P : False\t Q : True\t P∧Q : False\n",
      "P : False\t Q : False\t P∧Q : False\n"
     ]
    }
   ],
   "source": [
    "for p, q in zip(P, Q):\n",
    "    print(f'P : {p}\\t Q : {q}\\t P∧Q : {p and q}')"
   ]
  },
  {
   "cell_type": "markdown",
   "id": "13190fc1",
   "metadata": {},
   "source": [
    "### 예제 2-3 : 논리합"
   ]
  },
  {
   "cell_type": "code",
   "execution_count": 5,
   "id": "59dd451d",
   "metadata": {
    "scrolled": true
   },
   "outputs": [
    {
     "name": "stdout",
     "output_type": "stream",
     "text": [
      "P : True\t Q : True\t P∨Q : True\n",
      "P : True\t Q : False\t P∨Q : True\n",
      "P : False\t Q : True\t P∨Q : True\n",
      "P : False\t Q : False\t P∨Q : False\n"
     ]
    }
   ],
   "source": [
    "for p, q in zip(P, Q):\n",
    "    print(f'P : {p}\\t Q : {q}\\t P∨Q : {p or q}')"
   ]
  },
  {
   "cell_type": "markdown",
   "id": "8229e31f",
   "metadata": {},
   "source": [
    "### 예제 2-4 : 논리곱 & 논리합"
   ]
  },
  {
   "cell_type": "code",
   "execution_count": 11,
   "id": "d6362648",
   "metadata": {
    "scrolled": true
   },
   "outputs": [
    {
     "name": "stdout",
     "output_type": "stream",
     "text": [
      "P : True\t Q : True\t (P∧Q)∧(P∨Q) : True\n",
      "P : True\t Q : False\t (P∧Q)∧(P∨Q) : False\n",
      "P : False\t Q : True\t (P∧Q)∧(P∨Q) : False\n",
      "P : False\t Q : False\t (P∧Q)∧(P∨Q) : False\n"
     ]
    }
   ],
   "source": [
    "for p, q in zip(P, Q):\n",
    "    print(f'P : {p}\\t Q : {q}\\t (P∧Q)∧(P∨Q) : {(p and q) and (p or q)}')"
   ]
  },
  {
   "cell_type": "markdown",
   "id": "a0a41fcc",
   "metadata": {},
   "source": [
    "### 예제 2-5 : 부정"
   ]
  },
  {
   "cell_type": "code",
   "execution_count": 18,
   "id": "c0289ae6",
   "metadata": {},
   "outputs": [
    {
     "name": "stdout",
     "output_type": "stream",
     "text": [
      "P : True\t ~P : False\n",
      "P : False\t ~P : True\n"
     ]
    }
   ],
   "source": [
    "P = [True, False]\n",
    "for p in P:\n",
    "    print(f'P : {p}\\t ~P : {not p}')"
   ]
  },
  {
   "cell_type": "markdown",
   "id": "9f11bd8b",
   "metadata": {},
   "source": [
    "### 예제 2-6 : 부정"
   ]
  },
  {
   "cell_type": "code",
   "execution_count": 21,
   "id": "6688a1b8",
   "metadata": {},
   "outputs": [
    {
     "name": "stdout",
     "output_type": "stream",
     "text": [
      "P : True\t Q : True\t ~(P∧Q) : False\n",
      "P : True\t Q : False\t ~(P∧Q) : True\n",
      "P : False\t Q : True\t ~(P∧Q) : True\n",
      "P : False\t Q : False\t ~(P∧Q) : True\n"
     ]
    }
   ],
   "source": [
    "P, Q = [True,True,False,False], [True,False,True,False]\n",
    "\n",
    "for p, q in zip(P, Q):\n",
    "    print(f'P : {p}\\t Q : {q}\\t ~(P∧Q) : {not (p and q)}')"
   ]
  },
  {
   "cell_type": "markdown",
   "id": "499d20ec",
   "metadata": {},
   "source": [
    "### 배타적 논리합"
   ]
  },
  {
   "cell_type": "code",
   "execution_count": 22,
   "id": "8942bd6c",
   "metadata": {},
   "outputs": [
    {
     "name": "stdout",
     "output_type": "stream",
     "text": [
      "P : True\t Q : True\t P^Q : False\n",
      "P : True\t Q : False\t P^Q : True\n",
      "P : False\t Q : True\t P^Q : True\n",
      "P : False\t Q : False\t P^Q : False\n"
     ]
    }
   ],
   "source": [
    "P, Q = [True,True,False,False], [True,False,True,False]\n",
    "\n",
    "\n",
    "for p, q in zip(P, Q):\n",
    "    print(f'P : {p}\\t Q : {q}\\t P^Q : {p ^ q}')"
   ]
  },
  {
   "cell_type": "markdown",
   "id": "6438e2d5",
   "metadata": {},
   "source": [
    "### 예제 2-7: 배타적 논리합"
   ]
  },
  {
   "cell_type": "code",
   "execution_count": 23,
   "id": "13bf771b",
   "metadata": {
    "scrolled": true
   },
   "outputs": [
    {
     "name": "stdout",
     "output_type": "stream",
     "text": [
      "P : True\t Q : True\t ~(P∧Q) ∧ (~PvQ) : True\n",
      "P : True\t Q : False\t ~(P∧Q) ∧ (~PvQ) : True\n",
      "P : False\t Q : True\t ~(P∧Q) ∧ (~PvQ) : False\n",
      "P : False\t Q : False\t ~(P∧Q) ∧ (~PvQ) : False\n"
     ]
    }
   ],
   "source": [
    "P, Q = [True,True,False,False], [True,False,True,False]\n",
    "\n",
    "for p, q in zip(P, Q):\n",
    "    print(f'P : {p}\\t Q : {q}\\t ~(P∧Q) ∧ (~PvQ) : {(not (p and q)) ^ ((not p) or q)}')"
   ]
  },
  {
   "cell_type": "markdown",
   "id": "11224ad8",
   "metadata": {},
   "source": [
    "### 논리 함축"
   ]
  },
  {
   "cell_type": "code",
   "execution_count": 24,
   "id": "088a2ef8",
   "metadata": {},
   "outputs": [
    {
     "name": "stdout",
     "output_type": "stream",
     "text": [
      "P : True\t Q :True \t P->Q : True \n",
      "P : True\t Q :False \t P->Q : False \n",
      "P : False\t Q :True \t P->Q : True \n",
      "P : False\t Q :False \t P->Q : True \n"
     ]
    }
   ],
   "source": [
    "for p, q in zip(P, Q):\n",
    "    if p==True and q==False: \n",
    "        print(f'P : {p}\\t Q :{q} \\t P->Q : {False} ')\n",
    "    else:\n",
    "        print(f'P : {p}\\t Q :{q} \\t P->Q : {True} ')"
   ]
  },
  {
   "cell_type": "markdown",
   "id": "d14880cd",
   "metadata": {},
   "source": [
    "### 논리적 동치"
   ]
  },
  {
   "cell_type": "code",
   "execution_count": 25,
   "id": "ed6cf47d",
   "metadata": {},
   "outputs": [
    {
     "name": "stdout",
     "output_type": "stream",
     "text": [
      "P : True\t Q :True \t P <-> Q : True \n",
      "P : True\t Q :False \t P <-> Q : False \n",
      "P : False\t Q :True \t P <-> Q : False \n",
      "P : False\t Q :False \t P <-> Q : True \n"
     ]
    }
   ],
   "source": [
    "for p, q in zip(P, Q):\n",
    "    if p == q :\n",
    "        print(f'P : {p}\\t Q :{q} \\t P <-> Q : {True} ')\n",
    "    else:\n",
    "        print(f'P : {p}\\t Q :{q} \\t P <-> Q : {False} ')"
   ]
  },
  {
   "cell_type": "markdown",
   "id": "12fe5c3f",
   "metadata": {},
   "source": [
    "### 예제 2-15 : 합성 명제 진리표"
   ]
  },
  {
   "cell_type": "code",
   "execution_count": 28,
   "id": "c31d66fe",
   "metadata": {
    "scrolled": false
   },
   "outputs": [
    {
     "name": "stdout",
     "output_type": "stream",
     "text": [
      "P\t Q\t R\t P^Q\t ~P\t Q^R\t (~p)∨(Q∧R)\t (P∧Q)=>((~p)∨(Q∧R))\n",
      "True\t True\t True\t True\t False\t True\t True\t\t True\t\n",
      "True\t True\t False\t True\t True\t False\t False\t\t True\t\n",
      "True\t False\t True\t False\t False\t False\t False\t\t True\t\n",
      "True\t False\t False\t False\t True\t False\t False\t\t True\t\n",
      "False\t True\t True\t False\t False\t True\t True\t\t True\t\n",
      "False\t True\t False\t False\t True\t False\t True\t\t False\t\n",
      "False\t False\t True\t False\t False\t False\t True\t\t True\t\n",
      "False\t False\t False\t False\t True\t False\t True\t\t True\t\n"
     ]
    }
   ],
   "source": [
    "P = [True,True,True,True,False,False,False,False]\n",
    "Q = [True,True,False,False,True,True,False,False]\n",
    "R = [True,False,True,False,True,False,True,False]\n",
    "\n",
    "print(f'P\\t Q\\t R\\t P^Q\\t ~P\\t Q^R\\t (~p)∨(Q∧R)\\t (P∧Q)=>((~p)∨(Q∧R))')\n",
    "for i in range(len(P)):\n",
    "    a1 = P[i] and Q[i]\n",
    "    a2 = Q[i] and R[i]\n",
    "    a3 = (not P[i]) or (Q[i] and R[i])\n",
    "    \n",
    "    if ((P[i] or Q[i]) and not R[i]) and P[i] == False: a4 = False\n",
    "    else: a4 = True\n",
    "\n",
    "    print(f'{P[i]}\\t {Q[i]}\\t {R[i]}\\t {a1}\\t {not R[i]}\\t {a2}\\t {a3}\\t\\t {a4}\\t')"
   ]
  },
  {
   "cell_type": "markdown",
   "id": "d738997f",
   "metadata": {},
   "source": [
    "-------------------------------------"
   ]
  }
 ],
 "metadata": {
  "kernelspec": {
   "display_name": "Python 3 (ipykernel)",
   "language": "python",
   "name": "python3"
  },
  "language_info": {
   "codemirror_mode": {
    "name": "ipython",
    "version": 3
   },
   "file_extension": ".py",
   "mimetype": "text/x-python",
   "name": "python",
   "nbconvert_exporter": "python",
   "pygments_lexer": "ipython3",
   "version": "3.9.7"
  }
 },
 "nbformat": 4,
 "nbformat_minor": 5
}
