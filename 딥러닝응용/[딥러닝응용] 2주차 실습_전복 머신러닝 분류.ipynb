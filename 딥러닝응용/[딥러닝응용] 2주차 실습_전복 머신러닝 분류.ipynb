{
 "cells": [
  {
   "cell_type": "code",
   "execution_count": 2,
   "id": "d2d63cf2",
   "metadata": {},
   "outputs": [
    {
     "name": "stdout",
     "output_type": "stream",
     "text": [
      "분류 정확도: 0.7942583732057417\n"
     ]
    }
   ],
   "source": [
    "import pandas as pd\n",
    "from sklearn.model_selection import train_test_split\n",
    "from sklearn.ensemble import RandomForestClassifier\n",
    "from sklearn.metrics import accuracy_score\n",
    "\n",
    "# 데이터 로드\n",
    "url = \"https://github.com/MyungKyuYi/AI-class/raw/main/abalone.csv\"\n",
    "data = pd.read_csv(url)\n",
    "# # 데이터 로드 (CSV 파일 경로로 로드)\n",
    "# file_path = \"C:/Users/tksmd/abalone.csv\"\n",
    "# data = pd.read_csv(file_path)\n",
    "\n",
    "# 성별 변수를 one-hot 인코딩으로 변환\n",
    "data = pd.get_dummies(data, columns=['Sex'], drop_first=True)\n",
    "\n",
    "# 입력과 출력 변수 정의\n",
    "X = data.drop('Rings', axis=1)  # 'Rings'를 제외한 나머지 열을 X로 설정\n",
    "y = data['Rings']  # 'Rings'는 예측할 레이블\n",
    "\n",
    "# 'Rings'를 이진 분류용 레이블로 변환 (예: 10을 기준으로 미성숙/성숙)\n",
    "y_class = (y >= 10).astype(int)\n",
    "\n",
    "# 훈련 및 테스트 데이터 분할\n",
    "X_train, X_test, y_train, y_test = train_test_split(X, y_class, test_size=0.2, random_state=2024)\n",
    "\n",
    "# 모델 훈련 (Random Forest 사용)\n",
    "clf = RandomForestClassifier(random_state=2024)\n",
    "clf.fit(X_train, y_train)\n",
    "\n",
    "# 예측 및 성능 평가\n",
    "y_pred_class = clf.predict(X_test)\n",
    "print(\"분류 정확도:\", accuracy_score(y_test, y_pred_class))\n"
   ]
  },
  {
   "cell_type": "code",
   "execution_count": null,
   "id": "6986913e",
   "metadata": {},
   "outputs": [],
   "source": []
  },
  {
   "cell_type": "code",
   "execution_count": null,
   "id": "86580272",
   "metadata": {},
   "outputs": [],
   "source": []
  }
 ],
 "metadata": {
  "kernelspec": {
   "display_name": "Python 3 (ipykernel)",
   "language": "python",
   "name": "python3"
  },
  "language_info": {
   "codemirror_mode": {
    "name": "ipython",
    "version": 3
   },
   "file_extension": ".py",
   "mimetype": "text/x-python",
   "name": "python",
   "nbconvert_exporter": "python",
   "pygments_lexer": "ipython3",
   "version": "3.11.7"
  }
 },
 "nbformat": 4,
 "nbformat_minor": 5
}
