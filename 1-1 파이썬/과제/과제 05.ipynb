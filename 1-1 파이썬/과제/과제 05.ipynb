{
 "cells": [
  {
   "cell_type": "markdown",
   "id": "768e5445",
   "metadata": {},
   "source": [
    "# P 581 Programming 01번 문제"
   ]
  },
  {
   "cell_type": "code",
   "execution_count": 26,
   "id": "b9f364ba",
   "metadata": {},
   "outputs": [
    {
     "name": "stdout",
     "output_type": "stream",
     "text": [
      "(01, 02)\n",
      "(01, 02, 03)\n"
     ]
    }
   ],
   "source": [
    "class Point :\n",
    "    def __init__ (self, x, y):\n",
    "        self.x = x\n",
    "        self.y = y\n",
    "        \n",
    "    def __str__(self):\n",
    "        return \"(%.2d, %.2d)\" %(self.x, self.y) #여기까진 문제에서 주어진대로 식을 쓴것뿐이다.\n",
    "    \n",
    "class Point3D(Point):\n",
    "    def __init__(self, x, y, z):              \n",
    "        super().__init__(x, y)                  #부모 클래스의 생성자를 명시적으로 호출\n",
    "        self.z = z\n",
    "        \n",
    "    def __str__(self):\n",
    "        return \"(%.2d, %.2d, %.2d)\" %(self.x, self.y, self.z)  #z변수가 추가된 만큼 이 메소드도 오버라이딩해줘야한다\n",
    "    \n",
    "a = Point(1, 2)\n",
    "print(a)\n",
    "\n",
    "b = Point3D(1, 2, 3)\n",
    "print(b)"
   ]
  },
  {
   "cell_type": "markdown",
   "id": "a4bd1eb1",
   "metadata": {},
   "source": [
    "# P 582  Programming 05번 문제"
   ]
  },
  {
   "cell_type": "code",
   "execution_count": 45,
   "id": "39875eb4",
   "metadata": {
    "scrolled": true
   },
   "outputs": [
    {
     "name": "stdout",
     "output_type": "stream",
     "text": [
      "가장 나이가 많은 고양이는 10살입니다.\n"
     ]
    }
   ],
   "source": [
    "class Animal :\n",
    "    def __init__(self, age):\n",
    "        self.age = age\n",
    "        \n",
    "    def eat(self):\n",
    "        print(\"동물이 먹고 있습니다.\")      #여기까지는 본문내용이다\n",
    "        \n",
    "class Cat(Animal):                         \n",
    "    def __init__(self, age, name, breed):  #문제에서 주어진 속성들을 인스턴스 변수로 정의\n",
    "        super().__init__(age)              #부모클래스 생성자 호출\n",
    "        self.name = name\n",
    "        self.breed = breed\n",
    "    \n",
    "a=Cat(10, \"meow\", \"no\")\n",
    "b=Cat(5, \"takealook\", \"no\")\n",
    "c=Cat(1, \"nya\", \"no\")\n",
    "    \n",
    "def get_oldest_cat(*args):               #최대값을 반환하는 함수를 만든다\n",
    "    return max(args)\n",
    "    \n",
    "d = get_oldest_cat(a.age, b.age, c.age)  #위에서 만든 함수를 알아서 고양이들의 '나이'를 최대값으로 반환해주지 않으므로 a,b,c대신 각각 a.age, b.age, c.age를 넣고 함수를 작동시킨다\n",
    "print(f\"가장 나이가 많은 고양이는 {d}살입니다.\")\n",
    "        "
   ]
  },
  {
   "cell_type": "markdown",
   "id": "98cf01d6",
   "metadata": {},
   "source": [
    "## Animal 관련 코드가 본문에 두개있길래 혹시나 해서"
   ]
  },
  {
   "cell_type": "code",
   "execution_count": null,
   "id": "1db91df9",
   "metadata": {},
   "outputs": [],
   "source": [
    "class Animal(object):\n",
    "    pass\n",
    "\n",
    "class Dog(Animal):\n",
    "    def __init__(self, name):\n",
    "        self.name = name\n",
    "\n",
    "class person(object):\n",
    "    def __init__(self, name):\n",
    "        self.name = name\n",
    "        self.pet = None"
   ]
  },
  {
   "cell_type": "markdown",
   "id": "f9236bf3",
   "metadata": {},
   "source": [
    "# P 640  Programming 06번 문제"
   ]
  },
  {
   "cell_type": "code",
   "execution_count": 3,
   "id": "ae2284f5",
   "metadata": {},
   "outputs": [
    {
     "name": "stdout",
     "output_type": "stream",
     "text": [
      "[[ 0.90822229 -0.82534415  0.0959857 ]\n",
      " [-3.0092013  -0.07364819  0.20033007]\n",
      " [ 0.66202902  0.24112698 -0.31134867]]\n",
      "[[ 0.90822229 -0.82534415  0.0959857 ]\n",
      " [-3.0092013  -0.07364819  0.20033007]\n",
      " [ 0.66202902  0.24112698 -0.31134867]]\n"
     ]
    }
   ],
   "source": [
    "import numpy as np        #numpy 모듈을 불러온다\n",
    "\n",
    "a = np.random.randn(3,3)   #3X3 난수로 행렬을 만든다\n",
    "print(a)                   #행렬이 잘 생성되었는지 확인\n",
    "\n",
    "a = (a - 0) / 1     #위와 같이 난수로 행렬을 만들면 평균값은 0 표준편차는 1이 되므로 이와 같이 정규화가 진행된다. 즉, 값이 변하지 않는다.\n",
    "print(a)            #정규화된 행렬을 확인"
   ]
  },
  {
   "cell_type": "code",
   "execution_count": 9,
   "id": "0ee22886",
   "metadata": {
    "scrolled": false
   },
   "outputs": [
    {
     "name": "stdout",
     "output_type": "stream",
     "text": [
      "[[ 8.66129575 13.48932789 14.72860531]\n",
      " [ 9.03748992 11.22455484 10.34545335]\n",
      " [10.61741269 11.17681658 11.22876516]]\n",
      "[[-0.66935212  1.74466394  2.36430265]\n",
      " [-0.48125504  0.61227742  0.17272667]\n",
      " [ 0.30870635  0.58840829  0.61438258]]\n"
     ]
    }
   ],
   "source": [
    "import numpy as np\n",
    "\n",
    "m, sigma = 10, 2                   #평균값(m)과 표준편차(sigma)를 다르게 하기 위해 이와 같이 변수를 설정한다\n",
    "a = m+sigma*np.random.randn(3,3)  #평균값 10, 표준편차 2인 3X3 행렬을 난수로 만든다\n",
    "print(a)                           #만들어진 행렬 확인\n",
    "\n",
    "a = (a - m) / sigma               #정규화 진행\n",
    "print(a)                          #정규화된 행렬 확인"
   ]
  },
  {
   "cell_type": "markdown",
   "id": "0bf0c983",
   "metadata": {},
   "source": [
    "## 최종본(준한이거 참고)"
   ]
  },
  {
   "cell_type": "code",
   "execution_count": 38,
   "id": "138d7e66",
   "metadata": {},
   "outputs": [
    {
     "name": "stdout",
     "output_type": "stream",
     "text": [
      "[[ 0.1656191   1.80158248 -1.61265475]\n",
      " [ 0.40667336 -0.18493221 -0.2243075 ]\n",
      " [-1.15363273  1.101509    0.72480902]]\n",
      "[[ 0.05154855  1.68059771 -1.71920961]\n",
      " [ 0.29158403 -0.29752118 -0.33673006]\n",
      " [-1.26212759  0.98348302  0.60837512]]\n"
     ]
    }
   ],
   "source": [
    "import numpy as np        #numpy 모듈을 불러온다\n",
    "\n",
    "a = np.random.randn(3,3)   #3X3 난수로 행렬을 만든다\n",
    "print(a)                   #행렬이 잘 생성되었는지 확인\n",
    "mean = a.mean()            # 행렬의 평균값을 변수에 저장\n",
    "std = a.std()              # 행렬의 표준편차를 변수에 저장\n",
    "print((a-mean)/std)        # 정규화후 다시 출력\n"
   ]
  },
  {
   "cell_type": "markdown",
   "id": "3c387bb9",
   "metadata": {},
   "source": [
    "# P 640  Programming 08번 문제"
   ]
  },
  {
   "cell_type": "code",
   "execution_count": 20,
   "id": "0f46cd2e",
   "metadata": {
    "scrolled": false
   },
   "outputs": [
    {
     "name": "stdout",
     "output_type": "stream",
     "text": [
      "원본 배열:\n",
      " [[0 1 2]\n",
      " [3 4 5]\n",
      " [6 7 8]]\n",
      "모든 요소의 합: 36\n",
      "각 열의 합: [ 9 12 15]\n",
      "각 행의 합: [ 3 12 21]\n"
     ]
    }
   ],
   "source": [
    "import numpy as np\n",
    "\n",
    "b = np.arange(0,9).reshape(3,3)       #hint에서 말해준 부분\n",
    "\n",
    "print(\"원본 배열:\\n\", b)              #원본 배열 출력\n",
    "print(\"모든 요소의 합:\", b.sum())     #sum 내장 함수로 모든 요소의 합계 구함\n",
    "print(\"각 열의 합:\", b.sum(axis=0))   #axix 내장 함수로 axis=0인 직선(행렬의 열)을 따라 통계값을 계산한다\n",
    "print(\"각 행의 합:\", b.sum(axis=1))   #axix 내장 함수로 axis=1인 직선(행렬의 행)을 따라 통계값을 계산한다\n"
   ]
  },
  {
   "cell_type": "markdown",
   "id": "b6423fc4",
   "metadata": {},
   "source": [
    "# Exercise 07번"
   ]
  },
  {
   "cell_type": "code",
   "execution_count": 28,
   "id": "653f6425",
   "metadata": {},
   "outputs": [
    {
     "name": "stdout",
     "output_type": "stream",
     "text": [
      "20\n"
     ]
    }
   ],
   "source": [
    "class X :\n",
    "    def __init__(self, a):\n",
    "        self.a = a\n",
    "    def inc(self):\n",
    "        self.a+=1\n",
    "        \n",
    "class Y(X) :\n",
    "    def __init__(self, b):\n",
    "        super().__init__(10)\n",
    "        self.b = b\n",
    "    def inc(self):\n",
    "        self.a+=10\n",
    "        \n",
    "o = Y(10)\n",
    "o.inc()\n",
    "print(o.a)"
   ]
  },
  {
   "cell_type": "code",
   "execution_count": null,
   "id": "995b444b",
   "metadata": {},
   "outputs": [],
   "source": []
  }
 ],
 "metadata": {
  "kernelspec": {
   "display_name": "Python 3 (ipykernel)",
   "language": "python",
   "name": "python3"
  },
  "language_info": {
   "codemirror_mode": {
    "name": "ipython",
    "version": 3
   },
   "file_extension": ".py",
   "mimetype": "text/x-python",
   "name": "python",
   "nbconvert_exporter": "python",
   "pygments_lexer": "ipython3",
   "version": "3.9.7"
  }
 },
 "nbformat": 4,
 "nbformat_minor": 5
}
