{
 "cells": [
  {
   "cell_type": "code",
   "execution_count": null,
   "id": "b87700c1",
   "metadata": {},
   "outputs": [],
   "source": [
    "p 515 contacts.py"
   ]
  },
  {
   "cell_type": "code",
   "execution_count": null,
   "id": "e672651a",
   "metadata": {},
   "outputs": [],
   "source": []
  },
  {
   "cell_type": "code",
   "execution_count": null,
   "id": "4117c6c4",
   "metadata": {},
   "outputs": [],
   "source": [
    "p 519 lambda1.py"
   ]
  },
  {
   "cell_type": "code",
   "execution_count": null,
   "id": "663dfe5b",
   "metadata": {},
   "outputs": [],
   "source": []
  },
  {
   "cell_type": "code",
   "execution_count": null,
   "id": "f6b8bdd0",
   "metadata": {},
   "outputs": [],
   "source": [
    "p 520 lambda2.py"
   ]
  },
  {
   "cell_type": "code",
   "execution_count": null,
   "id": "009c9056",
   "metadata": {},
   "outputs": [],
   "source": []
  },
  {
   "cell_type": "code",
   "execution_count": null,
   "id": "e67684d2",
   "metadata": {},
   "outputs": [],
   "source": [
    "p 521 iterator1.py"
   ]
  },
  {
   "cell_type": "code",
   "execution_count": null,
   "id": "10c0d099",
   "metadata": {},
   "outputs": [],
   "source": []
  },
  {
   "cell_type": "code",
   "execution_count": null,
   "id": "70d914ca",
   "metadata": {},
   "outputs": [],
   "source": [
    "p 524 iterator2.py"
   ]
  },
  {
   "cell_type": "code",
   "execution_count": null,
   "id": "616eac30",
   "metadata": {},
   "outputs": [],
   "source": []
  },
  {
   "cell_type": "code",
   "execution_count": null,
   "id": "3294ddde",
   "metadata": {},
   "outputs": [],
   "source": [
    "p 543 Programming 02번"
   ]
  },
  {
   "cell_type": "code",
   "execution_count": null,
   "id": "563e699c",
   "metadata": {},
   "outputs": [],
   "source": []
  },
  {
   "cell_type": "code",
   "execution_count": null,
   "id": "a118fb6c",
   "metadata": {},
   "outputs": [],
   "source": [
    "p 543 Programming 04번"
   ]
  },
  {
   "cell_type": "code",
   "execution_count": null,
   "id": "2860e671",
   "metadata": {},
   "outputs": [],
   "source": []
  },
  {
   "cell_type": "code",
   "execution_count": null,
   "id": "ff35d313",
   "metadata": {},
   "outputs": [],
   "source": [
    "p 544 Programming 06번"
   ]
  },
  {
   "cell_type": "code",
   "execution_count": 1,
   "id": "cae89c88",
   "metadata": {},
   "outputs": [],
   "source": [
    "def fact(n):\n",
    "    #n = int(input(\"정수를 입력하시오: \"))\n",
    "    fact = 1\n",
    "    for i in range(1, n+1):\n",
    "        fact = fact * i\n",
    "    print(\"%d은 %d이다.\" % (n, fact))\n",
    "    \n",
    "#이 소스코드를 스파이더에 복붙한 후 py파일로 저장, py파일의 이름을 factorial로 직접 변경 한 뒤, ProgramData -> Anaconda3 -> Lib 폴더에 저장"
   ]
  },
  {
   "cell_type": "code",
   "execution_count": 2,
   "id": "dda6f0c4",
   "metadata": {},
   "outputs": [
    {
     "name": "stdout",
     "output_type": "stream",
     "text": [
      "10!은 3628800이다.\n"
     ]
    }
   ],
   "source": [
    "import factorial\n",
    "\n",
    "factorial.fact(10)"
   ]
  },
  {
   "cell_type": "code",
   "execution_count": null,
   "id": "cea81b57",
   "metadata": {},
   "outputs": [],
   "source": [
    "p 544 Programming 08번"
   ]
  },
  {
   "cell_type": "code",
   "execution_count": null,
   "id": "7a63c98f",
   "metadata": {},
   "outputs": [],
   "source": []
  },
  {
   "cell_type": "code",
   "execution_count": null,
   "id": "b1f0bb9f",
   "metadata": {},
   "outputs": [],
   "source": [
    "p 544 Programming 10번"
   ]
  },
  {
   "cell_type": "code",
   "execution_count": null,
   "id": "2f82dece",
   "metadata": {},
   "outputs": [],
   "source": []
  },
  {
   "cell_type": "code",
   "execution_count": null,
   "id": "986765f7",
   "metadata": {},
   "outputs": [],
   "source": [
    "p 544 Programming 11번"
   ]
  },
  {
   "cell_type": "code",
   "execution_count": null,
   "id": "ca519e28",
   "metadata": {},
   "outputs": [],
   "source": []
  },
  {
   "cell_type": "code",
   "execution_count": null,
   "id": "36a2c454",
   "metadata": {},
   "outputs": [],
   "source": [
    "p 544 Programming 12번"
   ]
  },
  {
   "cell_type": "code",
   "execution_count": null,
   "id": "eb625fec",
   "metadata": {},
   "outputs": [],
   "source": []
  }
 ],
 "metadata": {
  "kernelspec": {
   "display_name": "Python 3 (ipykernel)",
   "language": "python",
   "name": "python3"
  },
  "language_info": {
   "codemirror_mode": {
    "name": "ipython",
    "version": 3
   },
   "file_extension": ".py",
   "mimetype": "text/x-python",
   "name": "python",
   "nbconvert_exporter": "python",
   "pygments_lexer": "ipython3",
   "version": "3.9.7"
  }
 },
 "nbformat": 4,
 "nbformat_minor": 5
}
