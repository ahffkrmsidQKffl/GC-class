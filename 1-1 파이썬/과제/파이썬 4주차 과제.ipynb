{
 "cells": [
  {
   "cell_type": "markdown",
   "id": "4051d919",
   "metadata": {},
   "source": [
    "## p.184  도전문제"
   ]
  },
  {
   "cell_type": "code",
   "execution_count": 23,
   "id": "d54582bb",
   "metadata": {},
   "outputs": [
    {
     "name": "stdout",
     "output_type": "stream",
     "text": [
      "1000번 중에서 128번 성공\n"
     ]
    }
   ],
   "source": [
    "import random\n",
    "wins = 0\n",
    "\n",
    "for i in range(1000) :\n",
    "    dice1 = random.randint(1, 6)\n",
    "    dice2 = random.randint(1, 6)\n",
    "    if dice1 + dice2 == 6 : wins = wins + 1\n",
    "\n",
    "print(\"1000번 중에서 %d번 성공\" % wins)\n",
    "\n"
   ]
  },
  {
   "cell_type": "markdown",
   "id": "0ad25fba",
   "metadata": {},
   "source": [
    "## p.188 도전문제"
   ]
  },
  {
   "cell_type": "code",
   "execution_count": 5,
   "id": "2c94ac10",
   "metadata": {},
   "outputs": [
    {
     "name": "stdout",
     "output_type": "stream",
     "text": [
      "2 3 5 7 11 13 17 19 23 29 31 37 41 43 47 53 59 61 67 71 73 79 83 89 97 "
     ]
    }
   ],
   "source": [
    "N_PRIMES = 100\n",
    "number = 2\n",
    "\n",
    "while number < N_PRIMES :\n",
    "    divisor = 2\n",
    "    prime = True\n",
    "    \n",
    "    while divisor < number :\n",
    "        if number % divisor == 0:\n",
    "            prime = False\n",
    "            break;\n",
    "        divisor += 1\n",
    "    if prime:\n",
    "        print(number, end=\" \")\n",
    "        \n",
    "    number += 1"
   ]
  },
  {
   "cell_type": "markdown",
   "id": "3ffb91bc",
   "metadata": {},
   "source": [
    "## p.190 도전문제"
   ]
  },
  {
   "cell_type": "code",
   "execution_count": 24,
   "id": "55ec3829",
   "metadata": {},
   "outputs": [
    {
     "name": "stdout",
     "output_type": "stream",
     "text": [
      "반복횟수:555\n",
      "Pi = 3.141593\n"
     ]
    }
   ],
   "source": [
    "a = 2\n",
    "b = 3\n",
    "c = 4\n",
    "divident = 4\n",
    "sum = 3\n",
    "loop_count = int(input(\"반복횟수:\"))\n",
    "while(loop_count > 0 ) : \n",
    "    sum = sum + divident / (a*b*c)\n",
    "    divident = -1.0 * divident\n",
    "    a = a + 2\n",
    "    b = b + 2\n",
    "    c = c + 2\n",
    "    loop_count = loop_count - 1\n",
    "print(\"Pi = %f\" % sum)"
   ]
  },
  {
   "cell_type": "code",
   "execution_count": 7,
   "id": "38b6d736",
   "metadata": {},
   "outputs": [
    {
     "name": "stdout",
     "output_type": "stream",
     "text": [
      "반복횟수:5555\n",
      "Pi = 3.141593\n"
     ]
    }
   ],
   "source": [
    "loop_count = int(input(\"반복횟수:\"))\n",
    "sum = 3\n",
    "a = 2\n",
    "b = 3\n",
    "c = 4\n",
    "divident = 4\n",
    "for i in range(loop_count) :\n",
    "    sum = sum + divident / (a*b*c)\n",
    "    divident = -1.0 * divident\n",
    "    a = a + 2\n",
    "    b = b + 2\n",
    "    c = c + 2\n",
    "print(\"Pi = %f\" % sum) "
   ]
  },
  {
   "cell_type": "markdown",
   "id": "83d0e539",
   "metadata": {},
   "source": [
    "## p.194 도전문제"
   ]
  },
  {
   "cell_type": "code",
   "execution_count": 10,
   "id": "093c1fe6",
   "metadata": {
    "scrolled": true
   },
   "outputs": [
    {
     "name": "stdout",
     "output_type": "stream",
     "text": [
      "초기 금액 $50\n",
      "목표 금액 $250\n",
      "100번 중에서 0번 성공\n"
     ]
    }
   ],
   "source": [
    "import random\n",
    "\n",
    "initial_money = 50\n",
    "goal = 250\n",
    "wins = 0\n",
    "\n",
    "for i in range(100) :\n",
    "    cash = initial_money\n",
    "    while cash > 0 and cash < goal :\n",
    "        number = random.randint(1, 5)\n",
    "        if number == 1 :\n",
    "            cash = cash + 1\n",
    "        else :\n",
    "            cash = cash - 1\n",
    "    if cash == goal : wins = wins + 1\n",
    "        \n",
    "print(\"초기 금액 $%d\" % initial_money)\n",
    "print(\"목표 금액 $%d\" % goal)\n",
    "print(\"100번 중에서 %d번 성공\" % wins)"
   ]
  },
  {
   "cell_type": "markdown",
   "id": "f0edc41a",
   "metadata": {},
   "source": [
    "## p.198 3번"
   ]
  },
  {
   "cell_type": "code",
   "execution_count": 25,
   "id": "5143d43f",
   "metadata": {},
   "outputs": [
    {
     "name": "stdout",
     "output_type": "stream",
     "text": [
      "1부터 100 사이의 모든 3의 배수의 합은 1683입니다.\n"
     ]
    }
   ],
   "source": [
    "sum = 0\n",
    "for i in range(100) :\n",
    "    if i % 3 == 0 :\n",
    "        sum = sum + i\n",
    "print(\"1부터 100 사이의 모든 3의 배수의 합은 %d입니다.\" % sum)"
   ]
  },
  {
   "cell_type": "markdown",
   "id": "d2d6c8d9",
   "metadata": {},
   "source": [
    "## p.198 4번"
   ]
  },
  {
   "cell_type": "code",
   "execution_count": 26,
   "id": "c3f6ef50",
   "metadata": {},
   "outputs": [
    {
     "name": "stdout",
     "output_type": "stream",
     "text": [
      "정수를 입력하시오 : 60\n",
      "1 2 3 4 5 6 10 12 15 20 30 60 "
     ]
    }
   ],
   "source": [
    "n = int(input(\"정수를 입력하시오 : \"))\n",
    "divisor = 1\n",
    "while(divisor<=n) :\n",
    "    if n % divisor == 0 : \n",
    "        print(divisor, end=\" \")\n",
    "    divisor = divisor + 1\n"
   ]
  },
  {
   "cell_type": "markdown",
   "id": "7a67128d",
   "metadata": {},
   "source": [
    "## p.199 8번"
   ]
  },
  {
   "cell_type": "code",
   "execution_count": 28,
   "id": "3b69d60e",
   "metadata": {},
   "outputs": [
    {
     "name": "stdout",
     "output_type": "stream",
     "text": [
      "23\n"
     ]
    }
   ],
   "source": [
    "n = 1\n",
    "\n",
    "while n**2 <= 500 :\n",
    "    if  n**2 > 500 :\n",
    "        break;\n",
    "        \n",
    "    n = n + 1\n",
    "    \n",
    "print (n)\n"
   ]
  },
  {
   "cell_type": "markdown",
   "id": "89ac597b",
   "metadata": {},
   "source": [
    "## p.199 10번"
   ]
  },
  {
   "cell_type": "code",
   "execution_count": 29,
   "id": "755be51f",
   "metadata": {},
   "outputs": [
    {
     "name": "stdout",
     "output_type": "stream",
     "text": [
      "n의 값을 입력하시오 : 10\n",
      "계산값은 385입니다.\n"
     ]
    }
   ],
   "source": [
    "n = int(input(\"n의 값을 입력하시오 : \"))\n",
    "result  = 0\n",
    "\n",
    "for i in range(n+1) :\n",
    "    result = result + i**2\n",
    "\n",
    "print(\"계산값은 %d입니다.\" % result)\n",
    "    "
   ]
  },
  {
   "cell_type": "markdown",
   "id": "a3e52a0e",
   "metadata": {},
   "source": [
    "## p.200 13번"
   ]
  },
  {
   "cell_type": "code",
   "execution_count": 30,
   "id": "f3bf1f2e",
   "metadata": {
    "scrolled": true
   },
   "outputs": [
    {
     "name": "stdout",
     "output_type": "stream",
     "text": [
      "몇 번째 항까지 구할까요? : 10\n",
      "0, 1, 1, 2, 3, 5, 8, 13, 21, 34, 55"
     ]
    }
   ],
   "source": [
    "n = int(input(\"몇 번째 항까지 구할까요? : \"))\n",
    "a = 0\n",
    "b = 1\n",
    "\n",
    "\n",
    "if  n == 0 :\n",
    "    print (a)\n",
    "elif  n == 1 :\n",
    "    print (\"%d, %d\" % (a, b))\n",
    "else :\n",
    "    print (0, end = \"\")\n",
    "    for i in range (n) : \n",
    "        b, a = b+a, b\n",
    "        print (\", %d\" % a, end = \"\")\n",
    "\n",
    "       \n",
    "        \n",
    "        \n",
    "\n"
   ]
  },
  {
   "cell_type": "markdown",
   "id": "960ce755",
   "metadata": {},
   "source": [
    "## p.200 14번"
   ]
  },
  {
   "cell_type": "code",
   "execution_count": 31,
   "id": "aacc9119",
   "metadata": {},
   "outputs": [
    {
     "name": "stdout",
     "output_type": "stream",
     "text": [
      "2 3 5 7 11 13 17 19 "
     ]
    }
   ],
   "source": [
    "N_PRIMES = 20\n",
    "number = 2\n",
    "\n",
    "while number < N_PRIMES :\n",
    "    divisor = 2\n",
    "    prime = True\n",
    "    \n",
    "    while divisor < number :\n",
    "        if number % divisor == 0:\n",
    "            prime = False\n",
    "            break;\n",
    "        divisor += 1\n",
    "    if prime:\n",
    "        print(number, end=\" \")\n",
    "        \n",
    "    number += 1"
   ]
  },
  {
   "cell_type": "markdown",
   "id": "0bdd76ec",
   "metadata": {},
   "source": [
    "## p.200 15번"
   ]
  },
  {
   "cell_type": "code",
   "execution_count": 32,
   "id": "f4068253",
   "metadata": {},
   "outputs": [
    {
     "name": "stdout",
     "output_type": "stream",
     "text": [
      "46.10464832285218\n"
     ]
    }
   ],
   "source": [
    "a = 1\n",
    "b = 3\n",
    "result = 0\n",
    "\n",
    "while b < 102 :\n",
    "    result = result + a/b\n",
    "    a += 2\n",
    "    b += 2\n",
    "    \n",
    "print (result)"
   ]
  },
  {
   "cell_type": "markdown",
   "id": "8a82eb10",
   "metadata": {},
   "source": [
    "## p.201 17번"
   ]
  },
  {
   "cell_type": "code",
   "execution_count": 34,
   "id": "e2310c1a",
   "metadata": {},
   "outputs": [
    {
     "name": "stdout",
     "output_type": "stream",
     "text": [
      "fizzbuzz\n",
      "*\n",
      "*\n",
      "fizz\n",
      "*\n",
      "buzz\n",
      "fizz\n",
      "*\n",
      "*\n",
      "fizz\n"
     ]
    }
   ],
   "source": [
    "for i in range (10) :\n",
    "    if i%3==0 and i%5==0: print('fizzbuzz')\n",
    "    elif i%3==0: print('fizz')\n",
    "    elif i%5==0: print('buzz')\n",
    "    else : print('*')"
   ]
  },
  {
   "cell_type": "code",
   "execution_count": null,
   "id": "da169e58",
   "metadata": {},
   "outputs": [],
   "source": []
  }
 ],
 "metadata": {
  "kernelspec": {
   "display_name": "Python 3 (ipykernel)",
   "language": "python",
   "name": "python3"
  },
  "language_info": {
   "codemirror_mode": {
    "name": "ipython",
    "version": 3
   },
   "file_extension": ".py",
   "mimetype": "text/x-python",
   "name": "python",
   "nbconvert_exporter": "python",
   "pygments_lexer": "ipython3",
   "version": "3.9.7"
  }
 },
 "nbformat": 4,
 "nbformat_minor": 5
}
