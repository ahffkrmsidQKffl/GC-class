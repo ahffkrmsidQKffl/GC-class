{
 "cells": [
  {
   "cell_type": "code",
   "execution_count": null,
   "id": "6a03c27f",
   "metadata": {},
   "outputs": [],
   "source": [
    "p.378 lab 원 클래스 작성"
   ]
  },
  {
   "cell_type": "code",
   "execution_count": 2,
   "id": "6d949263",
   "metadata": {},
   "outputs": [
    {
     "name": "stdout",
     "output_type": "stream",
     "text": [
      "원의 면적 314.1592653589793\n",
      "원의 둘레 62.83185307179586\n"
     ]
    }
   ],
   "source": [
    "import math\n",
    "\n",
    "class Circle :\n",
    "    def __init__ (self, radius = 0) :\n",
    "        self.radius = radius \n",
    "        \n",
    "    def getArea(self) :\n",
    "        return math.pi * self.radius * self.radius\n",
    "    \n",
    "    def getPrimeter(self) :\n",
    "        return math.pi * 2 * self.radius\n",
    "    \n",
    "c = Circle(10)\n",
    "print(\"원의 면적\", c.getArea())\n",
    "print(\"원의 둘레\", c.getPrimeter())"
   ]
  },
  {
   "cell_type": "code",
   "execution_count": null,
   "id": "44e933c5",
   "metadata": {},
   "outputs": [],
   "source": [
    "p.383 lab student.py"
   ]
  },
  {
   "cell_type": "code",
   "execution_count": 1,
   "id": "a5a7669d",
   "metadata": {},
   "outputs": [
    {
     "data": {
      "text/plain": [
       "'Hong'"
      ]
     },
     "execution_count": 1,
     "metadata": {},
     "output_type": "execute_result"
    }
   ],
   "source": [
    "class Student : \n",
    "    def __init__ (self, name = None, age = 0) :\n",
    "        self.__name = name\n",
    "        self.__age = age\n",
    "        \n",
    "    def getAge(self) :\n",
    "        return self.__age\n",
    "    \n",
    "    def getName(self) :\n",
    "        return self.__name\n",
    "    \n",
    "    def setAge(self, age) :\n",
    "        self.__age = age\n",
    "        \n",
    "    def setName(self, name) :\n",
    "        self.__name = name\n",
    "        \n",
    "obj = Student(\"Hong\", 20)\n",
    "#obj.setName(\"Kim\")\n",
    "obj.getName()"
   ]
  },
  {
   "cell_type": "code",
   "execution_count": null,
   "id": "d4eecf28",
   "metadata": {},
   "outputs": [],
   "source": [
    "p.384 lab 은행 계좌"
   ]
  },
  {
   "cell_type": "code",
   "execution_count": 3,
   "id": "19568c2d",
   "metadata": {},
   "outputs": [
    {
     "name": "stdout",
     "output_type": "stream",
     "text": [
      "통장에 1500 가 입금되었음\n"
     ]
    },
    {
     "data": {
      "text/plain": [
       "11500"
      ]
     },
     "execution_count": 3,
     "metadata": {},
     "output_type": "execute_result"
    }
   ],
   "source": [
    "class bank :\n",
    "    def __init__ (self, balance) :\n",
    "        self.__balance = balance\n",
    "        \n",
    "    def withdraw(self, wit) :\n",
    "        self.__balance = self.__balance-wit\n",
    "        print(\"통장에서\",wit, \"가 출금되었음\")\n",
    "        return self.__balance\n",
    "    \n",
    "    def deposit(self, dep) :\n",
    "        self.__balance = self.__balance+dep\n",
    "        print(\"통장에\",dep, \"가 입금되었음\")\n",
    "        return self.__balance\n",
    "    \n",
    "    def getBank (self) :\n",
    "        return self.__balance\n",
    "    \n",
    "a = bank(10000)\n",
    "a.deposit(1500)\n",
    "a.getBank()"
   ]
  },
  {
   "cell_type": "markdown",
   "id": "f9019b9f",
   "metadata": {
    "scrolled": true
   },
   "source": [
    "p.392 lab dog.py"
   ]
  },
  {
   "cell_type": "code",
   "execution_count": 16,
   "id": "221033db",
   "metadata": {},
   "outputs": [
    {
     "name": "stdout",
     "output_type": "stream",
     "text": [
      "Bulldog\n",
      "Bulldog\n",
      "Bulldog\n",
      "Baduk\n",
      "MArry\n"
     ]
    }
   ],
   "source": [
    "class Dog :\n",
    "    kind = \"Bulldog\"\n",
    "    def __init__(self, name, age=0) :\n",
    "        self.name = name\n",
    "        self.age = age\n",
    "        \n",
    "a = Dog(\"Baduk\", 2)\n",
    "b = Dog(\"MArry\", 3)\n",
    "\n",
    "print(a.kind)\n",
    "print(b.kind)\n",
    "print(Dog.kind)\n",
    "\n",
    "print(a.name)\n",
    "print(b.name)"
   ]
  },
  {
   "cell_type": "code",
   "execution_count": null,
   "id": "758116d0",
   "metadata": {},
   "outputs": [],
   "source": [
    "p.394 lab 벡터 객체에 특수 메소드 정의하기"
   ]
  },
  {
   "cell_type": "code",
   "execution_count": 6,
   "id": "dc7bcbaf",
   "metadata": {},
   "outputs": [
    {
     "name": "stdout",
     "output_type": "stream",
     "text": [
      "(1, 1)\n",
      "(1, 1)\n"
     ]
    }
   ],
   "source": [
    "class vector :\n",
    "    def __init__ (self, x, y) :\n",
    "        self.x = x\n",
    "        self.y = y\n",
    "        \n",
    "    def __add__ (self, other) :\n",
    "        return vector(self.x + other.x, self.y + other.y)\n",
    "    \n",
    "    def __min__ (self, other) :\n",
    "        return vector(self.x - other.x, self.y - other.y)\n",
    "    \n",
    "    def __eq__ (self, other) :\n",
    "        return self.x == other.x and self.y == other.y\n",
    "            \n",
    "    def __str__(self):\n",
    "        return '(%g, %g)' % (self.x, self.y)\n",
    "    \n",
    "u = vector(0,1)\n",
    "v = vector(1,0)\n",
    "w = vector(1,1)\n",
    "\n",
    "a=u+v\n",
    "\n",
    "print(a)\n",
    "print(w)\n",
    "    "
   ]
  },
  {
   "cell_type": "code",
   "execution_count": null,
   "id": "c87a5b0f",
   "metadata": {},
   "outputs": [],
   "source": [
    "p.396 lab 주사위 클래스"
   ]
  },
  {
   "cell_type": "code",
   "execution_count": 12,
   "id": "35ac797a",
   "metadata": {},
   "outputs": [
    {
     "name": "stdout",
     "output_type": "stream",
     "text": [
      "주사위의 값 =  4\n"
     ]
    }
   ],
   "source": [
    "from random import randint\n",
    "\n",
    "class Dice :\n",
    "    \n",
    "    def __init__ (self, x, y) :\n",
    "        self.__x = x\n",
    "        self.__y = y\n",
    "        self.__size = 30\n",
    "        self.__value = 1\n",
    "        \n",
    "    def read_dice(self) :\n",
    "        return self.__value\n",
    "    \n",
    "    def print_dice(self):\n",
    "        print(\"주사위의 값 = \", self.__value)\n",
    "        \n",
    "    def roll_dice(self):\n",
    "        self.__value = randint(1,6)\n",
    "        \n",
    "d = Dice(100,100)\n",
    "d.roll_dice()\n",
    "d.print_dice()"
   ]
  },
  {
   "cell_type": "code",
   "execution_count": null,
   "id": "f29c18bb",
   "metadata": {},
   "outputs": [],
   "source": [
    "p.401 문제 04"
   ]
  },
  {
   "cell_type": "code",
   "execution_count": null,
   "id": "d195787f",
   "metadata": {},
   "outputs": [],
   "source": [
    "class Rectangle :\n",
    "    def __init__ (self, x, y, w, h) :\n",
    "        self.x = x\n",
    "        self.y = y\n",
    "        self.w = w\n",
    "        self.h = h\n",
    "    \n",
    "    def setX(self, x):\n",
    "        self.x = x\n",
    "        \n",
    "    def getX(self):\n",
    "        return self.x\n",
    "    \n",
    "    def setY(self, y):\n",
    "        self.y = y\n",
    "        \n",
    "    def getY(self):\n",
    "        return self.y\n",
    "    \n",
    "    def setW(self, w):\n",
    "        self.w = w\n",
    "        \n",
    "    def getW(self):\n",
    "        return self.w\n",
    "    \n",
    "    def setH(self, h):\n",
    "        self.h = h\n",
    "        \n",
    "    def getH(self):\n",
    "        return self.h\n",
    "    \n",
    "    def getArea(self):\n",
    "        return w * h\n",
    "    \n",
    "    def overlap(self, other):\n",
    "        if self.x-self.h > other.x or"
   ]
  },
  {
   "cell_type": "code",
   "execution_count": null,
   "id": "aa5eec00",
   "metadata": {},
   "outputs": [],
   "source": [
    "p.402 문제 06"
   ]
  },
  {
   "cell_type": "code",
   "execution_count": null,
   "id": "da475410",
   "metadata": {},
   "outputs": [],
   "source": [
    "class Person :\n",
    "    count = 0\n",
    "    def __init__ (self, name, mobile=\"00000000\", office=\"0000000\", email=\"tksmdch@gachon.ac.kr\"):\n",
    "        self.name = name\n",
    "        self.mobile = mobile\n",
    "        self.office = office\n",
    "        self.email = email\n",
    "        Person.count += 1\n",
    "        self.count = Person.count\n",
    "        \n",
    "    def __str__(self):\n",
    "        return f\"{self.name}, {self.mobile}, {self.office}, {self.email}\"\n",
    "    \n",
    "    def setName(self, name):\n",
    "        self.name = name\n",
    "        \n",
    "    def getName(self):\n",
    "        return self.name\n",
    "    \n",
    "    def setMobile(self, mobile):\n",
    "        self.mobile = mobile\n",
    "        \n",
    "    def getMobile(self):\n",
    "        return self.mobile\n",
    "    \n",
    "    def setOffice(self, office):\n",
    "        self.office = office\n",
    "        \n",
    "    def getOffice(self):\n",
    "        return self.office\n",
    "    \n",
    "    def setEmail(self, email):\n",
    "        self.email = email\n",
    "        \n",
    "    def getEmail(self):\n",
    "        return self.email\n",
    "    \n",
    "    def __add__(self, other):\n",
    "        return Person(self.name + other.name, self.mobile + other.mobile, self.office + other.office, self.email + other.email)\n",
    "    \n",
    "    def __sub__(self, other):\n",
    "        return Person(self.name - other.name, self.mobile - other.mobile, self.office - other.office, self.email - other.email)\n",
    "    \n",
    "    def __mul__(self, other):    \n",
    "        return Person(self.name * other.name, self.mobile * other.mobile, self.office * other.office, self.email * other.email)\n",
    "\n",
    "    \n",
    "p1 = Person(\"Kim\", office=\"1234566\", email=\"kim@company.com\")\n",
    "p2 = Person(\"Park\", office=\"2345678\")\n",
    "p4 = p1+p2\n",
    "#p5 = p1*p2 <~ 곱하기는 뭐 어캐 구현하란거지 ㅋㅋ\n",
    "p2.setEmail(\"park@company.com\")\n",
    "#p3 = Person(\"Kim\", email=\"1234566\", \"kim@company.com\") <~ 오류나는문장\n",
    "p3 = Person(\"Kim\", \"1234566\", \"kim@company.com\")\n",
    "\n",
    "\n",
    "print(p1)\n",
    "print(p2)\n",
    "print(p3)\n",
    "print(p4)\n",
    "#print(p5) <~ 곱하기는 뭐 어캐 구현하란거지 ㅋㅋ"
   ]
  }
 ],
 "metadata": {
  "kernelspec": {
   "display_name": "Python 3 (ipykernel)",
   "language": "python",
   "name": "python3"
  },
  "language_info": {
   "codemirror_mode": {
    "name": "ipython",
    "version": 3
   },
   "file_extension": ".py",
   "mimetype": "text/x-python",
   "name": "python",
   "nbconvert_exporter": "python",
   "pygments_lexer": "ipython3",
   "version": "3.9.7"
  }
 },
 "nbformat": 4,
 "nbformat_minor": 5
}
