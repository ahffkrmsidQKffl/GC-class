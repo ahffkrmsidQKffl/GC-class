{
 "cells": [
  {
   "cell_type": "code",
   "execution_count": null,
   "id": "6a03c27f",
   "metadata": {},
   "outputs": [],
   "source": [
    "p.378 lab 원 클래스 작성"
   ]
  },
  {
   "cell_type": "code",
   "execution_count": 2,
   "id": "6d949263",
   "metadata": {},
   "outputs": [
    {
     "name": "stdout",
     "output_type": "stream",
     "text": [
      "원의 면적 314.1592653589793\n",
      "원의 둘레 62.83185307179586\n"
     ]
    }
   ],
   "source": [
    "import math\n",
    "\n",
    "class Circle :\n",
    "    def __init__ (self, radius = 0) :\n",
    "        self.radius = radius \n",
    "        \n",
    "    def getArea(self) :\n",
    "        return math.pi * self.radius * self.radius\n",
    "    \n",
    "    def getPrimeter(self) :\n",
    "        return math.pi * 2 * self.radius\n",
    "    \n",
    "c = Circle(10)\n",
    "print(\"원의 면적\", c.getArea())\n",
    "print(\"원의 둘레\", c.getPrimeter())"
   ]
  },
  {
   "cell_type": "code",
   "execution_count": null,
   "id": "44e933c5",
   "metadata": {},
   "outputs": [],
   "source": [
    "p.383 lab student.py"
   ]
  },
  {
   "cell_type": "code",
   "execution_count": 7,
   "id": "a5a7669d",
   "metadata": {},
   "outputs": [
    {
     "data": {
      "text/plain": [
       "'Kim'"
      ]
     },
     "execution_count": 7,
     "metadata": {},
     "output_type": "execute_result"
    }
   ],
   "source": [
    "class Student : \n",
    "    def __init__ (self, name = None, age = 0) :\n",
    "        self.__name = name\n",
    "        self.__age = age\n",
    "        \n",
    "    def getAge(self) :\n",
    "        return self.__age\n",
    "    \n",
    "    def getName(self) :\n",
    "        return self.__name\n",
    "    \n",
    "    def setAge(self, age) :\n",
    "        self.__age = age\n",
    "        \n",
    "    def setName(self, name) :\n",
    "        self.__name = name\n",
    "        \n",
    "obj = Student(\"Hong\", 20)\n",
    "obj.setName(\"Kim\")\n",
    "obj.getName()"
   ]
  },
  {
   "cell_type": "code",
   "execution_count": null,
   "id": "d4eecf28",
   "metadata": {},
   "outputs": [],
   "source": [
    "p.384 lab 은행 계좌"
   ]
  },
  {
   "cell_type": "code",
   "execution_count": 14,
   "id": "19568c2d",
   "metadata": {},
   "outputs": [
    {
     "name": "stdout",
     "output_type": "stream",
     "text": [
      "통장에 1500 가 입금되었음\n"
     ]
    },
    {
     "data": {
      "text/plain": [
       "11500"
      ]
     },
     "execution_count": 14,
     "metadata": {},
     "output_type": "execute_result"
    }
   ],
   "source": [
    "class bank :\n",
    "    def __init__ (self, balance) :\n",
    "        self.__balance = balance\n",
    "        \n",
    "    def withdraw(self, wit) :\n",
    "        self.__balance = self.__balance-wit\n",
    "        print(\"통장에\",wit, \"가 출금되었음\")\n",
    "        return self.__balance\n",
    "    \n",
    "    def deposit(self, dep) :\n",
    "        self.__balance = self.__balance+dep\n",
    "        print(\"통장에\",dep, \"가 입금되었음\")\n",
    "        return self.__balance\n",
    "    \n",
    "    def getBank (self) :\n",
    "        return self.__balance\n",
    "    \n",
    "a = bank(10000)\n",
    "a.deposit(1500)\n",
    "a.getBank()"
   ]
  },
  {
   "cell_type": "code",
   "execution_count": 15,
   "id": "d6c505fb",
   "metadata": {
    "scrolled": true
   },
   "outputs": [
    {
     "ename": "SyntaxError",
     "evalue": "invalid syntax (Temp/ipykernel_2916/893388732.py, line 1)",
     "output_type": "error",
     "traceback": [
      "\u001b[1;36m  File \u001b[1;32m\"C:\\Users\\tksmd\\AppData\\Local\\Temp/ipykernel_2916/893388732.py\"\u001b[1;36m, line \u001b[1;32m1\u001b[0m\n\u001b[1;33m    p.392 lab dog.py\u001b[0m\n\u001b[1;37m     ^\u001b[0m\n\u001b[1;31mSyntaxError\u001b[0m\u001b[1;31m:\u001b[0m invalid syntax\n"
     ]
    }
   ],
   "source": [
    "p.392 lab dog.py"
   ]
  },
  {
   "cell_type": "code",
   "execution_count": 16,
   "id": "221033db",
   "metadata": {},
   "outputs": [
    {
     "name": "stdout",
     "output_type": "stream",
     "text": [
      "Bulldog\n",
      "Bulldog\n",
      "Bulldog\n",
      "Baduk\n",
      "MArry\n"
     ]
    }
   ],
   "source": [
    "class Dog :\n",
    "    kind = \"Bulldog\"\n",
    "    def __init__(self, name, age=0) :\n",
    "        self.name = name\n",
    "        self.age = age\n",
    "        \n",
    "a = Dog(\"Baduk\", 2)\n",
    "b = Dog(\"MArry\", 3)\n",
    "\n",
    "print(a.kind)\n",
    "print(b.kind)\n",
    "print(Dog.kind)\n",
    "\n",
    "print(a.name)\n",
    "print(b.name)"
   ]
  },
  {
   "cell_type": "code",
   "execution_count": null,
   "id": "758116d0",
   "metadata": {},
   "outputs": [],
   "source": [
    "p.394 lab 벡터 객체에 특수 메소드 정의하기"
   ]
  },
  {
   "cell_type": "code",
   "execution_count": null,
   "id": "dc7bcbaf",
   "metadata": {},
   "outputs": [],
   "source": [
    "class vector :\n",
    "    def __init__ (self, x, y) :\n",
    "        self.x = x\n",
    "        self.y = y\n",
    "        \n",
    "    def __add__ (self, other) :\n",
    "        return vector(self.x + other.x, self.y + other.y)\n",
    "    \n",
    "    def __min__ (self, other) :\n",
    "        return vector(self.x - other.x, self.y - other.y)\n",
    "    \n",
    "    def __eq__ (self, other) :\n",
    "        return self.x == other.x and self.y == other.y)\n",
    "    \n",
    "    "
   ]
  },
  {
   "cell_type": "code",
   "execution_count": null,
   "id": "c87a5b0f",
   "metadata": {},
   "outputs": [],
   "source": [
    "p.396 lab 주사위 클래스"
   ]
  },
  {
   "cell_type": "code",
   "execution_count": null,
   "id": "f29c18bb",
   "metadata": {},
   "outputs": [],
   "source": [
    "p.401 문제 04"
   ]
  },
  {
   "cell_type": "code",
   "execution_count": null,
   "id": "aa5eec00",
   "metadata": {},
   "outputs": [],
   "source": [
    "p.402 문제 06"
   ]
  },
  {
   "cell_type": "code",
   "execution_count": null,
   "id": "da475410",
   "metadata": {},
   "outputs": [],
   "source": []
  },
  {
   "cell_type": "code",
   "execution_count": null,
   "id": "e49d2f4e",
   "metadata": {},
   "outputs": [],
   "source": []
  },
  {
   "cell_type": "code",
   "execution_count": null,
   "id": "d1c7b9ba",
   "metadata": {},
   "outputs": [],
   "source": []
  },
  {
   "cell_type": "code",
   "execution_count": null,
   "id": "a6e73609",
   "metadata": {},
   "outputs": [],
   "source": []
  },
  {
   "cell_type": "code",
   "execution_count": null,
   "id": "42d96d54",
   "metadata": {},
   "outputs": [],
   "source": []
  }
 ],
 "metadata": {
  "kernelspec": {
   "display_name": "Python 3 (ipykernel)",
   "language": "python",
   "name": "python3"
  },
  "language_info": {
   "codemirror_mode": {
    "name": "ipython",
    "version": 3
   },
   "file_extension": ".py",
   "mimetype": "text/x-python",
   "name": "python",
   "nbconvert_exporter": "python",
   "pygments_lexer": "ipython3",
   "version": "3.9.7"
  }
 },
 "nbformat": 4,
 "nbformat_minor": 5
}
