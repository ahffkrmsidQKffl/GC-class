{
 "cells": [
  {
   "cell_type": "code",
   "execution_count": 2,
   "id": "7c2219c1",
   "metadata": {},
   "outputs": [
    {
     "data": {
      "text/plain": [
       "28.26"
      ]
     },
     "execution_count": 2,
     "metadata": {},
     "output_type": "execute_result"
    }
   ],
   "source": [
    "def get_area(radius) :\n",
    "    area = 3.14*radius**2\n",
    "    return area\n",
    "\n",
    "get_area(3)\n",
    "    "
   ]
  },
  {
   "cell_type": "code",
   "execution_count": null,
   "id": "19f48c07",
   "metadata": {},
   "outputs": [],
   "source": [
    "##  p.223 주급 계산 프로그램"
   ]
  },
  {
   "cell_type": "code",
   "execution_count": 3,
   "id": "f18edfa2",
   "metadata": {},
   "outputs": [
    {
     "name": "stdout",
     "output_type": "stream",
     "text": [
      "시급을 입력하시오 : 10000\n",
      "근무 시간을 입력하시오 : 38\n",
      "주급은 420000.0\n"
     ]
    }
   ],
   "source": [
    "def weeklyPay(rate, hour) :\n",
    "    money = 0\n",
    "    if hour > 30 :\n",
    "        money = rate*30 + rate*1.5*(hour-30)\n",
    "    else : money = rate*hour\n",
    "    return money\n",
    "\n",
    "rate = int(input(\"시급을 입력하시오 : \" ))\n",
    "hour = int(input(\"근무 시간을 입력하시오 : \" ))\n",
    "print(\"주급은 \" + str(weeklyPay(rate, hour)))"
   ]
  },
  {
   "cell_type": "code",
   "execution_count": null,
   "id": "ca0afdca",
   "metadata": {},
   "outputs": [],
   "source": []
  },
  {
   "cell_type": "code",
   "execution_count": null,
   "id": "e36a6313",
   "metadata": {},
   "outputs": [],
   "source": []
  }
 ],
 "metadata": {
  "kernelspec": {
   "display_name": "Python 3 (ipykernel)",
   "language": "python",
   "name": "python3"
  },
  "language_info": {
   "codemirror_mode": {
    "name": "ipython",
    "version": 3
   },
   "file_extension": ".py",
   "mimetype": "text/x-python",
   "name": "python",
   "nbconvert_exporter": "python",
   "pygments_lexer": "ipython3",
   "version": "3.9.7"
  }
 },
 "nbformat": 4,
 "nbformat_minor": 5
}
