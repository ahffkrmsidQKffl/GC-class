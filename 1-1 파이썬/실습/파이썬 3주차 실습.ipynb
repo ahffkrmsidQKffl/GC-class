{
 "cells": [
  {
   "cell_type": "code",
   "execution_count": 3,
   "id": "682fa655",
   "metadata": {},
   "outputs": [
    {
     "name": "stdout",
     "output_type": "stream",
     "text": [
      "x1=1\n",
      "y1=2\n",
      "x2=3\n",
      "y2=4\n",
      "2.8284271247461903\n"
     ]
    }
   ],
   "source": [
    "x1 = int(input(\"x1=\"))\n",
    "y1 = int(input(\"y1=\"))\n",
    "x2 = int(input(\"x2=\"))\n",
    "y2 = int(input(\"y2=\"))\n",
    "dist = ( (x2 - x1)**2 + (y2 - y1)**2 )**0.5\n",
    "print(dist)\n"
   ]
  },
  {
   "cell_type": "code",
   "execution_count": 4,
   "id": "802fb61d",
   "metadata": {},
   "outputs": [
    {
     "name": "stdout",
     "output_type": "stream",
     "text": [
      "정수=9870\n",
      "pass01 s =  0\n",
      "pass01 n =  987\n",
      "pass02 s =  7\n",
      "pass02 n =  98\n",
      "pass03 s =  15\n",
      "pass03 n =  9\n",
      "pass04 s =  24\n",
      "pass04 n =  0\n",
      "24\n"
     ]
    }
   ],
   "source": [
    "n = int(input(\"정수=\"))\n",
    "s = 0\n",
    "s += n % 10\n",
    "n //= 10\n",
    "print(\"pass01 s = \",s)\n",
    "print(\"pass01 n = \",n)\n",
    "s += n % 10\n",
    "n //= 10\n",
    "print(\"pass02 s = \",s)\n",
    "print(\"pass02 n = \",n)\n",
    "s += n % 10\n",
    "n //= 10\n",
    "print(\"pass03 s = \",s)\n",
    "print(\"pass03 n = \",n)\n",
    "s += n % 10\n",
    "n //= 10\n",
    "print(\"pass04 s = \",s)\n",
    "print(\"pass04 n = \",n)\n",
    "print(s)"
   ]
  },
  {
   "cell_type": "code",
   "execution_count": 5,
   "id": "da6e5924",
   "metadata": {},
   "outputs": [
    {
     "name": "stdout",
     "output_type": "stream",
     "text": [
      "연도를 입력하시오: 1111\n",
      "토끼띠\n"
     ]
    }
   ],
   "source": [
    "year = int(input(\"연도를 입력하시오: \"))\n",
    "if year % 12 == 0 :\n",
    "    print(\"원숭이띠\")\n",
    "elif year % 12 == 1 :\n",
    "    print(\"닭띠\")\n",
    "elif year % 12 == 2 :\n",
    "    print(\"개띠\")\n",
    "elif year % 12 == 3 :\n",
    "    print(\"돼지띠\")\n",
    "elif year % 12 == 4 :\n",
    "    print(\"쥐띠\")\n",
    "elif year % 12 == 5 :\n",
    "    print(\"소띠\")\n",
    "elif year % 12 == 6 :\n",
    "    print(\"호랑이띠\")\n",
    "elif year % 12 == 7 :\n",
    "    print(\"토끼띠\")\n",
    "elif year % 12 == 8 :\n",
    "    print(\"용띠\")\n",
    "elif year % 12 == 9 :\n",
    "    print(\"뱀띠\")\n",
    "elif year % 12 == 10 :\n",
    "    print(\"말띠\")\n",
    "elif year % 12 == 11 :\n",
    "    print(\"양띠\")"
   ]
  },
  {
   "cell_type": "code",
   "execution_count": 6,
   "id": "97440529",
   "metadata": {},
   "outputs": [
    {
     "name": "stdout",
     "output_type": "stream",
     "text": [
      "연도를 입력하시오: 1111\n",
      "윤년이 아닙니다.\n"
     ]
    }
   ],
   "source": [
    "year = int(input(\"연도를 입력하시오: \"))\n",
    "if (year % 4 == 0 and year%100 !=0) or year%400==0 :\n",
    "    print(\"윤년입니다.\")\n",
    "else:\n",
    "    print(\"윤년이 아닙니다.\")"
   ]
  },
  {
   "cell_type": "code",
   "execution_count": null,
   "id": "8417134b",
   "metadata": {},
   "outputs": [],
   "source": []
  },
  {
   "cell_type": "code",
   "execution_count": 7,
   "id": "1e5e4669",
   "metadata": {},
   "outputs": [
    {
     "name": "stdout",
     "output_type": "stream",
     "text": [
      "정수를 입력하시오: 30\n",
      "Python Express\n"
     ]
    }
   ],
   "source": [
    "num = int(input(\"정수를 입력하시오: \"))\n",
    "if num%3==0 and num%5==0: print('Python Express')\n",
    "elif num%3==0: print('Python')\n",
    "elif num%5==0: print('Express')\n"
   ]
  },
  {
   "cell_type": "code",
   "execution_count": 8,
   "id": "faaeadc0",
   "metadata": {},
   "outputs": [
    {
     "name": "stdout",
     "output_type": "stream",
     "text": [
      "a를 입력하시오: 1\n",
      "b를 입력하시오: 6\n",
      "c를 입력하시오: 9\n",
      "실근은 -3.0 (으)로 중근을 갖습니다.\n"
     ]
    }
   ],
   "source": [
    "a = float(input(\"a를 입력하시오: \"))\n",
    "b = float(input(\"b를 입력하시오: \"))\n",
    "c = float(input(\"c를 입력하시오: \"))\n",
    "if (b**2 - 4*a*c) < 0 :\n",
    "    print(\"실근이 존재하지 않습니다.\")\n",
    "elif (b**2 - 4*a*c) == 0 :\n",
    "    print(\"실근은\",(-1*b)/(2*a),\"(으)로 중근을 갖습니다.\" )\n",
    "elif (b**2 - 4*a*c) > 0 :\n",
    "    print(\"실근은\",( ((-1*b)+(b**2 - 4*a*c)**0.5)/2*a ),\"(과)와\",( ((-1*b)-(b**2 - 4*a*c)**0.5)/2*a ),\"입니다\")"
   ]
  },
  {
   "cell_type": "code",
   "execution_count": 9,
   "id": "04e60e74",
   "metadata": {},
   "outputs": [
    {
     "name": "stdout",
     "output_type": "stream",
     "text": [
      "물건값을 입력하시오: 5000\n",
      "===입력금액===\n",
      "1000원 지폐개수: 4\n",
      "500원 동전개수: 2\n",
      "100원 동전개수: 5\n",
      "===거스름돈 출력===\n",
      "500원= 1 100원= 0 10원= 0 1원= 0\n"
     ]
    }
   ],
   "source": [
    "itemPrice = int(input(\"물건값을 입력하시오: \"))\n",
    "print(\"===입력금액===\")\n",
    "note = int(input(\"1000원 지폐개수: \"))\n",
    "coin500 = int(input(\"500원 동전개수: \"))\n",
    "coin100 = int(input(\"100원 동전개수: \"))\n",
    "\n",
    "change = note*1000 + coin500*500 + coin100*100 - itemPrice\n",
    "\n",
    "nCoin500 = change//500\n",
    "change = change%500\n",
    "\n",
    "nCoin100 = change//100\n",
    "change = change%100\n",
    "\n",
    "nCoin10 = change//10\n",
    "change = change%10\n",
    "\n",
    "nCoin1 = change\n",
    "\n",
    "print(\"===거스름돈 출력===\")\n",
    "print(\"500원=\", nCoin500, \"100원=\", nCoin100, \"10원=\", nCoin10, \"1원=\", nCoin1)"
   ]
  },
  {
   "cell_type": "code",
   "execution_count": 1,
   "id": "46fde4a1",
   "metadata": {},
   "outputs": [
    {
     "name": "stdout",
     "output_type": "stream",
     "text": [
      "2 3 5 7 11 13 17 19 23 29 31 37 41 43 47 53 59 61 67 71 73 79 83 89 97 101 103 107 109 113 127 131 137 139 149 151 157 163 167 173 179 181 191 193 197 199 211 223 227 229 "
     ]
    }
   ],
   "source": [
    "N_PRIMES = 50\n",
    "number = 2\n",
    "count = 0\n",
    "\n",
    "while count < N_PRIMES :\n",
    "    divisor = 2\n",
    "    prime = True\n",
    "    \n",
    "    while divisor < number :\n",
    "        if number % divisor == 0:\n",
    "            prime = False\n",
    "            break;\n",
    "        divisor += 1\n",
    "    if prime:\n",
    "        count += 1\n",
    "        print(number, end=\" \")\n",
    "        \n",
    "    number += 1"
   ]
  },
  {
   "cell_type": "code",
   "execution_count": 3,
   "id": "177f1281",
   "metadata": {},
   "outputs": [
    {
     "name": "stdout",
     "output_type": "stream",
     "text": [
      "반복횟수:99999999\n",
      "Pi = 3.141593\n"
     ]
    }
   ],
   "source": [
    "divisor = 1.0\n",
    "divident = 4.0\n",
    "sum = 0.0\n",
    "loop_count = int(input(\"반복횟수:\"))\n",
    "while(loop_count > 0) :\n",
    "    sum = sum + divident / divisor\n",
    "    divident = -1.0 * divident\n",
    "    divisor = divisor + 2\n",
    "    loop_count = loop_count - 1;\n",
    "print(\"Pi = %f\" % sum)"
   ]
  },
  {
   "cell_type": "code",
   "execution_count": 2,
   "id": "9b4d49ac",
   "metadata": {},
   "outputs": [
    {
     "name": "stdout",
     "output_type": "stream",
     "text": [
      "초기 금액 $50\n",
      "목표 금액 $250\n",
      "100번 중에서 20번 성공\n"
     ]
    }
   ],
   "source": [
    "import random\n",
    "\n",
    "initial_money = 50\n",
    "goal = 250\n",
    "wins = 0\n",
    "\n",
    "for i in range(100) :\n",
    "    cash = initial_money\n",
    "    while cash > 0 and cash < goal :\n",
    "        number = random.randint(1, 2)\n",
    "        if number == 1 :\n",
    "            cash = cash + 1\n",
    "        else :\n",
    "            cash = cash - 1\n",
    "    if cash == goal : wins = wins + 1\n",
    "        \n",
    "print(\"초기 금액 $%d\" % initial_money)\n",
    "print(\"목표 금액 $%d\" % goal)\n",
    "print(\"100번 중에서 %d번 성공\" % wins)"
   ]
  },
  {
   "cell_type": "code",
   "execution_count": 5,
   "id": "03782aca",
   "metadata": {},
   "outputs": [
    {
     "ename": "Terminator",
     "evalue": "",
     "output_type": "error",
     "traceback": [
      "\u001b[1;31m---------------------------------------------------------------------------\u001b[0m",
      "\u001b[1;31mTerminator\u001b[0m                                Traceback (most recent call last)",
      "\u001b[1;32m~\\AppData\\Local\\Temp/ipykernel_13520/4160607149.py\u001b[0m in \u001b[0;36m<module>\u001b[1;34m\u001b[0m\n\u001b[0;32m      9\u001b[0m \u001b[1;33m\u001b[0m\u001b[0m\n\u001b[0;32m     10\u001b[0m \u001b[0mturtle\u001b[0m\u001b[1;33m.\u001b[0m\u001b[0mmainloop\u001b[0m\u001b[1;33m(\u001b[0m\u001b[1;33m)\u001b[0m\u001b[1;33m\u001b[0m\u001b[1;33m\u001b[0m\u001b[0m\n\u001b[1;32m---> 11\u001b[1;33m \u001b[0mturtle\u001b[0m\u001b[1;33m.\u001b[0m\u001b[0mbye\u001b[0m\u001b[1;33m(\u001b[0m\u001b[1;33m)\u001b[0m\u001b[1;33m\u001b[0m\u001b[1;33m\u001b[0m\u001b[0m\n\u001b[0m",
      "\u001b[1;32mC:\\ProgramData\\Anaconda3\\lib\\turtle.py\u001b[0m in \u001b[0;36mbye\u001b[1;34m()\u001b[0m\n",
      "\u001b[1;31mTerminator\u001b[0m: "
     ]
    }
   ],
   "source": [
    "import turtle\n",
    "\n",
    "t = turtle.Turtle()\n",
    "t.shape(\"turtle\")\n",
    "\n",
    "for i in range(200):\n",
    "    t.forward(2+i/4)\n",
    "    t.left(30-i/12)\n",
    "    \n",
    "turtle.mainloop()\n",
    "turtle.bye()"
   ]
  },
  {
   "cell_type": "code",
   "execution_count": 8,
   "id": "b4b32fca",
   "metadata": {},
   "outputs": [
    {
     "name": "stdout",
     "output_type": "stream",
     "text": [
      "반복횟수:5\n",
      "Pi = 3.166667\n"
     ]
    }
   ],
   "source": [
    "a = 2\n",
    "b = 3\n",
    "c = 4\n",
    "divisor = int(a*b*c)\n",
    "divident = 4\n",
    "sum = 3\n",
    "loop_count = int(input(\"반복횟수:\"))\n",
    "while(loop_count > 0 ) : \n",
    "    sum = sum + divident / divisor\n",
    "    divident = -1.0 * divident\n",
    "    a = a + 1\n",
    "    b = b + 1\n",
    "    c = c + 1\n",
    "    loop_count = loop_count - 1\n",
    "print(\"Pi = %f\" % sum)"
   ]
  },
  {
   "cell_type": "code",
   "execution_count": 9,
   "id": "2c00b3c1",
   "metadata": {},
   "outputs": [
    {
     "name": "stdout",
     "output_type": "stream",
     "text": [
      "반복횟수:5\n",
      "Pi = 3.166667\n"
     ]
    }
   ],
   "source": [
    "loop_count = int(input(\"반복횟수:\"))\n",
    "sum = 3\n",
    "a = 2\n",
    "b = 3\n",
    "c = 4\n",
    "divisor = int(a*b*c)\n",
    "divident = 4\n",
    "for i in range(loop_count) :\n",
    "    sum = sum + divident / divisor\n",
    "    divident = -1.0 * divident\n",
    "    a = a + 1\n",
    "    b = b + 1\n",
    "    c = c + 1\n",
    "print(\"Pi = %f\" % sum)    \n"
   ]
  },
  {
   "cell_type": "code",
   "execution_count": 10,
   "id": "cd22b4a5",
   "metadata": {},
   "outputs": [
    {
     "name": "stdout",
     "output_type": "stream",
     "text": [
      "초기 금액 $50\n",
      "목표 금액 $250\n",
      "100번 중에서 0번 성공\n"
     ]
    }
   ],
   "source": [
    "import random\n",
    "\n",
    "initial_money = 50\n",
    "goal = 250\n",
    "wins = 0\n",
    "\n",
    "for i in range(100) :\n",
    "    cash = initial_money\n",
    "    while cash > 0 and cash < goal :\n",
    "        number = random.randint(1, 10)\n",
    "        if number == 1 :\n",
    "            cash = cash + 1\n",
    "        else :\n",
    "            cash = cash - 1\n",
    "    if cash == goal : wins = wins + 1\n",
    "        \n",
    "print(\"초기 금액 $%d\" % initial_money)\n",
    "print(\"목표 금액 $%d\" % goal)\n",
    "print(\"100번 중에서 %d번 성공\" % wins)"
   ]
  },
  {
   "cell_type": "code",
   "execution_count": null,
   "id": "481977a8",
   "metadata": {},
   "outputs": [],
   "source": []
  }
 ],
 "metadata": {
  "kernelspec": {
   "display_name": "Python 3 (ipykernel)",
   "language": "python",
   "name": "python3"
  },
  "language_info": {
   "codemirror_mode": {
    "name": "ipython",
    "version": 3
   },
   "file_extension": ".py",
   "mimetype": "text/x-python",
   "name": "python",
   "nbconvert_exporter": "python",
   "pygments_lexer": "ipython3",
   "version": "3.9.7"
  }
 },
 "nbformat": 4,
 "nbformat_minor": 5
}
