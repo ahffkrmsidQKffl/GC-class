{
 "cells": [
  {
   "cell_type": "code",
   "execution_count": 4,
   "id": "d99befe1",
   "metadata": {},
   "outputs": [
    {
     "name": "stdout",
     "output_type": "stream",
     "text": [
      "71 + 49 = 10\n",
      "71 - 49 = 15\n",
      "False\n",
      "False\n"
     ]
    }
   ],
   "source": [
    "import random\n",
    "\n",
    "x = random.randint(1, 100)\n",
    "y = random.randint(1, 100)\n",
    "\n",
    "plus_answer = int(input(f\"{x} + {y} = \"))\n",
    "minus_answer = int(input(f\"{x} - {y} = \"))\n",
    "                   \n",
    "flag1 = (plus_answer == (x+y))\n",
    "flag2 = (minus_answer == (x-y))\n",
    "                   \n",
    "print(flag1)\n",
    "print(flag2)"
   ]
  },
  {
   "cell_type": "code",
   "execution_count": 6,
   "id": "c22666e6",
   "metadata": {},
   "outputs": [
    {
     "name": "stdout",
     "output_type": "stream",
     "text": [
      "나이를 입력하세요: 21\n",
      "adult\n"
     ]
    }
   ],
   "source": [
    "age = int(input(\"나이를 입력하세요: \"))\n",
    "\n",
    "if age < 21 :\n",
    "    print(\"minor\")\n",
    "else :\n",
    "    print(\"adult\")"
   ]
  },
  {
   "cell_type": "code",
   "execution_count": 10,
   "id": "3f4cf28c",
   "metadata": {},
   "outputs": [
    {
     "name": "stdout",
     "output_type": "stream",
     "text": [
      "정수를 입력하세요: -5\n",
      "음수입니다\n"
     ]
    }
   ],
   "source": [
    "int1 = int(input(\"정수를 입력하세요: \"))\n",
    "\n",
    "if int1 >=0 :\n",
    "    print(\"양수입니다\")\n",
    "else :\n",
    "    print(\"음수입니다\")"
   ]
  },
  {
   "cell_type": "code",
   "execution_count": 12,
   "id": "4251fac5",
   "metadata": {},
   "outputs": [
    {
     "name": "stdout",
     "output_type": "stream",
     "text": [
      "점수를 입력하세요: 10\n",
      "부랍격\n"
     ]
    }
   ],
   "source": [
    "score = int(input(\"점수를 입력하세요: \"))\n",
    "\n",
    "if score >= 60 :\n",
    "    print(\"합격\")\n",
    "else :\n",
    "    print(\"부랍격\")"
   ]
  },
  {
   "cell_type": "code",
   "execution_count": null,
   "id": "47707ade",
   "metadata": {},
   "outputs": [],
   "source": [
    "age >= 25 and salary >= 35000000\n",
    "\n"
   ]
  },
  {
   "cell_type": "code",
   "execution_count": 22,
   "id": "8bd6e893",
   "metadata": {},
   "outputs": [
    {
     "name": "stdout",
     "output_type": "stream",
     "text": [
      "섭씨 입력을 원하시면 1번 화씨 입력을 원하시면 2번을 입력하세요 : 2\n",
      "온도 입력:32\n",
      "얼음\n"
     ]
    }
   ],
   "source": [
    "def celcius() :\n",
    "    temp1 = float(input(\"온도 입력:\"))\n",
    "    if temp1 <= 0 :\n",
    "        print(\"얼음\")\n",
    "    elif temp1 > 0 and temp1 < 100 :\n",
    "        print(\"액체\")\n",
    "    else :\n",
    "        print(\"기체\")\n",
    "\n",
    "        \n",
    "def fire() :\n",
    "    temp2 = float(input(\"온도 입력:\"))\n",
    "    if temp2 <= 32 :\n",
    "        print(\"얼음\")\n",
    "    elif temp2 > 32 and temp2 < 212 :\n",
    "        print(\"액체\")\n",
    "    else :\n",
    "        print(\"기체\")\n",
    "        \n",
    "\n",
    "choice = int(input(\"섭씨 입력을 원하시면 1번 화씨 입력을 원하시면 2번을 입력하세요 : \"))\n",
    "\n",
    "if choice == 1:\n",
    "    celcius()\n",
    "else :\n",
    "    fire()\n",
    "    \n",
    "\n",
    "\n",
    "        \n"
   ]
  },
  {
   "cell_type": "code",
   "execution_count": 23,
   "id": "d54c283d",
   "metadata": {},
   "outputs": [
    {
     "name": "stdout",
     "output_type": "stream",
     "text": [
      "주사위 게임 시작\n",
      "6\n",
      "주사위 게임 종료\n"
     ]
    }
   ],
   "source": [
    "import random\n",
    "\n",
    "print(\"주사위 게임 시작\")\n",
    "dice = random.randint(1, 6)\n",
    "if dice == 1 :\n",
    "    print(\"1\")\n",
    "elif dice == 2 :\n",
    "    print(\"2\")\n",
    "elif dice == 3 :\n",
    "    print(\"3\")\n",
    "elif dice == 4 :\n",
    "    print(\"4\")\n",
    "elif dice == 5 :\n",
    "    print(\"5\")\n",
    "else :\n",
    "    print(\"6\")\n",
    "print(\"주사위 게임 종료\")"
   ]
  },
  {
   "cell_type": "code",
   "execution_count": 2,
   "id": "207724bf",
   "metadata": {},
   "outputs": [
    {
     "name": "stdout",
     "output_type": "stream",
     "text": [
      "명령 입력: l\n",
      "명령 입력: q\n"
     ]
    },
    {
     "ename": "Terminator",
     "evalue": "",
     "output_type": "error",
     "traceback": [
      "\u001b[1;31m---------------------------------------------------------------------------\u001b[0m",
      "\u001b[1;31mTerminator\u001b[0m                                Traceback (most recent call last)",
      "\u001b[1;32m~\\AppData\\Local\\Temp/ipykernel_12764/2051166310.py\u001b[0m in \u001b[0;36m<module>\u001b[1;34m\u001b[0m\n\u001b[0;32m     18\u001b[0m \u001b[1;33m\u001b[0m\u001b[0m\n\u001b[0;32m     19\u001b[0m \u001b[0mturtle\u001b[0m\u001b[1;33m.\u001b[0m\u001b[0mmainloop\u001b[0m\u001b[1;33m(\u001b[0m\u001b[1;33m)\u001b[0m\u001b[1;33m\u001b[0m\u001b[1;33m\u001b[0m\u001b[0m\n\u001b[1;32m---> 20\u001b[1;33m \u001b[0mturtle\u001b[0m\u001b[1;33m.\u001b[0m\u001b[0mbye\u001b[0m\u001b[1;33m(\u001b[0m\u001b[1;33m)\u001b[0m\u001b[1;33m\u001b[0m\u001b[1;33m\u001b[0m\u001b[0m\n\u001b[0m\u001b[0;32m     21\u001b[0m \u001b[1;33m\u001b[0m\u001b[0m\n",
      "\u001b[1;32m~\\anaconda3\\lib\\turtle.py\u001b[0m in \u001b[0;36mbye\u001b[1;34m()\u001b[0m\n",
      "\u001b[1;31mTerminator\u001b[0m: "
     ]
    }
   ],
   "source": [
    "import turtle\n",
    "\n",
    "t = turtle.Turtle()\n",
    "t.shape(\"turtle\")\n",
    "t.width(3)\n",
    "t.shapesize(3, 3)\n",
    "\n",
    "while True :\n",
    "    command = input(\"명령 입력: \")\n",
    "    if command == \"l\" or command == \"left\":\n",
    "        t.left(90)\n",
    "        t.fd(100)\n",
    "    if command == \"r\" or command == \"right\":\n",
    "        t.right(90)\n",
    "        t.fd(100)\n",
    "    if command == \"q\" or command == \"quit\":\n",
    "        break\n",
    "        \n",
    "turtle.mainloop()\n",
    "turtle.bye()\n",
    "        "
   ]
  },
  {
   "cell_type": "code",
   "execution_count": 15,
   "id": "141861ef",
   "metadata": {},
   "outputs": [
    {
     "name": "stdout",
     "output_type": "stream",
     "text": [
      "어디를 수비하겠슴까?(왼쪽: 1, 중앙: 2, 오른쪽: 3) 1\n",
      "수비 실패 ㅜㅜ\n",
      "3\n"
     ]
    }
   ],
   "source": [
    "import random\n",
    "\n",
    "computer_choice = random.randint(1, 3)\n",
    "user_choice = int(input(\"어디를 수비하겠슴까?(왼쪽: 1, 중앙: 2, 오른쪽: 3) \"))\n",
    "\n",
    "if user_choice <= 3 and user_choice >= 1 :\n",
    "    if computer_choice == user_choice :\n",
    "        print(\"수비 성공!\")\n",
    "    else :\n",
    "        print(\"수비 실패 ㅜㅜ\")\n",
    "        print(computer_choice)\n",
    "else :\n",
    "    print(\"잘못입력했슴다\")"
   ]
  },
  {
   "cell_type": "code",
   "execution_count": 20,
   "id": "31312782",
   "metadata": {},
   "outputs": [
    {
     "name": "stdout",
     "output_type": "stream",
     "text": [
      "삼각형의 한 변을 입력: 1\n",
      "삼각형의 한 변을 입력: 2\n",
      "삼각형의 한 변을 입력: 3\n",
      "삼각형의 한 각을 입력: 45\n",
      "삼각형의 한 각을 입력: 45\n",
      "삼각형의 한 각을 입력: 45\n",
      "shit\n"
     ]
    }
   ],
   "source": [
    "a = int(input(\"삼각형의 한 변을 입력: \"))\n",
    "b = int(input(\"삼각형의 한 변을 입력: \"))\n",
    "c = int(input(\"삼각형의 한 변을 입력: \"))\n",
    "A = int(input(\"삼각형의 한 각을 입력: \"))\n",
    "B = int(input(\"삼각형의 한 각을 입력: \"))\n",
    "C = int(input(\"삼각형의 한 각을 입력: \"))\n",
    "\n",
    "if (a+b) > c and (c+b) > a and (a+c) > b and A+B+C == 180 :\n",
    "    print(\"삼각형\")\n",
    "else :\n",
    "    print(\"shit\")"
   ]
  },
  {
   "cell_type": "code",
   "execution_count": 25,
   "id": "f0e1e5b3",
   "metadata": {},
   "outputs": [
    {
     "data": {
      "text/plain": [
       "False"
      ]
     },
     "execution_count": 25,
     "metadata": {},
     "output_type": "execute_result"
    }
   ],
   "source": [
    "\n",
    "\n",
    "1>=100"
   ]
  },
  {
   "cell_type": "code",
   "execution_count": 27,
   "id": "da6e543e",
   "metadata": {},
   "outputs": [
    {
     "data": {
      "text/plain": [
       "True"
      ]
     },
     "execution_count": 27,
     "metadata": {},
     "output_type": "execute_result"
    }
   ],
   "source": [
    "1 != 2"
   ]
  },
  {
   "cell_type": "code",
   "execution_count": 29,
   "id": "96d603af",
   "metadata": {},
   "outputs": [
    {
     "name": "stdout",
     "output_type": "stream",
     "text": [
      "정수 입력: 10\n",
      "정수 입력: 3\n"
     ]
    }
   ],
   "source": [
    "x = int(input(\"정수 입력: \"))\n",
    "y = int(input(\"정수 입력: \"))\n",
    "if x % y == 0 :\n",
    "    print(\"약수\")"
   ]
  },
  {
   "cell_type": "code",
   "execution_count": 47,
   "id": "790f58ec",
   "metadata": {},
   "outputs": [
    {
     "name": "stdout",
     "output_type": "stream",
     "text": [
      "3개의 정수를 입력하시오: 1, 2, 3\n"
     ]
    },
    {
     "ename": "ValueError",
     "evalue": "too many values to unpack (expected 3)",
     "output_type": "error",
     "traceback": [
      "\u001b[1;31m---------------------------------------------------------------------------\u001b[0m",
      "\u001b[1;31mValueError\u001b[0m                                Traceback (most recent call last)",
      "\u001b[1;32m~\\AppData\\Local\\Temp/ipykernel_13032/2744762694.py\u001b[0m in \u001b[0;36m<module>\u001b[1;34m\u001b[0m\n\u001b[1;32m----> 1\u001b[1;33m \u001b[0mx\u001b[0m\u001b[1;33m,\u001b[0m \u001b[0my\u001b[0m\u001b[1;33m,\u001b[0m \u001b[0mz\u001b[0m \u001b[1;33m=\u001b[0m \u001b[0minput\u001b[0m\u001b[1;33m(\u001b[0m\u001b[1;34m\"3개의 정수를 입력하시오: \"\u001b[0m\u001b[1;33m)\u001b[0m\u001b[1;33m\u001b[0m\u001b[1;33m\u001b[0m\u001b[0m\n\u001b[0m\u001b[0;32m      2\u001b[0m \u001b[1;33m\u001b[0m\u001b[0m\n\u001b[0;32m      3\u001b[0m \u001b[1;32mif\u001b[0m \u001b[0mx\u001b[0m \u001b[1;33m>\u001b[0m \u001b[0my\u001b[0m \u001b[1;33m:\u001b[0m\u001b[1;33m\u001b[0m\u001b[1;33m\u001b[0m\u001b[0m\n\u001b[0;32m      4\u001b[0m     \u001b[1;32mif\u001b[0m \u001b[0my\u001b[0m \u001b[1;33m>\u001b[0m \u001b[0mz\u001b[0m \u001b[1;33m:\u001b[0m\u001b[1;33m\u001b[0m\u001b[1;33m\u001b[0m\u001b[0m\n\u001b[0;32m      5\u001b[0m         \u001b[0mprint\u001b[0m\u001b[1;33m(\u001b[0m\u001b[0mz\u001b[0m\u001b[1;33m)\u001b[0m\u001b[1;33m\u001b[0m\u001b[1;33m\u001b[0m\u001b[0m\n",
      "\u001b[1;31mValueError\u001b[0m: too many values to unpack (expected 3)"
     ]
    }
   ],
   "source": [
    "x, y, z = eval(input(\"3개의 정수를 입력하시오: \"))\n",
    "\n",
    "if x > y :\n",
    "    if y > z :\n",
    "        print(z)\n",
    "    else :\n",
    "        print(y)\n",
    "else :\n",
    "    if x > z :\n",
    "        print (z)\n",
    "    else :\n",
    "        print (x)\n",
    "\n",
    "#min1 = min(x, y, z) \n",
    "#print(min1)\n"
   ]
  },
  {
   "cell_type": "code",
   "execution_count": 49,
   "id": "98ebd6da",
   "metadata": {},
   "outputs": [
    {
     "name": "stdout",
     "output_type": "stream",
     "text": [
      "선택하시오(1=가위, 2=바위, 3=보): 1\n",
      "이김\n",
      "3\n"
     ]
    }
   ],
   "source": [
    "import random\n",
    "\n",
    "c_c = random.randint(1, 3)\n",
    "u_c = int(input(\"선택하시오(1=가위, 2=바위, 3=보): \"))\n",
    "\n",
    "if (c_c ==1 and u_c == 1) or (c_c ==2 and u_c ==2) or (c_c ==3 and u_c ==3) :\n",
    "    print(\"비겼슴\")\n",
    "    print(c_c)\n",
    "\n",
    "elif (c_c ==1 and u_c == 2) or (c_c ==2 and u_c ==3) or (c_c ==3 and u_c ==1) :\n",
    "    print(\"이김\")\n",
    "    print(c_c)\n",
    "else :\n",
    "    print(\"짐\")\n",
    "    print(c_c)"
   ]
  },
  {
   "cell_type": "code",
   "execution_count": 2,
   "id": "d8312ba4",
   "metadata": {},
   "outputs": [
    {
     "name": "stdout",
     "output_type": "stream",
     "text": [
      "634X884=?10\n",
      "오답!\n"
     ]
    }
   ],
   "source": [
    "import random\n",
    "\n",
    "a = random.randint(1, 1000)\n",
    "b = random.randint(1, 1000)\n",
    "cal = random.randint(1, 4)\n",
    "\n",
    "if cal == 1 :\n",
    "    c = int(input(f\"{a}+{b}=?\"))\n",
    "    if c == a+b :\n",
    "        print(\"정답!\")\n",
    "    else :\n",
    "        print(\"오답!\")\n",
    "        \n",
    "if cal == 2 :\n",
    "    c = int(input(f\"{a}-{b}=?\"))\n",
    "    if c == a-b :\n",
    "        print(\"정답!\")\n",
    "    else :\n",
    "        print(\"오답!\")\n",
    "        \n",
    "if cal == 3 :\n",
    "    c = int(input(f\"{a}X{b}=?\"))\n",
    "    if c == a*b :\n",
    "        print(\"정답!\")\n",
    "    else :\n",
    "        print(\"오답!\")\n",
    "        \n",
    "if cal == 4 :\n",
    "    c = int(input(f\"{a}/{b}=?\"))\n",
    "    if c == a/b :\n",
    "        print(\"정답!\")\n",
    "    else :\n",
    "        print(\"오답!\")"
   ]
  },
  {
   "cell_type": "code",
   "execution_count": null,
   "id": "778e68f0",
   "metadata": {},
   "outputs": [],
   "source": []
  }
 ],
 "metadata": {
  "kernelspec": {
   "display_name": "Python 3 (ipykernel)",
   "language": "python",
   "name": "python3"
  },
  "language_info": {
   "codemirror_mode": {
    "name": "ipython",
    "version": 3
   },
   "file_extension": ".py",
   "mimetype": "text/x-python",
   "name": "python",
   "nbconvert_exporter": "python",
   "pygments_lexer": "ipython3",
   "version": "3.9.7"
  }
 },
 "nbformat": 4,
 "nbformat_minor": 5
}
