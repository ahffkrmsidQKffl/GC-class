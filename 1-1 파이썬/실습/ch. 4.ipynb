{
 "cells": [
  {
   "cell_type": "code",
   "execution_count": 3,
   "id": "50cb35e6",
   "metadata": {},
   "outputs": [
    {
     "name": "stdout",
     "output_type": "stream",
     "text": [
      "[0, 2, 3, 4, 5]\n"
     ]
    }
   ],
   "source": [
    "myList = [1, 2, 3, 4, 5]\n",
    "\n",
    "myList[0] = 0\n",
    "\n",
    "print(myList)"
   ]
  },
  {
   "cell_type": "code",
   "execution_count": 4,
   "id": "d474e1e7",
   "metadata": {},
   "outputs": [
    {
     "name": "stdout",
     "output_type": "stream",
     "text": [
      "i=  9\n",
      "i=  8\n",
      "i=  7\n",
      "i=  6\n",
      "i=  5\n"
     ]
    }
   ],
   "source": [
    "for i in [9, 8, 7, 6, 5]:\n",
    "    print(\"i= \", i)\n"
   ]
  },
  {
   "cell_type": "code",
   "execution_count": 5,
   "id": "e0c13972",
   "metadata": {},
   "outputs": [
    {
     "name": "stdout",
     "output_type": "stream",
     "text": [
      "2\n",
      "4\n",
      "6\n",
      "8\n"
     ]
    }
   ],
   "source": [
    "for i in range(1, 5, 1) :\n",
    "    print(2*i)"
   ]
  },
  {
   "cell_type": "code",
   "execution_count": 6,
   "id": "6f6b1bdb",
   "metadata": {},
   "outputs": [
    {
     "name": "stdout",
     "output_type": "stream",
     "text": [
      "student10\n",
      "student8\n",
      "student6\n",
      "student4\n",
      "student2\n"
     ]
    }
   ],
   "source": [
    "for i in range(10, 0, -2) :\n",
    "    print(\"student\" + str(i))"
   ]
  },
  {
   "cell_type": "code",
   "execution_count": 8,
   "id": "55cf431b",
   "metadata": {},
   "outputs": [
    {
     "name": "stdout",
     "output_type": "stream",
     "text": [
      "정수 입력: 5\n",
      "5!은 120이다.\n"
     ]
    }
   ],
   "source": [
    "n = int(input(\"정수 입력: \"))\n",
    "\n",
    "fact = 1\n",
    "\n",
    "for i in range(n, 0, -1) :\n",
    "    fact = fact*i\n",
    "print (f\"{n}!은 {fact}이다.\")"
   ]
  },
  {
   "cell_type": "code",
   "execution_count": 11,
   "id": "e98e7da6",
   "metadata": {},
   "outputs": [
    {
     "name": "stdout",
     "output_type": "stream",
     "text": [
      "방정식의 해는 1.62\n"
     ]
    }
   ],
   "source": [
    "COUNT = 100\n",
    "START = 1.0\n",
    "END = 2.0\n",
    "\n",
    "for i in range(COUNT):\n",
    "    x = START + i*((END-START)/COUNT)\n",
    "    f = (x**2 -x -1)\n",
    "    if abs(f-0.0) < 0.01 :\n",
    "        print(\"방정식의 해는\", x)"
   ]
  },
  {
   "cell_type": "code",
   "execution_count": 12,
   "id": "51160b04",
   "metadata": {},
   "outputs": [
    {
     "name": "stdout",
     "output_type": "stream",
     "text": [
      "원하는 단: 5\n",
      "5*1=5\n",
      "5*2=10\n",
      "5*3=15\n",
      "5*4=20\n",
      "5*5=25\n",
      "5*6=30\n",
      "5*7=35\n",
      "5*8=40\n",
      "5*9=45\n"
     ]
    }
   ],
   "source": [
    "dan = int(input(\"원하는 단: \"))\n",
    "\n",
    "i = 1\n",
    "\n",
    "while i <= 9 :\n",
    "    print(\"%d*%d=%d\" % (dan, i, dan*i))\n",
    "    i=i+1"
   ]
  },
  {
   "cell_type": "code",
   "execution_count": 13,
   "id": "3605e646",
   "metadata": {},
   "outputs": [
    {
     "name": "stdout",
     "output_type": "stream",
     "text": [
      "원하는 단: 5\n",
      "5*1=5\n",
      "5*2=10\n",
      "5*3=15\n",
      "5*4=20\n",
      "5*5=25\n",
      "5*6=30\n",
      "5*7=35\n",
      "5*8=40\n",
      "5*9=45\n"
     ]
    }
   ],
   "source": [
    "dan = int(input(\"원하는 단: \"))\n",
    "\n",
    "    \n",
    "for i in range(1, 10) :\n",
    "    print(\"%d*%d=%d\" % (dan, i, dan*i))\n",
    "    \n",
    "    "
   ]
  },
  {
   "cell_type": "code",
   "execution_count": 2,
   "id": "8f13cfb8",
   "metadata": {},
   "outputs": [
    {
     "name": "stdout",
     "output_type": "stream",
     "text": [
      "1부터 100사이의 숫자를 맞추쇼\n",
      "숫자를 입력하쇼: 1\n",
      "입력한 숫자가 너무 낮음!\n",
      "숫자를 입력하쇼: 1\n",
      "입력한 숫자가 너무 낮음!\n",
      "숫자를 입력하쇼: 1\n",
      "입력한 숫자가 너무 낮음!\n",
      "숫자를 입력하쇼: 1\n",
      "입력한 숫자가 너무 낮음!\n",
      "숫자를 입력하쇼: 1\n",
      "입력한 숫자가 너무 낮음!\n",
      "숫자를 입력하쇼: 1\n",
      "입력한 숫자가 너무 낮음!\n",
      "숫자를 입력하쇼: 1\n",
      "입력한 숫자가 너무 낮음!\n",
      "숫자를 입력하쇼: 1\n",
      "입력한 숫자가 너무 낮음!\n",
      "숫자를 입력하쇼: 1\n",
      "입력한 숫자가 너무 낮음!\n",
      "숫자를 입력하쇼: 1\n",
      "입력한 숫자가 너무 낮음!\n",
      "정답은 30\n"
     ]
    }
   ],
   "source": [
    "import random\n",
    "\n",
    "tries = 0\n",
    "guess = 0;\n",
    "answer = random.randint(1, 100)\n",
    "\n",
    "print(\"1부터 100사이의 숫자를 맞추쇼\")\n",
    "\n",
    "while guess != answer and tries < 10 :\n",
    "    guess = int(input(\"숫자를 입력하쇼: \"))\n",
    "    tries = tries + 1\n",
    "    if guess < answer :\n",
    "        print(\"입력한 숫자가 너무 낮음!\")\n",
    "    elif guess > answer :\n",
    "        print(\"입력한 숫자가 너무 높음!\")\n",
    "    \n",
    "if guess == answer :\n",
    "    print(f\"정답! 시도횟수는 {tries}\")\n",
    "else :\n",
    "    print(f\"정답은 {answer}\")"
   ]
  },
  {
   "cell_type": "code",
   "execution_count": null,
   "id": "75a783a2",
   "metadata": {},
   "outputs": [
    {
     "name": "stdout",
     "output_type": "stream",
     "text": [
      "14+61= 75\n",
      "증답\n",
      "75+41= 116\n",
      "증답\n"
     ]
    }
   ],
   "source": [
    "import random\n",
    "\n",
    "flag = True\n",
    "while flag :\n",
    "    x = random.randint(1, 100)\n",
    "    y = random.randint(1, 100)\n",
    "    answer = random.randint(1, 2)\n",
    "    (input(f\"{x}+{y}= \"))\n",
    "    if answer == 1:\n",
    "        print(\"증답\")\n",
    "    else :\n",
    "        print(\"오우답\")\n",
    "        flag = False"
   ]
  },
  {
   "cell_type": "code",
   "execution_count": null,
   "id": "9b3d4849",
   "metadata": {},
   "outputs": [
    {
     "name": "stdout",
     "output_type": "stream",
     "text": [
      "암호:1234\n",
      "ID:45\n",
      "암호:1234\n",
      "ID:46646\n",
      "암호:45\n",
      "ID:1234\n"
     ]
    }
   ],
   "source": [
    "password = \"\"\n",
    "ID = \"\"\n",
    "\n",
    "while password != \"1234\" or ID != \"1234\" :\n",
    "    password = input(\"암호:\")\n",
    "    ID = input(\"ID:\")\n",
    "print (\"로긴\")"
   ]
  },
  {
   "cell_type": "code",
   "execution_count": 1,
   "id": "94b606b9",
   "metadata": {},
   "outputs": [
    {
     "name": "stdout",
     "output_type": "stream",
     "text": [
      "0곱하기0는 0\n",
      "0곱하기1는 0\n",
      "0곱하기2는 0\n",
      "1곱하기0는 0\n",
      "1곱하기1는 1\n",
      "1곱하기2는 2\n",
      "2곱하기0는 0\n",
      "2곱하기1는 2\n",
      "2곱하기2는 4\n"
     ]
    }
   ],
   "source": [
    "for i in range (3):\n",
    "    for j in range(3):\n",
    "        print ( f\"{i}곱하기{j}는 {i*j}\")"
   ]
  },
  {
   "cell_type": "code",
   "execution_count": 4,
   "id": "a063e262",
   "metadata": {},
   "outputs": [
    {
     "name": "stdout",
     "output_type": "stream",
     "text": [
      "1\n",
      "2\n"
     ]
    }
   ],
   "source": [
    "for i in range(1, 10, 1) :\n",
    "    if i % 3== 0 : break\n",
    "    print(i)"
   ]
  },
  {
   "cell_type": "code",
   "execution_count": 5,
   "id": "ebd29769",
   "metadata": {},
   "outputs": [
    {
     "ename": "SyntaxError",
     "evalue": "cannot assign to True (Temp/ipykernel_12408/2194663853.py, line 1)",
     "output_type": "error",
     "traceback": [
      "\u001b[1;36m  File \u001b[1;32m\"C:\\Users\\tksmd\\AppData\\Local\\Temp/ipykernel_12408/2194663853.py\"\u001b[1;36m, line \u001b[1;32m1\u001b[0m\n\u001b[1;33m    for True :\u001b[0m\n\u001b[1;37m        ^\u001b[0m\n\u001b[1;31mSyntaxError\u001b[0m\u001b[1;31m:\u001b[0m cannot assign to True\n"
     ]
    }
   ],
   "source": [
    "for True :\n",
    "    print(\"hi\")"
   ]
  },
  {
   "cell_type": "code",
   "execution_count": 6,
   "id": "5df580ba",
   "metadata": {},
   "outputs": [
    {
     "name": "stdout",
     "output_type": "stream",
     "text": [
      "0\n",
      "2\n",
      "4\n",
      "6\n",
      "8\n"
     ]
    }
   ],
   "source": [
    "for i in range(0, 10, 2):\n",
    "    print (i)"
   ]
  },
  {
   "cell_type": "code",
   "execution_count": 7,
   "id": "c2319936",
   "metadata": {},
   "outputs": [
    {
     "name": "stdout",
     "output_type": "stream",
     "text": [
      "1\n",
      "1\n",
      "1\n",
      "1\n",
      "1\n",
      "1\n"
     ]
    }
   ],
   "source": [
    "for x in range(10):\n",
    "    if x > 5 : continue\n",
    "    if x > 8 : break\n",
    "    print (\"1\")"
   ]
  },
  {
   "cell_type": "code",
   "execution_count": 8,
   "id": "63b9cfb2",
   "metadata": {},
   "outputs": [
    {
     "name": "stdout",
     "output_type": "stream",
     "text": [
      "100\n"
     ]
    }
   ],
   "source": [
    "x = 0\n",
    "while (x<100) :\n",
    "    x += 2\n",
    "print (x)"
   ]
  },
  {
   "cell_type": "code",
   "execution_count": 10,
   "id": "fcfe8632",
   "metadata": {},
   "outputs": [
    {
     "name": "stdout",
     "output_type": "stream",
     "text": [
      "2\n",
      "4\n",
      "6\n",
      "8\n",
      "10\n",
      "12\n",
      "14\n",
      "16\n",
      "18\n",
      "20\n",
      "22\n",
      "24\n",
      "26\n",
      "28\n",
      "30\n",
      "32\n",
      "34\n",
      "36\n",
      "38\n",
      "40\n",
      "42\n",
      "44\n",
      "46\n",
      "48\n",
      "50\n"
     ]
    }
   ],
   "source": [
    "for i in range(1, 26) :\n",
    "    print(2*i)"
   ]
  },
  {
   "cell_type": "code",
   "execution_count": 11,
   "id": "09d50e3b",
   "metadata": {},
   "outputs": [
    {
     "name": "stdout",
     "output_type": "stream",
     "text": [
      "34\n"
     ]
    }
   ],
   "source": [
    "myList = [1, 2, 5, 7, 9, 10]\n",
    "sum = 0\n",
    "for i in myList :\n",
    "    sum = sum + i\n",
    "    \n",
    "print (sum)"
   ]
  },
  {
   "cell_type": "code",
   "execution_count": 15,
   "id": "72a25aa8",
   "metadata": {},
   "outputs": [
    {
     "name": "stdout",
     "output_type": "stream",
     "text": [
      "입력: 5\n",
      "1\n",
      "2\n",
      "3\n",
      "4\n",
      "5\n",
      "1\n",
      "2\n",
      "3\n",
      "4\n",
      "5\n",
      "1\n",
      "2\n",
      "3\n",
      "4\n",
      "5\n",
      "1\n",
      "2\n",
      "3\n",
      "4\n",
      "5\n",
      "1\n",
      "2\n",
      "3\n",
      "4\n",
      "5\n"
     ]
    }
   ],
   "source": [
    "n = int(input(\"입력: \"))\n",
    "\n",
    "for i in range(1, n+1) :\n",
    "    for j in range(1, n+1) :\n",
    "        print(j)\n",
    "        "
   ]
  },
  {
   "cell_type": "code",
   "execution_count": 21,
   "id": "ec08b9d1",
   "metadata": {},
   "outputs": [
    {
     "name": "stdout",
     "output_type": "stream",
     "text": [
      "1 2 3 4 5 6 7 8 9 \n",
      "\n",
      "2 4 6 8 10 12 14 16 18 \n",
      "\n",
      "3 6 9 12 15 18 21 24 27 \n",
      "\n",
      "4 8 12 16 20 24 28 32 36 \n",
      "\n",
      "5 10 15 20 25 30 35 40 45 \n",
      "\n",
      "6 12 18 24 30 36 42 48 54 \n",
      "\n",
      "7 14 21 28 35 42 49 56 63 \n",
      "\n",
      "8 16 24 32 40 48 56 64 72 \n",
      "\n",
      "9 18 27 36 45 54 63 72 81 \n",
      "\n"
     ]
    }
   ],
   "source": [
    "for i in range(1, 10) :\n",
    "    for k in range(1, 10) :\n",
    "        print(i*k, end=\" \")\n",
    "    print(\"\\n\")"
   ]
  },
  {
   "cell_type": "code",
   "execution_count": 23,
   "id": "822c32f6",
   "metadata": {},
   "outputs": [
    {
     "name": "stdout",
     "output_type": "stream",
     "text": [
      "정수5\n",
      "--- --- ---\n",
      "--- --- ---\n",
      "--- --- ---\n",
      "--- --- ---\n",
      "--- --- ---\n",
      "\n",
      "\n",
      "--- --- ---\n",
      "--- --- ---\n",
      "--- --- ---\n",
      "--- --- ---\n",
      "--- --- ---\n",
      "\n",
      "\n",
      "--- --- ---\n",
      "--- --- ---\n",
      "--- --- ---\n",
      "--- --- ---\n",
      "--- --- ---\n",
      "\n",
      "\n",
      "--- --- ---\n",
      "--- --- ---\n",
      "--- --- ---\n",
      "--- --- ---\n",
      "--- --- ---\n",
      "\n",
      "\n",
      "--- --- ---\n",
      "--- --- ---\n",
      "--- --- ---\n",
      "--- --- ---\n",
      "--- --- ---\n",
      "\n",
      "\n"
     ]
    }
   ],
   "source": [
    "n = int(input(\"정수\"))\n",
    "for i in range(n) :\n",
    "    for k in range(n) :\n",
    "        print(\"---\", \"---\", \"---\")\n",
    "        print(\"---\", \"---\", \"---\")\n",
    "    print(\"\\n\")"
   ]
  },
  {
   "cell_type": "code",
   "execution_count": null,
   "id": "7e8c6187",
   "metadata": {},
   "outputs": [],
   "source": []
  }
 ],
 "metadata": {
  "kernelspec": {
   "display_name": "Python 3 (ipykernel)",
   "language": "python",
   "name": "python3"
  },
  "language_info": {
   "codemirror_mode": {
    "name": "ipython",
    "version": 3
   },
   "file_extension": ".py",
   "mimetype": "text/x-python",
   "name": "python",
   "nbconvert_exporter": "python",
   "pygments_lexer": "ipython3",
   "version": "3.9.7"
  }
 },
 "nbformat": 4,
 "nbformat_minor": 5
}
