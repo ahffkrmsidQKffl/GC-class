{
 "cells": [
  {
   "cell_type": "code",
   "execution_count": null,
   "id": "599929be",
   "metadata": {},
   "outputs": [],
   "source": [
    "## p.323 lab 문자열의 공통문자"
   ]
  },
  {
   "cell_type": "code",
   "execution_count": 2,
   "id": "36c22768",
   "metadata": {},
   "outputs": [
    {
     "name": "stdout",
     "output_type": "stream",
     "text": [
      "첫번째 문자열: hello world!\n",
      "두번째 문자열: how are you?\n",
      "\n",
      "공통적인 글자: w   o h e r "
     ]
    }
   ],
   "source": [
    "s1=input(\"첫번째 문자열: \")\n",
    "s2=input(\"두번째 문자열: \")\n",
    "\n",
    "list1 = list(set(s1)&set(s2))\n",
    "\n",
    "print(\"\\n공통적인 글자:\", end=\" \")\n",
    "for i in list1:\n",
    "    print(i, end=\" \")\n",
    "    "
   ]
  },
  {
   "cell_type": "code",
   "execution_count": null,
   "id": "bf96b995",
   "metadata": {},
   "outputs": [],
   "source": [
    "## p.324 lab 중복되지 않은 단어의 개수 세기"
   ]
  },
  {
   "cell_type": "code",
   "execution_count": 5,
   "id": "66c23a3e",
   "metadata": {},
   "outputs": [
    {
     "name": "stdout",
     "output_type": "stream",
     "text": [
      "입력 텍스트: his palms are sweaty moms sphagetti palms\n",
      "\n",
      "사용된 단어의 개수:  6\n",
      "{'sphagetti', 'moms', 'his', 'are', 'palms', 'sweaty'}\n"
     ]
    }
   ],
   "source": [
    "s1 = input(\"입력 텍스트: \")\n",
    "s2=set(s1.split(\" \"))\n",
    "\n",
    "print(\"\\n사용된 단어의 개수: \", len(s2))\n",
    "\n",
    "#for i in s2:\n",
    "    #print(i, end=\" \")\n",
    "    \n",
    "print(s2)\n"
   ]
  },
  {
   "cell_type": "code",
   "execution_count": null,
   "id": "5c45a885",
   "metadata": {},
   "outputs": [],
   "source": [
    "## p.332 lab 영한 사전"
   ]
  },
  {
   "cell_type": "code",
   "execution_count": 10,
   "id": "fbeb98c0",
   "metadata": {},
   "outputs": [
    {
     "name": "stdout",
     "output_type": "stream",
     "text": [
      "단어를 입력하시오: one\n",
      "하나\n"
     ]
    }
   ],
   "source": [
    "#dic = {\"one\":\"하나\", \"two\":\"둘\", \"three\":\"셋\"}\n",
    "\n",
    "dic = {}\n",
    "dic[\"one\"]=\"하나\"\n",
    "dic[\"two\"]=\"둘\"\n",
    "dic[\"three\"]=\"셋\"\n",
    "\n",
    "input1 = input(\"단어를 입력하시오: \")\n",
    "\n",
    "print(dic[input1])\n",
    "\n"
   ]
  },
  {
   "cell_type": "code",
   "execution_count": null,
   "id": "23eb48a5",
   "metadata": {},
   "outputs": [],
   "source": [
    "##p.332 lab 주소록 작성 (my)"
   ]
  },
  {
   "cell_type": "code",
   "execution_count": 2,
   "id": "130f8f68",
   "metadata": {},
   "outputs": [
    {
     "name": "stdout",
     "output_type": "stream",
     "text": [
      "1. 연락처 추가\n",
      "2. 연락처 삭제\n",
      "3. 연락처 검색\n",
      "4. 연락처 출력\n",
      "5. 종료\n",
      "메뉴 항목을 선택하시오: 1\n"
     ]
    }
   ],
   "source": [
    "print(\"1. 연락처 추가\")\n",
    "print(\"2. 연락처 삭제\")\n",
    "print(\"3. 연락처 검색\")\n",
    "print(\"4. 연락처 출력\")\n",
    "print(\"5. 종료\", end=\"\\n\")\n",
    "input1=input(\"메뉴 항목을 선택하시오: \")\n",
    "\n",
    "if input1==1:\n",
    "    name1=input(\"이름: \")\n",
    "    number1=input(\"전화번호: \")\n",
    "    num_dic[name1]=number1\n",
    "elif input1==2:\n",
    "    name2=input(\"이름: \")\n",
    "    num_dic.pop[name2]\n",
    "elif input1==3:\n",
    "    pass?\n",
    "elif input1==4:\n",
    "    for i in num_dic:\n",
    "        print(의 전화번호 : num_dic[i])\n",
    "    "
   ]
  },
  {
   "cell_type": "code",
   "execution_count": null,
   "id": "6cfa29b5",
   "metadata": {},
   "outputs": [],
   "source": []
  },
  {
   "cell_type": "code",
   "execution_count": null,
   "id": "c8f961f8",
   "metadata": {},
   "outputs": [],
   "source": []
  },
  {
   "cell_type": "code",
   "execution_count": null,
   "id": "c50b7d68",
   "metadata": {},
   "outputs": [],
   "source": [
    "##p.334 lab 학생 성적 처리 (my)"
   ]
  },
  {
   "cell_type": "code",
   "execution_count": 6,
   "id": "cc202e3e",
   "metadata": {},
   "outputs": [
    {
     "name": "stdout",
     "output_type": "stream",
     "text": [
      "Kim의 평균성적= 92.333333\n",
      "Lee의 평균성적= 63.666667\n",
      "Choi의 평균성적= 50.000000\n"
     ]
    }
   ],
   "source": [
    "score_dic = {\n",
    "    'Kim' : [99, 83, 95],\n",
    "    'Lee' : [68, 45, 78],\n",
    "    'Choi' : [25, 56, 69]\n",
    "}\n",
    "sum1 =0\n",
    "sum2 = 0\n",
    "sum3 = 0\n",
    "\n",
    "for i in score_dic['Kim']:\n",
    "    sum1 = sum1 + i;\n",
    "    \n",
    "for i in score_dic['Lee']:\n",
    "    sum2 = sum2 + i;\n",
    "    \n",
    "for i in score_dic['Choi']:\n",
    "    sum3 = sum3 + i;\n",
    "\n",
    "ave1 = sum1/3\n",
    "ave2 = sum2/3\n",
    "ave3 = sum3/3\n",
    "\n",
    "print(\"Kim의 평균성적= %f\" % ave1)\n",
    "print(\"Lee의 평균성적= %f\" % ave2)\n",
    "print(\"Choi의 평균성적= %f\" % ave3)\n"
   ]
  },
  {
   "cell_type": "code",
   "execution_count": null,
   "id": "1eda9ec3",
   "metadata": {},
   "outputs": [],
   "source": []
  },
  {
   "cell_type": "code",
   "execution_count": null,
   "id": "c7c8be71",
   "metadata": {},
   "outputs": [],
   "source": []
  },
  {
   "cell_type": "code",
   "execution_count": null,
   "id": "35e61f30",
   "metadata": {},
   "outputs": [],
   "source": [
    "## p.335 lab 단어 카운터 만들기"
   ]
  },
  {
   "cell_type": "code",
   "execution_count": 9,
   "id": "0cd60b41",
   "metadata": {},
   "outputs": [
    {
     "ename": "SyntaxError",
     "evalue": "invalid syntax (Temp/ipykernel_1844/3260617760.py, line 6)",
     "output_type": "error",
     "traceback": [
      "\u001b[1;36m  File \u001b[1;32m\"C:\\Users\\tksmd\\AppData\\Local\\Temp/ipykernel_1844/3260617760.py\"\u001b[1;36m, line \u001b[1;32m6\u001b[0m\n\u001b[1;33m    print(i의 등장횟수 : )\u001b[0m\n\u001b[1;37m             ^\u001b[0m\n\u001b[1;31mSyntaxError\u001b[0m\u001b[1;31m:\u001b[0m invalid syntax\n"
     ]
    }
   ],
   "source": [
    "text_data = \"Creat the highest, grandest vision possible for your life, because you become what you believe\"\n",
    "list(text_data)\n",
    "list1=text_data.split(\" \")\n",
    "print(list1)\n",
    "for i in list1 :\n",
    "    print(i의 등장횟수 : )"
   ]
  },
  {
   "cell_type": "code",
   "execution_count": null,
   "id": "7f5df72f",
   "metadata": {},
   "outputs": [],
   "source": []
  }
 ],
 "metadata": {
  "kernelspec": {
   "display_name": "Python 3 (ipykernel)",
   "language": "python",
   "name": "python3"
  },
  "language_info": {
   "codemirror_mode": {
    "name": "ipython",
    "version": 3
   },
   "file_extension": ".py",
   "mimetype": "text/x-python",
   "name": "python",
   "nbconvert_exporter": "python",
   "pygments_lexer": "ipython3",
   "version": "3.9.7"
  }
 },
 "nbformat": 4,
 "nbformat_minor": 5
}
