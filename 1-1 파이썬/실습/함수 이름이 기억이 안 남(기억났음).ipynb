{
 "cells": [
  {
   "cell_type": "code",
   "execution_count": null,
   "id": "2921c50d",
   "metadata": {},
   "outputs": [],
   "source": [
    "큰따옴표 안에 있는 거랑 큰따옴표 없이 있는 거랑 \n",
    "print함수 같은 거에서 한꺼번에 같이 쓸 수 있게 해주는 함수가 대체 뭐더라 \n",
    "\"%d\" %()나 \"%f\" %() 같은거말고\n",
    "\n",
    "기억났다 이거임 ~> f\"{값이나오게만들고픈놈} 그냥쓰고싶은놈\""
   ]
  }
 ],
 "metadata": {
  "kernelspec": {
   "display_name": "Python 3 (ipykernel)",
   "language": "python",
   "name": "python3"
  },
  "language_info": {
   "codemirror_mode": {
    "name": "ipython",
    "version": 3
   },
   "file_extension": ".py",
   "mimetype": "text/x-python",
   "name": "python",
   "nbconvert_exporter": "python",
   "pygments_lexer": "ipython3",
   "version": "3.9.7"
  }
 },
 "nbformat": 4,
 "nbformat_minor": 5
}
