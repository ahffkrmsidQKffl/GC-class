{
 "cells": [
  {
   "cell_type": "code",
   "execution_count": null,
   "id": "f60345f3",
   "metadata": {},
   "outputs": [],
   "source": [
    "## p.282 도전문제"
   ]
  },
  {
   "cell_type": "code",
   "execution_count": 1,
   "id": "6a1d373b",
   "metadata": {},
   "outputs": [
    {
     "name": "stdout",
     "output_type": "stream",
     "text": [
      "인상전 [200, 250, 300, 280, 500]\n",
      "인상후 [260.0, 325.0, 390.0, 364.0, 650.0]\n"
     ]
    }
   ],
   "source": [
    "salaries =[200, 250, 300, 280, 500]\n",
    "\n",
    "def modify (values, factors) :\n",
    "    for i in range(len(values)) :\n",
    "        values[i] = values[i]*factors\n",
    "        \n",
    "print(\"인상전\", salaries)\n",
    "modify (salaries, 1.3)\n",
    "print(\"인상후\", salaries)"
   ]
  },
  {
   "cell_type": "code",
   "execution_count": 4,
   "id": "6c5dbef7",
   "metadata": {},
   "outputs": [
    {
     "name": "stdout",
     "output_type": "stream",
     "text": [
      "인상전 [200, 250, 300, 280, 500]\n",
      "인상후 [200, 250, 300, 280, 500]\n"
     ]
    }
   ],
   "source": [
    "salaries =[200, 250, 300, 280, 500]\n",
    "\n",
    "def modify (values, factors) :\n",
    "    for e in values :\n",
    "        e = e*factors\n",
    "        \n",
    "print(\"인상전\", salaries)\n",
    "modify (salaries, 1.3)\n",
    "print(\"인상후\", salaries)"
   ]
  },
  {
   "cell_type": "code",
   "execution_count": null,
   "id": "72ecd4f9",
   "metadata": {},
   "outputs": [],
   "source": [
    "## p.285 도전문제"
   ]
  },
  {
   "cell_type": "code",
   "execution_count": 10,
   "id": "0ad341be",
   "metadata": {},
   "outputs": [
    {
     "name": "stdout",
     "output_type": "stream",
     "text": [
      "['짝수', '홀수', '짝수', '홀수', '짝수', '홀수', '짝수', '홀수', '짝수', '홀수']\n"
     ]
    }
   ],
   "source": [
    "numbers = [\"짝수\" if i % 2 == 0 else \"홀수\" for i in range(10)]\n",
    "print(numbers)"
   ]
  },
  {
   "cell_type": "code",
   "execution_count": null,
   "id": "6ae93cdf",
   "metadata": {},
   "outputs": [],
   "source": [
    "##p.294 lab 전치 행렬 계산 방법#1"
   ]
  },
  {
   "cell_type": "code",
   "execution_count": null,
   "id": "60c3d4e6",
   "metadata": {},
   "outputs": [],
   "source": []
  },
  {
   "cell_type": "code",
   "execution_count": null,
   "id": "7afb028f",
   "metadata": {},
   "outputs": [],
   "source": [
    "##p.294 lab 전치 행렬 계산 방법#2"
   ]
  },
  {
   "cell_type": "code",
   "execution_count": null,
   "id": "51b4f1fe",
   "metadata": {},
   "outputs": [],
   "source": []
  },
  {
   "cell_type": "code",
   "execution_count": null,
   "id": "2a406227",
   "metadata": {},
   "outputs": [],
   "source": [
    "##p.295 lab 틱택토 프로그램"
   ]
  },
  {
   "cell_type": "code",
   "execution_count": null,
   "id": "31a1dba8",
   "metadata": {},
   "outputs": [],
   "source": []
  }
 ],
 "metadata": {
  "kernelspec": {
   "display_name": "Python 3 (ipykernel)",
   "language": "python",
   "name": "python3"
  },
  "language_info": {
   "codemirror_mode": {
    "name": "ipython",
    "version": 3
   },
   "file_extension": ".py",
   "mimetype": "text/x-python",
   "name": "python",
   "nbconvert_exporter": "python",
   "pygments_lexer": "ipython3",
   "version": "3.9.7"
  }
 },
 "nbformat": 4,
 "nbformat_minor": 5
}
