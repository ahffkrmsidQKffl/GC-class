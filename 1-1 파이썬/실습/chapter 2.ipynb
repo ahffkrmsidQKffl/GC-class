{
 "cells": [
  {
   "cell_type": "code",
   "execution_count": 3,
   "id": "119caf62",
   "metadata": {},
   "outputs": [
    {
     "name": "stdout",
     "output_type": "stream",
     "text": [
      "21.139861322509724 보이저년\n"
     ]
    }
   ],
   "source": [
    "speed = 60000\n",
    "distance = 40000000000000\n",
    "secs = distance / speed\n",
    "light_year = secs / (60*60*24*365)\n",
    "print(light_year, \"보이저년\")"
   ]
  },
  {
   "cell_type": "code",
   "execution_count": 4,
   "id": "edde9307",
   "metadata": {},
   "outputs": [
    {
     "name": "stdout",
     "output_type": "stream",
     "text": [
      "300\n"
     ]
    }
   ],
   "source": [
    "a = b = c = 100\n",
    "\n",
    "print(a + b+ c)"
   ]
  },
  {
   "cell_type": "code",
   "execution_count": 5,
   "id": "e3c62428",
   "metadata": {},
   "outputs": [
    {
     "ename": "SyntaxError",
     "evalue": "cannot assign to literal (Temp/ipykernel_11008/892711643.py, line 1)",
     "output_type": "error",
     "traceback": [
      "\u001b[1;36m  File \u001b[1;32m\"C:\\Users\\tksmd\\AppData\\Local\\Temp/ipykernel_11008/892711643.py\"\u001b[1;36m, line \u001b[1;32m1\u001b[0m\n\u001b[1;33m    3 = x\u001b[0m\n\u001b[1;37m    ^\u001b[0m\n\u001b[1;31mSyntaxError\u001b[0m\u001b[1;31m:\u001b[0m cannot assign to literal\n"
     ]
    }
   ],
   "source": [
    "3 = x\n",
    "\n",
    "print(x)"
   ]
  },
  {
   "cell_type": "code",
   "execution_count": 7,
   "id": "d5f8ae75",
   "metadata": {},
   "outputs": [
    {
     "name": "stdout",
     "output_type": "stream",
     "text": [
      "\"친구가 \"Hi!\"라고 말했습니다\"\n"
     ]
    }
   ],
   "source": [
    "print('\"친구가 \"Hi!\"라고 말했습니다\"')"
   ]
  },
  {
   "cell_type": "code",
   "execution_count": 8,
   "id": "6a3a30d4",
   "metadata": {},
   "outputs": [
    {
     "name": "stdout",
     "output_type": "stream",
     "text": [
      "BTW\n"
     ]
    }
   ],
   "source": [
    "a = \"By\"\n",
    "b = \"The\"\n",
    "c = \"Way\"\n",
    "print(a[0] + b[0] + c[0])"
   ]
  },
  {
   "cell_type": "code",
   "execution_count": 9,
   "id": "174f5e89",
   "metadata": {},
   "outputs": [
    {
     "name": "stdout",
     "output_type": "stream",
     "text": [
      "오늘 Camp Nou에서 야구 경기가 열렸습니다.\n"
     ]
    }
   ],
   "source": [
    "stadium = \"Camp Nou\"\n",
    "\n",
    "print(f\"오늘 {stadium}에서 야구 경기가 열렸습니다.\")"
   ]
  },
  {
   "cell_type": "code",
   "execution_count": 10,
   "id": "51f07002",
   "metadata": {},
   "outputs": [
    {
     "name": "stdout",
     "output_type": "stream",
     "text": [
      "첫번째 정수 :1\n",
      "두번째 정수 :2\n",
      "3\n"
     ]
    }
   ],
   "source": [
    "x=int(input(\"첫번째 정수 :\"))\n",
    "y=int(input(\"두번째 정수 :\"))\n",
    "\n",
    "print(x+y)"
   ]
  },
  {
   "cell_type": "code",
   "execution_count": 15,
   "id": "567d5a6c",
   "metadata": {
    "scrolled": true
   },
   "outputs": [
    {
     "name": "stdout",
     "output_type": "stream",
     "text": [
      "이름을 입력하시오: rlfejd\n",
      "rlfejd씨, 안녕하세요? \n",
      "파이썬에 오신 것을 환영합니다\n"
     ]
    }
   ],
   "source": [
    "name = input(\"이름을 입력하시오: \")\n",
    "print(f\"{name}씨, 안녕하세요?\", \"\\n파이썬에 오신 것을 환영합니다\")\n"
   ]
  },
  {
   "cell_type": "code",
   "execution_count": 16,
   "id": "407950e4",
   "metadata": {},
   "outputs": [
    {
     "name": "stdout",
     "output_type": "stream",
     "text": [
      "취미가 무엇인가요?축구\n",
      "네 저도 축구를 참 좋아하는데요, 제가 한번 해보겠습니다.\n"
     ]
    }
   ],
   "source": [
    "hobby = input(\"취미가 무엇인가요?\")\n",
    "print(f\"네 저도 {hobby}를 참 좋아하는데요, 제가 한번 해보겠습니다.\")"
   ]
  },
  {
   "cell_type": "code",
   "execution_count": 19,
   "id": "81b65294",
   "metadata": {},
   "outputs": [
    {
     "name": "stdout",
     "output_type": "stream",
     "text": [
      "나이가 어떻게 되세요?12\n",
      "내년이면 13이 되시는군요\n"
     ]
    }
   ],
   "source": [
    "age = int(input(\"나이가 어떻게 되세요?\"))\n",
    "print(\"내년이면 \"+str(age+1)+\"이 되시는군요\")"
   ]
  },
  {
   "cell_type": "code",
   "execution_count": 26,
   "id": "8d2976a3",
   "metadata": {},
   "outputs": [
    {
     "name": "stdout",
     "output_type": "stream",
     "text": [
      "삼각형의 한변의 길이를 입력하시오: 100\n"
     ]
    },
    {
     "ename": "Terminator",
     "evalue": "",
     "output_type": "error",
     "traceback": [
      "\u001b[1;31m---------------------------------------------------------------------------\u001b[0m",
      "\u001b[1;31mTerminator\u001b[0m                                Traceback (most recent call last)",
      "\u001b[1;32m~\\AppData\\Local\\Temp/ipykernel_11008/387253710.py\u001b[0m in \u001b[0;36m<module>\u001b[1;34m\u001b[0m\n\u001b[0;32m     19\u001b[0m \u001b[1;33m\u001b[0m\u001b[0m\n\u001b[0;32m     20\u001b[0m \u001b[0mturtle\u001b[0m\u001b[1;33m.\u001b[0m\u001b[0mmainloop\u001b[0m\u001b[1;33m(\u001b[0m\u001b[1;33m)\u001b[0m\u001b[1;33m\u001b[0m\u001b[1;33m\u001b[0m\u001b[0m\n\u001b[1;32m---> 21\u001b[1;33m \u001b[0mturtle\u001b[0m\u001b[1;33m.\u001b[0m\u001b[0mbye\u001b[0m\u001b[1;33m(\u001b[0m\u001b[1;33m)\u001b[0m\u001b[1;33m\u001b[0m\u001b[1;33m\u001b[0m\u001b[0m\n\u001b[0m",
      "\u001b[1;32m~\\anaconda3\\lib\\turtle.py\u001b[0m in \u001b[0;36mbye\u001b[1;34m()\u001b[0m\n",
      "\u001b[1;31mTerminator\u001b[0m: "
     ]
    }
   ],
   "source": [
    "size = int(input(\"삼각형의 한변의 길이를 입력하시오: \"))\n",
    "\n",
    "import turtle\n",
    "\n",
    "t = turtle.Turtle()\n",
    "t.shape(\"turtle\")\n",
    "\n",
    "t.fd(size)\n",
    "t.left(120)\n",
    "t.fd(size)\n",
    "t.left(120)\n",
    "t.fd(size)\n",
    "t.left(30)\n",
    "t.fd(size)\n",
    "t.left(90)\n",
    "t.fd(size)\n",
    "t.left(90)\n",
    "t.fd(size)\n",
    "\n",
    "turtle.mainloop()\n",
    "turtle.bye()\n"
   ]
  },
  {
   "cell_type": "code",
   "execution_count": 28,
   "id": "716423ac",
   "metadata": {},
   "outputs": [
    {
     "name": "stdout",
     "output_type": "stream",
     "text": [
      "applegrape\n"
     ]
    }
   ],
   "source": [
    "print('apple'+'grape')"
   ]
  },
  {
   "cell_type": "code",
   "execution_count": 30,
   "id": "40ada35a",
   "metadata": {},
   "outputs": [
    {
     "name": "stdout",
     "output_type": "stream",
     "text": [
      "정수입력해이새끼야:123456\n",
      "123,456\n"
     ]
    }
   ],
   "source": [
    "num = int(input(\"정수입력해이새끼야:\"))\n",
    "\n",
    "print(f\"{num//1000},{num%1000}\")"
   ]
  },
  {
   "cell_type": "code",
   "execution_count": null,
   "id": "2019a50d",
   "metadata": {},
   "outputs": [],
   "source": []
  }
 ],
 "metadata": {
  "kernelspec": {
   "display_name": "Python 3 (ipykernel)",
   "language": "python",
   "name": "python3"
  },
  "language_info": {
   "codemirror_mode": {
    "name": "ipython",
    "version": 3
   },
   "file_extension": ".py",
   "mimetype": "text/x-python",
   "name": "python",
   "nbconvert_exporter": "python",
   "pygments_lexer": "ipython3",
   "version": "3.9.7"
  }
 },
 "nbformat": 4,
 "nbformat_minor": 5
}
