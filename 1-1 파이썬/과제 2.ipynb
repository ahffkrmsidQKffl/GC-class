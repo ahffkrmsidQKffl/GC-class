{
 "cells": [
  {
   "cell_type": "markdown",
   "id": "e52a692e",
   "metadata": {},
   "source": [
    "## p.224 도전문제 (1)"
   ]
  },
  {
   "cell_type": "code",
   "execution_count": 1,
   "id": "dc305a69",
   "metadata": {},
   "outputs": [
    {
     "name": "stdout",
     "output_type": "stream",
     "text": [
      "근무 시간을 입력하시오:38\n",
      "주급은 420000.0\n"
     ]
    }
   ],
   "source": [
    "def weeklyPay( hour, rate = 10000 ):\n",
    "    money = 0\n",
    "    if (hour > 30):\n",
    "        money = 30*rate + (hour-30)*rate*1.5\n",
    "    else:\n",
    "        money = rate*hour\n",
    "    return money\n",
    "\n",
    "hour = int(input(\"근무 시간을 입력하시오:\"))\n",
    "print(\"주급은 \" + str(weeklyPay(hour)))\n"
   ]
  },
  {
   "cell_type": "markdown",
   "id": "4bb459d8",
   "metadata": {},
   "source": [
    "## p.224 도전문제 (2)"
   ]
  },
  {
   "cell_type": "code",
   "execution_count": 2,
   "id": "52d99bc0",
   "metadata": {},
   "outputs": [
    {
     "name": "stdout",
     "output_type": "stream",
     "text": [
      "주급은 420000.0\n"
     ]
    }
   ],
   "source": [
    "def weeklyPay( rate, hour ):\n",
    "    money = 0\n",
    "    if (hour > 30):\n",
    "        money = 30*rate + (hour-30)*rate*1.5\n",
    "    else:\n",
    "        money = rate*hour\n",
    "    return money\n",
    "\n",
    "print(\"주급은 \" + str(weeklyPay(hour=38, rate=10000)))"
   ]
  },
  {
   "cell_type": "markdown",
   "id": "568c7e93",
   "metadata": {},
   "source": [
    "## p.227 도전문제"
   ]
  },
  {
   "cell_type": "code",
   "execution_count": 15,
   "id": "1bf1533c",
   "metadata": {},
   "outputs": [
    {
     "name": "stdout",
     "output_type": "stream",
     "text": [
      "정수1:33\n",
      "정수2:10\n",
      "10 33\n"
     ]
    }
   ],
   "source": [
    "def get_info():\n",
    "    int1 = int(input(\"정수1:\"))\n",
    "    int2 = int(input(\"정수2:\"))\n",
    "    if int1 < int2 :\n",
    "        int_s = int1\n",
    "        int_b = int2\n",
    "    elif int1 > int2 :\n",
    "        int_s = int2\n",
    "        int_b = int1\n",
    "    return int_s, int_b\n",
    "\n",
    "st_int_s, st_int_b = get_info()\n",
    "print(st_int_s, st_int_b)"
   ]
  },
  {
   "cell_type": "markdown",
   "id": "11a54728",
   "metadata": {},
   "source": [
    "## p.246 Programming 04번"
   ]
  },
  {
   "cell_type": "code",
   "execution_count": 21,
   "id": "49195386",
   "metadata": {},
   "outputs": [
    {
     "name": "stdout",
     "output_type": "stream",
     "text": [
      "점수를 입력하세요: 89\n",
      "성적은 B 입니다\n"
     ]
    }
   ],
   "source": [
    "def getGrade(score) :\n",
    "    if score >= 90 :\n",
    "        grade = \"A\"\n",
    "    elif score >= 80 :\n",
    "        grade = \"B\"\n",
    "    elif score >= 70 :\n",
    "        grade = \"C\"\n",
    "    elif score >= 60 :\n",
    "        grade = \"D\"\n",
    "    else :\n",
    "        grade = \"F\"\n",
    "    return grade\n",
    "\n",
    "score = int(input(\"점수를 입력하세요: \"))\n",
    "print(\"성적은\", getGrade(score), \"입니다\")\n",
    "        "
   ]
  },
  {
   "cell_type": "markdown",
   "id": "082e0a58",
   "metadata": {},
   "source": [
    "## p.246 Programming 06번"
   ]
  },
  {
   "cell_type": "code",
   "execution_count": 27,
   "id": "3cf08bf4",
   "metadata": {},
   "outputs": [
    {
     "name": "stdout",
     "output_type": "stream",
     "text": [
      "첫 번째 정수를 입력하시오:4\n",
      "두 번째 정수를 입력하시오:5\n",
      "정수 4+5의 합은?\n",
      "9\n"
     ]
    }
   ],
   "source": [
    "def get_info():\n",
    "    int1 = int(input(\"첫 번째 정수를 입력하시오:\"))\n",
    "    int2 = int(input(\"두 번째 정수를 입력하시오:\"))\n",
    " \n",
    "    return int1, int2\n",
    "\n",
    "st_int1, st_int2 = get_info()\n",
    "print(\"정수 %d+%d의 합은?\" % (st_int1, st_int2))\n",
    "print(st_int1 + st_int2)"
   ]
  },
  {
   "cell_type": "markdown",
   "id": "70674f8a",
   "metadata": {},
   "source": [
    "## p.246 Programming 12번"
   ]
  },
  {
   "cell_type": "code",
   "execution_count": 32,
   "id": "3851197d",
   "metadata": {},
   "outputs": [
    {
     "name": "stdout",
     "output_type": "stream",
     "text": [
      "첫 번째 정수:30\n",
      "두 번째 정수:20\n",
      "20 , 30\n"
     ]
    }
   ],
   "source": [
    "def getSorted(x, y):\n",
    "    x = int(input(\"첫 번째 정수:\"))\n",
    "    y = int(input(\"두 번째 정수:\"))\n",
    "    if x < y :\n",
    "        int_s = x\n",
    "        int_b = y\n",
    "    elif x > y :\n",
    "        int_s = y\n",
    "        int_b = x\n",
    "    return int_s, int_b\n",
    "\n",
    "st_int_s, st_int_b = get_info()\n",
    "print(st_int_s, \",\", st_int_b)"
   ]
  },
  {
   "cell_type": "markdown",
   "id": "ba9b6f5a",
   "metadata": {},
   "source": [
    "## p.246 Programming 15번"
   ]
  },
  {
   "cell_type": "code",
   "execution_count": null,
   "id": "54413578",
   "metadata": {},
   "outputs": [],
   "source": [
    "import turtle\n",
    "t = turtle.Turtle()\n",
    "t.shape(\"turtle\")\n",
    "\n",
    "def draw_square(size):\n",
    "    for i in range(4):\n",
    "        t.forward(size)\n",
    "        t.left(90)\n",
    "        size = size + 5\n",
    "        \n",
    "for i in range(10): \n",
    "    draw_square(i*20)\n",
    "\n",
    "    \n",
    "turtle.mainloop()\n",
    "turtle.bye()"
   ]
  },
  {
   "cell_type": "markdown",
   "id": "927cc8ac",
   "metadata": {},
   "source": [
    "## p.282 도전문제"
   ]
  },
  {
   "cell_type": "code",
   "execution_count": 1,
   "id": "ece91989",
   "metadata": {
    "scrolled": true
   },
   "outputs": [
    {
     "name": "stdout",
     "output_type": "stream",
     "text": [
      "인상전 [200, 250, 300, 280, 500]\n",
      "인상후 [260.0, 325.0, 390.0, 364.0, 650.0]\n"
     ]
    }
   ],
   "source": [
    "salaries =[200, 250, 300, 280, 500]\n",
    "after = []\n",
    "\n",
    "def modify (values, factors) :\n",
    "    for e in values :\n",
    "        #e = e*factors\n",
    "        after.append(e * factors)\n",
    "       \n",
    "        \n",
    "print(\"인상전\", salaries)\n",
    "modify(salaries, 1.3)\n",
    "#print(\"인상후\", salaries)\n",
    "print(\"인상후\", after)"
   ]
  },
  {
   "cell_type": "markdown",
   "id": "3b20fd7f",
   "metadata": {},
   "source": [
    "## p.285 도전문제"
   ]
  },
  {
   "cell_type": "code",
   "execution_count": 16,
   "id": "be284e20",
   "metadata": {},
   "outputs": [
    {
     "name": "stdout",
     "output_type": "stream",
     "text": [
      "['짝수', '홀수', '짝수', '홀수', '짝수', '홀수', '짝수', '홀수', '짝수', '홀수']\n"
     ]
    }
   ],
   "source": [
    "numbers = [\"짝수\" if i % 2 == 0 else \"홀수\" for i in range(10)]\n",
    "print(numbers)\n"
   ]
  },
  {
   "cell_type": "markdown",
   "id": "cdb40ead",
   "metadata": {},
   "source": [
    "## p.301 Programming 03번"
   ]
  },
  {
   "cell_type": "code",
   "execution_count": 3,
   "id": "332bc67d",
   "metadata": {},
   "outputs": [
    {
     "name": "stdout",
     "output_type": "stream",
     "text": [
      "20 \t ********************\n",
      "1 \t *\n",
      "12 \t ************\n",
      "9 \t *********\n",
      "18 \t ******************\n"
     ]
    }
   ],
   "source": [
    "alist = [20, 1, 12, 9, 18]\n",
    "\n",
    "for i in alist:\n",
    "    print(i, \"\\t\", \"*\" * i)\n",
    "    "
   ]
  },
  {
   "cell_type": "markdown",
   "id": "1ac4c317",
   "metadata": {},
   "source": [
    "## p.302 Programming 08번"
   ]
  },
  {
   "cell_type": "code",
   "execution_count": 9,
   "id": "bf6a16b1",
   "metadata": {},
   "outputs": [
    {
     "name": "stdout",
     "output_type": "stream",
     "text": [
      "결과= [1, 3, 4, 5]\n"
     ]
    }
   ],
   "source": [
    "a = [1, 2, 3, 4, 5]\n",
    "b = [1, 3, 3, 4, 5, 6, 7]\n",
    "\n",
    "print(\"결과=\", list(set(a) & set(b)))"
   ]
  },
  {
   "cell_type": "markdown",
   "id": "ff7243b3",
   "metadata": {},
   "source": [
    "## p.304 Programming 13번"
   ]
  },
  {
   "cell_type": "code",
   "execution_count": 16,
   "id": "40747610",
   "metadata": {},
   "outputs": [
    {
     "name": "stdout",
     "output_type": "stream",
     "text": [
      "-----------------------------\n",
      "1  2  3  4  5  6  7  8  9  10\n",
      "-----------------------------\n",
      "[0, 0, 0, 0, 0, 0, 0, 0, 0, 0]\n",
      "\n",
      "[0, 0, 0, 0, 0, 0, 0, 0, 0, 0]\n",
      "\n",
      "[0, 0, 0, 0, 0, 0, 0, 0, 0, 0]\n",
      "\n",
      "[0, 0, 0, 0, 0, 0, 0, 0, 0, 0]\n",
      "\n",
      "[0, 0, 0, 0, 0, 0, 0, 0, 0, 0]\n",
      "\n",
      "[0, 0, 0, 0, 0, 0, 0, 0, 0, 0]\n",
      "\n",
      "[0, 0, 0, 0, 0, 0, 0, 0, 0, 0]\n",
      "\n",
      "[0, 0, 0, 0, 0, 0, 0, 0, 0, 0]\n",
      "\n",
      "[0, 0, 0, 0, 0, 0, 0, 0, 0, 0]\n",
      "\n",
      "[0, 0, 0, 0, 0, 0, 0, 0, 0, 0]\n",
      "\n",
      "원하시는 좌석의 행번호를 입력하세요(종료는 –1): 10\n",
      "원하시는 좌석의 열번호를 입력하세요(종료는 –1): 10\n",
      "예약합니다.\n",
      "-----------------------------\n",
      "1  2  3  4  5  6  7  8  9  10\n",
      "-----------------------------\n",
      "[0, 0, 0, 0, 0, 0, 0, 0, 0, 0]\n",
      "\n",
      "[0, 0, 0, 0, 0, 0, 0, 0, 0, 0]\n",
      "\n",
      "[0, 0, 0, 0, 0, 0, 0, 0, 0, 0]\n",
      "\n",
      "[0, 0, 0, 0, 0, 0, 0, 0, 0, 0]\n",
      "\n",
      "[0, 0, 0, 0, 0, 0, 0, 0, 0, 0]\n",
      "\n",
      "[0, 0, 0, 0, 0, 0, 0, 0, 0, 0]\n",
      "\n",
      "[0, 0, 0, 0, 0, 0, 0, 0, 0, 0]\n",
      "\n",
      "[0, 0, 0, 0, 0, 0, 0, 0, 0, 0]\n",
      "\n",
      "[0, 0, 0, 0, 0, 0, 0, 0, 0, 0]\n",
      "\n",
      "[0, 0, 0, 0, 0, 0, 0, 0, 0, 1]\n",
      "\n"
     ]
    }
   ],
   "source": [
    "seat = []\n",
    "seat.append([0,0,0,0,0,0,0,0,0,0])\n",
    "seat.append([0,0,0,0,0,0,0,0,0,0])\n",
    "seat.append([0,0,0,0,0,0,0,0,0,0])\n",
    "seat.append([0,0,0,0,0,0,0,0,0,0])\n",
    "seat.append([0,0,0,0,0,0,0,0,0,0])\n",
    "seat.append([0,0,0,0,0,0,0,0,0,0])\n",
    "seat.append([0,0,0,0,0,0,0,0,0,0])\n",
    "seat.append([0,0,0,0,0,0,0,0,0,0])\n",
    "seat.append([0,0,0,0,0,0,0,0,0,0])\n",
    "seat.append([0,0,0,0,0,0,0,0,0,0])\n",
    "        \n",
    "def reservation():\n",
    "    row = int(input(\"원하시는 좌석의 행번호를 입력하세요(종료는 –1): \"))-1\n",
    "    column = int(input(\"원하시는 좌석의 열번호를 입력하세요(종료는 –1): \"))-1\n",
    "  \n",
    "    if seat[row][column]==1:\n",
    "        print(\"이미 예약된 자리입니다.\")\n",
    "    else:\n",
    "        print(\"예약합니다.\")\n",
    "        seat[row][column]=1\n",
    "        \n",
    "def visualization():\n",
    "    print(\"-----------------------------\")\n",
    "    print(\"1  2  3  4  5  6  7  8  9  10\")\n",
    "    print(\"-----------------------------\")\n",
    "    for i in seat:\n",
    "        print(i)\n",
    "        print(\"\")\n",
    "        \n",
    "visualization()\n",
    "reservation() \n",
    "visualization()"
   ]
  },
  {
   "cell_type": "markdown",
   "id": "da0ee9a4",
   "metadata": {},
   "source": [
    "## p.324 도전문제"
   ]
  },
  {
   "cell_type": "code",
   "execution_count": 2,
   "id": "905e3af5",
   "metadata": {},
   "outputs": [
    {
     "name": "stdout",
     "output_type": "stream",
     "text": [
      "첫 번째 문자열: hellow world!\n",
      "두 번째 문자열: hello world\n",
      "\n",
      "공통적인 글자: r   o h l e d w 표절의심\n"
     ]
    }
   ],
   "source": [
    "s1 = input(\"첫 번째 문자열: \")\n",
    "s2 = input(\"두 번째 문자열: \")\n",
    "\n",
    "list1 = list( set(s1) & set(s2) )\n",
    "\n",
    "print(\"\\n공통적인 글자:\", end=\" \")\n",
    "for i in list1:\n",
    "    print(i, end=\" \")\n",
    "    \n",
    "if 7/10*(len(set(s1)|set(s2)))<=(len(list1)):\n",
    "    print(\"표절의심\")"
   ]
  },
  {
   "cell_type": "markdown",
   "id": "cf6aed48",
   "metadata": {},
   "source": [
    "## p.334 도전문제"
   ]
  },
  {
   "cell_type": "code",
   "execution_count": null,
   "id": "85f89bdf",
   "metadata": {},
   "outputs": [
    {
     "name": "stdout",
     "output_type": "stream",
     "text": [
      "1. 연락처 추가\n",
      "2. 연락처 삭제\n",
      "3. 연락처 검색\n",
      "4. 연락처 출력\n",
      "5. 종료\n",
      "메뉴 항목을 선택하시오: 3\n",
      " \n",
      "이름: 김삼김\n",
      "그런 이름은 없습니다.\n",
      " \n",
      "1. 연락처 추가\n",
      "2. 연락처 삭제\n",
      "3. 연락처 검색\n",
      "4. 연락처 출력\n",
      "5. 종료\n"
     ]
    }
   ],
   "source": [
    "address_book = {}\n",
    "\n",
    "def main():\n",
    "    \n",
    "    while True :\n",
    "        user = display_menu();\n",
    "        if user==1 :\n",
    "            name, number = get_contact()\n",
    "            address_book[name]=number\n",
    "            print(\" \")\n",
    "        elif user==2 :\n",
    "            name, number = get_contact()\n",
    "            address_book.pop(name)\n",
    "            print(\" \")\n",
    "        elif user==3 :\n",
    "            search()\n",
    "            print(\" \")\n",
    "        elif user==4 :\n",
    "            for key in sorted(address_book):\n",
    "                print(key, \"의 전화번호:\", address_book[key])\n",
    "            print(\" \")\n",
    "        else:\n",
    "            break\n",
    "            \n",
    "def get_contact():\n",
    "    name = input(\"이름: \")\n",
    "    number = input(\"전화번호: \")\n",
    "    return name, number\n",
    "\n",
    "def display_menu() :\n",
    "    print (\"1. 연락처 추가\")\n",
    "    print (\"2. 연락처 삭제\")\n",
    "    print (\"3. 연락처 검색\")\n",
    "    print (\"4. 연락처 출력\")\n",
    "    print (\"5. 종료\")\n",
    "    select = int(input(\"메뉴 항목을 선택하시오: \"))\n",
    "    print(\" \")\n",
    "    return select\n",
    "\n",
    "def search():\n",
    "    name1 = input(\"이름: \")\n",
    "    print(address_book.get(name1, \"그런 이름은 없습니다.\"))\n",
    "    \n",
    "\n",
    "main()"
   ]
  },
  {
   "cell_type": "markdown",
   "id": "e5b6205f",
   "metadata": {},
   "source": [
    "## p.350 도전문제"
   ]
  },
  {
   "cell_type": "code",
   "execution_count": 2,
   "id": "1597aa3a",
   "metadata": {},
   "outputs": [
    {
     "name": "stdout",
     "output_type": "stream",
     "text": [
      "이메일 주소를 입력하시오: tksmdch@gmail.com\n",
      "tksmdch@gmail.com\n",
      ".앞에:tksmdch@gmail\n",
      ".뒤에:com\n"
     ]
    }
   ],
   "source": [
    "address=input(\"이메일 주소를 입력하시오: \")\n",
    "#(id, domain) = address.split(\"@\")\n",
    "(before_dot, after_dot) = address.split(\".\")\n",
    "\n",
    "print(address)\n",
    "print(\".앞에:\"+before_dot)\n",
    "print(\".뒤에:\"+after_dot)"
   ]
  },
  {
   "cell_type": "markdown",
   "id": "942d35bd",
   "metadata": {},
   "source": [
    "## p.359 Programming 2번"
   ]
  },
  {
   "cell_type": "code",
   "execution_count": 4,
   "id": "8ae35779",
   "metadata": {},
   "outputs": [
    {
     "name": "stdout",
     "output_type": "stream",
     "text": [
      "{1: 1, 2: 4, 3: 9, 4: 16, 5: 25, 6: 36, 7: 49, 8: 64, 9: 81, 10: 100}\n"
     ]
    }
   ],
   "source": [
    "dict={i:i*i for i in range(1, 11)}\n",
    "print(dict)"
   ]
  },
  {
   "cell_type": "markdown",
   "id": "78e2df63",
   "metadata": {},
   "source": [
    "## p.359 Programming 5번"
   ]
  },
  {
   "cell_type": "code",
   "execution_count": 7,
   "id": "654ecc6a",
   "metadata": {},
   "outputs": [
    {
     "name": "stdout",
     "output_type": "stream",
     "text": [
      "총합계= 2420\n"
     ]
    }
   ],
   "source": [
    "myDict = {\"옷\":100, \"컴퓨터\":2000, \"모니터\":320}\n",
    "sum1=sum(myDict.values())\n",
    "print(\"총합계=\", sum1)"
   ]
  },
  {
   "cell_type": "markdown",
   "id": "a755f5db",
   "metadata": {},
   "source": [
    "## p.360 Programming 9번"
   ]
  },
  {
   "cell_type": "code",
   "execution_count": 8,
   "id": "f6b2d50c",
   "metadata": {},
   "outputs": [
    {
     "name": "stdout",
     "output_type": "stream",
     "text": [
      "첫 번째 문자열: Hello World!\n",
      "두 번째 문자열: Hi! Welcome!!\n",
      "\n",
      "모두 포함된 글자: o H   ! e W l "
     ]
    }
   ],
   "source": [
    "s1 = input(\"첫 번째 문자열: \")\n",
    "s2 = input(\"두 번째 문자열: \")\n",
    "\n",
    "list1 = list( set(s1) & set(s2) )\n",
    "\n",
    "print(\"\\n모두 포함된 글자:\", end=\" \")\n",
    "for i in list1:\n",
    "    print(i, end=\" \")"
   ]
  },
  {
   "cell_type": "markdown",
   "id": "c186dd4d",
   "metadata": {},
   "source": [
    "## p.362 Programming 14번"
   ]
  },
  {
   "cell_type": "code",
   "execution_count": 14,
   "id": "65a5c530",
   "metadata": {},
   "outputs": [
    {
     "name": "stdout",
     "output_type": "stream",
     "text": [
      "MM/DD/YYYY:00/11/2222\n",
      "22220011\n"
     ]
    }
   ],
   "source": [
    "monthFirst = input(\"MM/DD/YYYY:\")\n",
    "yearFirst1= monthFirst.split(\"/\")\n",
    "yearFirst2=yearFirst1[2::]\n",
    "yearFirst3=yearFirst1[0:1:]\n",
    "yearFirst4=yearFirst1[1:2:]\n",
    "yearFirst5= yearFirst2+yearFirst3+yearFirst4\n",
    "print(''.join(yearFirst5))"
   ]
  },
  {
   "cell_type": "code",
   "execution_count": null,
   "id": "4bc081f5",
   "metadata": {},
   "outputs": [],
   "source": [
    "\n"
   ]
  }
 ],
 "metadata": {
  "kernelspec": {
   "display_name": "Python 3 (ipykernel)",
   "language": "python",
   "name": "python3"
  },
  "language_info": {
   "codemirror_mode": {
    "name": "ipython",
    "version": 3
   },
   "file_extension": ".py",
   "mimetype": "text/x-python",
   "name": "python",
   "nbconvert_exporter": "python",
   "pygments_lexer": "ipython3",
   "version": "3.9.7"
  }
 },
 "nbformat": 4,
 "nbformat_minor": 5
}
