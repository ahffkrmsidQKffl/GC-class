{
 "cells": [
  {
   "cell_type": "code",
   "execution_count": 6,
   "id": "3e7bc09d",
   "metadata": {},
   "outputs": [],
   "source": [
    "# 첫 번째 셀: 필요한 라이브러리 임포트\n",
    "import numpy as np\n",
    "from tensorflow.keras.models import Sequential\n",
    "from tensorflow.keras.layers import Conv2D, MaxPooling2D, Flatten, Dense, Dropout\n",
    "from tensorflow.keras.utils import to_categorical\n",
    "from tensorflow.keras.datasets import mnist\n",
    "from sklearn.model_selection import train_test_split"
   ]
  },
  {
   "cell_type": "code",
   "execution_count": 7,
   "id": "279c5525",
   "metadata": {},
   "outputs": [],
   "source": [
    "# 두 번째 셀: 데이터 로드 및 전처리\n",
    "# MNIST 데이터 세트를 로드합니다.\n",
    "(x_train, y_train), (x_test, y_test) = mnist.load_data()\n",
    "\n",
    "# 픽셀 값을 0과 1 사이로 정규화합니다.\n",
    "x_train = x_train / 255.0\n",
    "x_test = x_test / 255.0\n",
    "\n",
    "# 데이터 형태를 CNN 입력 형태로 변환합니다. (이미지 높이, 이미지 너비, 채널 수)\n",
    "x_train = x_train.reshape(-1, 28, 28, 1)\n",
    "x_test = x_test.reshape(-1, 28, 28, 1)\n",
    "\n",
    "# 레이블을 원-핫 인코딩으로 변환합니다.\n",
    "y_train = to_categorical(y_train, 10)\n",
    "y_test = to_categorical(y_test, 10)\n",
    "\n",
    "# 학습 데이터(x_train, y_train)를 학습 및 검증 세트로 분리합니다.\n",
    "# 여기서 random_state를 설정하여 데이터 분리 결과를 고정합니다.\n",
    "x_train, x_val, y_train, y_val = train_test_split(x_train, y_train, test_size=0.2, random_state=2024)"
   ]
  },
  {
   "cell_type": "code",
   "execution_count": 8,
   "id": "9f2da0c5",
   "metadata": {},
   "outputs": [
    {
     "name": "stderr",
     "output_type": "stream",
     "text": [
      "C:\\Users\\tksmd\\anaconda3\\Lib\\site-packages\\keras\\src\\layers\\convolutional\\base_conv.py:107: UserWarning: Do not pass an `input_shape`/`input_dim` argument to a layer. When using Sequential models, prefer using an `Input(shape)` object as the first layer in the model instead.\n",
      "  super().__init__(activity_regularizer=activity_regularizer, **kwargs)\n"
     ]
    }
   ],
   "source": [
    "# 세 번째 셀: 모델 구성\n",
    "# CNN 모델을 정의합니다.\n",
    "model = Sequential([\n",
    "    Conv2D(32, (3, 3), activation='relu', input_shape=(28, 28, 1)),\n",
    "    MaxPooling2D((2, 2)),\n",
    "    Dropout(0.2),  # 과적합 방지를 위한 드롭아웃 추가\n",
    "    \n",
    "    Conv2D(64, (3, 3), activation='relu'),\n",
    "    MaxPooling2D((2, 2)),\n",
    "    Dropout(0.3),\n",
    "    \n",
    "    Flatten(),\n",
    "    Dense(128, activation='relu'),\n",
    "    Dropout(0.4),\n",
    "    Dense(10, activation='softmax')  # 10개의 클래스\n",
    "])"
   ]
  },
  {
   "cell_type": "code",
   "execution_count": 9,
   "id": "a0db07ee",
   "metadata": {},
   "outputs": [],
   "source": [
    "# 네 번째 셀: 모델 컴파일\n",
    "# 손실 함수와 옵티마이저, 평가지표 설정\n",
    "model.compile(optimizer='adam', loss='categorical_crossentropy', metrics=['accuracy'])"
   ]
  },
  {
   "cell_type": "code",
   "execution_count": 10,
   "id": "96c958d1",
   "metadata": {},
   "outputs": [
    {
     "name": "stdout",
     "output_type": "stream",
     "text": [
      "Epoch 1/10\n",
      "\u001b[1m1200/1200\u001b[0m \u001b[32m━━━━━━━━━━━━━━━━━━━━\u001b[0m\u001b[37m\u001b[0m \u001b[1m12s\u001b[0m 8ms/step - accuracy: 0.8088 - loss: 0.5831 - val_accuracy: 0.9755 - val_loss: 0.0832\n",
      "Epoch 2/10\n",
      "\u001b[1m1200/1200\u001b[0m \u001b[32m━━━━━━━━━━━━━━━━━━━━\u001b[0m\u001b[37m\u001b[0m \u001b[1m10s\u001b[0m 8ms/step - accuracy: 0.9679 - loss: 0.1082 - val_accuracy: 0.9815 - val_loss: 0.0600\n",
      "Epoch 3/10\n",
      "\u001b[1m1200/1200\u001b[0m \u001b[32m━━━━━━━━━━━━━━━━━━━━\u001b[0m\u001b[37m\u001b[0m \u001b[1m10s\u001b[0m 8ms/step - accuracy: 0.9745 - loss: 0.0842 - val_accuracy: 0.9842 - val_loss: 0.0509\n",
      "Epoch 4/10\n",
      "\u001b[1m1200/1200\u001b[0m \u001b[32m━━━━━━━━━━━━━━━━━━━━\u001b[0m\u001b[37m\u001b[0m \u001b[1m10s\u001b[0m 8ms/step - accuracy: 0.9792 - loss: 0.0666 - val_accuracy: 0.9851 - val_loss: 0.0461\n",
      "Epoch 5/10\n",
      "\u001b[1m1200/1200\u001b[0m \u001b[32m━━━━━━━━━━━━━━━━━━━━\u001b[0m\u001b[37m\u001b[0m \u001b[1m10s\u001b[0m 8ms/step - accuracy: 0.9825 - loss: 0.0558 - val_accuracy: 0.9876 - val_loss: 0.0401\n",
      "Epoch 6/10\n",
      "\u001b[1m1200/1200\u001b[0m \u001b[32m━━━━━━━━━━━━━━━━━━━━\u001b[0m\u001b[37m\u001b[0m \u001b[1m10s\u001b[0m 8ms/step - accuracy: 0.9842 - loss: 0.0485 - val_accuracy: 0.9870 - val_loss: 0.0399\n",
      "Epoch 7/10\n",
      "\u001b[1m1200/1200\u001b[0m \u001b[32m━━━━━━━━━━━━━━━━━━━━\u001b[0m\u001b[37m\u001b[0m \u001b[1m10s\u001b[0m 8ms/step - accuracy: 0.9859 - loss: 0.0476 - val_accuracy: 0.9883 - val_loss: 0.0427\n",
      "Epoch 8/10\n",
      "\u001b[1m1200/1200\u001b[0m \u001b[32m━━━━━━━━━━━━━━━━━━━━\u001b[0m\u001b[37m\u001b[0m \u001b[1m10s\u001b[0m 8ms/step - accuracy: 0.9871 - loss: 0.0417 - val_accuracy: 0.9884 - val_loss: 0.0391\n",
      "Epoch 9/10\n",
      "\u001b[1m1200/1200\u001b[0m \u001b[32m━━━━━━━━━━━━━━━━━━━━\u001b[0m\u001b[37m\u001b[0m \u001b[1m10s\u001b[0m 9ms/step - accuracy: 0.9894 - loss: 0.0334 - val_accuracy: 0.9905 - val_loss: 0.0343\n",
      "Epoch 10/10\n",
      "\u001b[1m1200/1200\u001b[0m \u001b[32m━━━━━━━━━━━━━━━━━━━━\u001b[0m\u001b[37m\u001b[0m \u001b[1m10s\u001b[0m 8ms/step - accuracy: 0.9883 - loss: 0.0355 - val_accuracy: 0.9893 - val_loss: 0.0363\n"
     ]
    }
   ],
   "source": [
    "# 다섯 번째 셀: 모델 학습\n",
    "# 학습 과정을 설정하고, 일부 데이터를 검증 세트로 사용하여 학습합니다.\n",
    "from sklearn.model_selection import train_test_split\n",
    "\n",
    "# x_train과 y_train을 학습과 검증 세트로 분리 (random_state=2024 적용)\n",
    "x_train, x_val, y_train, y_val = train_test_split(x_train, y_train, test_size=0.2, random_state=2024)\n",
    "\n",
    "# 검증 세트를 명시적으로 전달하여 학습\n",
    "history = model.fit(x_train, y_train, epochs=10, batch_size=32, validation_data=(x_val, y_val))"
   ]
  },
  {
   "cell_type": "code",
   "execution_count": 11,
   "id": "533a3a92",
   "metadata": {},
   "outputs": [
    {
     "name": "stdout",
     "output_type": "stream",
     "text": [
      "검증 세트 - 손실: 0.0086, 정확도: 0.9975\n",
      "테스트 세트 - 손실: 0.0276, 정확도: 0.9915\n",
      "손실 차이: 0.0190\n",
      "정확도 차이: 0.0060\n"
     ]
    }
   ],
   "source": [
    "# 여섯 번째 셀: 모델 평가 및 손실/정확도 차이 계산\n",
    "# 검증 세트와 테스트 세트에 대해 모델을 평가하고, 결과를 출력합니다.\n",
    "val_loss, val_accuracy = model.evaluate(x_train, y_train, verbose=0)\n",
    "test_loss, test_accuracy = model.evaluate(x_test, y_test, verbose=0)\n",
    "\n",
    "print(f\"검증 세트 - 손실: {val_loss:.4f}, 정확도: {val_accuracy:.4f}\")\n",
    "print(f\"테스트 세트 - 손실: {test_loss:.4f}, 정확도: {test_accuracy:.4f}\")\n",
    "print(f\"손실 차이: {abs(val_loss - test_loss):.4f}\")\n",
    "print(f\"정확도 차이: {abs(val_accuracy - test_accuracy):.4f}\")"
   ]
  },
  {
   "cell_type": "code",
   "execution_count": 12,
   "id": "888009d7",
   "metadata": {},
   "outputs": [],
   "source": [
    "# 일곱 번째 셀: 모델 저장\n",
    "# 최종 학습된 모델을 .keras 확장자로 저장합니다.\n",
    "model.save(\"final_model.keras\")"
   ]
  },
  {
   "cell_type": "code",
   "execution_count": null,
   "id": "37eea6a6",
   "metadata": {},
   "outputs": [],
   "source": []
  }
 ],
 "metadata": {
  "kernelspec": {
   "display_name": "Python 3 (ipykernel)",
   "language": "python",
   "name": "python3"
  },
  "language_info": {
   "codemirror_mode": {
    "name": "ipython",
    "version": 3
   },
   "file_extension": ".py",
   "mimetype": "text/x-python",
   "name": "python",
   "nbconvert_exporter": "python",
   "pygments_lexer": "ipython3",
   "version": "3.11.7"
  }
 },
 "nbformat": 4,
 "nbformat_minor": 5
}
