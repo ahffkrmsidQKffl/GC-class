{
 "cells": [
  {
   "cell_type": "code",
   "execution_count": null,
   "id": "8074b407",
   "metadata": {},
   "outputs": [],
   "source": [
    "import matplotlib.pyplot as plt\n",
    "plt.scatter(perch_length[:],perch)"
   ]
  },
  {
   "cell_type": "code",
   "execution_count": null,
   "id": "2ffb48e4",
   "metadata": {},
   "outputs": [],
   "source": [
    "from sklearn.model_selection import train_test_split\n",
    "train_input, test_input, train_target, test_target = train_test_split()"
   ]
  },
  {
   "cell_type": "code",
   "execution_count": null,
   "id": "c6e39e66",
   "metadata": {},
   "outputs": [],
   "source": [
    "#2차원 배열로 변환\n",
    "train_input = train_input.reshape(-1,1)\n",
    "#train_input = train_input.reshape(:,1) #오류\n",
    "test_input = test_input.reshape(-1,1)\n",
    "print(train_input,shape)"
   ]
  },
  {
   "cell_type": "code",
   "execution_count": null,
   "id": "41803ab8",
   "metadata": {},
   "outputs": [],
   "source": [
    "from sklearn.linear_model import LinearRegression\n",
    "lr = LinearRegression\n",
    "\n",
    "lr.fit(train_input, train_target)\n",
    "\n",
    "print(lr.predict([50]))"
   ]
  },
  {
   "cell_type": "code",
   "execution_count": null,
   "id": "b37a605d",
   "metadata": {},
   "outputs": [],
   "source": [
    "train_poly = np.column_stack((train_input ** 2, train_input))\n",
    "test_poly = np.column_stack((test_input ** 2, test_input))\n",
    "\n"
   ]
  }
 ],
 "metadata": {
  "kernelspec": {
   "display_name": "Python 3 (ipykernel)",
   "language": "python",
   "name": "python3"
  },
  "language_info": {
   "codemirror_mode": {
    "name": "ipython",
    "version": 3
   },
   "file_extension": ".py",
   "mimetype": "text/x-python",
   "name": "python",
   "nbconvert_exporter": "python",
   "pygments_lexer": "ipython3",
   "version": "3.11.7"
  }
 },
 "nbformat": 4,
 "nbformat_minor": 5
}
