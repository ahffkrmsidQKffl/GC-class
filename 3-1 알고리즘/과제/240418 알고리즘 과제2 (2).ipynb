{
 "cells": [
  {
   "cell_type": "markdown",
   "id": "d4c7bbeb",
   "metadata": {},
   "source": [
    "## TimSort"
   ]
  },
  {
   "cell_type": "code",
   "execution_count": 13,
   "id": "9e60b8ba",
   "metadata": {},
   "outputs": [
    {
     "name": "stdout",
     "output_type": "stream",
     "text": [
      "정렬 전: [102, 600, 432, 59, 775, 627, 827, 248, 103, 568, 272, 919, 805, 819, 644, 633, 14, 75, 633, 580, 772, 967, 349, 150, 824, 593, 580, 641, 609, 812, 592, 152, 172, 899, 83, 179, 836, 769, 201, 619, 532, 639, 658, 183, 494, 917, 361, 551, 356, 293, 2, 485, 585, 668, 260, 686, 410, 765, 658, 590, 180, 351, 567, 638, 591, 942, 404, 65, 638, 920, 280, 145, 914, 488, 689, 859, 229, 478, 924, 804, 379, 83, 801, 973, 468, 755, 636, 957, 632, 651, 761, 722, 494, 937, 843, 386, 313, 73, 403, 370]\n",
      "정렬 후: [2, 14, 59, 65, 73, 75, 83, 83, 102, 103, 145, 150, 152, 172, 179, 180, 183, 201, 229, 248, 260, 272, 280, 293, 313, 349, 351, 356, 361, 370, 379, 386, 403, 404, 410, 432, 468, 478, 485, 488, 494, 494, 532, 551, 567, 568, 580, 580, 585, 590, 591, 592, 593, 600, 609, 619, 627, 632, 633, 633, 636, 638, 638, 639, 641, 644, 651, 658, 658, 668, 686, 689, 722, 755, 761, 765, 769, 772, 775, 801, 804, 805, 812, 819, 824, 827, 836, 843, 859, 899, 914, 917, 919, 920, 924, 937, 942, 957, 967, 973]\n"
     ]
    }
   ],
   "source": [
    "import random\n",
    "\n",
    "\n",
    "def insertion_sort(arr, left=0, right=None):\n",
    "    if right is None:\n",
    "        right = len(arr) - 1\n",
    "\n",
    "    for i in range(left + 1, right + 1):\n",
    "        key = arr[i]\n",
    "        j = i - 1\n",
    "        while j >= left and arr[j] > key:\n",
    "            arr[j + 1] = arr[j]\n",
    "            j -= 1\n",
    "        arr[j + 1] = key\n",
    "\n",
    "def merge(arr, left, mid, right):\n",
    "    left_arr = arr[left:mid + 1]\n",
    "    right_arr = arr[mid + 1:right + 1]\n",
    "\n",
    "    i = j = 0\n",
    "    k = left\n",
    "\n",
    "    while i < len(left_arr) and j < len(right_arr):\n",
    "        if left_arr[i] <= right_arr[j]:\n",
    "            arr[k] = left_arr[i]\n",
    "            i += 1\n",
    "        else:\n",
    "            arr[k] = right_arr[j]\n",
    "            j += 1\n",
    "        k += 1\n",
    "    \n",
    "    while i < len(left_arr):\n",
    "        arr[k] = left_arr[i]\n",
    "        i += 1\n",
    "        k += 1\n",
    "    \n",
    "    while j < len(right_arr):\n",
    "        arr[k] = right_arr[j]\n",
    "        j += 1\n",
    "        k += 1\n",
    "\n",
    "def tim_sort(arr):\n",
    "    min_run = 32\n",
    "    n = len(arr)\n",
    "\n",
    "    for i in range(0, n, min_run):\n",
    "        insertion_sort(arr, i, min((i + min_run - 1), n - 1))\n",
    "    \n",
    "    size = min_run\n",
    "    while size < n:\n",
    "        for start in range(0, n, size * 2):\n",
    "            mid = start + size - 1\n",
    "            end = min((start + size * 2 - 1), (n - 1))\n",
    "            merge(arr, start, mid, end)\n",
    "        size *= 2\n",
    "\n",
    "# 테스트\n",
    "data = [random.randint(1, 1000) for _ in range(100)]\n",
    "print(\"정렬 전:\", data)\n",
    "tim_sort(data)\n",
    "print(\"정렬 후:\", data)\n"
   ]
  },
  {
   "cell_type": "markdown",
   "id": "c07c70a2",
   "metadata": {},
   "source": [
    "## Stupid Sort"
   ]
  },
  {
   "cell_type": "code",
   "execution_count": 11,
   "id": "c8a82915",
   "metadata": {},
   "outputs": [
    {
     "name": "stdout",
     "output_type": "stream",
     "text": [
      "정렬 전: [89, 901, 891, 615, 569, 351, 165, 685, 879, 748, 135, 670, 393, 399, 402, 186, 385, 591, 452, 820, 14, 603, 584, 481, 966, 223, 940, 45, 80, 916, 59, 58, 345, 449, 873, 208, 974, 266, 243, 207, 601, 5, 794, 35, 751, 406, 875, 484, 531, 258, 260, 842, 812, 785, 519, 770, 426, 478, 749, 17, 222, 994, 718, 728, 152, 7, 825, 376, 618, 36, 836, 724, 495, 497, 892, 532, 787, 393, 472, 673, 515, 369, 471, 929, 461, 842, 839, 580, 815, 851, 147, 641, 715, 345, 189, 381, 704, 937, 676, 407]\n",
      "정렬 후: [5, 7, 14, 17, 35, 36, 45, 58, 59, 80, 89, 135, 147, 152, 165, 186, 189, 207, 208, 222, 223, 243, 258, 260, 266, 345, 345, 351, 369, 376, 381, 385, 393, 393, 399, 402, 406, 407, 426, 449, 452, 461, 471, 472, 478, 481, 484, 495, 497, 515, 519, 531, 532, 569, 580, 584, 591, 601, 603, 615, 618, 641, 670, 673, 676, 685, 704, 715, 718, 724, 728, 748, 749, 751, 770, 785, 787, 794, 812, 815, 820, 825, 836, 839, 842, 842, 851, 873, 875, 879, 891, 892, 901, 916, 929, 937, 940, 966, 974, 994]\n"
     ]
    }
   ],
   "source": [
    "import random\n",
    "\n",
    "def gnomeSort( arr, n): \n",
    "    index = 0\n",
    "    while index < n: \n",
    "        if index == 0: \n",
    "            index = index + 1\n",
    "        if arr[index] >= arr[index - 1]: \n",
    "            index = index + 1\n",
    "        else: \n",
    "            arr[index], arr[index-1] = arr[index-1], arr[index] \n",
    "            index = index - 1\n",
    "  \n",
    "    return arr \n",
    "  \n",
    "arr = [random.randint(1, 1000) for _ in range(100)]\n",
    "n = len(arr) \n",
    "print(\"정렬 전:\", arr)\n",
    "arr = gnomeSort(arr, n) \n",
    "print(\"정렬 후:\", arr)"
   ]
  },
  {
   "cell_type": "markdown",
   "id": "729f6e91",
   "metadata": {},
   "source": [
    "## Burst Sort"
   ]
  },
  {
   "cell_type": "code",
   "execution_count": 1,
   "id": "c6a8afcd",
   "metadata": {
    "scrolled": true
   },
   "outputs": [
    {
     "name": "stdout",
     "output_type": "stream",
     "text": [
      "정렬 전: ['vxvzb', 'ztdnu', 'lgyll', 'njvlz', 'krpfs', 'awyfr', 'igyaj', 'ldcsr', 'tfdgk', 'zdcyj', 'zsvox', 'ibmdl', 'mpuaf', 'avxbr', 'hqqvw', 'hcyej', 'yjtgi', 'ymdvq', 'jzkem', 'zjvfy', 'vbrvn', 'iklxs', 'wzloz', 'fifho', 'krwhc', 'laigm', 'prygq', 'lnpko', 'tgzzf', 'bifwt', 'nlomd', 'xkbye', 'cghhq', 'qtyna', 'ylxjn', 'bcinn', 'tigev', 'smoji', 'kggwg', 'wmvgo', 'iuckb', 'mxquk', 'iosuk', 'odqvk', 'ouftd', 'guctd', 'adrnw', 'lovzq', 'ytjpm', 'tiraq', 'pvpct', 'ncczk', 'jcbeu', 'ndlrd', 'ieqwl', 'syaiu', 'mssdl', 'qiayq', 'cvjmp', 'hnitw', 'tqpbg', 'mhuyw', 'poxxe', 'ulsry', 'ppvlh', 'ompjg', 'uhfkn', 'qhsvu', 'ouloi', 'zfoha', 'bewax', 'fyffv', 'ukwep', 'mbntc', 'hvggo', 'foadr', 'ruuai', 'bovqj', 'ojmrd', 'qhggd', 'izqer', 'bhjtb', 'kqnpx', 'faalo', 'lkdzw', 'wkpoi', 'nisfq', 'tygnc', 'lapzu', 'pmpdi', 'uqltq', 'uhgab', 'txjww', 'nmglc', 'wusrs', 'gapxu', 'exhoy', 'pdocw', 'yzzus', 'nsjxl']\n",
      "정렬 후: ['adrnw', 'avxbr', 'awyfr', 'bcinn', 'bewax', 'bhjtb', 'bifwt', 'bovqj', 'cghhq', 'cvjmp', 'exhoy', 'faalo', 'fifho', 'foadr', 'fyffv', 'gapxu', 'guctd', 'hcyej', 'hnitw', 'hqqvw', 'hvggo', 'ibmdl', 'ieqwl', 'igyaj', 'iklxs', 'iosuk', 'iuckb', 'izqer', 'jcbeu', 'jzkem', 'kggwg', 'kqnpx', 'krpfs', 'krwhc', 'laigm', 'lapzu', 'ldcsr', 'lgyll', 'lkdzw', 'lnpko', 'lovzq', 'mbntc', 'mhuyw', 'mpuaf', 'mssdl', 'mxquk', 'ncczk', 'ndlrd', 'nisfq', 'njvlz', 'nlomd', 'nmglc', 'nsjxl', 'odqvk', 'ojmrd', 'ompjg', 'ouftd', 'ouloi', 'pdocw', 'pmpdi', 'poxxe', 'ppvlh', 'prygq', 'pvpct', 'qhggd', 'qhsvu', 'qiayq', 'qtyna', 'ruuai', 'smoji', 'syaiu', 'tfdgk', 'tgzzf', 'tigev', 'tiraq', 'tqpbg', 'txjww', 'tygnc', 'uhfkn', 'uhgab', 'ukwep', 'ulsry', 'uqltq', 'vbrvn', 'vxvzb', 'wkpoi', 'wmvgo', 'wusrs', 'wzloz', 'xkbye', 'yjtgi', 'ylxjn', 'ymdvq', 'ytjpm', 'yzzus', 'zdcyj', 'zfoha', 'zjvfy', 'zsvox', 'ztdnu']\n"
     ]
    }
   ],
   "source": [
    "import random\n",
    "import string\n",
    "\n",
    "def quicksort_first_character(strings):\n",
    "    # 첫 번째 문자 기준으로 퀵 정렬 수행\n",
    "    if len(strings) <= 1:\n",
    "        return strings\n",
    "    pivot = strings[0][0]  # 첫 번째 문자열의 첫 번째 문자를 피벗으로 설정\n",
    "    left = [s for s in strings if s[0] < pivot]\n",
    "    right = [s for s in strings if s[0] > pivot]\n",
    "    middle = [s for s in strings if s[0] == pivot]\n",
    "    # 재귀적으로 왼쪽, 오른쪽 정렬하고 중간을 합쳐서 반환\n",
    "    return quicksort_first_character(left) + middle + quicksort_first_character(right)\n",
    "\n",
    "def radix_sort_remaining(strings):\n",
    "    # 문자열의 나머지 부분을 기준으로 기수 정렬 수행\n",
    "    max_length = max(len(s) for s in strings)  # 가장 긴 문자열의 길이를 구함\n",
    "    \n",
    "    # 문자열의 길이를 모두 동일하게 만듦\n",
    "    strings = [s.ljust(max_length) for s in strings]\n",
    "    \n",
    "    for pos in range(max_length - 1, -1, -1):\n",
    "        # 각 위치마다 기수 정렬 수행\n",
    "        buckets = [[] for _ in range(256)]\n",
    "        for s in strings:\n",
    "            char = ord(s[pos])\n",
    "            buckets[char].append(s)\n",
    "        strings = [s for bucket in buckets for s in bucket]\n",
    "    \n",
    "    # 좌측 공백 제거 후 반환\n",
    "    return [s.strip() for s in strings]\n",
    "\n",
    "def burst_sort(strings):\n",
    "    # 1단계: 첫 번째 문자 기준으로 퀵 정렬 수행\n",
    "    sorted_by_first_char = quicksort_first_character(strings)\n",
    "    # 2단계: 정렬된 문자열을 기준으로 나머지 부분 기수 정렬 수행\n",
    "    sorted_strings = radix_sort_remaining(sorted_by_first_char)\n",
    "    return sorted_strings\n",
    "\n",
    "# 랜덤 문자열 생성\n",
    "def generate_random_strings(num_strings=100, length=5):\n",
    "    random_strings = [''.join(random.choices(string.ascii_lowercase, k=length)) for _ in range(num_strings)]\n",
    "    return random_strings\n",
    "\n",
    "# 테스트\n",
    "random_strings = generate_random_strings()\n",
    "print(\"정렬 전:\", random_strings)\n",
    "\n",
    "sorted_strings = burst_sort(random_strings)\n",
    "print(\"정렬 후:\", sorted_strings)"
   ]
  },
  {
   "cell_type": "code",
   "execution_count": null,
   "id": "f4bd0e99",
   "metadata": {},
   "outputs": [],
   "source": []
  }
 ],
 "metadata": {
  "kernelspec": {
   "display_name": "Python 3 (ipykernel)",
   "language": "python",
   "name": "python3"
  },
  "language_info": {
   "codemirror_mode": {
    "name": "ipython",
    "version": 3
   },
   "file_extension": ".py",
   "mimetype": "text/x-python",
   "name": "python",
   "nbconvert_exporter": "python",
   "pygments_lexer": "ipython3",
   "version": "3.9.7"
  }
 },
 "nbformat": 4,
 "nbformat_minor": 5
}
