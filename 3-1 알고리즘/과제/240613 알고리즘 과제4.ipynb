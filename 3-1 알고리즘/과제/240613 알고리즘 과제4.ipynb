{
 "cells": [
  {
   "cell_type": "code",
   "execution_count": 1,
   "id": "00cb24a9",
   "metadata": {},
   "outputs": [
    {
     "name": "stdout",
     "output_type": "stream",
     "text": [
      "142\n"
     ]
    }
   ],
   "source": [
    "def job_scheduling(jobs):\n",
    "    # 1. 작업을 이익이 큰 순서대로 정렬합니다.\n",
    "    jobs.sort(key=lambda x: x[1], reverse=True)\n",
    "    \n",
    "    # 2. 가능한 최대 기한만큼의 시간 슬롯을 초기화합니다.\n",
    "    max_deadline = max(job[0] for job in jobs)\n",
    "    time_slots = [-1] * max_deadline\n",
    "\n",
    "    total_profit = 0\n",
    "\n",
    "    # 3. 각 작업을 가능한 가장 늦은 시간 슬롯에 배치합니다.\n",
    "    for job in jobs:\n",
    "        deadline, profit = job\n",
    "        # 가능한 가장 늦은 시간 슬롯을 찾습니다.\n",
    "        for t in range(min(max_deadline, deadline) - 1, -1, -1):\n",
    "            if time_slots[t] == -1:  # 해당 시간 슬롯이 비어 있는 경우\n",
    "                time_slots[t] = profit  # 시간 슬롯에 이익을 기록합니다.\n",
    "                total_profit += profit  # 총 이익을 갱신합니다.\n",
    "                break\n",
    "    \n",
    "    return total_profit\n",
    "\n",
    "# 예제 사용\n",
    "# 각 작업은 (기한, 이익)의 형태로 주어집니다.\n",
    "jobs = [(2, 100), (1, 19), (2, 27), (1, 25), (3, 15)]\n",
    "print(job_scheduling(jobs))  # 출력: 142\n"
   ]
  },
  {
   "cell_type": "code",
   "execution_count": 2,
   "id": "00a45f69",
   "metadata": {},
   "outputs": [
    {
     "name": "stdout",
     "output_type": "stream",
     "text": [
      "240.0\n"
     ]
    }
   ],
   "source": [
    "def fractional_knapsack(weights, values, capacity):\n",
    "    # 1. 가치 대 무게 비율을 계산합니다.\n",
    "    index = list(range(len(values)))\n",
    "    ratio = [v / w for v, w in zip(values, weights)]\n",
    "    \n",
    "    # 2. 가치 대 무게 비율이 높은 순서대로 아이템을 정렬합니다.\n",
    "    index.sort(key=lambda i: ratio[i], reverse=True)\n",
    "\n",
    "    max_value = 0  # 총 가치를 저장할 변수\n",
    "\n",
    "    # 3. 가치 대 무게 비율이 높은 아이템부터 배낭에 담습니다.\n",
    "    for i in index:\n",
    "        if weights[i] <= capacity:\n",
    "            # 현재 아이템의 전체를 담을 수 있는 경우\n",
    "            max_value += values[i]\n",
    "            capacity -= weights[i]\n",
    "        else:\n",
    "            # 현재 아이템의 일부만 담을 수 있는 경우\n",
    "            max_value += values[i] * (capacity / weights[i])\n",
    "            break  # 배낭이 다 찼으므로 반복 종료\n",
    "    \n",
    "    return max_value\n",
    "\n",
    "# 예제 사용\n",
    "weights = [10, 20, 30]\n",
    "values = [60, 100, 120]\n",
    "capacity = 50\n",
    "print(fractional_knapsack(weights, values, capacity))  # 출력: 240.0\n"
   ]
  },
  {
   "cell_type": "code",
   "execution_count": 3,
   "id": "f399721a",
   "metadata": {},
   "outputs": [
    {
     "name": "stdout",
     "output_type": "stream",
     "text": [
      "6\n"
     ]
    }
   ],
   "source": [
    "def longest_increasing_subsequence(arr):\n",
    "    n = len(arr)\n",
    "    lis = [1] * n  # 1. 배열 초기화\n",
    "    \n",
    "    for i in range(1, n):\n",
    "        for j in range(i):\n",
    "            if arr[i] > arr[j] and lis[i] < lis[j] + 1:\n",
    "                lis[i] = lis[j] + 1  # 2. 부분 문제 해결\n",
    "    \n",
    "    return max(lis)  # 3. 최종 결과 도출\n",
    "\n",
    "# 예제 사용\n",
    "arr = [10, 22, 9, 33, 21, 50, 41, 60, 80]\n",
    "print(longest_increasing_subsequence(arr))  # 출력: 6\n"
   ]
  },
  {
   "cell_type": "code",
   "execution_count": 4,
   "id": "c6b898e4",
   "metadata": {},
   "outputs": [
    {
     "name": "stdout",
     "output_type": "stream",
     "text": [
      "18\n"
     ]
    }
   ],
   "source": [
    "import sys\n",
    "\n",
    "def matrix_chain_order(p):\n",
    "    n = len(p) - 1\n",
    "    m = [[0 for _ in range(n)] for _ in range(n)]  # 1. 배열 초기화\n",
    "    \n",
    "    for L in range(2, n + 1):\n",
    "        for i in range(n - L + 1):\n",
    "            j = i + L - 1\n",
    "            m[i][j] = sys.maxsize\n",
    "            for k in range(i, j):\n",
    "                q = m[i][k] + m[k+1][j] + p[i] * p[k+1] * p[j+1]\n",
    "                if q < m[i][j]:\n",
    "                    m[i][j] = q  # 2. 부분 문제 해결\n",
    "    \n",
    "    return m[0][n-1]  # 3. 최종 결과 도출\n",
    "\n",
    "# 예제 사용\n",
    "p = [1, 2, 3, 4]\n",
    "print(matrix_chain_order(p))  # 출력: 18\n"
   ]
  },
  {
   "cell_type": "code",
   "execution_count": 5,
   "id": "7543cd47",
   "metadata": {},
   "outputs": [
    {
     "name": "stdout",
     "output_type": "stream",
     "text": [
      "[[3, 4, 2], [4, 5]]\n"
     ]
    }
   ],
   "source": [
    "def subset_sum(S, T):\n",
    "    result = []  # 결과를 저장할 리스트\n",
    "    \n",
    "    def backtrack(start, path, target):\n",
    "        # 1. 현재 부분집합의 합이 목표 합과 같은지 확인합니다.\n",
    "        if target == 0:\n",
    "            result.append(path)\n",
    "            return\n",
    "        # 2. 현재 부분집합의 합이 목표 합을 초과하면 가지치기 합니다.\n",
    "        if target < 0:\n",
    "            return\n",
    "        # 3. 현재 원소를 포함하는 경우와 포함하지 않는 경우를 재귀적으로 탐색합니다.\n",
    "        for i in range(start, len(S)):\n",
    "            backtrack(i + 1, path + [S[i]], target - S[i])\n",
    "    \n",
    "    backtrack(0, [], T)\n",
    "    return result\n",
    "\n",
    "# 예제 사용\n",
    "S = [3, 34, 4, 12, 5, 2]\n",
    "T = 9\n",
    "print(subset_sum(S, T))  # 출력: [[4, 5], [3, 4, 2]]\n"
   ]
  },
  {
   "cell_type": "code",
   "execution_count": null,
   "id": "92e2b1e7",
   "metadata": {},
   "outputs": [],
   "source": []
  }
 ],
 "metadata": {
  "kernelspec": {
   "display_name": "Python 3 (ipykernel)",
   "language": "python",
   "name": "python3"
  },
  "language_info": {
   "codemirror_mode": {
    "name": "ipython",
    "version": 3
   },
   "file_extension": ".py",
   "mimetype": "text/x-python",
   "name": "python",
   "nbconvert_exporter": "python",
   "pygments_lexer": "ipython3",
   "version": "3.11.7"
  }
 },
 "nbformat": 4,
 "nbformat_minor": 5
}
