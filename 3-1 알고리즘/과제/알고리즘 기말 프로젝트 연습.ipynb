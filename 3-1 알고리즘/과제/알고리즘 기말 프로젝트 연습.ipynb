{
 "cells": [
  {
   "cell_type": "markdown",
   "id": "d4491eee",
   "metadata": {},
   "source": [
    "데이터 수집 및 처리"
   ]
  },
  {
   "cell_type": "code",
   "execution_count": 13,
   "id": "09b2dc4e",
   "metadata": {},
   "outputs": [
    {
     "name": "stdout",
     "output_type": "stream",
     "text": [
      "Preprocessed Purchase Data:\n",
      "  user_id product_id purchase_date  quantity\n",
      "0   user1   product1    2024-01-01         1\n",
      "1   user1   product2    2024-01-05         2\n",
      "2   user2   product2    2024-01-03         1\n",
      "3   user2   product4    2024-01-07         3\n",
      "4   user3   product1    2024-01-02         1\n",
      "5   user3   product5    2024-01-08         2\n"
     ]
    }
   ],
   "source": [
    "import pandas as pd\n",
    "\n",
    "# 예시 구매 이력 데이터 (이전 단계에서 생성한 데이터 사용)\n",
    "purchase_data = pd.DataFrame({\n",
    "    'user_id': ['user1', 'user1', 'user2', 'user2', 'user3', 'user3'],\n",
    "    'product_id': ['product1', 'product2', 'product2', 'product4', 'product1', 'product5'],\n",
    "    'purchase_date': pd.to_datetime(['2024-01-01', '2024-01-05', '2024-01-03', '2024-01-07', '2024-01-02', '2024-01-08']),\n",
    "    'quantity': [1, 2, 1, 3, 1, 2]\n",
    "})\n",
    "\n",
    "# 데이터 전처리 함수 정의\n",
    "def preprocess_data(df):\n",
    "    # 결측값 처리 (예: 결측값을 0으로 채움)\n",
    "    df.fillna(0, inplace=True)\n",
    "    \n",
    "    # 중복 데이터 제거\n",
    "    df.drop_duplicates(inplace=True)\n",
    "    \n",
    "    return df\n",
    "\n",
    "# 전처리된 구매 이력 데이터\n",
    "purchase_data = preprocess_data(purchase_data)\n",
    "\n",
    "print(\"Preprocessed Purchase Data:\")\n",
    "print(purchase_data)\n"
   ]
  },
  {
   "cell_type": "markdown",
   "id": "2b92c2bc",
   "metadata": {},
   "source": [
    "1. 데이터 구조 정의"
   ]
  },
  {
   "cell_type": "code",
   "execution_count": 15,
   "id": "c64d4b2a",
   "metadata": {},
   "outputs": [],
   "source": [
    "class ListNode:\n",
    "    def __init__(self, key, value):\n",
    "        self.key = key\n",
    "        self.value = value\n",
    "        self.next = None\n",
    "\n",
    "class HashTable:\n",
    "    def __init__(self, size=100):\n",
    "        self.size = size\n",
    "        self.table = [None] * size\n",
    "\n",
    "    def _hash(self, key):\n",
    "        return hash(key) % self.size\n",
    "\n",
    "    def insert(self, key, value):\n",
    "        index = self._hash(key)\n",
    "        if not self.table[index]:\n",
    "            self.table[index] = ListNode(key, value)\n",
    "        else:\n",
    "            current = self.table[index]\n",
    "            while current.next:\n",
    "                current = current.next\n",
    "            current.next = ListNode(key, value)\n",
    "\n",
    "    def search(self, key):\n",
    "        index = self._hash(key)\n",
    "        current = self.table[index]\n",
    "        while current:\n",
    "            if current.key == key:\n",
    "                return current.value\n",
    "            current = current.next\n",
    "        return None\n"
   ]
  },
  {
   "cell_type": "markdown",
   "id": "7c049821",
   "metadata": {},
   "source": [
    "2. 데이터 저장"
   ]
  },
  {
   "cell_type": "code",
   "execution_count": 17,
   "id": "307e0c25",
   "metadata": {},
   "outputs": [
    {
     "name": "stdout",
     "output_type": "stream",
     "text": [
      "Index 7: (user1, [('product1', 1), ('product2', 2)]) -> None\n",
      "Index 21: (user2, [('product2', 1), ('product4', 3)]) -> None\n",
      "Index 65: (user3, [('product1', 1), ('product5', 2)]) -> None\n"
     ]
    }
   ],
   "source": [
    "# 구매 이력 데이터를 저장할 해시 테이블 생성\n",
    "purchase_history = HashTable()\n",
    "\n",
    "# 구매 이력 데이터를 해시 테이블에 저장\n",
    "for _, row in purchase_data.iterrows():\n",
    "    user_id = row['user_id']\n",
    "    product_id = row['product_id']\n",
    "    quantity = row['quantity']\n",
    "    if purchase_history.search(user_id):\n",
    "        purchase_history.search(user_id).append((product_id, quantity))\n",
    "    else:\n",
    "        purchase_history.insert(user_id, [(product_id, quantity)])\n",
    "\n",
    "# 해시 테이블의 데이터 확인\n",
    "for index, node in enumerate(purchase_history.table):\n",
    "    if node:\n",
    "        current = node\n",
    "        print(f\"Index {index}: \", end=\"\")\n",
    "        while current:\n",
    "            print(f\"({current.key}, {current.value}) -> \", end=\"\")\n",
    "            current = current.next\n",
    "        print(\"None\")\n"
   ]
  },
  {
   "cell_type": "markdown",
   "id": "f592ad9b",
   "metadata": {},
   "source": [
    "3. 유사도 계산"
   ]
  },
  {
   "cell_type": "code",
   "execution_count": 19,
   "id": "98963db5",
   "metadata": {},
   "outputs": [
    {
     "name": "stdout",
     "output_type": "stream",
     "text": [
      "\n",
      "User Similarity Scores:\n",
      "user2 <-> user1: 1\n",
      "user2 <-> user3: 0\n",
      "user1 <-> user3: 1\n"
     ]
    }
   ],
   "source": [
    "def calculate_similarity(user1_data, user2_data):\n",
    "    common_products = set([product for product, _ in user1_data]) & set([product for product, _ in user2_data])\n",
    "    similarity = sum([min(dict(user1_data)[product], dict(user2_data)[product]) for product in common_products])\n",
    "    return similarity\n",
    "\n",
    "# 사용자 간의 유사도 계산\n",
    "user_ids = [row['user_id'] for _, row in purchase_data.iterrows()]\n",
    "user_ids = list(set(user_ids))\n",
    "\n",
    "similarity_scores = {}\n",
    "for i, user1 in enumerate(user_ids):\n",
    "    for user2 in user_ids[i + 1:]:\n",
    "        user1_data = purchase_history.search(user1)\n",
    "        user2_data = purchase_history.search(user2)\n",
    "        if user1_data and user2_data:\n",
    "            similarity = calculate_similarity(user1_data, user2_data)\n",
    "            similarity_scores[(user1, user2)] = similarity\n",
    "\n",
    "# 유사도 점수 출력\n",
    "print(\"\\nUser Similarity Scores:\")\n",
    "for (user1, user2), score in similarity_scores.items():\n",
    "    print(f\"{user1} <-> {user2}: {score}\")\n"
   ]
  },
  {
   "cell_type": "markdown",
   "id": "06b6c210",
   "metadata": {},
   "source": [
    "4. 정렬 알고리즘 추가 (삽입 정렬 사용)"
   ]
  },
  {
   "cell_type": "code",
   "execution_count": 21,
   "id": "5fc247e0",
   "metadata": {},
   "outputs": [],
   "source": [
    "# 삽입 정렬 함수 정의\n",
    "def insertion_sort(items):\n",
    "    for i in range(1, len(items)):\n",
    "        key_item = items[i]\n",
    "        j = i - 1\n",
    "        while j >= 0 and items[j][1] < key_item[1]:\n",
    "            items[j + 1] = items[j]\n",
    "            j -= 1\n",
    "        items[j + 1] = key_item\n",
    "    return items\n"
   ]
  },
  {
   "cell_type": "markdown",
   "id": "3a2f1a38",
   "metadata": {},
   "source": [
    "5. 큐(Queue)를 사용한 유사 사용자 탐색"
   ]
  },
  {
   "cell_type": "code",
   "execution_count": 23,
   "id": "443a2e2f",
   "metadata": {},
   "outputs": [],
   "source": [
    "from collections import deque\n",
    "\n",
    "# 큐를 사용한 유사 사용자 탐색\n",
    "def bfs_similarity(user_id, similarity_scores):\n",
    "    visited = set()\n",
    "    queue = deque([user_id])\n",
    "    similar_users = []\n",
    "\n",
    "    while queue:\n",
    "        current_user = queue.popleft()\n",
    "        if current_user not in visited:\n",
    "            visited.add(current_user)\n",
    "            for (user1, user2), score in similarity_scores.items():\n",
    "                if user1 == current_user and user2 not in visited:\n",
    "                    queue.append(user2)\n",
    "                    similar_users.append(user2)\n",
    "                elif user2 == current_user and user1 not in visited:\n",
    "                    queue.append(user1)\n",
    "                    similar_users.append(user1)\n",
    "    return similar_users\n"
   ]
  },
  {
   "cell_type": "markdown",
   "id": "79dd0671",
   "metadata": {},
   "source": [
    "6. 다익스트라 알고리즘 사용"
   ]
  },
  {
   "cell_type": "code",
   "execution_count": 25,
   "id": "75840882",
   "metadata": {},
   "outputs": [],
   "source": [
    "import heapq\n",
    "\n",
    "def dijkstra_similarity(user_id, similarity_scores):\n",
    "    distances = {user: float('inf') for user in user_ids}\n",
    "    distances[user_id] = 0\n",
    "    priority_queue = [(0, user_id)]\n",
    "    \n",
    "    while priority_queue:\n",
    "        current_distance, current_user = heapq.heappop(priority_queue)\n",
    "        \n",
    "        if current_distance > distances[current_user]:\n",
    "            continue\n",
    "        \n",
    "        for (user1, user2), score in similarity_scores.items():\n",
    "            if user1 == current_user:\n",
    "                neighbor = user2\n",
    "            elif user2 == current_user:\n",
    "                neighbor = user1\n",
    "            else:\n",
    "                continue\n",
    "            \n",
    "            distance = current_distance + (1 - score)  # 유사도 점수를 거리로 변환\n",
    "            if distance < distances[neighbor]:\n",
    "                distances[neighbor] = distance\n",
    "                heapq.heappush(priority_queue, (distance, neighbor))\n",
    "    \n",
    "    return distances\n"
   ]
  },
  {
   "cell_type": "markdown",
   "id": "70c6c754",
   "metadata": {},
   "source": [
    "7. 백트래킹을 사용한 최적의 추천 상품 조합 찾기"
   ]
  },
  {
   "cell_type": "code",
   "execution_count": 27,
   "id": "13181ac3",
   "metadata": {},
   "outputs": [],
   "source": [
    "def find_best_combination(products, target, current_combination=[], best_combination=[]):\n",
    "    if sum([quantity for _, quantity in current_combination]) == target:\n",
    "        if len(current_combination) > len(best_combination):\n",
    "            best_combination[:] = current_combination[:]\n",
    "        return\n",
    "    \n",
    "    for product in products:\n",
    "        if product not in current_combination:\n",
    "            current_combination.append(product)\n",
    "            find_best_combination(products, target, current_combination, best_combination)\n",
    "            current_combination.pop()\n",
    "\n",
    "    return best_combination\n"
   ]
  },
  {
   "cell_type": "markdown",
   "id": "5d3a030c",
   "metadata": {},
   "source": [
    "8. 추천 시스템 구현 (머신러닝 알고리즘 사용)"
   ]
  },
  {
   "cell_type": "code",
   "execution_count": 29,
   "id": "e232d249",
   "metadata": {},
   "outputs": [
    {
     "name": "stdout",
     "output_type": "stream",
     "text": [
      "\n",
      "Recommendations for user1: ['product4', 'product2', 'product1']\n"
     ]
    }
   ],
   "source": [
    "from sklearn.neighbors import KNeighborsClassifier\n",
    "from sklearn.preprocessing import LabelEncoder\n",
    "\n",
    "def train_recommendation_model(purchase_data):\n",
    "    X = []\n",
    "    y = []\n",
    "    label_encoder_user = LabelEncoder()\n",
    "    label_encoder_product = LabelEncoder()\n",
    "    user_ids_encoded = label_encoder_user.fit_transform(purchase_data['user_id'])\n",
    "    product_ids_encoded = label_encoder_product.fit_transform(purchase_data['product_id'])\n",
    "    for i in range(len(user_ids_encoded)):\n",
    "        X.append([user_ids_encoded[i], product_ids_encoded[i]])\n",
    "        y.append(purchase_data['quantity'].iloc[i])\n",
    "    model = KNeighborsClassifier(n_neighbors=3)\n",
    "    model.fit(X, y)\n",
    "    return model, label_encoder_user, label_encoder_product\n",
    "\n",
    "# 머신러닝 모델 훈련\n",
    "recommendation_model, user_encoder, product_encoder = train_recommendation_model(purchase_data)\n",
    "\n",
    "def recommend_products(user_id, purchase_history, similarity_scores, recommendation_model, user_encoder, product_encoder):\n",
    "    similar_users = bfs_similarity(user_id, similarity_scores)\n",
    "    distances = dijkstra_similarity(user_id, similarity_scores)\n",
    "    recommendations = []\n",
    "    \n",
    "    for similar_user in similar_users:\n",
    "        if similar_user != user_id:\n",
    "            user_data = purchase_history.search(similar_user)\n",
    "            if user_data:\n",
    "                recommendations.extend(user_data)\n",
    "    \n",
    "    sorted_recommendations = insertion_sort(recommendations)\n",
    "    best_combination = find_best_combination(sorted_recommendations, target_quantity)\n",
    "    \n",
    "    user_id_encoded = user_encoder.transform([user_id])[0]\n",
    "    product_ids_encoded = [product_encoder.transform([product])[0] for product, _ in best_combination]\n",
    "    X_new = [[user_id_encoded, product_id] for product_id in product_ids_encoded]\n",
    "    quantities = recommendation_model.predict(X_new)\n",
    "    \n",
    "    recommended_products = [product_encoder.inverse_transform([product_id])[0] for product_id in product_ids_encoded]\n",
    "    \n",
    "    return recommended_products\n",
    "\n",
    "# 사용자 'user1'에 대한 추천 상품 생성\n",
    "user_id = 'user1'\n",
    "target_quantity = 5\n",
    "recommendations = recommend_products(user_id, purchase_history, similarity_scores, recommendation_model, user_encoder, product_encoder)\n",
    "\n",
    "print(f\"\\nRecommendations for {user_id}: {recommendations}\")\n"
   ]
  },
  {
   "cell_type": "code",
   "execution_count": null,
   "id": "4b953001",
   "metadata": {},
   "outputs": [],
   "source": []
  }
 ],
 "metadata": {
  "kernelspec": {
   "display_name": "Python 3 (ipykernel)",
   "language": "python",
   "name": "python3"
  },
  "language_info": {
   "codemirror_mode": {
    "name": "ipython",
    "version": 3
   },
   "file_extension": ".py",
   "mimetype": "text/x-python",
   "name": "python",
   "nbconvert_exporter": "python",
   "pygments_lexer": "ipython3",
   "version": "3.11.7"
  }
 },
 "nbformat": 4,
 "nbformat_minor": 5
}
