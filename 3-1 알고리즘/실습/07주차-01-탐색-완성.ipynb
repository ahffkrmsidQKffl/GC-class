{
 "cells": [
  {
   "cell_type": "markdown",
   "id": "f44bcd12",
   "metadata": {},
   "source": [
    "# ７주차 : 탐색 알고리즘"
   ]
  },
  {
   "cell_type": "markdown",
   "id": "f88f6bf7",
   "metadata": {},
   "source": [
    "- <a href=\"#1.탐색알고리즘\">1. 탐색 알고리즘</a>"
   ]
  },
  {
   "cell_type": "markdown",
   "id": "d9719ece",
   "metadata": {},
   "source": [
    "------------------------------"
   ]
  },
  {
   "cell_type": "markdown",
   "id": "1d10bdc6",
   "metadata": {
    "jp-MarkdownHeadingCollapsed": true
   },
   "source": [
    "## <a name=\"1.탐색알고리즘\">1. 탐색 알고리즘</a>"
   ]
  },
  {
   "cell_type": "markdown",
   "id": "e6e94c54",
   "metadata": {},
   "source": [
    "## 1-1. 탐색 알고리즘"
   ]
  },
  {
   "cell_type": "markdown",
   "id": "ac347071-329f-4dd8-857a-9c0257e119a4",
   "metadata": {},
   "source": [
    "### 깊이 우선 탐색(DFS:Depth-First Search)\n",
    "- 가능한 모든 경로를 탐색하면서 미로의 출구까지 이동 (보통 우수법 알고리즘으로 사용)\n",
    "- 재귀 방법 or 스택을 이용한 방법"
   ]
  },
  {
   "cell_type": "code",
   "execution_count": null,
   "id": "eb0aa66b-dc58-4865-94ce-0c656a3464a6",
   "metadata": {},
   "outputs": [],
   "source": [
    "# 재귀 방법 사용\n",
    "def dfs(maze, start, end, path=[]):\n",
    "    # 현재 위치를 경로에 추가\n",
    "    path = path + [start]\n",
    "    \n",
    "    # 현재 위치가 출구인지 확인\n",
    "    if start == end:\n",
    "        return path\n",
    "    \n",
    "    # 현재 위치에서 이동할 수 있는 모든 방향을 탐색\n",
    "    row, col = start\n",
    "    directions = [(0, 1), (0, -1), (1, 0), (-1, 0)]  # 오른쪽, 왼쪽, 아래, 위\n",
    "    for drow, dcol in directions:\n",
    "        new_row, new_col = row + drow, col + dcol\n",
    "        \n",
    "        # 미로의 경계를 벗어나는지 확인\n",
    "        if 0 <= new_row < len(maze) and 0 <= new_col < len(maze[0]) and maze[new_row][new_col] == 0:\n",
    "            # 새로운 위치에서 DFS 재귀 호출\n",
    "            if (new_row, new_col) not in path:  # 이미 방문한 위치인지 확인\n",
    "                new_path = dfs(maze, (new_row, new_col), end, path)\n",
    "                if new_path:\n",
    "                    return new_path\n",
    "    \n",
    "    # 출구까지 도달하는 경로가 없는 경우\n",
    "    return None\n",
    "\n",
    "# 미로를 2D 리스트로 표현 (0은 통로, 1은 벽)\n",
    "maze = [\n",
    "    [0, 1, 0, 0, 0],\n",
    "    [0, 0, 0, 1, 0],\n",
    "    [1, 0, 1, 0, 0],\n",
    "    [0, 0, 1, 0, 1],\n",
    "    [0, 0, 0, 0, 0]\n",
    "]\n",
    "\n",
    "# 시작 위치와 끝 위치\n",
    "start = (0, 0)\n",
    "end = (4, 4)\n",
    "\n",
    "# DFS 알고리즘을 사용하여 미로 탈출 경로 찾기\n",
    "escape_path = dfs(maze, start, end)\n",
    "\n",
    "if escape_path:\n",
    "    print(\"미로 탈출 경로:\", escape_path)\n",
    "else:\n",
    "    print(\"미로를 탈출할 수 없습니다.\")"
   ]
  },
  {
   "cell_type": "markdown",
   "id": "d3b4faa7-d4d6-4479-b3a4-41b65ab9de57",
   "metadata": {
    "jp-MarkdownHeadingCollapsed": true
   },
   "source": [
    "- Stack 이용"
   ]
  },
  {
   "cell_type": "code",
   "execution_count": null,
   "id": "2901f3ab-a328-4d22-9ef6-18cc4bd2de4e",
   "metadata": {},
   "outputs": [],
   "source": [
    "# 스택 사용 방법\n",
    "def dfs(maze, start, end):\n",
    "    print('[bfs] 진행합니다.')\n",
    "    rows, cols = len(maze), len(maze[0])\n",
    "    stack = [start]\n",
    "    visited = [[False] * cols for _ in range(rows)]\n",
    "    visited[start[0]][start[1]] = True\n",
    "    \n",
    "    # 방향 벡터 (상, 하, 좌, 우)\n",
    "    directions = [(-1, 0), (1, 0), (0, -1), (0, 1)]\n",
    "    \n",
    "    while stack:\n",
    "        current = stack.pop()\n",
    "        print(f\"현재 위치: {current}\")\n",
    "        \n",
    "        # 현재 위치가 도착점인지 확인\n",
    "        if current == end:\n",
    "            print(\"도착했습니다!\")\n",
    "            return True\n",
    "        \n",
    "        # 가능한 모든 방향으로 이동\n",
    "        for direction in directions:\n",
    "            nr, nc = current[0] + direction[0], current[1] + direction[1]\n",
    "            \n",
    "            # 미로 범위 내에 있고, 벽이 아니며, 방문하지 않았던 경우\n",
    "            if 0 <= nr < rows and 0 <= nc < cols and not maze[nr][nc] and not visited[nr][nc]:\n",
    "                visited[nr][nc] = True\n",
    "                stack.append((nr, nc))\n",
    "    \n",
    "    print(\"도착할 수 없습니다.\")\n",
    "    return False"
   ]
  },
  {
   "cell_type": "markdown",
   "id": "8ef114a1-1a65-4f2d-acf5-a63b59d41504",
   "metadata": {},
   "source": [
    "### 너비 우선 탐색(BFS:Breadth-First Search)\n",
    "- 일반적으로 Queue 이용 (재귀 사용 안함--> 비효율적)\n",
    "- BFS는 모든 가능한 경로를 동시에 탐색하면서 목표지점에 도달할 수 있는 최단 경로를 찾는데 효과적"
   ]
  },
  {
   "cell_type": "code",
   "execution_count": null,
   "id": "10a1d9bb-38bf-481e-b76c-091709b1e1d6",
   "metadata": {},
   "outputs": [],
   "source": [
    "from collections import deque\n",
    "\n",
    "def bfs(maze, start, end):\n",
    "    print('[bfs] 진행합니다.')\n",
    "    # 미로의 행과 열 크기\n",
    "    rows, cols = len(maze), len(maze[0])\n",
    "    \n",
    "    # 방문 위치를 저장할 배열\n",
    "    visited = [[False] * cols for _ in range(rows)]\n",
    "    \n",
    "    # 큐 초기화 및 시작점 추가\n",
    "    queue = deque([start])\n",
    "    visited[start[0]][start[1]] = True\n",
    "    \n",
    "    # 방향 벡터 (상, 하, 좌, 우)\n",
    "    directions = [(-1, 0), (1, 0), (0, -1), (0, 1)]\n",
    "    \n",
    "    while queue:\n",
    "        current = queue.popleft()\n",
    "        print(f\"현재 위치: {current}\")\n",
    "        \n",
    "        # 현재 위치가 도착점인지 확인\n",
    "        if current == end:\n",
    "            print(\"도착했습니다!\")\n",
    "            return True\n",
    "        \n",
    "        # 가능한 모든 방향으로 이동\n",
    "        for direction in directions:\n",
    "            nr, nc = current[0] + direction[0], current[1] + direction[1]\n",
    "            \n",
    "            # 미로 범위 내에 있고, 벽이 아니며, 방문하지 않았던 경우\n",
    "            if 0 <= nr < rows and 0 <= nc < cols and not maze[nr][nc] and not visited[nr][nc]:\n",
    "                visited[nr][nc] = True\n",
    "                queue.append((nr, nc))\n",
    "    \n",
    "    print(\"도착할 수 없습니다.\")\n",
    "    return False"
   ]
  },
  {
   "cell_type": "code",
   "execution_count": null,
   "id": "01b9d918-1210-4b7f-8c23-370837e28586",
   "metadata": {
    "scrolled": true
   },
   "outputs": [],
   "source": [
    "# 미로 예시 (0은 길, 1은 벽)\n",
    "maze = [\n",
    "    [0, 1, 1, 1, 1],\n",
    "    [0, 0, 0, 0, 1],\n",
    "    [1, 1, 0, 1, 1],\n",
    "    [1, 0, 0, 0, 0],\n",
    "    [1, 1, 1, 1, 0]\n",
    "]\n",
    "\n",
    "start = (0, 0)  # 시작점\n",
    "end = (4, 4)    # 도착점\n",
    "\n",
    "bfs(maze, start, end)  # 깊이 우선 탐색\n",
    "dfs(maze, start, end)  # 너비 우선 탐색"
   ]
  },
  {
   "cell_type": "markdown",
   "id": "fc2e5f19-761b-4f43-97ab-42a1cd871890",
   "metadata": {},
   "source": [
    "### [참고] DFS 탐색 알고리즘 그래프로 시각화"
   ]
  },
  {
   "cell_type": "code",
   "execution_count": null,
   "id": "417067bf-f520-43c0-bb0a-0e429b9b292a",
   "metadata": {},
   "outputs": [],
   "source": [
    "import matplotlib.pyplot as plt\n",
    "import numpy as np\n",
    "\n",
    "plt.rcParams['figure.figsize'] = (3,2)\n",
    "\n",
    "def plot_maze(maze, visited, path=None):\n",
    "    r, c = maze.shape\n",
    "    image = np.zeros((r, c, 3))\n",
    "    for i in range(r):\n",
    "        for j in range(c):\n",
    "            if maze[i, j] == 1:\n",
    "                image[i, j] = [0, 0, 0]  # 벽은 검정색\n",
    "            elif visited[i, j]:\n",
    "                image[i, j] = [0, 1, 0]  # 방문한 곳은 녹색\n",
    "            else:\n",
    "                image[i, j] = [1, 1, 1]  # 길은 흰색\n",
    "\n",
    "    if path:\n",
    "        for (x, y) in path:\n",
    "            image[x, y] = [1, 0, 0]  # 경로는 빨간색\n",
    "\n",
    "    plt.imshow(image)\n",
    "    plt.show()\n",
    "\n",
    "def dfs(maze, start, end):\n",
    "    r, c = maze.shape\n",
    "    stack = [start]\n",
    "    visited = np.zeros_like(maze, dtype=bool)\n",
    "    visited[start] = True\n",
    "    \n",
    "    while stack:\n",
    "        current = stack.pop()\n",
    "        plot_maze(maze, visited)  # 현재 미로 상태를 그립니다.\n",
    "        \n",
    "        if current == end:\n",
    "            print(\"도착했습니다!\")\n",
    "            return True\n",
    "        \n",
    "        for direction in [(-1, 0), (1, 0), (0, -1), (0, 1)]:\n",
    "            nr, nc = current[0] + direction[0], current[1] + direction[1]\n",
    "            if 0 <= nr < r and 0 <= nc < c and not maze[nr, nc] and not visited[nr, nc]:\n",
    "                visited[nr, nc] = True\n",
    "                stack.append((nr, nc))\n",
    "    \n",
    "    print(\"도착할 수 없습니다.\")\n",
    "    return False\n",
    "\n",
    "# 미로 예시\n",
    "maze = np.array([\n",
    "    [0, 1, 1, 1, 1],\n",
    "    [0, 0, 0, 0, 1],\n",
    "    [1, 1, 0, 1, 1],\n",
    "    [1, 0, 0, 0, 0],\n",
    "    [1, 1, 1, 1, 0]\n",
    "])\n",
    "\n",
    "start = (0, 0)  # 시작점\n",
    "end = (4, 4)    # 도착점\n",
    "\n",
    "dfs(maze, start, end)"
   ]
  },
  {
   "cell_type": "markdown",
   "id": "b8c0f3bb-cf5e-4bca-a9e7-b6708bee5644",
   "metadata": {},
   "source": [
    "### A* 알고리즘"
   ]
  },
  {
   "cell_type": "code",
   "execution_count": null,
   "id": "e59352fa-572f-4d96-9d70-08b4eae8119e",
   "metadata": {},
   "outputs": [],
   "source": [
    "import heapq\n",
    "\n",
    "def heuristic(node, goal):\n",
    "    # 휴리스틱 함수: 현재 노드에서 목표 노드까지의 추정 거리를 반환\n",
    "    x1, y1 = node\n",
    "    x2, y2 = goal\n",
    "    return abs(x1 - x2) + abs(y1 - y2)  # 맨해튼 거리(Manhattan Distance) 사용\n",
    "\n",
    "def astar(maze, start, end):\n",
    "    # 시작 노드 생성\n",
    "    open_list = []\n",
    "    closed_list = set()\n",
    "    heapq.heappush(open_list, (0, start, []))  # 우선순위 큐에 시작 노드 추가: (거리, 위치, 경로)\n",
    "    \n",
    "    while open_list:\n",
    "        _, current, path = heapq.heappop(open_list)  # 우선순위 큐에서 가장 짧은 거리의 노드 추출\n",
    "        if current == end:\n",
    "            return path + [current]  # 목표에 도달한 경우 경로 반환\n",
    "        \n",
    "        closed_list.add(current)  # 현재 위치를 closed_list에 추가\n",
    "        \n",
    "        # 현재 위치에서 이동 가능한 모든 방향 탐색\n",
    "        row, col = current\n",
    "        directions = [(0, 1), (0, -1), (1, 0), (-1, 0)]  # 오른쪽, 왼쪽, 아래, 위\n",
    "        for drow, dcol in directions:\n",
    "            new_row, new_col = row + drow, col + dcol\n",
    "            \n",
    "            # 미로의 경계를 벗어나는지 확인\n",
    "            if 0 <= new_row < len(maze) and 0 <= new_col < len(maze[0]) and maze[new_row][new_col] == 0:\n",
    "                new_node = (new_row, new_col)\n",
    "                if new_node not in closed_list:\n",
    "                    new_path = path + [current]  # 새로운 경로 생성\n",
    "                    cost = len(new_path) + heuristic(new_node, end)  # 새로운 노드의 비용 계산\n",
    "                    heapq.heappush(open_list, (cost, new_node, new_path))  # 우선순위 큐에 추가\n",
    "    \n",
    "    return None  # 목표에 도달할 수 없는 경우 None 반환\n",
    "\n",
    "# 미로를 2D 리스트로 표현 (0은 통로, 1은 벽)\n",
    "maze = [\n",
    "    [0, 1, 0, 0, 0],\n",
    "    [0, 0, 0, 1, 0],\n",
    "    [1, 0, 1, 0, 0],\n",
    "    [0, 0, 1, 0, 1],\n",
    "    [0, 0, 0, 0, 0]\n",
    "]\n",
    "\n",
    "# 시작 위치와 끝 위치\n",
    "start = (0, 0)\n",
    "end = (4, 4)\n",
    "\n",
    "# A* 알고리즘을 사용하여 미로 탈출 경로 찾기\n",
    "escape_path = astar(maze, start, end)\n",
    "\n",
    "if escape_path:\n",
    "    print(\"미로 탈출 경로:\", escape_path)\n",
    "else:\n",
    "    print(\"미로를 탈출할 수 없습니다.\")"
   ]
  },
  {
   "cell_type": "markdown",
   "id": "6bc78521-40dd-4bae-8140-21412c78ede4",
   "metadata": {},
   "source": [
    "-----"
   ]
  },
  {
   "cell_type": "markdown",
   "id": "017d9435-2e3e-49b1-a506-1fcb088206dd",
   "metadata": {},
   "source": [
    "## 1-2. 선형 탐색(Linear Search)\n",
    "\n"
   ]
  },
  {
   "cell_type": "markdown",
   "id": "b304ac06-8dbf-44d3-bf5b-1d315f30e5b9",
   "metadata": {},
   "source": [
    "### 1-2-1. 선형 탐색 알고리즘"
   ]
  },
  {
   "cell_type": "code",
   "execution_count": null,
   "id": "698aa975-9617-48e1-8b78-dd3c1df51348",
   "metadata": {},
   "outputs": [],
   "source": [
    "array = [ 3, 9, 15, 22, 31, 55, 67, 88, 91 ]\n",
    "n = len(array)\n",
    "number = 22   # 찾는 숫자\n",
    "\n",
    "msg = f'''입력 배열 = {array}\n",
    "찾는 숫자 = {number}\\n'''\n",
    "print(msg)"
   ]
  },
  {
   "cell_type": "code",
   "execution_count": null,
   "id": "dff013a1-1423-43fb-8d56-02de0a85399c",
   "metadata": {},
   "outputs": [],
   "source": [
    "def sequential_search(A, key, low, high) :\t# 순차탐색\n",
    "    for i in range(low, high+1) :\t\t\t# i : low, low+1, ... high\n",
    "        if A[i] == key :  \t\t\t\t    # 탐색 성공하면\n",
    "            return i \t\t\t\t\t\t# 인덱스 반환 \n",
    "    return -1\t\t\t\t\t\t\t\t# 탐색에 실패하면 -1 반환 \n",
    "\n",
    "def linear_search(A, key):\n",
    "    for i in range(len(A)):\n",
    "        if A[i] == key:\n",
    "            return i  # 값의 인덱스 반환\n",
    "    return -1  # 찾지 못한 경우 -1 반환\n",
    "\n",
    "print(f\"{msg}#선형 탐색(idx): {sequential_search(array, number, 0, n-1)}\" )\n",
    "print('-'*30)\n",
    "print(f\"{msg}#선형 탐색(idx): {linear_search(array, number)}\" )"
   ]
  },
  {
   "cell_type": "markdown",
   "id": "db875e05-1eb5-43b9-9078-8a62e5bf63ec",
   "metadata": {},
   "source": [
    "### 1-2-2. [교환하기 전략 추가] 선형 탐색 알고리즘"
   ]
  },
  {
   "cell_type": "code",
   "execution_count": null,
   "id": "b465d1e4-5bcc-4197-b69f-e47dad672a8d",
   "metadata": {},
   "outputs": [],
   "source": [
    "def sequential_search_transpose(A, key, low, high) :\n",
    "\tfor i in range(low, high+1) :\n",
    "\t\tif A[i] == key :\n",
    "\t\t\tif i > low :\t\t\t# 맨 처음 요소가 아니면 이전 요소와 교환\n",
    "\t\t\t\tA[i], A[i-1] = A[i-1], A[i] \n",
    "\t\t\t\ti = i - 1\n",
    "\t\t\treturn i\t\t\t\t# 탐색에 성공하면 키 값의 인덱스 반환 \n",
    "\treturn -1\t\t\t\t\t\t# 탐색에 실패하면 -1 반환 \n",
    "\n",
    "print(f\"{msg}#선형 탐색[교환 적용]: {sequential_search_transpose(array, number, 0, n-1)}\" )"
   ]
  },
  {
   "cell_type": "markdown",
   "id": "9d64eef6-a0f6-4dca-8d86-3609054e71e4",
   "metadata": {},
   "source": [
    "------------------------"
   ]
  },
  {
   "cell_type": "markdown",
   "id": "c0bf4803-de1b-4da8-bcc1-081f3c8f39d0",
   "metadata": {},
   "source": [
    "## 1-3. 이진 탐색(Binary Search)\n"
   ]
  },
  {
   "cell_type": "markdown",
   "id": "bf1fee57-fe27-4673-9a8a-0d64fef7b5be",
   "metadata": {},
   "source": [
    "### 1-3-1. 이진 탐색 알고리즘(순환 구조:재귀)"
   ]
  },
  {
   "cell_type": "code",
   "execution_count": null,
   "id": "c88d3a95-2074-4754-9414-e56c30aefd17",
   "metadata": {},
   "outputs": [],
   "source": [
    "def binary_search(A, key, low, high) :\n",
    "    if low <= high :\t\t    # 항목들이 남아 있으면(종료 조건)\n",
    "        middle = (low + high)//2\n",
    "        if key == A[middle] :\t\n",
    "            return middle\t\t\n",
    "        elif (key<A[middle]) :\t\n",
    "            return binary_search(A, key, low, middle - 1)\n",
    "        else :\t\t\t\n",
    "            return binary_search(A, key, middle + 1, high)\n",
    "    return -1        \t\t\n",
    "\n",
    "array = [3, 9, 15, 22, 31, 55, 67, 88, 91]\n",
    "number = 22\n",
    "print(f\"{msg}#이진 탐색(순환구조）: {binary_search(array, number, 0, n-1)}\" )"
   ]
  },
  {
   "cell_type": "markdown",
   "id": "98b7b445-6c51-46b7-8468-e7f2e32b19ae",
   "metadata": {},
   "source": [
    "### 1-3-2. 이진 탐색 알고리즘(반복 구조)"
   ]
  },
  {
   "cell_type": "code",
   "execution_count": null,
   "id": "9c9eebd0-57ba-4011-8e0a-104ca3ca868b",
   "metadata": {},
   "outputs": [],
   "source": [
    "def binary_search_iter(A, key, low, high) :\n",
    "    while (low <= high) :\t\t# 항목들이 남아 있으면(종료 조건)\n",
    "        middle = (low + high)//2\n",
    "        if key == A[middle]:\t\n",
    "            return middle\n",
    "        elif (key > A[middle]):\t\n",
    "            low = middle + 1\t\n",
    "        else:\t\t\t\n",
    "            high = middle - 1\t\n",
    "    return -1      \n",
    "\n",
    "print(f\"{msg}#이진 탐색(순환구조）: {binary_search_iter(array, number, 0, n-1)}\" )"
   ]
  },
  {
   "cell_type": "markdown",
   "id": "7930dba5-38b0-4664-bc22-916dcd50e368",
   "metadata": {},
   "source": [
    "### 1-3-3. 이진 탐색 알고리즘(보간 탐색 적용)\n",
    "- 보간탐색 중앙요소 위치\n",
    "- middle = low + (high-low) * (key-A[low]) // (A[high]-A[low])"
   ]
  },
  {
   "cell_type": "code",
   "execution_count": null,
   "id": "6fd2ec89-b3d8-4fc4-a984-afae62474987",
   "metadata": {},
   "outputs": [],
   "source": [
    "def binary_interpolation_search(A, key, low, high) :\n",
    "    if low <= high :\t\t    # 항목들이 남아 있으면(종료 조건)\n",
    "        middle = low + (high-low) * (key-A[low]) // (A[high]-A[low])        \n",
    "        if key == A[middle] :\t\n",
    "            return middle\t\t\n",
    "        elif (key<A[middle]) :\t\n",
    "            return binary_search(A, key, low, middle - 1)\n",
    "        else :\t\t\t\n",
    "            return binary_search(A, key, middle + 1, high)\n",
    "    return -1        \t\t\n",
    "\n",
    "array = [3, 9, 15, 22, 31, 55, 67, 88, 91]\n",
    "number = 22\n",
    "print(f\"{msg}#이진 탐색(순환구조）: {binary_interpolation_search(array, number, 0, n-1)}\" )"
   ]
  },
  {
   "cell_type": "markdown",
   "id": "ca3733eb-856f-4ae7-a090-22a125268dfd",
   "metadata": {},
   "source": [
    "--------"
   ]
  },
  {
   "cell_type": "markdown",
   "id": "09eab8dd-3967-44d9-9d91-fdcaaaf0adde",
   "metadata": {},
   "source": [
    "## 1-4. 이진 탐색 트리(Binary Search Tree)"
   ]
  },
  {
   "cell_type": "markdown",
   "id": "7671548e-8b36-411d-ad88-c637e62344aa",
   "metadata": {},
   "source": [
    "### 1-4-1. 이진 탐색 트리 알고리즘"
   ]
  },
  {
   "cell_type": "code",
   "execution_count": null,
   "id": "deb0392f-184f-4798-8786-185c9c09db40",
   "metadata": {},
   "outputs": [],
   "source": [
    "class BSTNode:\n",
    "    def __init__(self, key):\n",
    "        self.val = key\n",
    "        self.left = None\n",
    "        self.right = None"
   ]
  },
  {
   "cell_type": "code",
   "execution_count": null,
   "id": "79bccc0e-1091-495b-a8e9-3a59dac23106",
   "metadata": {},
   "outputs": [],
   "source": [
    "# 삽입 연산 : Insertion\n",
    "def insert(root, key):\n",
    "    if root is None:\n",
    "        return BSTNode(key)\n",
    "    if key < root.val:\n",
    "        root.left = insert(root.left, key)\n",
    "    else:\n",
    "        root.right = insert(root.right, key)\n",
    "    return root\n",
    "    "
   ]
  },
  {
   "cell_type": "code",
   "execution_count": null,
   "id": "71ab40fe-3d70-4163-ba5e-bdd1cb51082d",
   "metadata": {},
   "outputs": [],
   "source": [
    "# 탐색 연산 : Search\n",
    "def search(root, key):\n",
    "    if root is None or root.val == key:\n",
    "        return root\n",
    "    if key < root.val:\n",
    "        return search(root.left, key)\n",
    "    return search(root.right, key)\n"
   ]
  },
  {
   "cell_type": "code",
   "execution_count": null,
   "id": "bfe50e93-87ca-471e-b0d7-4204ea7c6081",
   "metadata": {},
   "outputs": [],
   "source": [
    "# 삭제 연산 : Deletion\n",
    "def minValueNode(node):\n",
    "    current = node\n",
    "    while current.left is not None:\n",
    "        current = current.left\n",
    "    return current\n",
    "\n",
    "def delete(root, key):\n",
    "    if root is None:\n",
    "        return root\n",
    "\n",
    "    if key < root.val:\n",
    "        root.left = delete(root.left, key)\n",
    "    elif key > root.val:\n",
    "        root.right = delete(root.right, key)\n",
    "    else:\n",
    "        if root.left is None:\n",
    "            temp = root.right\n",
    "            root = None\n",
    "            return temp\n",
    "        elif root.right is None:\n",
    "            temp = root.left\n",
    "            root = None\n",
    "            return temp\n",
    "\n",
    "        temp = minValueNode(root.right)\n",
    "        root.val = temp.val\n",
    "        root.right = delete(root.right, temp.val)\n",
    "    return root\n",
    "    "
   ]
  },
  {
   "cell_type": "code",
   "execution_count": null,
   "id": "c7f41dd8-83a1-46ea-bece-12fb48c5b968",
   "metadata": {},
   "outputs": [],
   "source": [
    "# 트리 출력 (중위 순회 방식)\n",
    "def inorder_traversal(root):\n",
    "    if root:\n",
    "        inorder_traversal(root.left)\n",
    "        print(root.val, end=\" \")\n",
    "        inorder_traversal(root.right)"
   ]
  },
  {
   "cell_type": "code",
   "execution_count": null,
   "id": "954412a8-2402-43f5-8aac-f2ba8412cca0",
   "metadata": {
    "scrolled": true
   },
   "outputs": [],
   "source": [
    "# 예시 이진 탐색 트리 생성\n",
    "root = None\n",
    "keys = [18, 7, 26, 3, 12, 31, 27]\n",
    "print(f\"생성전: {keys}\\n\")\n",
    "\n",
    "# 삽입 예시\n",
    "for key in keys:\n",
    "    root = insert(root, key)\n",
    "\n",
    "print(\"생성된 이진 탐색 트리:\")\n",
    "inorder_traversal(root)\n",
    "\n",
    "# 탐색 예시\n",
    "target = 28\n",
    "print(f\"\\n\\n트리 탐색: {target}\")\n",
    "result = search(root, target)\n",
    "if result:\n",
    "    print(f\"{target}를 찾았습니다.\")\n",
    "else:\n",
    "    print(f\"{target}를 찾을 수 없습니다.\")\n",
    "\n",
    "# 삭제 예시\n",
    "target = 12\n",
    "print(\"\\n삭제 전 트리:\")\n",
    "inorder_traversal(root)\n",
    "\n",
    "root = delete(root, target)\n",
    "print(f\"\\n{target} 삭제 후 트리:\")\n",
    "inorder_traversal(root)"
   ]
  },
  {
   "cell_type": "markdown",
   "id": "4cbab20e-287b-4e3b-92c1-5927f5c94138",
   "metadata": {},
   "source": [
    "- 교재 방법"
   ]
  },
  {
   "cell_type": "code",
   "execution_count": null,
   "id": "cedc73f0-90a2-416b-9fe2-b880151eb010",
   "metadata": {},
   "outputs": [],
   "source": [
    "# 이진탐색트리를 위한 노드 클래스\n",
    "class BSTNode:\n",
    "    def __init__ (self, key, value):\t# 생성자: 키와 값을 받음\n",
    "        self.key = key\t\t\n",
    "        self.value = value\t\n",
    "        self.left = None\t\n",
    "        self.right = None\t\n",
    "\n",
    "    def __str__(self) :\n",
    "        return f\"({self.key}:{self.value})\" # (3,three)\n",
    "        \n",
    "# 이진탐색트리의 탐색 연산(순환 구조)\n",
    "def search_bst(n, key) :\t\t\n",
    "    if n == None :\n",
    "        return None\n",
    "    elif key == n.key:\t\t\t# n의 키 값과 동일->탐색성공\n",
    "        return n\n",
    "    elif key < n.key:\t\t\t# key<n의 키\n",
    "        return search_bst(n.left, key)\t# 왼쪽 서브트리 탐색\n",
    "    else:\t\t\t\t        # key>n의 키\n",
    "        return search_bst(n.right, key)\t# 오른쪽 서브트리 탐색\n",
    "\n",
    "# 이진탐색트리의 값을 이용한 탐색(전위 순회)\n",
    "def search_value_bst(n, value) :\n",
    "    if n == None : return None\n",
    "    elif value == n.value:\n",
    "        return n\n",
    "    res = search_value_bst(n.left, value) \t    # 왼쪽서브트리에서 탐색\n",
    "    if res is not None : \n",
    "       return res\n",
    "    else :\t\t\t\t                        # 왼쪽에서 탐색 실패이면\n",
    "       return search_value_bst(n.right, value)  # 오른쪽 탐색 결과반환\n",
    "\n",
    "\n",
    "# 이진탐색트리의 삽입 연산\n",
    "def insert_bst(root, node):\n",
    "\tif root == None : \t\t\t# 공백 노드에 도달하면, 이 위치에 삽입\n",
    "\t\treturn node\n",
    "\n",
    "\tif node.key == root.key :\t# 동일한 키는 허용하지 않음. root를 바로 반환\n",
    "\t\treturn root\n",
    "\n",
    "\t# 왼쪽 서브트리에 넣어야 하는 경우. 순환호출하고 left를 갱신\n",
    "\tif node.key < root.key :\n",
    "\t\troot.left = insert_bst(root.left, node)\n",
    "\n",
    "\t# 오른쪽 서브트리에 넣어야 하는 경우. 순환호출하고 right를 갱신\n",
    "\telse :\n",
    "\t\troot.right= insert_bst(root.right, node)\n",
    "\n",
    "\treturn root\t\t\t\t\t\t\t# 루트 노드를 반환함\n",
    "\n",
    "\n",
    "# 이진탐색트리의 삭제 연산\n",
    "def delete_bst (root, key) :\n",
    "    if root == None :       # 공백 트리\n",
    "        return root\n",
    "\n",
    "    # key가 루트보다 작으면 왼쪽 서브트리에서 삭제하고, left를 갱신\n",
    "    if key < root.key :\n",
    "        root.left = delete_bst(root.left, key)\n",
    "\n",
    "    # key가 루트보다 크면 오른쪽 서브트리에서 삭제하고, right를 갱신\n",
    "    elif key > root.key :\n",
    "        root.right= delete_bst(root.right, key)\n",
    "\n",
    "    # key가 루트와 같으면 root를 삭제\n",
    "    else : \n",
    "        if root.left== None :   # 단말 노드이거나 오른쪽 자식만 가진 노드 삭제\n",
    "            return root.right   # root 대신에 right로 대체\n",
    "\n",
    "        if root.right== None :  # 왼쪽 자식만 가진 노드 삭제\n",
    "            return root.left    # root 대신에 left로 대체\n",
    "\n",
    "\n",
    "        # 2개의 자식을 모두 가진 경우\n",
    "        succ = root.right\n",
    "        while succ.left != None:\n",
    "            succ = succ.left\n",
    "\n",
    "        root.key = succ.key                     # 후계자의 데이터를 root에 복사\n",
    "        root.value = succ.value                 \n",
    "        root.right = delete_bst(root.right, succ.key)\n",
    "\n",
    "    return root\n",
    "\n",
    "\n",
    "# 전위 순회: 트리 구조 출력\n",
    "def preorder(n) :\n",
    "    if n is not None :\n",
    "        print('{', end=' ')\n",
    "        print(n, end=' ')\n",
    "        preorder(n.left)\n",
    "        preorder(n.right)\n",
    "        print('}', end=' ')\n"
   ]
  },
  {
   "cell_type": "code",
   "execution_count": null,
   "id": "6d7e4fa2-5caa-40e7-871b-c559a0a7e3f7",
   "metadata": {},
   "outputs": [],
   "source": [
    "# 이진탐색트리의 테스트 프로그램\n",
    "def print_node(msg, n) :\t\t# 노드 출력 함수\n",
    "    print(msg, n if n != None else \"탐색실패\")\n",
    "\n",
    "def print_tree(msg, r) :\t\t# 트리 출력 함수\n",
    "    print(msg, end='')\n",
    "    preorder(r)\n",
    "    print()\n",
    "\n",
    "data = [(6, \"여섯\"), (8, \"여덟\"), (2,\"둘\"), (4,\"넷\"),  (7,\"일곱\"), (5,\"다섯\"), (1,\"하나\"), (9,\"아홉\"), (3,\"셋\"), (0,\"영\")]\n",
    "\n",
    "root = None         \t        # 루트 노드 생성 및 초기화\n",
    "for i in range(0, len(data)):\t# 노드 순서대로 추가하기 \n",
    "    root = insert_bst(root, BSTNode(data[i][0], data[i][1]))\n",
    "\n",
    "print_tree(\"최초: \", root)\t\t# 최초의 트리 출력\n",
    "\n",
    "n = search_bst(root, 3);        print_node(\"srch 3: \", n)\n",
    "n = search_bst(root, 8);        print_node(\"srch 8: \", n)\n",
    "n = search_bst(root, 0);        print_node(\"srch 0: \", n)\n",
    "n = search_bst(root, 10);       print_node(\"srch10: \", n)\n",
    "n = search_value_bst(root,\"둘\");print_node(\"srch둘: \", n)\n",
    "n = search_value_bst(root,\"열\");print_node(\"srch열: \", n)\n",
    "\n",
    "root = delete_bst(root, 7);     print_tree(\"del  7: \", root)\n",
    "root = delete_bst(root, 8);     print_tree(\"del  8: \", root)\n",
    "root = delete_bst(root, 2);     print_tree(\"del  2: \", root)\n",
    "root = delete_bst(root, 6);     print_tree(\"del  6: \", root)"
   ]
  },
  {
   "cell_type": "markdown",
   "id": "3e21b8a1-c322-45fb-9023-e7d8abad6813",
   "metadata": {},
   "source": [
    "----"
   ]
  },
  {
   "cell_type": "markdown",
   "id": "6c0a5159-dc17-4f04-b790-1030fb68204d",
   "metadata": {},
   "source": [
    "## 1-５. 해시 탐색"
   ]
  },
  {
   "cell_type": "markdown",
   "id": "db2e24c9-41c6-4995-b43a-0531ecef090c",
   "metadata": {},
   "source": [
    "### 1-5-1. 해싱(Hashing) : 분리 연결법(Separate Chaining)\n",
    "충돌한 키의 자료를 연결 리스트로 저장"
   ]
  },
  {
   "cell_type": "code",
   "execution_count": 1,
   "id": "7bb9cdbd-651b-4fc7-9b44-8994dd76cc6e",
   "metadata": {},
   "outputs": [
    {
     "name": "stdout",
     "output_type": "stream",
     "text": [
      "key: apple index: 5\n",
      "[None, None, None, None, None, <__main__.ListNode object at 0x0000015F3DC46F10>, None, None, None, None]\n",
      "key: banana index: 6\n",
      "[None, None, None, None, None, <__main__.ListNode object at 0x0000015F3DC46F10>, <__main__.ListNode object at 0x0000015F3DC47910>, None, None, None]\n",
      "key: orange index: 6\n",
      "[None, None, None, None, None, <__main__.ListNode object at 0x0000015F3DC46F10>, <__main__.ListNode object at 0x0000015F3DC47910>, None, None, None]\n",
      "banana의 값은 20입니다.\n"
     ]
    }
   ],
   "source": [
    "# 리스트를 이용한 해시 테이블 구성\n",
    "class ListNode:\n",
    "    def __init__(self, key, value):\n",
    "        self.key = key\n",
    "        self.value = value\n",
    "        self.next = None\n",
    "\n",
    "class HashTable:\n",
    "    def __init__(self, size):\n",
    "        self.size = size    # 테이블 크기\n",
    "        self.table = [None] * size\n",
    "\n",
    "    def hash_function(self, key):\n",
    "        \"\"\"\n",
    "        간단한 해시 함수: 키의 길이를 해시값으로 사용\n",
    "        \"\"\"\n",
    "        return len(key) % self.size\n",
    "\n",
    "    def put(self, key, value):\n",
    "        index = self.hash_function(key)\n",
    "        print(f\"key: {key} index: {index}\")\n",
    "        \n",
    "        if self.table[index] is None: \n",
    "            self.table[index] = ListNode(key, value)\n",
    "        else:\n",
    "            # 충돌이 발생한 경우, 연결 리스트를 사용하여 데이터를 추가합니다.\n",
    "            current = self.table[index]\n",
    "            while current.next is not None:\n",
    "                current = current.next\n",
    "            current.next = ListNode(key, value)\n",
    "        print(self.table)\n",
    "\n",
    "    def get(self, key):\n",
    "        index = self.hash_function(key)\n",
    "        current = self.table[index]\n",
    "        while current is not None:\n",
    "            if current.key == key:\n",
    "                return current.value\n",
    "            current = current.next\n",
    "        return None\n",
    "\n",
    "# 해시 테이블 생성\n",
    "hash_table = HashTable(10)  # 테이블 크기 10\n",
    "\n",
    "# 데이터 추가\n",
    "hash_table.put(\"apple\", 10)    # key value\n",
    "hash_table.put(\"banana\", 20)   # key value\n",
    "hash_table.put(\"orange\", 30)   # key value\n",
    "\n",
    "# 데이터 검색\n",
    "key = \"banana\"\n",
    "result = hash_table.get(key)  # key 탐색\n",
    "if result is not None:\n",
    "    print(f\"{key}의 값은 {result}입니다.\")\n",
    "else:\n",
    "    print(f\"{key}를 찾을 수 없습니다.\")"
   ]
  },
  {
   "cell_type": "markdown",
   "id": "fd1c3312-1f96-4173-8731-c219b38d356a",
   "metadata": {},
   "source": [
    "### 1-5-2. 해싱(Hashing) : 개방 주소법(Open Addressing)\n",
    "충돌할 때 다음 빈자리를 찾아 자료를 저장(**파이썬 방법**)"
   ]
  },
  {
   "cell_type": "code",
   "execution_count": null,
   "id": "c2775c5c-0fdc-4508-a4a3-2317d2bd9478",
   "metadata": {},
   "outputs": [],
   "source": [
    "class HashTable:\n",
    "    def __init__(self, size):\n",
    "        self.size = size\n",
    "        self.table = [None] * size\n",
    "\n",
    "    def hash_function(self, key):\n",
    "        \"\"\"\n",
    "        간단한 해시 함수: 키의 길이를 해시값으로 사용\n",
    "        \"\"\"\n",
    "        return len(key) % self.size\n",
    "\n",
    "    def put(self, key, value):\n",
    "        index = self.hash_function(key)\n",
    "        if self.table[index] is None:\n",
    "            self.table[index] = (key, value)\n",
    "        else:\n",
    "            # 충돌이 발생한 경우, 선형 탐색을 사용하여 다음 빈 버킷을 찾습니다.\n",
    "            while self.table[index] is not None:\n",
    "                index = (index + 1) % self.size\n",
    "            self.table[index] = (key, value)\n",
    "\n",
    "    def get(self, key):\n",
    "        index = self.hash_function(key)\n",
    "        while self.table[index] is not None:\n",
    "            stored_key, value = self.table[index]\n",
    "            if stored_key == key:\n",
    "                return value\n",
    "            index = (index + 1) % self.size\n",
    "        return None\n",
    "\n",
    "# 해시 테이블 생성\n",
    "hash_table = HashTable(10)  # 테이블 크기 10\n",
    "\n",
    "# 데이터 추가\n",
    "hash_table.put(\"apple\", 10)    # key value\n",
    "hash_table.put(\"banana\", 20)   # key value\n",
    "hash_table.put(\"orange\", 30)   # key value\n",
    "\n",
    "# 데이터 검색\n",
    "key = \"banana\"\n",
    "result = hash_table.get(key)  # key 탐색\n",
    "if result is not None:\n",
    "    print(f\"{key}의 값은 {result}입니다.\")\n",
    "else:\n",
    "    print(f\"{key}를 찾을 수 없습니다.\")"
   ]
  },
  {
   "cell_type": "markdown",
   "id": "2635a61f-c54d-4d43-a155-4b7b1eb8ff54",
   "metadata": {},
   "source": [
    "- **파이썬의 내장 함수 hash() 사용한 방법**"
   ]
  },
  {
   "cell_type": "code",
   "execution_count": null,
   "id": "f07c7b74-464d-4d4a-9b69-ee49399d1fb2",
   "metadata": {},
   "outputs": [],
   "source": [
    "class HashTable:\n",
    "    def __init__(self, size):\n",
    "        self.size = size\n",
    "        self.table = [None] * size\n",
    "\n",
    "    def put(self, key, value):\n",
    "        index = hash(key) % self.size\n",
    "        self.table[index] = (key, value)\n",
    "\n",
    "    def get(self, key):\n",
    "        index = hash(key) % self.size\n",
    "        while self.table[index] is not None:\n",
    "            stored_key, value = self.table[index]\n",
    "            if stored_key == key:\n",
    "                return value\n",
    "            index = (index + 1) % self.size\n",
    "        return None\n",
    "\n",
    "# 해시 테이블 생성\n",
    "hash_table = HashTable(10)  # 테이블 크기 10\n",
    "\n",
    "# 데이터 추가\n",
    "hash_table.put(\"apple\", 10)    # key value\n",
    "hash_table.put(\"banana\", 20)   # key value\n",
    "hash_table.put(\"orange\", 30)   # key value\n",
    "\n",
    "# 데이터 검색\n",
    "key = \"banana\"\n",
    "result = hash_table.get(key)  # key 탐색\n",
    "if result is not None:\n",
    "    print(f\"{key}의 값은 {result}입니다.\")\n",
    "else:\n",
    "    print(f\"{key}를 찾을 수 없습니다.\")"
   ]
  },
  {
   "cell_type": "markdown",
   "id": "1f45a9a3",
   "metadata": {
    "jp-MarkdownHeadingCollapsed": true
   },
   "source": [
    "-----------------"
   ]
  },
  {
   "cell_type": "code",
   "execution_count": null,
   "id": "e156628d-ec8b-4172-8428-d91ebbb78f71",
   "metadata": {},
   "outputs": [],
   "source": []
  }
 ],
 "metadata": {
  "kernelspec": {
   "display_name": "Python 3 (ipykernel)",
   "language": "python",
   "name": "python3"
  },
  "language_info": {
   "codemirror_mode": {
    "name": "ipython",
    "version": 3
   },
   "file_extension": ".py",
   "mimetype": "text/x-python",
   "name": "python",
   "nbconvert_exporter": "python",
   "pygments_lexer": "ipython3",
   "version": "3.11.7"
  }
 },
 "nbformat": 4,
 "nbformat_minor": 5
}
