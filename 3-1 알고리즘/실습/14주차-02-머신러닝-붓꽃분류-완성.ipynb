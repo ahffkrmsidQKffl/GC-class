{
 "cells": [
  {
   "cell_type": "markdown",
   "id": "77c601bc-b7ce-4521-98fc-653569b9947d",
   "metadata": {},
   "source": [
    "# 14주차 : 머신러닝 알고리즘(Machine-Learning algorithm)"
   ]
  },
  {
   "cell_type": "markdown",
   "id": "2e6dc369-6d90-4e23-a28c-22b6a500aab1",
   "metadata": {},
   "source": [
    "- <a href=\"#2.머신러닝알고리즘\">2. 머신러닝 알고리즘</a>"
   ]
  },
  {
   "cell_type": "markdown",
   "id": "c49a3e37-c7a1-41ae-9184-fdd6305f39cb",
   "metadata": {},
   "source": [
    "---------------------------"
   ]
  },
  {
   "cell_type": "markdown",
   "id": "45cc5f86",
   "metadata": {},
   "source": [
    "# [실습] 붓꽃 종류 분류하기"
   ]
  },
  {
   "cell_type": "markdown",
   "id": "1b1615b5",
   "metadata": {
    "id": "G40FawyyQl8c"
   },
   "source": [
    "### 목표\n",
    "- **붓꽃 종류를 분류하는 모델을 구현하세요.** "
   ]
  },
  {
   "cell_type": "markdown",
   "id": "9eb71076",
   "metadata": {},
   "source": [
    "### 모델\n",
    "- 로지스틱 회귀\n",
    "- KNN"
   ]
  },
  {
   "cell_type": "markdown",
   "id": "9d74fd40",
   "metadata": {},
   "source": [
    "### 평가지표\n",
    "- 정확도(accuracy_score)\n",
    "- ROC정확도(roc_auc_score)"
   ]
  },
  {
   "cell_type": "markdown",
   "id": "34670f5a",
   "metadata": {},
   "source": [
    "## [실습] Scikit-learn Logistic Regression으로 붓꽃 종류 분류하기"
   ]
  },
  {
   "cell_type": "markdown",
   "id": "ca594c91",
   "metadata": {},
   "source": [
    "### 1. Scikit-learn으로 붓꽃 데이터 가져오기"
   ]
  },
  {
   "cell_type": "code",
   "execution_count": 2,
   "id": "133d215c",
   "metadata": {
    "scrolled": true
   },
   "outputs": [
    {
     "name": "stdout",
     "output_type": "stream",
     "text": [
      "<class 'numpy.ndarray'>\n",
      "(150, 4)\n"
     ]
    },
    {
     "data": {
      "text/html": [
       "<div>\n",
       "<style scoped>\n",
       "    .dataframe tbody tr th:only-of-type {\n",
       "        vertical-align: middle;\n",
       "    }\n",
       "\n",
       "    .dataframe tbody tr th {\n",
       "        vertical-align: top;\n",
       "    }\n",
       "\n",
       "    .dataframe thead th {\n",
       "        text-align: right;\n",
       "    }\n",
       "</style>\n",
       "<table border=\"1\" class=\"dataframe\">\n",
       "  <thead>\n",
       "    <tr style=\"text-align: right;\">\n",
       "      <th></th>\n",
       "      <th>sepal length (cm)</th>\n",
       "      <th>sepal width (cm)</th>\n",
       "      <th>petal length (cm)</th>\n",
       "      <th>petal width (cm)</th>\n",
       "      <th>label</th>\n",
       "    </tr>\n",
       "  </thead>\n",
       "  <tbody>\n",
       "    <tr>\n",
       "      <th>0</th>\n",
       "      <td>5.1</td>\n",
       "      <td>3.5</td>\n",
       "      <td>1.4</td>\n",
       "      <td>0.2</td>\n",
       "      <td>0</td>\n",
       "    </tr>\n",
       "    <tr>\n",
       "      <th>1</th>\n",
       "      <td>4.9</td>\n",
       "      <td>3.0</td>\n",
       "      <td>1.4</td>\n",
       "      <td>0.2</td>\n",
       "      <td>0</td>\n",
       "    </tr>\n",
       "    <tr>\n",
       "      <th>2</th>\n",
       "      <td>4.7</td>\n",
       "      <td>3.2</td>\n",
       "      <td>1.3</td>\n",
       "      <td>0.2</td>\n",
       "      <td>0</td>\n",
       "    </tr>\n",
       "    <tr>\n",
       "      <th>3</th>\n",
       "      <td>4.6</td>\n",
       "      <td>3.1</td>\n",
       "      <td>1.5</td>\n",
       "      <td>0.2</td>\n",
       "      <td>0</td>\n",
       "    </tr>\n",
       "    <tr>\n",
       "      <th>4</th>\n",
       "      <td>5.0</td>\n",
       "      <td>3.6</td>\n",
       "      <td>1.4</td>\n",
       "      <td>0.2</td>\n",
       "      <td>0</td>\n",
       "    </tr>\n",
       "  </tbody>\n",
       "</table>\n",
       "</div>"
      ],
      "text/plain": [
       "   sepal length (cm)  sepal width (cm)  petal length (cm)  petal width (cm)  \\\n",
       "0                5.1               3.5                1.4               0.2   \n",
       "1                4.9               3.0                1.4               0.2   \n",
       "2                4.7               3.2                1.3               0.2   \n",
       "3                4.6               3.1                1.5               0.2   \n",
       "4                5.0               3.6                1.4               0.2   \n",
       "\n",
       "   label  \n",
       "0      0  \n",
       "1      0  \n",
       "2      0  \n",
       "3      0  \n",
       "4      0  "
      ]
     },
     "execution_count": 2,
     "metadata": {},
     "output_type": "execute_result"
    }
   ],
   "source": [
    "from sklearn.datasets import load_iris\n",
    "import pandas as pd\n",
    "import numpy as np\n",
    "\n",
    "# 붓꽃 데이터 셋트를 로딩\n",
    "iris = load_iris()    #iris의 품종 : [0:'setosa',1:'versicolor',2:'virginica']\n",
    "# print(iris)\n",
    "\n",
    "# X 피쳐만 추출: Features\n",
    "iris_data = iris.data   \n",
    "print(type(iris.data))\n",
    "print(iris.data.shape) # (150, 4)\n",
    "\n",
    "# Y 답(label)만 추출: target_Value\n",
    "iris_label = iris.target\n",
    "\n",
    "# Data Frame 만들기\n",
    "iris_df = pd.DataFrame(data=iris_data, columns=iris.feature_names)\n",
    "iris_df['label'] = iris_label  # # 예측(predict) 수행       \n",
    "iris_df.head()"
   ]
  },
  {
   "cell_type": "markdown",
   "id": "7ae650f3",
   "metadata": {},
   "source": [
    "### 2.학습데이터 분류하고 분류 알고리즘 적용하여 학습모델(예측모델) 만들기"
   ]
  },
  {
   "cell_type": "markdown",
   "id": "101d86c0",
   "metadata": {},
   "source": [
    "#### 로지스틱 회귀 알고리즘 적용"
   ]
  },
  {
   "cell_type": "code",
   "execution_count": 3,
   "id": "22aeddd4",
   "metadata": {},
   "outputs": [
    {
     "name": "stdout",
     "output_type": "stream",
     "text": [
      "예측: [2 2 1 1 2 0 1 0 0 1 1 1 1 2 2 0 2 1 2 2 1 0 0 1 0 0 2 1 0 1]\n",
      "실제: [2 2 2 1 2 0 1 0 0 1 2 1 1 2 2 0 2 1 2 2 1 0 0 1 0 0 2 1 0 1]\n"
     ]
    }
   ],
   "source": [
    "from sklearn.model_selection import train_test_split  \n",
    "from sklearn.linear_model import LogisticRegression\n",
    "\n",
    "# 학습데이터/테스트테이터 분리\n",
    "x_train,x_test,y_train,y_test = train_test_split(iris_data,iris_label,test_size=0.2,  # test_size:0.2(20%)\n",
    "                                                  random_state=11) # random seed 고정\n",
    "\n",
    "# 학습모델(분류) : 로지스틱 회귀\n",
    "model_lr = LogisticRegression()\n",
    "\n",
    "# 모델 훈련\n",
    "model_lr.fit(x_train, y_train)\n",
    "                      \n",
    "# 예측(predict) 수행하기\n",
    "y_pred_lr = model_lr.predict(x_test) \n",
    "print('예측:', y_pred_lr)\n",
    "print('실제:', y_test)    # 예측된 결과와 테스트데이터 출력해서 비교하기 "
   ]
  },
  {
   "cell_type": "markdown",
   "id": "c4b77464",
   "metadata": {},
   "source": [
    "#### K-NN알고리즘 적용"
   ]
  },
  {
   "cell_type": "code",
   "execution_count": 4,
   "id": "8f3c6914",
   "metadata": {},
   "outputs": [
    {
     "name": "stdout",
     "output_type": "stream",
     "text": [
      "예측: [2 2 2 1 2 0 1 0 0 1 1 1 1 2 2 0 2 1 2 2 1 0 0 1 0 0 2 1 0 1]\n",
      "실제: [2 2 2 1 2 0 1 0 0 1 2 1 1 2 2 0 2 1 2 2 1 0 0 1 0 0 2 1 0 1]\n"
     ]
    }
   ],
   "source": [
    "from sklearn.model_selection import train_test_split  \n",
    "from sklearn.neighbors import KNeighborsClassifier\n",
    "\n",
    "# 학습데이터/테스트테이터 분리\n",
    "x_train,x_test,y_train,y_test = train_test_split(iris_data,iris_label,test_size=0.2,  # test_size:0.2(20%)\n",
    "                                                  random_state=11) # random seed 고정\n",
    "\n",
    "# 학습모델(분류) : KNN\n",
    "model_knn = KNeighborsClassifier(n_neighbors=5)\n",
    "model_knn.fit(x_train, y_train)\n",
    "           \n",
    "           \n",
    "# 테스트테이터로 예측(predict) 수행하기\n",
    "y_pred_knn = model_knn.predict(x_test) \n",
    "print('예측:', y_pred_knn)\n",
    "print('실제:', y_test)    # 예측된 결과와 테스트데이터 출력해서 비교하기 "
   ]
  },
  {
   "cell_type": "markdown",
   "id": "1d8fdbdc",
   "metadata": {},
   "source": [
    "### 3. 모델 정확도 측정하기"
   ]
  },
  {
   "cell_type": "code",
   "execution_count": 5,
   "id": "4d5534e8",
   "metadata": {},
   "outputs": [
    {
     "name": "stdout",
     "output_type": "stream",
     "text": [
      "정확도(LR): 0.9333\n",
      "정확도(KNN): 0.9667\n",
      "roc_auc(LR): 0.9521531100478469\n",
      "roc_auc(knn): 0.9760765550239234\n"
     ]
    }
   ],
   "source": [
    "# 정확도 측정 : accuracy\n",
    "from sklearn.metrics import accuracy_score, roc_curve, auc, classification_report \n",
    "\n",
    "# 정확도 \n",
    "print(f'정확도(LR): {accuracy_score(y_test, y_pred_lr):.4f}')\n",
    "print(f'정확도(KNN): {accuracy_score(y_test, y_pred_knn):.4f}')\n",
    "\n",
    "# roc_auc\n",
    "fpr, tpr, thresholds =roc_curve(y_test, y_pred_lr , pos_label=2)\n",
    "print(f'roc_auc(LR): {auc(fpr, tpr)}')\n",
    "fpr, tpr, thresholds =roc_curve(y_test, y_pred_knn , pos_label=2)\n",
    "print(f'roc_auc(knn): {auc(fpr, tpr)}')"
   ]
  },
  {
   "cell_type": "markdown",
   "id": "e35112c5",
   "metadata": {},
   "source": [
    "### 4. 교차 검증하기(cross validation)"
   ]
  },
  {
   "cell_type": "code",
   "execution_count": 7,
   "id": "6ad6794f",
   "metadata": {},
   "outputs": [
    {
     "name": "stdout",
     "output_type": "stream",
     "text": [
      "교차 검증 정확도(LR): [0.98 0.96 0.98]\n",
      "교차 검증 정확도(KNN): [0.98 0.98 0.98]\n",
      "교차 검증 평균 정확도(LR): 0.9733\n",
      "교차 검증 평균 정확도(KNN): 0.98\n"
     ]
    },
    {
     "name": "stderr",
     "output_type": "stream",
     "text": [
      "C:\\python\\Python312\\Lib\\site-packages\\sklearn\\linear_model\\_logistic.py:469: ConvergenceWarning: lbfgs failed to converge (status=1):\n",
      "STOP: TOTAL NO. of ITERATIONS REACHED LIMIT.\n",
      "\n",
      "Increase the number of iterations (max_iter) or scale the data as shown in:\n",
      "    https://scikit-learn.org/stable/modules/preprocessing.html\n",
      "Please also refer to the documentation for alternative solver options:\n",
      "    https://scikit-learn.org/stable/modules/linear_model.html#logistic-regression\n",
      "  n_iter_i = _check_optimize_result(\n"
     ]
    }
   ],
   "source": [
    "# 테스트 데이터에만 과적합 될 수 있으므로 데이터를 여러개로 나누어 테스트를 여러번 수행하여 평균 정확도를 구함\n",
    "from sklearn.model_selection import cross_val_score\n",
    "\n",
    "cv_score_lr = cross_val_score(model_lr, iris.data, iris.target,  # Estimator,X,Y값\n",
    "                           scoring='accuracy', cv = 3) # cv = 3, 3개로 쪼개어 검증(predict를 3회 수행)\n",
    "cv_score_knn = cross_val_score(model_knn, iris.data, iris.target,  # Estimator,X,Y값\n",
    "                           scoring='accuracy', cv = 3) # cv = 3, 3개로 쪼개어 검증(predict를 3회 수행)\n",
    "\n",
    "# 내부적으로 Stratified K-Fold 사용됨, 평가지표를 한개만 구할 수 있어서 StatifiedKFold사용 권장\n",
    "print('교차 검증 정확도(LR):',cv_score_lr)  \n",
    "print('교차 검증 정확도(KNN):',cv_score_knn)  \n",
    "print('교차 검증 평균 정확도(LR):',np.round(np.mean(cv_score_lr),4))    # 3회 예측 한 결과의 정확도들의 평균\n",
    "print('교차 검증 평균 정확도(KNN):',np.round(np.mean(cv_score_knn),4)) "
   ]
  },
  {
   "cell_type": "markdown",
   "id": "db0a5386",
   "metadata": {},
   "source": [
    "### 5. 학습모델에 넣어  테스트데이터 예측하기"
   ]
  },
  {
   "cell_type": "code",
   "execution_count": 10,
   "id": "cabe9269",
   "metadata": {},
   "outputs": [
    {
     "name": "stdout",
     "output_type": "stream",
     "text": [
      "y_pred_lr : [0 0 2]\n",
      "y_pred_knn : [0 0 2]\n",
      "붓꽃 데이터 분류 결과:\n",
      " [2.7  2.4  1.65 0.67]: 0 -> setosa\n",
      " [2.7  2.4  1.65 0.67]: 0 -> setosa\n",
      " [5.8 2.7 5.1 1.9]: 2 -> virginica\n"
     ]
    }
   ],
   "source": [
    "# 테스트 데이터 \n",
    "X_test = np.array([[2.7, 2.4, 1.65, 0.67],\n",
    "                   [5.84, 5.48, 3, 2.16],\n",
    "                   [5.8, 2.7, 5.1, 1.9]]) \n",
    "\n",
    "# K-NN을 이용한 예측(predict) 수행\n",
    "y_pred_lr = model_lr.predict(X_test)\n",
    "y_pred_knn = model_knn.predict(X_test)\n",
    "print(f'y_pred_lr : {y_pred_lr}')\n",
    "print(f'y_pred_knn : {y_pred_knn}')\n",
    "\n",
    "# 분류 결과 출력하기\n",
    "print('붓꽃 데이터 분류 결과:')\n",
    "names = {0:'setosa',1:'versicolor',2:'virginica'}\n",
    "for i in y_pred_lr:\n",
    "    print(f' {X_test[i]}: {i} -> {names[i]}')"
   ]
  },
  {
   "cell_type": "markdown",
   "id": "dbf74dde",
   "metadata": {},
   "source": [
    "-------------------"
   ]
  },
  {
   "cell_type": "markdown",
   "id": "13f4a68a",
   "metadata": {},
   "source": [
    "끝"
   ]
  }
 ],
 "metadata": {
  "kernelspec": {
   "display_name": "Python 3 (ipykernel)",
   "language": "python",
   "name": "python3"
  },
  "language_info": {
   "codemirror_mode": {
    "name": "ipython",
    "version": 3
   },
   "file_extension": ".py",
   "mimetype": "text/x-python",
   "name": "python",
   "nbconvert_exporter": "python",
   "pygments_lexer": "ipython3",
   "version": "3.12.1"
  }
 },
 "nbformat": 4,
 "nbformat_minor": 5
}
