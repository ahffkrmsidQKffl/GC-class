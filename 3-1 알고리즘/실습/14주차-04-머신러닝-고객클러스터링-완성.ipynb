{
 "cells": [
  {
   "cell_type": "markdown",
   "id": "c443c81b-123b-4332-82c7-93b4e33c45d0",
   "metadata": {},
   "source": [
    "# 14주차 : 머신러닝 알고리즘(Machine-Learning algorithm)"
   ]
  },
  {
   "cell_type": "markdown",
   "id": "425afddb-f4ac-47a9-96ad-1c16312c50ee",
   "metadata": {},
   "source": [
    "- <a href=\"#2.머신러닝알고리즘\">2. 머신러닝 알고리즘</a>"
   ]
  },
  {
   "cell_type": "markdown",
   "id": "d7154ab7-cf26-4530-88b3-7e937f996049",
   "metadata": {},
   "source": [
    "--------------"
   ]
  },
  {
   "cell_type": "markdown",
   "id": "b8aa93ac",
   "metadata": {
    "id": "b8aa93ac"
   },
   "source": [
    "# [실습] 군집(Clustering): 고객 세분화(Customer Segmentation)\n"
   ]
  },
  {
   "cell_type": "markdown",
   "id": "abe608c6-57ce-48b7-b6e7-2a8f209d59c4",
   "metadata": {},
   "source": [
    "### 목표\n",
    "- **구매 행동을 가진 그룹을 세분화하여 각 특성에 맞는 그룹으로 군집화한다.** "
   ]
  },
  {
   "cell_type": "markdown",
   "id": "bd832788-c1c7-41b1-8e57-d0e13302b755",
   "metadata": {},
   "source": [
    "### 모델\n",
    "- K-평균 군집화(K-means Clustering)\n"
   ]
  },
  {
   "cell_type": "markdown",
   "id": "dd9c0cb1-9052-4141-94f9-bf6e4c6c6097",
   "metadata": {},
   "source": [
    "### 평가지표\n",
    "- 실루엣 계수\n",
    "- 참고: https://studying-haeung.tistory.com/10"
   ]
  },
  {
   "cell_type": "markdown",
   "id": "56a9a995-2c46-482d-802e-7b68bef26983",
   "metadata": {},
   "source": [
    "----------------------"
   ]
  },
  {
   "cell_type": "code",
   "execution_count": null,
   "id": "FLGtQu2YsSAb",
   "metadata": {
    "id": "FLGtQu2YsSAb"
   },
   "outputs": [],
   "source": [
    "# (코랩에서)한글폰트 설치하기\n",
    "!sudo apt-get install -y fonts-nanum\n",
    "!sudo fc-cache -fv\n",
    "!rm ~/.cache/matplotlib -rf\n",
    "\n",
    "# 코랩에서 위 코드를 실행시킨 후  반드시 코랩 메뉴: \"런타임>런타임 다시 시작\" 합니다."
   ]
  },
  {
   "cell_type": "code",
   "execution_count": 1,
   "id": "gROTtcXKsUGe",
   "metadata": {
    "id": "gROTtcXKsUGe"
   },
   "outputs": [],
   "source": [
    "# 코랩에서 한글 폰트 종류와 이름이 win과 다를 수 있다!!!\n",
    "# 코랩: NanumGothic, 윈도우: Malgun Gothic\n",
    "import matplotlib.pyplot as plt\n",
    "plt.rcParams.update({'font.family': 'NanumGothic',\n",
    "                     'font.size': 12,\n",
    "                     'figure.figsize': (6, 4),\n",
    "                     'axes.unicode_minus':  False }) # 폰트 설정"
   ]
  },
  {
   "cell_type": "markdown",
   "id": "f5bec913",
   "metadata": {
    "id": "f5bec913"
   },
   "source": [
    "### 1.군집(Clustring) 분석 소개\n",
    "- 주어진 데이터 집합을 유사한 특성(관계, 특성)을 갖는 데이터들의 그룹으로 나누는 것을 군집화(clustering)라 하고 이렇게 나누어진 유사한 데이터의 그룹을 군집(cluster)이라 한다.\n",
    "- 대표적인 비지도학습 방법\n",
    "\n",
    "* 군집화 방법\n",
    "    - **K-평균 군집화(K-means Clustering)**\n",
    "    - 디비스캔 군집화(DBSCAN Clustering)\n",
    "    - 유사도 전파 군집화(Affinity Propagation Clustering)\n",
    "    - 계층적 군집화(Hierarchical Clustering)\n",
    "    - 스펙트럴 군집화(Spectral Clustering\n",
    "<br><br>\n",
    "* 사이킷런 군집 클래스 :\n",
    "https://scikit-learn.org/stable/modules/classes.html?highlight=sklearn%20cluster#module-sklearn.cluster\n",
    "\n",
    "* 성능평가 방법\n",
    "(다른 방법과 다르게 비교적)성능기준을 만들기 어렵다.<br>\n",
    "    - **실루엣계수(Silhouette Coefficient)**:<br>\n",
    "    모든 데이터 쌍 (i,j)에 대해 거리 혹은 비유사도(dissimilarity)을 구한 값\n",
    "    - 조정 랜드지수(ARI: Adjusted Rand Index):<br>\n",
    "    랜드지수(Rand Index, RI)는 가능한 모든 데이터 쌍의 개수에 대해 정답인 데이터 쌍의 개수의 비율로 정의하는 방식으로 무작위 군집화에서 생기는 랜드지수의 기댓값을 원래의 값에서 빼서 기댓값과 분산을 재조정한 것\n",
    "    - 조정 상호정보량(AMI:Adjusted Mutual Information):<br>\n",
    "    두 확률변수간의 상호 의존성을 측정한 값\n",
    "\n",
    "* 사용 모델: K-means\n",
    "    - 데이터를 K개의 군집(Cluster)으로 묶는(Clusting) 알고리즘\n",
    "    - 군집에 배정할 때 각 군집의 중심점(Centroid)과 데이터들의 평균(mean) 유클리드 거리를 계산하여 가장 가까운 군집에 배정하는 방법\n",
    "    - 사이킷런 K-means :\n",
    "    https://scikit-learn.org/stable/modules/generated/sklearn.cluster.KMeans.html#sklearn.cluster.KMeans"
   ]
  },
  {
   "cell_type": "markdown",
   "id": "38cf289e",
   "metadata": {
    "id": "38cf289e"
   },
   "source": [
    "### 2. 목표 설정\n",
    "\n",
    "**타겟 마케팅을 위한 소비자 군집 만들기**\n",
    "- 타겟 마케팅 : 구매 행동을 가진 그룹을 세분화하여 각 특성에 맞는 마케팅을 하는 전략\n",
    "- 머신러닝 군집(Clustering) 분석 : K-평균 알고리즘 사용, 비지도학습\n",
    "- 기존 고객 정보를 **머신러닝의 군집 분석** 학습을 통해 훈련시켜 모델을 만들어 유사한 특성(관계, 특성)을 갖는 데이터를 클러스터로 구성한다. 이를 통해 새로운 데이터의 특성을 분석하여 해당하는 클러스터를 **예측**한다."
   ]
  },
  {
   "cell_type": "markdown",
   "id": "8e541c0f",
   "metadata": {
    "id": "8e541c0f"
   },
   "source": [
    "-----------------"
   ]
  },
  {
   "cell_type": "markdown",
   "id": "115b8b6b",
   "metadata": {
    "id": "115b8b6b"
   },
   "source": [
    "## 1. 데이터 준비하기"
   ]
  },
  {
   "cell_type": "code",
   "execution_count": 2,
   "id": "4W5BvOZJrR6w",
   "metadata": {
    "id": "4W5BvOZJrR6w"
   },
   "outputs": [],
   "source": [
    "import warnings\n",
    "warnings.filterwarnings('ignore')"
   ]
  },
  {
   "cell_type": "markdown",
   "id": "65fe4312",
   "metadata": {
    "id": "65fe4312"
   },
   "source": [
    "* UCI Machine Learning Repository (https://archive.ics.uci.edu/ml/index.php)\n",
    "    - **검색키워드**: online retail (https://archive.ics.uci.edu/ml/datasets/online+retail)\n",
    "    - **다운로드** : Online Retail.xlsx 다운로드--> data 폴더로 이동(파일명 공백없도록 수정)\n",
    "    - **데이터셋** : 영국 온라인 소매 플랫폼에서 2010-12-01 ~ 2011-12-09까지 발생한 541,909건의 실제 거래 데이터"
   ]
  },
  {
   "cell_type": "code",
   "execution_count": 3,
   "id": "789f6fb9",
   "metadata": {
    "id": "789f6fb9"
   },
   "outputs": [
    {
     "data": {
      "text/html": [
       "<div>\n",
       "<style scoped>\n",
       "    .dataframe tbody tr th:only-of-type {\n",
       "        vertical-align: middle;\n",
       "    }\n",
       "\n",
       "    .dataframe tbody tr th {\n",
       "        vertical-align: top;\n",
       "    }\n",
       "\n",
       "    .dataframe thead th {\n",
       "        text-align: right;\n",
       "    }\n",
       "</style>\n",
       "<table border=\"1\" class=\"dataframe\">\n",
       "  <thead>\n",
       "    <tr style=\"text-align: right;\">\n",
       "      <th></th>\n",
       "      <th>InvoiceNo</th>\n",
       "      <th>StockCode</th>\n",
       "      <th>Description</th>\n",
       "      <th>Quantity</th>\n",
       "      <th>InvoiceDate</th>\n",
       "      <th>UnitPrice</th>\n",
       "      <th>CustomerID</th>\n",
       "      <th>Country</th>\n",
       "    </tr>\n",
       "  </thead>\n",
       "  <tbody>\n",
       "    <tr>\n",
       "      <th>0</th>\n",
       "      <td>536365</td>\n",
       "      <td>85123A</td>\n",
       "      <td>WHITE HANGING HEART T-LIGHT HOLDER</td>\n",
       "      <td>6</td>\n",
       "      <td>2010-12-01 08:26:00</td>\n",
       "      <td>2.55</td>\n",
       "      <td>17850.0</td>\n",
       "      <td>United Kingdom</td>\n",
       "    </tr>\n",
       "    <tr>\n",
       "      <th>1</th>\n",
       "      <td>536365</td>\n",
       "      <td>71053</td>\n",
       "      <td>WHITE METAL LANTERN</td>\n",
       "      <td>6</td>\n",
       "      <td>2010-12-01 08:26:00</td>\n",
       "      <td>3.39</td>\n",
       "      <td>17850.0</td>\n",
       "      <td>United Kingdom</td>\n",
       "    </tr>\n",
       "    <tr>\n",
       "      <th>2</th>\n",
       "      <td>536365</td>\n",
       "      <td>84406B</td>\n",
       "      <td>CREAM CUPID HEARTS COAT HANGER</td>\n",
       "      <td>8</td>\n",
       "      <td>2010-12-01 08:26:00</td>\n",
       "      <td>2.75</td>\n",
       "      <td>17850.0</td>\n",
       "      <td>United Kingdom</td>\n",
       "    </tr>\n",
       "    <tr>\n",
       "      <th>3</th>\n",
       "      <td>536365</td>\n",
       "      <td>84029G</td>\n",
       "      <td>KNITTED UNION FLAG HOT WATER BOTTLE</td>\n",
       "      <td>6</td>\n",
       "      <td>2010-12-01 08:26:00</td>\n",
       "      <td>3.39</td>\n",
       "      <td>17850.0</td>\n",
       "      <td>United Kingdom</td>\n",
       "    </tr>\n",
       "    <tr>\n",
       "      <th>4</th>\n",
       "      <td>536365</td>\n",
       "      <td>84029E</td>\n",
       "      <td>RED WOOLLY HOTTIE WHITE HEART.</td>\n",
       "      <td>6</td>\n",
       "      <td>2010-12-01 08:26:00</td>\n",
       "      <td>3.39</td>\n",
       "      <td>17850.0</td>\n",
       "      <td>United Kingdom</td>\n",
       "    </tr>\n",
       "  </tbody>\n",
       "</table>\n",
       "</div>"
      ],
      "text/plain": [
       "  InvoiceNo StockCode                          Description  Quantity  \\\n",
       "0    536365    85123A   WHITE HANGING HEART T-LIGHT HOLDER         6   \n",
       "1    536365     71053                  WHITE METAL LANTERN         6   \n",
       "2    536365    84406B       CREAM CUPID HEARTS COAT HANGER         8   \n",
       "3    536365    84029G  KNITTED UNION FLAG HOT WATER BOTTLE         6   \n",
       "4    536365    84029E       RED WOOLLY HOTTIE WHITE HEART.         6   \n",
       "\n",
       "          InvoiceDate  UnitPrice  CustomerID         Country  \n",
       "0 2010-12-01 08:26:00       2.55     17850.0  United Kingdom  \n",
       "1 2010-12-01 08:26:00       3.39     17850.0  United Kingdom  \n",
       "2 2010-12-01 08:26:00       2.75     17850.0  United Kingdom  \n",
       "3 2010-12-01 08:26:00       3.39     17850.0  United Kingdom  \n",
       "4 2010-12-01 08:26:00       3.39     17850.0  United Kingdom  "
      ]
     },
     "execution_count": 3,
     "metadata": {},
     "output_type": "execute_result"
    }
   ],
   "source": [
    "import pandas as pd\n",
    "import numpy as np\n",
    "\n",
    "# 데이터량이 많아서 로딩하는데 시간이 좀 걸린다.\n",
    "df = pd.read_excel('./data/OnlineRetail.xlsx') # 파일명에 공백이 없도록 수정하면 좋다.\n",
    "df.head()"
   ]
  },
  {
   "cell_type": "code",
   "execution_count": null,
   "id": "2a358e9a",
   "metadata": {
    "id": "2a358e9a"
   },
   "outputs": [],
   "source": [
    "print(f\"총기간: {df['InvoiceDate'].min()} ~ {df['InvoiceDate'].max()}\")\n",
    "print(f\"날짜수: {df['InvoiceDate'].max() - df['InvoiceDate'].min()}\" )"
   ]
  },
  {
   "cell_type": "markdown",
   "id": "rYA-3hLFoQ6K",
   "metadata": {
    "id": "rYA-3hLFoQ6K"
   },
   "source": [
    "## 2. 데이터 전처리"
   ]
  },
  {
   "cell_type": "markdown",
   "id": "loXqmWidoSUg",
   "metadata": {
    "id": "loXqmWidoSUg"
   },
   "source": [
    "### 2-1. 기본 정보 확인"
   ]
  },
  {
   "cell_type": "markdown",
   "id": "05e52756",
   "metadata": {
    "id": "05e52756"
   },
   "source": [
    "#### 컬럼정보\n",
    "- InvoiceNo : 송장번호 'C'로 시작하는 취소 주문\n",
    "- StockCode : 제품 고유 품목코드\n",
    "- Description : 제품 설명\n",
    "- Quantity : 주문 수량\n",
    "- InvoiceDate : 주문 날짜와 시간\n",
    "- UnitPrice : 제품 단가 (영국 파운드화)\n",
    "- CustomerID : 주문 고객 번호\n",
    "- Country : 주문 고객의 국적"
   ]
  },
  {
   "cell_type": "markdown",
   "id": "b58a4008",
   "metadata": {
    "id": "b58a4008"
   },
   "source": [
    "#### 데이터 요약정보"
   ]
  },
  {
   "cell_type": "code",
   "execution_count": null,
   "id": "f2af7574",
   "metadata": {
    "id": "f2af7574"
   },
   "outputs": [],
   "source": [
    "df.info() # 데이터의 건수, 컬럼, 데이터타입,  Null값과 같은 결측치가 있는지 확인 등"
   ]
  },
  {
   "cell_type": "markdown",
   "id": "f59d4d32",
   "metadata": {
    "id": "f59d4d32"
   },
   "source": [
    "#### 2-2. 데이터 정제하기\n",
    " 1. 중복 데이터 제거\n",
    " 2. Quantity 과 UnitPrice 음수인 값 제거\n",
    " 3. CustomerID 값 결측치 데이터 삭제\n",
    " 4. CustomerID float64 --> int형으로 변환"
   ]
  },
  {
   "cell_type": "markdown",
   "id": "39874b0b",
   "metadata": {
    "id": "39874b0b"
   },
   "source": [
    "- 중복 데이터 제거"
   ]
  },
  {
   "cell_type": "code",
   "execution_count": null,
   "id": "dd3d7079",
   "metadata": {
    "id": "dd3d7079"
   },
   "outputs": [],
   "source": [
    "print(df.shape)\n",
    "df.drop_duplicates(inplace=True)\n",
    "print(df.shape)"
   ]
  },
  {
   "cell_type": "markdown",
   "id": "c0d5a77d",
   "metadata": {
    "id": "c0d5a77d"
   },
   "source": [
    "- Quantity 과 UnitPrice 음수인 값 제거"
   ]
  },
  {
   "cell_type": "code",
   "execution_count": null,
   "id": "699d5dd8",
   "metadata": {
    "id": "699d5dd8"
   },
   "outputs": [],
   "source": [
    "df = df[ df['Quantity'] > 0 ]\n",
    "df = df[ df['UnitPrice'] > 0 ]\n",
    "print(df.shape)"
   ]
  },
  {
   "cell_type": "markdown",
   "id": "bb76b897",
   "metadata": {
    "id": "bb76b897"
   },
   "source": [
    "- CustomerID 값 없는 데이터 삭제"
   ]
  },
  {
   "cell_type": "code",
   "execution_count": null,
   "id": "359b4800",
   "metadata": {
    "id": "359b4800"
   },
   "outputs": [],
   "source": [
    "df = df[ df['CustomerID'].notnull() ]\n",
    "print(df.shape)"
   ]
  },
  {
   "cell_type": "markdown",
   "id": "ef87d5cc",
   "metadata": {
    "id": "ef87d5cc"
   },
   "source": [
    "- CustomerID float64 --> int형으로 변환"
   ]
  },
  {
   "cell_type": "code",
   "execution_count": null,
   "id": "bdf11f39",
   "metadata": {
    "id": "bdf11f39"
   },
   "outputs": [],
   "source": [
    "df['CustomerID'] = df['CustomerID'].astype(int)\n",
    "df.info()"
   ]
  },
  {
   "cell_type": "markdown",
   "id": "05d4539a",
   "metadata": {
    "id": "05d4539a"
   },
   "source": [
    "#### 2-3. 분석 데이터 생성\n",
    "- 고객별 데이터 분석용 작업(그룹핑)"
   ]
  },
  {
   "cell_type": "markdown",
   "id": "c17e5796",
   "metadata": {
    "id": "c17e5796"
   },
   "source": [
    "- 분석용 데이터 확인"
   ]
  },
  {
   "cell_type": "code",
   "execution_count": null,
   "id": "123baba3",
   "metadata": {
    "id": "123baba3"
   },
   "outputs": [],
   "source": [
    "print(f\"제품의 품목 개수: {len(df['StockCode'].value_counts())}\")\n",
    "print(f\"고객수: {len(df['CustomerID'].value_counts())}\")\n",
    "print(f\"거래건수: {len(df['InvoiceNo'].value_counts())}\")\n",
    "print(f\"고객국적: {len(df['Country'].value_counts())}\")\n"
   ]
  },
  {
   "cell_type": "markdown",
   "id": "d9db710a",
   "metadata": {
    "id": "d9db710a"
   },
   "source": [
    "- 분석용 데이터 생성"
   ]
  },
  {
   "cell_type": "code",
   "execution_count": null,
   "id": "f4891db2",
   "metadata": {
    "id": "f4891db2"
   },
   "outputs": [],
   "source": [
    "# 고객의 주문 금액\n",
    "df['SaleAmount'] = df['UnitPrice'] * df['Quantity']  # SaleAmount 컬럼 신규 추가\n",
    "df.head(2)"
   ]
  },
  {
   "cell_type": "code",
   "execution_count": null,
   "id": "9ceaf64f",
   "metadata": {
    "id": "9ceaf64f"
   },
   "outputs": [],
   "source": [
    "# 고객의 주문 총액 : 그룹핑 (주문합계, 송장건수, 최근주문날짜)\n",
    "aggregations={\n",
    "    'SaleAmount':'sum',\n",
    "    'InvoiceNo':'count',\n",
    "    'InvoiceDate':'max'\n",
    "}\n",
    "customer_df = df.groupby('CustomerID').agg(aggregations)\n",
    "customer_df"
   ]
  },
  {
   "cell_type": "code",
   "execution_count": null,
   "id": "03bd86f8",
   "metadata": {
    "id": "03bd86f8",
    "scrolled": true
   },
   "outputs": [],
   "source": [
    "# 컬럼명 변경 (송장건수->Freq, 최근주문날짜->ElapsedDays)\n",
    "customer_df = customer_df.rename(columns = {'InvoiceNo':'Freq','InvoiceDate':'ElapsedDays'})\n",
    "customer_df"
   ]
  },
  {
   "cell_type": "code",
   "execution_count": null,
   "id": "b46ecb6d",
   "metadata": {
    "id": "b46ecb6d"
   },
   "outputs": [],
   "source": [
    "# 마지막 주문 후 며칠이 지났는가(기준날짜: 2011-12-10 (최종날짜보다 하루 이후 날짜를 기준으로 잡는다.))\n",
    "import datetime\n",
    "\n",
    "customer_df['ElapsedDays'] = datetime.datetime(2011,12,10) - customer_df.ElapsedDays\n",
    "customer_df\n",
    "\n",
    "customer_df['ElapsedDays'] = customer_df['ElapsedDays'].apply(lambda x:x.days + 1)\n",
    "customer_df"
   ]
  },
  {
   "cell_type": "code",
   "execution_count": null,
   "id": "30a0569c",
   "metadata": {
    "id": "30a0569c"
   },
   "outputs": [],
   "source": [
    "# 현재 날짜 시간\n",
    "import datetime\n",
    "\n",
    "now  = datetime.datetime.now()\n",
    "print(\"현재 :\", now)"
   ]
  },
  {
   "cell_type": "markdown",
   "id": "d08624fb",
   "metadata": {
    "id": "d08624fb"
   },
   "source": [
    "- 정렬"
   ]
  },
  {
   "cell_type": "code",
   "execution_count": null,
   "id": "32df414e",
   "metadata": {
    "id": "32df414e"
   },
   "outputs": [],
   "source": [
    "# 정렬 : 주문 합계가 가장 많은 순으로 정렬\n",
    "customer_df.sort_values(by='SaleAmount',axis=0,ascending=False)"
   ]
  },
  {
   "cell_type": "code",
   "execution_count": null,
   "id": "b81fa3dd",
   "metadata": {
    "id": "b81fa3dd"
   },
   "outputs": [],
   "source": [
    "# 정렬 : 최근 주문기간 순으로 정렬\n",
    "customer_df.sort_values(by='ElapsedDays',axis=0,ascending=True)"
   ]
  },
  {
   "cell_type": "code",
   "execution_count": null,
   "id": "cfba1707",
   "metadata": {
    "id": "cfba1707"
   },
   "outputs": [],
   "source": [
    "# 정렬 : 고객번호 순으로\n",
    "customer_df.sort_index()\n",
    "# customer_df.sort_index(axis=0,ascending=True)"
   ]
  },
  {
   "cell_type": "markdown",
   "id": "44ac9b2d",
   "metadata": {
    "id": "44ac9b2d"
   },
   "source": [
    "#### 2-4. 데이터 시각화"
   ]
  },
  {
   "cell_type": "markdown",
   "id": "6e00745d",
   "metadata": {
    "id": "6e00745d"
   },
   "source": [
    "* 데이터 분포 조정하기\n",
    "    1. 데이터 값이 한쪽으로 차우치지 않았는지 **박스플롯 그래프**로 확인하고 조정한다.\n",
    "    > 아웃레이어를 확인한다\n",
    "    2. 한쪽으로 치우친 분포를 **로그 변환**을 취하게 되면 정규분포 모양으로 고르게 분포하게 된다.\n",
    "    >  (로그함수는 x축 값이 커질 때 y축으로 밀집하고, x축이 0에 가까울때 y축이 무한대에 가깝게 간다. 이 특징을 이용해 밀집된 곳은 퍼지게, 퍼진부분은 밀집되게 할 수 있기 때문에 분포를 고르게 하기 위해서는 로그함수를 취하게 된다.)"
   ]
  },
  {
   "cell_type": "markdown",
   "id": "2bbab1b7",
   "metadata": {
    "id": "2bbab1b7"
   },
   "source": [
    "- 박스 플롯(상자그림: box plot)"
   ]
  },
  {
   "cell_type": "code",
   "execution_count": null,
   "id": "367d056b",
   "metadata": {
    "id": "367d056b"
   },
   "outputs": [],
   "source": [
    "import matplotlib.pyplot as plt\n",
    "\n",
    "# 한글출력 설정\n",
    "# plt.rcParams['font.family'] = 'Malgun Gothic'# '맑은 고딕'으로 설정\n",
    "plt.rc('font', family='NanumBarunGothic')\n",
    "plt.rcParams['axes.unicode_minus'] = False\n",
    "\n",
    "S = [26,31,27,38,42,56,18,17,25,25]\n",
    "\n",
    "plt.boxplot(S, sym='bo')\n",
    "# plt.boxplot(S, vert=False)\n",
    "plt.grid()\n",
    "plt.show()"
   ]
  },
  {
   "cell_type": "markdown",
   "id": "f65fd888",
   "metadata": {
    "id": "f65fd888"
   },
   "source": [
    "- 데이터가 한쪽으로 치우친 것 확인함"
   ]
  },
  {
   "cell_type": "code",
   "execution_count": null,
   "id": "e585ec1b",
   "metadata": {
    "id": "e585ec1b"
   },
   "outputs": [],
   "source": [
    "import matplotlib.pyplot as plt\n",
    "\n",
    "fig, ax = plt.subplots()\n",
    "ax.boxplot([customer_df.Freq, customer_df.SaleAmount, customer_df.ElapsedDays],\n",
    "           sym='bo')\n",
    "plt.xticks([1,2,3], ['Freq','SaleAmount','ElapsedDays'])\n",
    "plt.show()"
   ]
  },
  {
   "cell_type": "markdown",
   "id": "9d08216d",
   "metadata": {
    "id": "9d08216d"
   },
   "source": [
    "--------------------------------"
   ]
  },
  {
   "cell_type": "markdown",
   "id": "edd3075f",
   "metadata": {
    "id": "edd3075f"
   },
   "source": [
    "- 로그함수의 성질\n"
   ]
  },
  {
   "cell_type": "code",
   "execution_count": null,
   "id": "2199ddf0",
   "metadata": {
    "id": "2199ddf0"
   },
   "outputs": [],
   "source": [
    "from matplotlib import font_manager\n",
    "\n",
    "for i in font_manager.fontManager.ttflist:\n",
    "    if 'Malgun Gothic' in i.name:\n",
    "        print(i.name, i.fname)"
   ]
  },
  {
   "cell_type": "code",
   "execution_count": null,
   "id": "7c2726d8",
   "metadata": {
    "id": "7c2726d8"
   },
   "outputs": [],
   "source": [
    "import numpy as np\n",
    "\n",
    "# 로그함수\n",
    "xx = np.linspace(0.01, 8, 100)\n",
    "yy = np.log(xx)\n",
    "plt.title(\"log function\")\n",
    "plt.plot(xx, yy)\n",
    "plt.axhline(0, c='r', ls=\"--\")\n",
    "plt.axvline(0, c='r', ls=\"--\")\n",
    "plt.axvline(1, c='r', ls=\"--\")\n",
    "plt.xlabel(\"$x$\")\n",
    "plt.ylabel(\"$\\log(x)$\")\n",
    "plt.show()"
   ]
  },
  {
   "cell_type": "markdown",
   "id": "bf3e419f",
   "metadata": {
    "id": "bf3e419f"
   },
   "source": [
    "- 어떤 함수에 로그를 적용해도 함수의 최고점, 최저점의 위치는 변하지 않는다.\n",
    " > arg max f(x) = arg max logf(x)"
   ]
  },
  {
   "cell_type": "code",
   "execution_count": null,
   "id": "d388b6e7",
   "metadata": {
    "id": "d388b6e7",
    "scrolled": true
   },
   "outputs": [],
   "source": [
    "def ff(x):\n",
    "    return x**3 - 12*x + 20 * np.sin(x) + 7\n",
    "\n",
    "xx = np.linspace(-4, 4, 300)\n",
    "yy = ff(xx)\n",
    "\n",
    "plt.subplot(211)     # 2행 1열 첫번째\n",
    "plt.plot(xx, yy)\n",
    "plt.axhline(1, c='r', ls='--')\n",
    "plt.yticks([0, 1, 5, 10])\n",
    "plt.ylim(-2, 15)\n",
    "plt.title('$f(x)$')\n",
    "\n",
    "plt.subplot(212)     # 2행 1열 두번째\n",
    "plt.plot(xx, np.log(yy))\n",
    "plt.axhline(1, c='r', ls='--')\n",
    "plt.title('$log f(x)$')\n",
    "\n",
    "plt.tight_layout()\n",
    "plt.show()"
   ]
  },
  {
   "cell_type": "markdown",
   "id": "55ee9372",
   "metadata": {
    "id": "55ee9372"
   },
   "source": [
    "- 로그함수는 0~1사이의 작은 값을 확대시켜 보여준다."
   ]
  },
  {
   "cell_type": "code",
   "execution_count": null,
   "id": "5c1a2352",
   "metadata": {
    "id": "5c1a2352",
    "scrolled": true
   },
   "outputs": [],
   "source": [
    "np.random.seed(0)\n",
    "x = np.random.rand(5)\n",
    "x = x / x.sum()\n",
    "print(x)\n",
    "\n",
    "plt.subplot(211)\n",
    "plt.title('0, 1 사이 숫자들의 $\\log$ 변환')\n",
    "plt.bar(range(1,6), x)\n",
    "plt.ylim(0, 1)\n",
    "plt.ylabel('x')\n",
    "\n",
    "plt.subplot(212)\n",
    "plt.bar(range(1,6), np.log(x))\n",
    "plt.ylabel('log x')\n",
    "\n",
    "plt.show()"
   ]
  },
  {
   "cell_type": "markdown",
   "id": "ffeb34f0",
   "metadata": {
    "id": "ffeb34f0"
   },
   "source": [
    "-------------------"
   ]
  },
  {
   "cell_type": "markdown",
   "id": "a194c184",
   "metadata": {
    "id": "a194c184"
   },
   "source": [
    "- **로그함수를 이용하여 값의 분포를 고르게 조정한다.**\n",
    "> x가 0의 값을 가지면 무한대가 되므로 이를 해결하기 위한 방법으로 x대신 x+1을 해준다.<br>\n",
    "> np.log(값) --> np.log(1+값) --> np.log1p() 사용한다"
   ]
  },
  {
   "cell_type": "code",
   "execution_count": null,
   "id": "a136112c",
   "metadata": {
    "id": "a136112c"
   },
   "outputs": [],
   "source": [
    "# 로그함수를 이용하여 값의 분포 고르게 조정\n",
    "import numpy as np\n",
    "\n",
    "customer_df['SaleAmount_log'] = np.log1p(customer_df.SaleAmount)\n",
    "customer_df['Freq_log'] = np.log1p(customer_df.Freq)\n",
    "customer_df['ElapsedDays_log'] = np.log1p(customer_df.ElapsedDays)\n",
    "customer_df.head(2)"
   ]
  },
  {
   "cell_type": "code",
   "execution_count": null,
   "id": "83420969",
   "metadata": {
    "id": "83420969",
    "scrolled": true
   },
   "outputs": [],
   "source": [
    "import matplotlib.pyplot as plt\n",
    "\n",
    "plt.figure(figsize=(12, 5)) #그래프 크기(인치)\n",
    "\n",
    "plt.subplot(121)\n",
    "plt.boxplot([customer_df.Freq, customer_df.SaleAmount, customer_df.ElapsedDays],\n",
    "           sym='bo')\n",
    "plt.xticks([1,2,3], ['Freq','SaleAmount','ElapsedDays'])\n",
    "plt.title('Before')\n",
    "\n",
    "\n",
    "# 아웃레이어가 줄고 비교적 균형잡힌 모양이 된다.\n",
    "plt.subplot(122)\n",
    "plt.boxplot([customer_df.Freq_log, customer_df.SaleAmount_log, customer_df.ElapsedDays_log],\n",
    "           sym='bo')\n",
    "plt.xticks([1,2,3], ['Freq_log','SaleAmount_log','ElapsedDays_log'])\n",
    "plt.title('After')\n",
    "\n",
    "plt.show()"
   ]
  },
  {
   "cell_type": "markdown",
   "id": "235a5727",
   "metadata": {
    "id": "235a5727"
   },
   "source": [
    "---------"
   ]
  },
  {
   "cell_type": "markdown",
   "id": "6ac79b4f",
   "metadata": {
    "id": "6ac79b4f"
   },
   "source": [
    "## 3. 모델링"
   ]
  },
  {
   "cell_type": "markdown",
   "id": "d39c0ce7",
   "metadata": {
    "id": "d39c0ce7"
   },
   "source": [
    "### 분석모델(ML모델) 적용 : K-평균 군집화 모델 이용\n",
    "\n",
    "- **K-Means 알고리즘** : 데이터를 K개의 군집(Cluster)으로 묶는(Clusting) 알고리즘으로 비슷한 특성을 지닌 데이터들끼리 묶어 K개의 군집으로 세분화하는 기법\n",
    "- **군집(Cluster)** : 비슷한 특성을 지닌 데이터들을 모아놓은 그룹(Group)\n",
    "- **평균(mean)** : 군집에 배정할 때 각 군집의 중심점(Centroid)과 데이터들의 평균(mean) 유클리드 거리를 계산하여 가장 가까운 군집에 배정함"
   ]
  },
  {
   "cell_type": "markdown",
   "id": "36e71e8c",
   "metadata": {
    "id": "36e71e8c"
   },
   "source": [
    "### K-Means 알고리즘의 원리\n",
    " Step 1). 군집의 개수(K) 설정 <br>\n",
    " Step 2). 초기 중심점 설정 <br>\n",
    " Step 3). 데이터를 군집에 할당(배정) <br>\n",
    " Step 4). 중심점 재설정(갱신) <br>\n",
    " Step 5). 데이터를 군집에 재할당(배정) <br>\n",
    " ** Step5->Step4 중심점의 위치가 더 이상 변하지 않을 때까지 5단계에서 다시 4단계로 가면서 반복시행한다."
   ]
  },
  {
   "cell_type": "markdown",
   "id": "f63cfefb",
   "metadata": {
    "id": "f63cfefb"
   },
   "source": [
    " Step 1). 군집의 개수(K) 설정\n",
    "군집의 개수 설정 방법론\n",
    "  - 1) Rule of thumnb\n",
    "  - 2) **Elbow Method**\n",
    "  - 3) 정보 기준 접근법(Information Criterion Approach)"
   ]
  },
  {
   "cell_type": "markdown",
   "id": "ed3da6d8",
   "metadata": {
    "id": "ed3da6d8"
   },
   "source": [
    " Step 2). 초기 중심점 설정\n",
    "  - 1) Randomly select\n",
    "  - 2) Manually assign\n",
    "  - 3) **K-means++**"
   ]
  },
  {
   "cell_type": "markdown",
   "id": "9e7878d8",
   "metadata": {
    "id": "9e7878d8"
   },
   "source": [
    " Step 3). 데이터를 군집에 할당(배정) <br>\n",
    "거리 상 가장 가까운 군집(중심점)으로 주어진 모든 데이터를 할당 또는 배정한다"
   ]
  },
  {
   "cell_type": "markdown",
   "id": "f3446693",
   "metadata": {
    "id": "f3446693"
   },
   "source": [
    " Step 4). 중심점 재설정(갱신) <br>\n",
    "모든 주어진 데이터의 군집 배정이 끝나면 군집의 중심점(Centroid)을 그 군집의 속하는 데이터들의 가장 중간(평균)에 위치한 지점으로 재설정한다    "
   ]
  },
  {
   "cell_type": "markdown",
   "id": "200b3f70",
   "metadata": {
    "id": "200b3f70"
   },
   "source": [
    " Step 5). 데이터를 군집에 재할당(배정)<br>\n",
    "step 3에서 했던 방법과 똑같이 시행하며, 더 이상 중심점의 이동이 없을 때까지 step 4와 step 5를 반복한다."
   ]
  },
  {
   "cell_type": "markdown",
   "id": "c1LTbNQnqBpK",
   "metadata": {
    "id": "c1LTbNQnqBpK"
   },
   "source": [
    "### 3-1. 학습용 데이터 준비"
   ]
  },
  {
   "cell_type": "code",
   "execution_count": null,
   "id": "B7di1tqRqRTF",
   "metadata": {
    "id": "B7di1tqRqRTF"
   },
   "outputs": [],
   "source": [
    "customer_df.head()"
   ]
  },
  {
   "cell_type": "markdown",
   "id": "eddb33d1",
   "metadata": {
    "id": "eddb33d1"
   },
   "source": [
    "### 3-2. 모델 적용\n",
    "- **K-means** 군집 알고리즘과 군집 평가지표인 **실루엣 계수**(Silhouette Coefficient) 이용\n",
    "-  알고리즘 학습에 사용할 **X_features 지정**하기('Freq_log','SaleAmount_log','ElapsedDays_log')\n",
    "- X_features를 **정규분포로 스케일링**한다.\n",
    "- 참고: 실루엣 계수 설명(https://studying-haeung.tistory.com/10)"
   ]
  },
  {
   "cell_type": "markdown",
   "id": "011ea9cc",
   "metadata": {
    "id": "011ea9cc"
   },
   "source": [
    "#### 1) 독립변수(X_feature)를 정규 분포로 스케일링하기"
   ]
  },
  {
   "cell_type": "code",
   "execution_count": null,
   "id": "023930fa",
   "metadata": {
    "id": "023930fa"
   },
   "outputs": [],
   "source": [
    "from sklearn.cluster import KMeans\n",
    "from sklearn.metrics import silhouette_score, silhouette_samples\n",
    "from sklearn.preprocessing import StandardScaler\n",
    "\n",
    "\n",
    "X_features = customer_df[['Freq_log','SaleAmount_log','ElapsedDays_log']].values\n",
    "\n",
    "\n",
    "# 정규분포로 스케일링한다.\n",
    "X_features_scaled = StandardScaler().fit_transform(X_features)"
   ]
  },
  {
   "cell_type": "code",
   "execution_count": null,
   "id": "b48b783e",
   "metadata": {
    "id": "b48b783e",
    "scrolled": true
   },
   "outputs": [],
   "source": [
    "tmp = pd.DataFrame(X_features_scaled)\n",
    "tmp\n",
    "# tmp.info()"
   ]
  },
  {
   "cell_type": "markdown",
   "id": "584bb7d4",
   "metadata": {
    "id": "584bb7d4"
   },
   "source": [
    "#### 2) 군집의 개수(K) 설정 : 엘보 방법(Elbow Method)\n",
    "- 클러스터 개수를 1~10까지 변화시키면서 왜곡의 크기 변화를 그래프로 나타내어 엘보 지점 찾는다.\n",
    "- Cluster 간의 거리의 합을 나타내는 inertia가 급격히 떨어지는 구간이 생기는데 이 지점의 K 값을 군집의 개수로 사용\n",
    "- inertia_속성으로 확인할 수 있다"
   ]
  },
  {
   "cell_type": "code",
   "execution_count": null,
   "id": "448e1b3e",
   "metadata": {
    "id": "448e1b3e"
   },
   "outputs": [],
   "source": [
    "#!pip install numpy==1.21.4"
   ]
  },
  {
   "cell_type": "code",
   "execution_count": null,
   "id": "0aa041e3",
   "metadata": {
    "id": "0aa041e3"
   },
   "outputs": [],
   "source": [
    "# 만약 kmeans_i.fit()부분에서 numpy 오류가 나면\n",
    "# numpy 버전을 1.21.4로 설치한다.\n",
    "\n",
    "distortions = []  # 왜곡의 크기 값\n",
    "\n",
    "for i in range(1, 11):\n",
    "    kmeans_i = KMeans(n_clusters=i, random_state=0)  # 모델 생성\n",
    "    kmeans_i.fit(X_features_scaled)                 # 모델 훈련\n",
    "    distortions.append(kmeans_i.inertia_)           # inertia value:군집의 응집도(낮을 수록 응집도 높다)\n",
    "\n",
    "plt.plot(range(1,11), distortions, marker='o')\n",
    "plt.xlabel('Number of cluster')\n",
    "plt.ylabel('Distortion')\n",
    "plt.show()"
   ]
  },
  {
   "cell_type": "markdown",
   "id": "e4b25401",
   "metadata": {
    "id": "e4b25401"
   },
   "source": [
    "#### 3) 군집의 개수(K=3) 설정하여 모델 생성하기"
   ]
  },
  {
   "cell_type": "code",
   "execution_count": null,
   "id": "37d94cc3",
   "metadata": {
    "id": "37d94cc3",
    "scrolled": true
   },
   "outputs": [],
   "source": [
    "# 모델 생성\n",
    "k = 3\n",
    "kmeans = KMeans(n_clusters=k, random_state=0)\n",
    "\n",
    "\n",
    "# 모델 학습 & 결과 예측(-->클러스터 레이블 생성)\n",
    "Y_labels = kmeans.fit_predict(X_features_scaled)\n",
    "\n",
    "# ClusterdLable 컬럼 신규 생성\n",
    "customer_df['ClusterdLable'] = Y_labels\n",
    "customer_df.head()"
   ]
  },
  {
   "cell_type": "markdown",
   "id": "37db1fcf",
   "metadata": {
    "id": "37db1fcf"
   },
   "source": [
    "### 3-3.결과 분석 및 시각화"
   ]
  },
  {
   "cell_type": "markdown",
   "id": "c293b542",
   "metadata": {
    "id": "c293b542"
   },
   "source": [
    "#### 1). 클러스터의 비중가 데이터 분포를 차트로 시각화하기\n",
    "- 최적의 클러스터 수(K)를 찾기 위해 그래프로 확인한다."
   ]
  },
  {
   "cell_type": "code",
   "execution_count": null,
   "id": "e2f921b4",
   "metadata": {
    "id": "e2f921b4"
   },
   "outputs": [],
   "source": [
    "# 실루엣 계수를 구하고 막대 그래프로 시각화하기\n",
    "from matplotlib import cm\n",
    "\n",
    "def silhouetteViz(n_cluster, X_features):\n",
    "    kmeans = KMeans(n_clusters=n_cluster, random_state=0)\n",
    "    Y_labels = kmeans.fit_predict(X_features)\n",
    "\n",
    "    silhouette_values = silhouette_samples(X_features, Y_labels, metric='euclidean')\n",
    "\n",
    "    y_ax_lower, y_ax_upper = 0, 0\n",
    "    y_ticks = []\n",
    "\n",
    "    for c in range(n_cluster):\n",
    "        c_silhouettes = silhouette_values[Y_labels==c]\n",
    "        c_silhouettes.sort()\n",
    "        y_ax_upper += len(c_silhouettes)\n",
    "        color = cm.jet(float(c) / n_cluster)\n",
    "        plt.barh(range(y_ax_lower, y_ax_upper), c_silhouettes,\n",
    "                height=1.0, edgecolor='none', color=color)\n",
    "        y_ticks.append((y_ax_lower + y_ax_upper) / 2.)\n",
    "        y_ax_lower += len(c_silhouettes)\n",
    "\n",
    "    silhouette_avg = np.mean(silhouette_values)\n",
    "    plt.axvline(silhouette_avg, color='red', linestyle='--')\n",
    "    plt.title(f'Number of Cluster:{str(n_cluster)}\\nSilhouette_Score:{str(round(silhouette_avg,3))}')\n",
    "    plt.yticks(y_ticks, range(n_cluster))\n",
    "    plt.xticks([0,0.2,0.4,0.6,0.8,1])\n",
    "    plt.ylabel('Cluster')\n",
    "    plt.xlabel('Silhouette Coefficient')\n",
    "    plt.tight_layout()\n",
    "    plt.show()"
   ]
  },
  {
   "cell_type": "code",
   "execution_count": null,
   "id": "e379a0ad",
   "metadata": {
    "id": "e379a0ad"
   },
   "outputs": [],
   "source": [
    "# 클러스터에 대한 데이터 분포를 산포도로 시각화하기\n",
    "def clusterScatter(n_cluster, X_features):\n",
    "    c_colors = []\n",
    "\n",
    "    kmeans = KMeans(n_clusters=n_cluster, random_state=0)\n",
    "    Y_labels = kmeans.fit_predict(X_features)\n",
    "\n",
    "    for i in range(n_cluster):\n",
    "        c_color = cm.jet(float(i) / n_cluster) # 클러스터의 색상 설정(RGB스펙트럼)\n",
    "        c_colors.append(c_color)\n",
    "\n",
    "        #클러스터의 데이터 분포를 동그라미로 시각화\n",
    "        plt.scatter(X_features[Y_labels==i, 0], X_features[Y_labels==i, 1],\n",
    "                   marker='o', color=c_color, edgecolor='black', s=50,\n",
    "                   label=f'cluster {str(i)}')\n",
    "\n",
    "    # 각 클러스터의 중심점을 삼각형으로 표시\n",
    "    for i in range(n_cluster):\n",
    "        plt.scatter(kmeans.cluster_centers_[i,0], kmeans.cluster_centers_[i,1],\n",
    "                   marker='^', color=c_colors[i], edgecolor='w', s=200)\n",
    "\n",
    "    plt.xlabel('SalesAmount')\n",
    "    plt.ylabel('Freq')\n",
    "    plt.legend()\n",
    "    plt.grid()\n",
    "    plt.tight_layout()\n",
    "    plt.show()"
   ]
  },
  {
   "cell_type": "code",
   "execution_count": null,
   "id": "118afa24",
   "metadata": {
    "id": "118afa24"
   },
   "outputs": [],
   "source": [
    "# silhouetteViz()함수 호출하여 클러스터의 비중과 데이터 분포 시각화 하기\n",
    "# 실루엣 계수가 1에 가까운 것으로 채택한다.\n",
    "silhouetteViz(3, X_features_scaled)"
   ]
  },
  {
   "cell_type": "code",
   "execution_count": null,
   "id": "cf40c6e2",
   "metadata": {
    "id": "cf40c6e2"
   },
   "outputs": [],
   "source": [
    "silhouetteViz(4, X_features_scaled)"
   ]
  },
  {
   "cell_type": "code",
   "execution_count": null,
   "id": "0423f45d",
   "metadata": {
    "id": "0423f45d"
   },
   "outputs": [],
   "source": [
    "silhouetteViz(5, X_features_scaled)"
   ]
  },
  {
   "cell_type": "code",
   "execution_count": null,
   "id": "b37564c9",
   "metadata": {
    "id": "b37564c9"
   },
   "outputs": [],
   "source": [
    "clusterScatter(3, X_features_scaled)"
   ]
  },
  {
   "cell_type": "code",
   "execution_count": null,
   "id": "5ab0dfa7",
   "metadata": {
    "id": "5ab0dfa7",
    "scrolled": true
   },
   "outputs": [],
   "source": [
    "clusterScatter(4, X_features_scaled)"
   ]
  },
  {
   "cell_type": "code",
   "execution_count": null,
   "id": "cfc7a830",
   "metadata": {
    "id": "cfc7a830"
   },
   "outputs": [],
   "source": [
    "clusterScatter(5, X_features_scaled)"
   ]
  },
  {
   "cell_type": "markdown",
   "id": "3903b415",
   "metadata": {
    "id": "3903b415"
   },
   "source": [
    "#### 2) 최종 클러스터 K=4 반영하여 고객군 파일로 저장하기\n",
    "- 최적의 클러스터 수(K=4) 모델에 반영하기"
   ]
  },
  {
   "cell_type": "code",
   "execution_count": null,
   "id": "c042153a",
   "metadata": {
    "id": "c042153a"
   },
   "outputs": [],
   "source": [
    "# 모델 생성\n",
    "k = 4\n",
    "kmeans = KMeans(n_clusters=k, random_state=0)\n",
    "# 모델 학습 & 결과 예측(-->클러스터 레이블 생성)\n",
    "Y_labels = kmeans.fit_predict(X_features_scaled)\n",
    "\n",
    "customer_df['ClusterdLable'] = Y_labels\n",
    "customer_df.head()"
   ]
  },
  {
   "cell_type": "markdown",
   "id": "a4459850",
   "metadata": {
    "id": "a4459850"
   },
   "source": [
    "- **군집된 결과 파일로 저장하기**"
   ]
  },
  {
   "cell_type": "code",
   "execution_count": null,
   "id": "2f335d8a",
   "metadata": {
    "id": "2f335d8a"
   },
   "outputs": [],
   "source": [
    "customer_df.to_csv('./Online_Retail_Clusterd.csv')"
   ]
  },
  {
   "cell_type": "markdown",
   "id": "c5fdd1e1",
   "metadata": {
    "id": "c5fdd1e1"
   },
   "source": [
    "- **군집된 고객 그룹 통계 확인하기**"
   ]
  },
  {
   "cell_type": "code",
   "execution_count": null,
   "id": "ce631b43",
   "metadata": {
    "id": "ce631b43"
   },
   "outputs": [],
   "source": [
    "customer_df.reset_index(drop=False, inplace=True)\n",
    "customer_df.groupby('ClusterdLable')['CustomerID'].count()"
   ]
  },
  {
   "cell_type": "markdown",
   "id": "9696a2da",
   "metadata": {
    "id": "9696a2da"
   },
   "source": [
    "----------------------------"
   ]
  },
  {
   "cell_type": "markdown",
   "id": "1b95a21d",
   "metadata": {
    "id": "1b95a21d"
   },
   "source": [
    "## [실습] 게임 이용 고객 클러스터링"
   ]
  },
  {
   "cell_type": "code",
   "execution_count": null,
   "id": "f24c41d0",
   "metadata": {
    "id": "f24c41d0"
   },
   "outputs": [],
   "source": [
    "import numpy as np\n",
    "import pandas as pd\n",
    "import matplotlib.pyplot as plt\n",
    "\n",
    "customer_df = pd.read_csv('./game_usage.csv')\n",
    "customer_df"
   ]
  },
  {
   "cell_type": "code",
   "execution_count": null,
   "id": "3eGSO51bq7pq",
   "metadata": {
    "id": "3eGSO51bq7pq"
   },
   "outputs": [],
   "source": [
    "customer_df.info()\n",
    "\n",
    "X = customer_df['time spent']\n",
    "Y = customer_df['game level']\n",
    "\n",
    "plt.scatter(X, Y)\n",
    "plt.xlabel('time spent')\n",
    "plt.ylabel('game level')\n",
    "plt.show()"
   ]
  },
  {
   "cell_type": "markdown",
   "id": "5c272cdb",
   "metadata": {
    "id": "5c272cdb"
   },
   "source": [
    "#### 독립변수(X_feature)를 정규 분포로 스케일링하기"
   ]
  },
  {
   "cell_type": "code",
   "execution_count": null,
   "id": "63bbd9d4",
   "metadata": {
    "id": "63bbd9d4"
   },
   "outputs": [],
   "source": [
    "# 독립변수(X_feature)를 정규 분포로 스케일링하기\n",
    "from sklearn.cluster import KMeans\n",
    "from sklearn.metrics import silhouette_score, silhouette_samples\n",
    "\n",
    "X_features = customer_df[['time spent','game level']].values\n",
    "\n",
    "# 정규분포로 스케일링한다.\n",
    "from sklearn.preprocessing import StandardScaler\n",
    "X_features_scaled = StandardScaler().fit_transform(X_features)"
   ]
  },
  {
   "cell_type": "markdown",
   "id": "b9351db5",
   "metadata": {
    "id": "b9351db5"
   },
   "source": [
    "#### k개수 지정하기 이해 왜곡 곡선 확인하기"
   ]
  },
  {
   "cell_type": "code",
   "execution_count": null,
   "id": "ab3e3ab2",
   "metadata": {
    "id": "ab3e3ab2",
    "scrolled": true
   },
   "outputs": [],
   "source": [
    "distortions = []  # 왜곡의 크기 값\n",
    "\n",
    "for i in range(1, 11):\n",
    "    kmeans_i = KMeans(n_clusters=i, random_state=0)  # 모델 생성\n",
    "    kmeans_i.fit(X_features_scaled)                 # 모델 훈련\n",
    "    distortions.append(kmeans_i.inertia_)           # inertia value:군집의 응집도(낮을 수록 응집도 높다)\n",
    "\n",
    "plt.plot(range(1,11), distortions, marker='o')\n",
    "plt.xlabel('Number of cluster')\n",
    "plt.ylabel('Distortion')\n",
    "plt.show()"
   ]
  },
  {
   "cell_type": "markdown",
   "id": "f5796e41",
   "metadata": {
    "id": "f5796e41"
   },
   "source": [
    "#### K-mean 군집 모델 생성하기"
   ]
  },
  {
   "cell_type": "code",
   "execution_count": null,
   "id": "8cb43a7e",
   "metadata": {
    "id": "8cb43a7e"
   },
   "outputs": [],
   "source": [
    "# 모델 생성\n",
    "k = 5\n",
    "kmeans = KMeans(n_clusters=k, random_state=0)\n",
    "# 모델 학습 & 결과 예측(-->클러스터 레이블 생성)\n",
    "Y_labels = kmeans.fit_predict(X_features_scaled)\n",
    "\n",
    "customer_df['ClusterdLable'] = Y_labels\n",
    "customer_df.head()"
   ]
  },
  {
   "cell_type": "markdown",
   "id": "54225331",
   "metadata": {
    "id": "54225331"
   },
   "source": [
    "- **실루엣 계수와 데이터 분포 그래프로 시각화하기**"
   ]
  },
  {
   "cell_type": "code",
   "execution_count": null,
   "id": "c980b1d7",
   "metadata": {
    "id": "c980b1d7"
   },
   "outputs": [],
   "source": [
    "silhouetteViz(4, X_features_scaled)"
   ]
  },
  {
   "cell_type": "code",
   "execution_count": null,
   "id": "2007b7f0",
   "metadata": {
    "id": "2007b7f0"
   },
   "outputs": [],
   "source": [
    "silhouetteViz(5, X_features_scaled)"
   ]
  },
  {
   "cell_type": "code",
   "execution_count": null,
   "id": "7bd3711a",
   "metadata": {
    "id": "7bd3711a"
   },
   "outputs": [],
   "source": [
    "silhouetteViz(6, X_features_scaled)"
   ]
  },
  {
   "cell_type": "code",
   "execution_count": null,
   "id": "a953fc71",
   "metadata": {
    "id": "a953fc71"
   },
   "outputs": [],
   "source": [
    "silhouetteViz(7, X_features_scaled)"
   ]
  },
  {
   "cell_type": "code",
   "execution_count": null,
   "id": "847b010d",
   "metadata": {
    "id": "847b010d",
    "scrolled": true
   },
   "outputs": [],
   "source": [
    "clusterScatter(5, X_features_scaled)"
   ]
  },
  {
   "cell_type": "code",
   "execution_count": null,
   "id": "c35a76c1",
   "metadata": {
    "id": "c35a76c1",
    "scrolled": true
   },
   "outputs": [],
   "source": [
    "clusterScatter(6, X_features_scaled)"
   ]
  },
  {
   "cell_type": "markdown",
   "id": "b36bf780",
   "metadata": {
    "id": "b36bf780"
   },
   "source": [
    "- **최적의 K=6 반영하여 고객 군집하기**"
   ]
  },
  {
   "cell_type": "code",
   "execution_count": null,
   "id": "0cf1ba03",
   "metadata": {
    "id": "0cf1ba03",
    "scrolled": true
   },
   "outputs": [],
   "source": [
    "# 모델 생성\n",
    "k = 6\n",
    "kmeans = KMeans(n_clusters=k, random_state=0)\n",
    "# 모델 학습 & 결과 예측(-->클러스터 레이블 생성)\n",
    "Y_labels = kmeans.fit_predict(X_features_scaled)\n",
    "\n",
    "customer_df['ClusterdLable'] = Y_labels\n",
    "customer_df"
   ]
  },
  {
   "cell_type": "markdown",
   "id": "5a159e51",
   "metadata": {
    "id": "5a159e51"
   },
   "source": [
    "- **군집된 고객 파일로 저장히기**"
   ]
  },
  {
   "cell_type": "code",
   "execution_count": null,
   "id": "974f2746",
   "metadata": {
    "id": "974f2746"
   },
   "outputs": [],
   "source": [
    "customer_df.to_csv('./game_usage_Clusterd.csv')"
   ]
  },
  {
   "cell_type": "markdown",
   "id": "8b4c6ef3",
   "metadata": {
    "id": "8b4c6ef3"
   },
   "source": [
    "- **군집된 고객 그룹 통계 확인하기**"
   ]
  },
  {
   "cell_type": "code",
   "execution_count": null,
   "id": "aa70022e",
   "metadata": {
    "id": "aa70022e"
   },
   "outputs": [],
   "source": [
    "customer_df.groupby('ClusterdLable').count()"
   ]
  },
  {
   "cell_type": "markdown",
   "id": "x_320aZjtNHV",
   "metadata": {
    "id": "x_320aZjtNHV"
   },
   "source": [
    "\n",
    "\n",
    "---\n",
    "\n"
   ]
  }
 ],
 "metadata": {
  "colab": {
   "provenance": []
  },
  "kernelspec": {
   "display_name": "Python 3 (ipykernel)",
   "language": "python",
   "name": "python3"
  },
  "language_info": {
   "codemirror_mode": {
    "name": "ipython",
    "version": 3
   },
   "file_extension": ".py",
   "mimetype": "text/x-python",
   "name": "python",
   "nbconvert_exporter": "python",
   "pygments_lexer": "ipython3",
   "version": "3.12.1"
  }
 },
 "nbformat": 4,
 "nbformat_minor": 5
}
