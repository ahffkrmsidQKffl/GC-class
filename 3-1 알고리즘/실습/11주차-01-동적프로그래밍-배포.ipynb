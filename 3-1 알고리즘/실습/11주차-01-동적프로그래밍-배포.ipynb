{
 "cells": [
  {
   "cell_type": "markdown",
   "id": "f44bcd12",
   "metadata": {},
   "source": [
    "# 11주차 : 동적 프로그래밍(Dynamic Programming DP) 알고리즘"
   ]
  },
  {
   "cell_type": "markdown",
   "id": "f88f6bf7",
   "metadata": {},
   "source": [
    "- <a href=\"#1.동적프로그래밍개념\">1. 동적 프로그래밍 개념</a>\n",
    "- <a href=\"#2.기본 원리와 구조\">2. 기본 원리와 구조</a>\n",
    "- <a href=\"#3.동적프로그래밍예제\">3. 동적 프로그래밍 예제</a>"
   ]
  },
  {
   "cell_type": "markdown",
   "id": "d9719ece",
   "metadata": {},
   "source": [
    "------------------------------"
   ]
  },
  {
   "cell_type": "markdown",
   "id": "e6e94c54",
   "metadata": {},
   "source": [
    "## <a name=\"1.동적프로그래밍개념\">1. 동적 프로그래밍 개념</a>"
   ]
  },
  {
   "cell_type": "markdown",
   "id": "898c4a1d-0da5-4854-85ce-ee529f7fd743",
   "metadata": {},
   "source": [
    "### 1-1.동적 프로그래밍의 필요성\n",
    "- 피보나치 수열 표현 (중복 계산의 문제)"
   ]
  },
  {
   "cell_type": "code",
   "execution_count": 58,
   "id": "175d7fe3-99f2-493e-a4f9-0d5a90315f13",
   "metadata": {},
   "outputs": [
    {
     "data": {
      "text/plain": [
       "55"
      ]
     },
     "execution_count": 58,
     "metadata": {},
     "output_type": "execute_result"
    }
   ],
   "source": [
    "def fibonacci(n):\n",
    "    if n <= 1:\n",
    "        return n\n",
    "    return fibonacci(n-1) + fibonacci(n-2)    # 중복 문제가 발생할 수 있다\n",
    "fibonacci(10)\n"
   ]
  },
  {
   "cell_type": "markdown",
   "id": "3b9a266e-dca1-45aa-bed0-508f4c1148ec",
   "metadata": {},
   "source": [
    "- 메모이제이션(memorization) 방법 사용 : Top-down 방식"
   ]
  },
  {
   "cell_type": "code",
   "execution_count": 59,
   "id": "af33d5f2-d6ec-414c-b294-28499b6c114c",
   "metadata": {},
   "outputs": [
    {
     "data": {
      "text/plain": [
       "55"
      ]
     },
     "execution_count": 59,
     "metadata": {},
     "output_type": "execute_result"
    }
   ],
   "source": [
    "def fibonacci(n):\n",
    "    # -메모이제이션-\n",
    "    mem = [None] * (n+1)\n",
    "    if mem[n] == None:  # 처음 푸는 문제이면, \n",
    "        if n <= 1:      # 풀어서 메모리에 저장함\n",
    "            mem[n] = n\n",
    "        else:\n",
    "            mem[n] =  fibonacci(n-1) + fibonacci(n-2)\n",
    "    return mem[n] \n",
    "fibonacci(10)\n"
   ]
  },
  {
   "cell_type": "markdown",
   "id": "454870b7-34d0-4516-a324-46232dd364ee",
   "metadata": {},
   "source": [
    "- 중복 문제를 해결한 방법(선형시간에 끝나는 방법 )"
   ]
  },
  {
   "cell_type": "code",
   "execution_count": 60,
   "id": "1fa41933-f008-4534-9b46-7b6ff2c193aa",
   "metadata": {},
   "outputs": [
    {
     "data": {
      "text/plain": [
       "55"
      ]
     },
     "execution_count": 60,
     "metadata": {},
     "output_type": "execute_result"
    }
   ],
   "source": [
    "def fibonacci(n):\n",
    "    # -메모이제이션-\n",
    "    \n",
    "\n",
    "    # -점화식-\n",
    "    \n",
    "\n",
    "    \n",
    "fibonacci(10)\n"
   ]
  },
  {
   "cell_type": "code",
   "execution_count": 61,
   "id": "f5d86542-4442-4103-98a2-63991ff3105e",
   "metadata": {},
   "outputs": [
    {
     "data": {
      "text/plain": [
       "55"
      ]
     },
     "execution_count": 61,
     "metadata": {},
     "output_type": "execute_result"
    }
   ],
   "source": [
    "def fibonacci(n):\n",
    "    fib = [0, 1]  # 0번째와 1번째 피보나치 수를 미리 계산\n",
    "    for i in range(2, n+1):\n",
    "        fib.append(fib[i-1] + fib[i-2])        \n",
    "    return fib[n]\n",
    "fibonacci(10)\n"
   ]
  },
  {
   "cell_type": "markdown",
   "id": "7a83f90b-cd31-47f9-acce-22e93992aca9",
   "metadata": {},
   "source": [
    "--------------"
   ]
  },
  {
   "cell_type": "markdown",
   "id": "1e6e806a-579c-4a9c-8937-a5e59201de3f",
   "metadata": {},
   "source": [
    "## <a name=\"2.기본 원리와 구조\">2. 기본 원리와 구조</a>"
   ]
  },
  {
   "cell_type": "markdown",
   "id": "0e24819c-7911-48e7-977f-ab77137b6e22",
   "metadata": {},
   "source": [
    "----"
   ]
  },
  {
   "cell_type": "markdown",
   "id": "61290070-d884-4751-8b18-42a9668202d6",
   "metadata": {},
   "source": [
    "## <a name=\"3.동적프로그래밍예제\">3. 동적 프로그래밍 예제</a>"
   ]
  },
  {
   "cell_type": "markdown",
   "id": "5f415586-228c-42e5-a45f-0565b2b37d4a",
   "metadata": {},
   "source": [
    "### 3-1.최장 공통 부분순서(LCS Longest Common Subsequence)\n",
    "* 두 문자열에 공통적으로 들어있는 공통 부분순서 중 가장 긴 것을 찾는 것\n",
    "* 부분순서의 예\n",
    "    - <bcdb>는 문자열 <abcbdab>의 부분순서\n",
    "* 공통 부분순서의 예\n",
    "    - <bca>는 문자열 <abcbdab>와 <bdcaba>의 공통 부분순서\n",
    "* 최장 공통 부분순서(Longest Common Subsequence LCS)\n",
    "    - 공통 부분순서들 중 가장 긴 것\n",
    "    - 예: <bcba>- 는 문자열 <abcbdab>와 <bdcaba>의 최장 공통 부분순서"
   ]
  },
  {
   "cell_type": "markdown",
   "id": "6afcd6f7-12a9-4107-865c-893a232467d5",
   "metadata": {},
   "source": [
    "#### 3-1-1.LCS의 길이 (분할 정복 알고리즘)"
   ]
  },
  {
   "cell_type": "code",
   "execution_count": 62,
   "id": "e4b79c0c-da72-4e8b-b46b-f4c12bbdc00d",
   "metadata": {},
   "outputs": [],
   "source": [
    "def lcs_recur(X, Y, m, n): \n",
    "    if m == 0 or n == 0: \t\t# base case \n",
    "        return 0 \n",
    "    elif X[m-1] == Y[n-1]: \t\t# case 1: x_m == y_n \n",
    "                                # 마지막 문자가 같으면 이를 제외하고 계산한 다음 1을 더한 값이 OK\n",
    "        return 1 + lcs_recur(X, Y, m-1, n-1) \n",
    "    else: \t\t\t\t\t\t# case 2\n",
    "                                # 마지막 문자가 서로 다르면, 두 가지를 계산해보고 더 큰쪽이 OK\n",
    "        return max(lcs_recur(X, Y, m, n-1), lcs_recur(X, Y, m-1, n)) \n"
   ]
  },
  {
   "cell_type": "code",
   "execution_count": 63,
   "id": "c50de387-dfae-4fcd-a3e9-5bbfc084c3f5",
   "metadata": {},
   "outputs": [
    {
     "name": "stdout",
     "output_type": "stream",
     "text": [
      "X =  GAME OVER\n",
      "Y =  HELLO WORLD\n",
      "LCS(분할 정복) :  4\n"
     ]
    }
   ],
   "source": [
    "# LCS 테스트 프로그램\n",
    "X = \"GAME OVER\"\n",
    "Y = \"HELLO WORLD\"\n",
    "print(\"X = \", X)\n",
    "print(\"Y = \", Y)\n",
    "print(\"LCS(분할 정복) : \", lcs_recur(X , Y, len(X), len(Y)))"
   ]
  },
  {
   "cell_type": "markdown",
   "id": "bbbabafd-e0ea-4cd5-bcb3-c66d0e89b9f8",
   "metadata": {},
   "source": [
    "#### 3-1-2. LCS의 길이 (동적 프로그래밍 알고리즘)"
   ]
  },
  {
   "cell_type": "code",
   "execution_count": 1,
   "id": "047cef29-fd96-4837-b29a-eeb1aa3ea7d2",
   "metadata": {},
   "outputs": [],
   "source": [
    "# LCS의 길이(동적 계획법)\n",
    "def lcs_dp(X , Y): \n",
    "    # -메모이제이션-\n",
    "\n",
    "    \n",
    "\n",
    "    # -점화식-\n",
    "    m = len(X)\n",
    "    n = len(Y)\n",
    "    L = [[None]*(n+1) for _ in range(m+1)]\n",
    "\n",
    "    \n",
    "                \n",
    "    for i in range(m+1):\n",
    "        print(L[i])\n",
    "    # L[m][n] contains the length of LCS of X[0..n-1] & Y[0..m-1] \n",
    "    print(f\"LCS = {lcs_dp_traceback(X, Y, L)}\")\n",
    "    \n",
    "    return L[m][n] \n",
    "\n",
    "# LCS 테이블에서 LCS를 추적하는 알고리즘\n",
    "def lcs_dp_traceback(X, Y, L):\n",
    "    lcs = \"\"\t\t\t\t\t\t\t\t\t\t\t\t\t# ①\n",
    "    i = len(X)\t\t\t\t\t\t\t\t\t\t\t\t\t# ②\n",
    "    j = len(Y)\t\t\t\t\t\t\t\t\t\t\t\t\t# ② \n",
    "    print(i, j)\n",
    "    while i > 0 and j > 0:\n",
    "        v = L[i][j] \n",
    "        if v > L[i][j-1] and v > L[i-1][j]  and v > L[i-1][j-1]:# ③\n",
    "            i -= 1\n",
    "            j -= 1\n",
    "            lcs = X[i] + lcs\n",
    "\n",
    "        elif v == L[i][j-1] and v > L[i-1][j]: j -= 1\t\t\t# ④\n",
    "        else : i -= 1\t\t\t\t\t\t\t\t\t\t\t# ⑤\n",
    "\n",
    "    return lcs\n"
   ]
  },
  {
   "cell_type": "code",
   "execution_count": 65,
   "id": "ae83b62c-aab5-45b0-824e-1adefa5c9292",
   "metadata": {},
   "outputs": [
    {
     "name": "stdout",
     "output_type": "stream",
     "text": [
      "X =  GAME OVER\n",
      "Y =  HELLO WORLD\n",
      "[0, 0, 0, 0, 0, 0, 0, 0, 0, 0, 0, 0]\n",
      "[0, 0, 0, 0, 0, 0, 0, 0, 0, 0, 0, 0]\n",
      "[0, 0, 0, 0, 0, 0, 0, 0, 0, 0, 0, 0]\n",
      "[0, 0, 0, 0, 0, 0, 0, 0, 0, 0, 0, 0]\n",
      "[0, 0, 1, 1, 1, 1, 1, 1, 1, 1, 1, 1]\n",
      "[0, 0, 1, 1, 1, 1, 2, 2, 2, 2, 2, 2]\n",
      "[0, 0, 1, 1, 1, 2, 2, 2, 3, 3, 3, 3]\n",
      "[0, 0, 1, 1, 1, 2, 2, 2, 3, 3, 3, 3]\n",
      "[0, 0, 1, 1, 1, 2, 2, 2, 3, 3, 3, 3]\n",
      "[0, 0, 1, 1, 1, 2, 2, 2, 3, 4, 4, 4]\n",
      "9 11\n",
      "LCS = E OR\n",
      "LCS(동적 프로그래밍) :  4\n"
     ]
    }
   ],
   "source": [
    "X = \"GAME OVER\"\n",
    "Y = \"HELLO WORLD\"\n",
    "print(\"X = \", X)\n",
    "print(\"Y = \", Y)\n",
    "print(\"LCS(동적 프로그래밍) : \", lcs_dp(X , Y))"
   ]
  },
  {
   "cell_type": "code",
   "execution_count": 66,
   "id": "2f2bfb20-911a-411c-b0ee-f57c08e8a6f6",
   "metadata": {},
   "outputs": [
    {
     "name": "stdout",
     "output_type": "stream",
     "text": [
      "[0, 0, 0, 0, 0, 0, 0]\n",
      "[0, 1, 1, 1, 1, 1, 1]\n",
      "[0, 1, 1, 1, 1, 1, 1]\n",
      "[0, 1, 1, 1, 1, 1, 1]\n",
      "[0, 1, 1, 2, 2, 2, 2]\n",
      "[0, 1, 1, 2, 2, 2, 2]\n",
      "[0, 1, 1, 2, 2, 3, 3]\n",
      "6 6\n",
      "LCS = ADH\n",
      "LCS(동적 계획) 3\n"
     ]
    }
   ],
   "source": [
    "X = \"ABCDGH\"\n",
    "Y = \"AEDFHR\"\n",
    "print(\"LCS(동적 계획)\", lcs_dp(X , Y) )"
   ]
  },
  {
   "cell_type": "code",
   "execution_count": 67,
   "id": "9e968ae9-17a5-422f-a327-bba656121aa5",
   "metadata": {
    "scrolled": true
   },
   "outputs": [
    {
     "name": "stdout",
     "output_type": "stream",
     "text": [
      "[0, 0, 0, 0, 0, 0, 0, 0]\n",
      "[0, 0, 0, 0, 0, 1, 1, 1]\n",
      "[0, 1, 1, 1, 1, 1, 1, 1]\n",
      "[0, 1, 1, 1, 1, 1, 1, 1]\n",
      "[0, 1, 1, 2, 2, 2, 2, 2]\n",
      "[0, 1, 1, 2, 2, 3, 3, 3]\n",
      "[0, 1, 1, 2, 2, 3, 3, 4]\n",
      "6 7\n",
      "LCS = GTAB\n",
      "LCS(동적 계획) 4\n"
     ]
    }
   ],
   "source": [
    "X = \"AGGTAB\"\n",
    "Y = \"GXTXAYB\"\n",
    "print(\"LCS(동적 계획)\", lcs_dp(X , Y) )"
   ]
  },
  {
   "cell_type": "markdown",
   "id": "38bed074-02fe-41b0-acab-e419e3a472df",
   "metadata": {},
   "source": [
    "-------------------"
   ]
  },
  {
   "cell_type": "markdown",
   "id": "d392b888-57f3-427c-807e-fa0794bb6429",
   "metadata": {},
   "source": [
    "### 3-2.배낭 채우기(Knapsack problem)\n",
    "- 한정된 용량의 배낭에 최대 가치를 가진 물건들을 담는 방법을 찾는 것"
   ]
  },
  {
   "cell_type": "markdown",
   "id": "7f6b59cb-55cf-4d7f-87cf-c705bb63dbf1",
   "metadata": {},
   "source": [
    "#### 3-2-1. 0/1 배낭 채우기(분할 정복)"
   ]
  },
  {
   "cell_type": "code",
   "execution_count": 73,
   "id": "ee4c51c0-177b-4bc7-8c9a-788fda2afd97",
   "metadata": {},
   "outputs": [],
   "source": [
    "# 0/1 배낭 채우기(분할 정복)\n",
    "def knapSack_bf(W, wt, val, n): \n",
    "    if n == 0 or W == 0 :       # 기반 상태. 물건이 없거나 용량이 0이면\n",
    "        return 0                # 전체 가치 합은 0이 됨\n",
    "  \n",
    "    if (wt[n-1] > W):                           # 넣을 수 없음\n",
    "        return knapSack_bf(W, wt, val, n-1)     # 나머지 항목들로 다시 처리\n",
    "  \n",
    "    else: \n",
    "        valWith = val[n-1] + knapSack_bf(W-wt[n-1], wt, val, n-1) # 넣은 경우\n",
    "        valWithout = knapSack_bf(W, wt, val, n-1)                 # 넣지 않은 경우\n",
    "        return max(valWith, valWithout)\n"
   ]
  },
  {
   "cell_type": "code",
   "execution_count": 74,
   "id": "33a2edad-5f9a-415e-a206-5c9d9424a7a9",
   "metadata": {},
   "outputs": [
    {
     "name": "stdout",
     "output_type": "stream",
     "text": [
      "0/1 배낭문제(분할 정복):  480\n"
     ]
    }
   ],
   "source": [
    "val = [60, 100, 190, 120, 200, 150] \n",
    "wt = [2, 5, 8, 4, 7, 6] \n",
    "W = 18\n",
    "n = len(val) \n",
    "print(\"0/1 배낭문제(분할 정복): \", knapSack_bf(W, wt, val, n)) "
   ]
  },
  {
   "cell_type": "markdown",
   "id": "aaba6f42-6976-4e6c-9234-466ec9cae0a0",
   "metadata": {},
   "source": [
    "#### 3-2-2. 0/1 배낭 채우기(동적 프로그래밍)"
   ]
  },
  {
   "cell_type": "code",
   "execution_count": 71,
   "id": "36d887dc-b176-4f18-805b-47a54dd3e03a",
   "metadata": {},
   "outputs": [],
   "source": [
    "# 0/1 배낭 채우기(동적 프로그래밍)\n",
    "def knapSack_dp(W, wt, val, n): \n",
    "    # -메모이제이션-\n",
    "    # 테이블 생성 및 0으로 초기화(W=0, n=0인 경우 모두 0)\n",
    "\n",
    "    \n",
    "\n",
    "    # -점화식-\n",
    "    \n",
    "\n",
    "    \n",
    "  \n",
    "    return A[n][W]                  # 최종 결과가 저장됨\n"
   ]
  },
  {
   "cell_type": "code",
   "execution_count": 72,
   "id": "cb141518-8978-45ab-a4e9-7bc2fca399b5",
   "metadata": {},
   "outputs": [
    {
     "name": "stdout",
     "output_type": "stream",
     "text": [
      "0/1 배낭문제(동적 계획):  480\n"
     ]
    }
   ],
   "source": [
    "print(\"0/1 배낭문제(동적 계획): \", knapSack_dp(W, wt, val, n)) "
   ]
  },
  {
   "cell_type": "markdown",
   "id": "cee2a2c9-073f-45e0-8962-459a5e3959f8",
   "metadata": {},
   "source": [
    "-----------------------"
   ]
  },
  {
   "cell_type": "markdown",
   "id": "42a91a04-10a6-4170-99f0-7f4188e0942c",
   "metadata": {},
   "source": [
    "### 3-3. Bellman-Ford Algorithm(최단 경로 찾기)"
   ]
  },
  {
   "cell_type": "markdown",
   "id": "ff01b7e0-ab90-42e5-963f-4336e1abd01b",
   "metadata": {},
   "source": [
    "* **핵심 아이디어** : 그래프의 모든 간선을 반복적으로 완화(relax)하여, 특정 시작 정점에서 다른 모든 정점까지의 최단 경로를 찾는 것. 음수 가중치가 있는 그래프에서도 작동하며, 음수 사이클이 존재하는 경우 이를 탐지할 수 있다.\n",
    "* 연산 과정: 간선 완화는 간선의 가중치를 사용하여 정점 간의 최단 거리를 갱신하는 과정\u000b",
    "(모든 간선을 순회하며, 현재 거리보다 더 짧은 경로가 있다면 distances 배열을 업데이트)\n",
    "* 시간 복잡도: 시간 복잡도 O(V𝐸) \n",
    "* 중요 특징 요소\n",
    "    - **음의 가중치 허용** : 모든 간선의 가중치가 0 이상인 그래프에서 작동. \n",
    "    - **사이클 감지** : 주어진 시작 정점에서 다른 모든 정점까지의 최단 경로를 찾는다.\n"
   ]
  },
  {
   "cell_type": "markdown",
   "id": "6eb3e7d2-b9fe-4409-8450-7a5135a07edd",
   "metadata": {},
   "source": [
    "#### 3-3-1.동적 프로그래밍"
   ]
  },
  {
   "cell_type": "markdown",
   "id": "4b1bedcf-c8bc-4a9d-a557-e9e7eca8325c",
   "metadata": {},
   "source": [
    "1. (거리)초기화 **(메모이제이션)**\n",
    "    - ① 모든 노드의 거리를 무한대로 설정하고, \n",
    "    - ② 시작 노드의 거리는 0으로 설정\n",
    "3. 간선 완화 **(점화식)**\n",
    "    - ① 전체 간선에 대해서 시행한다.\n",
    "    - ② 현재 노드 u의 거리에 v까지의 간선 가중치를 더한 값이 v의 현재 거리보다 작으면 v의 거리를 u의 거리에 간선 가중치를 더한 값으로 갱신\n",
    "5. 음수 사이클 탐지\n",
    "    - ① 모든 간선에 대해서 한 번 더 반복하여 거리가 갱신되는 노드가 있다면\n",
    "    - (현재 노드 u의 거리에 v까지의 간선 가중치를 더한 값이 v의 현재 거리보다 작은 것이 존재하면) 음의 사이클이 존재한다고 판단한다."
   ]
  },
  {
   "cell_type": "code",
   "execution_count": 79,
   "id": "fdfaf0e4-87aa-4c01-81fa-82a8152f81cf",
   "metadata": {},
   "outputs": [
    {
     "name": "stdout",
     "output_type": "stream",
     "text": [
      "node Distance from Source\n",
      "A\t\t0\n",
      "B\t\t11\n",
      "C\t\t-6\n",
      "D\t\t9\n",
      "E\t\t10\n",
      "F\t\t4\n",
      "G\t\t3\n",
      "H\t\t6\n"
     ]
    }
   ],
   "source": [
    "class Graph:\n",
    "    def __init__(self, vertices):\n",
    "        self.V = vertices  # 정점의 수\n",
    "        self.graph = []    # 그래프를 나타내는 리스트\n",
    "\n",
    "    # 간선 추가\n",
    "    def add_edge(self, u, v, w):\n",
    "        self.graph.append([u, v, w])\n",
    "\n",
    "    # 최단 경로 찾기\n",
    "    def bellman_ford(self, start):\n",
    "        # -메모이제이션-\n",
    "        # 거리 초기화\n",
    "        distance = {node: float('inf') for node in self.vertices}\n",
    "        distance[start] = 0\n",
    "        shortest_path_tree = {node: None for node in self.vertices}\n",
    "\n",
    "        # -점화식-\n",
    "        # 간선 완화\n",
    "        for _ in range(self.V - 1):\n",
    "            for u, v, w in self.graph:\n",
    "                if distance[u] != float('inf') and distance[u] + w < distance[v]:\n",
    "                    distance[v] = distance[u] + w\n",
    "                    shortest_path_tree[v] = u\n",
    "\n",
    "        # 음수 사이클 탐지\n",
    "        for u, v, w in self.graph:\n",
    "            if distance[u] != float('inf') and distance[u] + w < distance[v]:\n",
    "                print(\"Graph contains negative weight cycle\")\n",
    "                return None, None\n",
    "\n",
    "        return distance, shortest_path_tree\n",
    "\n",
    "    # 거리 출력\n",
    "    def print_solution(self, distance):\n",
    "        print(\"node Distance from Source\")\n",
    "        for node in distance:\n",
    "            print(f\"{node}\\t\\t{distance[node]}\")\n",
    "\n",
    "# 그래프 정의 및 간선 추가\n",
    "vertices = ['A', 'B', 'C', 'D', 'E', 'F', 'G', 'H']\n",
    "g = Graph(len(vertices))\n",
    "edges = [\n",
    "    ('A', 'B', 11), ('A', 'C', 8), ('A', 'D', 9),\n",
    "    ('B', 'E', 8), ('B', 'G', 8),\n",
    "    ('C', 'F', 10),\n",
    "    ('D', 'B', 3), ('D', 'C', -15),('D', 'F', 1),\n",
    "    ('E', 'G', -7),\n",
    "    ('F', 'H', 2),\n",
    "    ('G', 'D', 12), ('G', 'H', 5),\n",
    "    ('H', 'E', 4)\n",
    "]\n",
    "for u, v, w in edges:\n",
    "    g.add_edge(u, v, w)\n",
    "g.vertices = vertices\n",
    "\n",
    "# 벨만-포드 알고리즘 실행\n",
    "distances, shortest_path_tree = g.bellman_ford('A')\n",
    "if distances is not None and shortest_path_tree is not None:\n",
    "    g.print_solution(distances)\n"
   ]
  },
  {
   "cell_type": "code",
   "execution_count": 81,
   "id": "27b46b3d-f8a1-4d7f-8b30-ca86c4e3281f",
   "metadata": {},
   "outputs": [
    {
     "data": {
      "image/png": "[encoded data removed]",
      "text/plain": [
       "<Figure size 1000x800 with 1 Axes>"
      ]
     },
     "metadata": {},
     "output_type": "display_data"
    }
   ],
   "source": [
    "import networkx as nx\n",
    "import matplotlib.pyplot as plt\n",
    "\n",
    "def draw_graph(graph, shortest_path_tree, start, pos=False):\n",
    "    G = nx.DiGraph()\n",
    "    for node in graph:\n",
    "        for neighbor, weight in graph[node].items():\n",
    "            if weight != float('inf'):\n",
    "                G.add_edge(node, neighbor, weight=weight)\n",
    "    \n",
    "    if not pos:\n",
    "        pos = nx.spring_layout(G)\n",
    "    labels = nx.get_edge_attributes(G, 'weight')\n",
    "    \n",
    "    plt.figure(figsize=(10, 8))\n",
    "    nx.draw(G, pos, with_labels=True, node_color='skyblue', node_size=2000, font_size=15, font_weight='bold', arrows=True)\n",
    "    nx.draw_networkx_edge_labels(G, pos, edge_labels=labels, font_size=12)\n",
    "    \n",
    "    # Highlight the shortest path tree\n",
    "    if start in shortest_path_tree.values():\n",
    "        path_edges = [(shortest_path_tree[node], node) for node in shortest_path_tree if shortest_path_tree[node]]\n",
    "        nx.draw_networkx_edges(G, pos, edgelist=path_edges, edge_color='r', width=2.5)\n",
    "    \n",
    "    plt.title(\"Graph Visualization with Shortest Path Tree\")\n",
    "    plt.show()\n",
    "\n",
    "\n",
    "# 그래프 시각화\n",
    "if distances is not None and shortest_path_tree is not None:\n",
    "    # draw_graph(vertices, edges, shortest_path_tree, 'A')\n",
    "    draw_graph(graph, shortest_path_tree, 'A', pos)"
   ]
  },
  {
   "cell_type": "markdown",
   "id": "33ba76a2-03b8-49e0-8498-4634f9c09ae8",
   "metadata": {},
   "source": [
    "----"
   ]
  },
  {
   "cell_type": "markdown",
   "id": "bb9a6b86-e30e-4e57-925e-06c85a2e55ad",
   "metadata": {},
   "source": [
    "### 3-4. 행렬 경로 문제 \n",
    "- 주어진 행렬의 왼쪽 상단에서 시작해 오른쪽 하단으로 이동하며\n",
    "- 각 셀의 값들의 합이 최대가 되도록 경로를 찾는 문제\n",
    "- 이동은 오른쪽 또는 아래로만 가능하다."
   ]
  },
  {
   "cell_type": "markdown",
   "id": "5bd89d61-dc4a-4381-9c3a-556107b8cdb1",
   "metadata": {},
   "source": [
    "* 행렬 경로 문제 정의\n",
    "    - 주어진 m x n 행렬에서 각 셀에는 숫자가 있음\n",
    "    - 시작 위치는 행렬의 왼쪽 상단(0,0)이며, 목표 위치는 행렬의 오른쪽 하단(m-1, n-1)임\n",
    "    - 경로의 합을 최대화하는 것이 목표임.\n",
    "* 동적 프로그래밍 접근법\n",
    "    - 동적 프로그래밍을 사용하여 이 문제를 해결할 때는 각 셀(i, j)에 대해 해당 셀까지 도달했을 때의 최대 경로의 합을 저장하는 2차원 리스트 dp를 사용함.    \n",
    "    - 점화식 :$dp[i][j]=max(dp[i−1][j],dp[i][j−1])+matrix[i][j] $\n",
    "    - 이 식은 (i, j) 셀에 도달하기 위해서는 왼쪽(i, j-1) 또는 위쪽(i-1, j) 셀에서 올 수 있다는 것을 나타냄\n",
    "    - 각 셀에 도달할 때의 최대 합을 계산하여 저장함"
   ]
  },
  {
   "cell_type": "markdown",
   "id": "9c6c715c-400f-4216-899b-9326d4eec000",
   "metadata": {},
   "source": [
    "#### 3-4-1. 재귀 방법"
   ]
  },
  {
   "cell_type": "code",
   "execution_count": 88,
   "id": "fe946dee-cc00-4e36-8fd2-31d34e7a98ad",
   "metadata": {},
   "outputs": [
    {
     "name": "stdout",
     "output_type": "stream",
     "text": [
      "Maximum path sum: 29\n"
     ]
    }
   ],
   "source": [
    "def max_path_sum(matrix):\n",
    "    if not matrix or not matrix[0]:\n",
    "        return 0\n",
    "\n",
    "    rows, cols = len(matrix), len(matrix[0])\n",
    "    memo = [[-1] * cols for _ in range(rows)]\n",
    "\n",
    "    def calculate_max_path(i, j):\n",
    "        # 범위를 벗어나는 경우\n",
    "        if i < 0 or j < 0:\n",
    "            return 0\n",
    "\n",
    "        # 이미 계산된 셀의 경우\n",
    "        if memo[i][j] != -1:\n",
    "            return memo[i][j]\n",
    "\n",
    "        # 재귀적으로 왼쪽과 위쪽의 최대 경로 합을 계산\n",
    "        max_up = calculate_max_path(i - 1, j) if i > 0 else 0\n",
    "        max_left = calculate_max_path(i, j - 1) if j > 0 else 0\n",
    "\n",
    "        # 현재 셀을 포함한 최대 경로 합 계산\n",
    "        memo[i][j] = max(max_up, max_left) + matrix[i][j]\n",
    "        \n",
    "        return memo[i][j]\n",
    "\n",
    "    # 마지막 셀부터 계산 시작\n",
    "    return calculate_max_path(rows - 1, cols - 1)\n",
    "\n",
    "# 예제 행렬\n",
    "matrix = [\n",
    "    [1, 2, 3],\n",
    "    [4, 5, 6],\n",
    "    [7, 8, 9]\n",
    "]\n",
    "\n",
    "# 최대 경로 합 출력\n",
    "print(\"Maximum path sum:\", max_path_sum(matrix))"
   ]
  },
  {
   "cell_type": "markdown",
   "id": "e5e59af2-fc14-4705-821b-3863a6a16b98",
   "metadata": {},
   "source": [
    "#### 3-4-1. 동적 프로그래밍"
   ]
  },
  {
   "cell_type": "code",
   "execution_count": 89,
   "id": "aec136dd-7b7b-478f-bcea-d397a085a4e9",
   "metadata": {},
   "outputs": [
    {
     "name": "stdout",
     "output_type": "stream",
     "text": [
      "[1, 3, 6]\n",
      "[5, 10, 16]\n",
      "[12, 20, 29]\n",
      "Maximum path sum: 29\n"
     ]
    }
   ],
   "source": [
    "def max_path_sum(matrix):\n",
    "    if not matrix or not matrix[0]:\n",
    "        return 0\n",
    "    \n",
    "    rows, cols = len(matrix), len(matrix[0])\n",
    "\n",
    "    # -메모이제이션-\n",
    "    \n",
    "    \n",
    "    # 초기 위치 설정\n",
    "    \n",
    "    \n",
    "    # 첫 번째 행 채우기\n",
    "    for j in range(1, cols):\n",
    "        dp[0][j] = dp[0][j-1] + matrix[0][j]\n",
    "    \n",
    "    # 첫 번째 열 채우기\n",
    "    for i in range(1, rows):\n",
    "        dp[i][0] = dp[i-1][0] + matrix[i][0]\n",
    "    \n",
    "    # 나머지 셀 채우기\n",
    "\n",
    "    \n",
    "\n",
    "    # db 시각화를 위해 출력\n",
    "    for i in range(len(dp)):\n",
    "        print(dp[i])\n",
    "        \n",
    "    # 오른쪽 하단 셀에는 최대 합이 저장됨\n",
    "    return dp[rows-1][cols-1]\n",
    "\n",
    "# 예제 행렬\n",
    "matrix = [\n",
    "    [1, 2, 3],\n",
    "    [4, 5, 6],\n",
    "    [7, 8, 9]\n",
    "]\n",
    "\n",
    "# 최대 경로 합 출력\n",
    "print(\"Maximum path sum:\", max_path_sum(matrix))"
   ]
  },
  {
   "cell_type": "code",
   "execution_count": null,
   "id": "487bb59e-b9ac-47bb-99bb-ecf880a49172",
   "metadata": {},
   "outputs": [],
   "source": []
  }
 ],
 "metadata": {
  "kernelspec": {
   "display_name": "Python 3 (ipykernel)",
   "language": "python",
   "name": "python3"
  },
  "language_info": {
   "codemirror_mode": {
    "name": "ipython",
    "version": 3
   },
   "file_extension": ".py",
   "mimetype": "text/x-python",
   "name": "python",
   "nbconvert_exporter": "python",
   "pygments_lexer": "ipython3",
   "version": "3.11.7"
  }
 },
 "nbformat": 4,
 "nbformat_minor": 5
}
