{
 "cells": [
  {
   "cell_type": "markdown",
   "id": "f44bcd12",
   "metadata": {},
   "source": [
    "# 14주차 : 머신러닝 알고리즘(Machine-Learning algorithm)"
   ]
  },
  {
   "cell_type": "markdown",
   "id": "f88f6bf7",
   "metadata": {},
   "source": [
    "- <a href=\"#1.추천알고리즘\">1. 추천 알고리즘</a>"
   ]
  },
  {
   "cell_type": "markdown",
   "id": "d9719ece",
   "metadata": {},
   "source": [
    "------------------------------"
   ]
  },
  {
   "cell_type": "markdown",
   "id": "e6e94c54",
   "metadata": {},
   "source": [
    "## <a name=\"1.추천알고리즘\">1. 추천 알고리즘</a>\n"
   ]
  },
  {
   "cell_type": "markdown",
   "id": "0c646686-53d8-483e-8539-aae917091e7d",
   "metadata": {},
   "source": [
    "### 1-1. (영화) 추천 알고리즘"
   ]
  },
  {
   "cell_type": "markdown",
   "id": "cd664648-e5f6-4966-a27d-88b5570f3460",
   "metadata": {},
   "source": [
    "#### 1. 라이브러리 불러오기"
   ]
  },
  {
   "cell_type": "code",
   "execution_count": 1,
   "id": "bd4a91bb-70a6-4a67-a42d-34ab82ba4385",
   "metadata": {
    "scrolled": true
   },
   "outputs": [],
   "source": [
    "import pandas as pd \n",
    "import numpy as np\n",
    "import warnings\n",
    "import matplotlib.pyplot as plt\n",
    "import seaborn as sns\n",
    "%matplotlib inline\n",
    "warnings.filterwarnings('ignore')\n"
   ]
  },
  {
   "cell_type": "markdown",
   "id": "51f07933-0657-4e73-a01a-a34553201e99",
   "metadata": {},
   "source": [
    "#### 2. 데이터 불러오기"
   ]
  },
  {
   "cell_type": "code",
   "execution_count": 2,
   "id": "c7dfd760-08f9-4173-ad67-910205217b56",
   "metadata": {},
   "outputs": [
    {
     "data": {
      "text/html": [
       "<div>\n",
       "<style scoped>\n",
       "    .dataframe tbody tr th:only-of-type {\n",
       "        vertical-align: middle;\n",
       "    }\n",
       "\n",
       "    .dataframe tbody tr th {\n",
       "        vertical-align: top;\n",
       "    }\n",
       "\n",
       "    .dataframe thead th {\n",
       "        text-align: right;\n",
       "    }\n",
       "</style>\n",
       "<table border=\"1\" class=\"dataframe\">\n",
       "  <thead>\n",
       "    <tr style=\"text-align: right;\">\n",
       "      <th></th>\n",
       "      <th>userId</th>\n",
       "      <th>movieId</th>\n",
       "      <th>rating</th>\n",
       "      <th>timestamp</th>\n",
       "    </tr>\n",
       "  </thead>\n",
       "  <tbody>\n",
       "    <tr>\n",
       "      <th>0</th>\n",
       "      <td>1</td>\n",
       "      <td>1</td>\n",
       "      <td>4.0</td>\n",
       "      <td>964982703</td>\n",
       "    </tr>\n",
       "    <tr>\n",
       "      <th>1</th>\n",
       "      <td>1</td>\n",
       "      <td>3</td>\n",
       "      <td>4.0</td>\n",
       "      <td>964981247</td>\n",
       "    </tr>\n",
       "    <tr>\n",
       "      <th>2</th>\n",
       "      <td>1</td>\n",
       "      <td>6</td>\n",
       "      <td>4.0</td>\n",
       "      <td>964982224</td>\n",
       "    </tr>\n",
       "    <tr>\n",
       "      <th>3</th>\n",
       "      <td>1</td>\n",
       "      <td>47</td>\n",
       "      <td>5.0</td>\n",
       "      <td>964983815</td>\n",
       "    </tr>\n",
       "    <tr>\n",
       "      <th>4</th>\n",
       "      <td>1</td>\n",
       "      <td>50</td>\n",
       "      <td>5.0</td>\n",
       "      <td>964982931</td>\n",
       "    </tr>\n",
       "  </tbody>\n",
       "</table>\n",
       "</div>"
      ],
      "text/plain": [
       "   userId  movieId  rating  timestamp\n",
       "0       1        1     4.0  964982703\n",
       "1       1        3     4.0  964981247\n",
       "2       1        6     4.0  964982224\n",
       "3       1       47     5.0  964983815\n",
       "4       1       50     5.0  964982931"
      ]
     },
     "execution_count": 2,
     "metadata": {},
     "output_type": "execute_result"
    }
   ],
   "source": [
    "# 영화 리뷰 데이터 불러오기\n",
    "df_reviews = pd.read_csv('./data/reviews.csv')\n",
    "df_reviews.head()"
   ]
  },
  {
   "cell_type": "code",
   "execution_count": 3,
   "id": "e335f0ca-0ce2-4412-a36a-85feeefd8ab7",
   "metadata": {},
   "outputs": [
    {
     "data": {
      "text/html": [
       "<div>\n",
       "<style scoped>\n",
       "    .dataframe tbody tr th:only-of-type {\n",
       "        vertical-align: middle;\n",
       "    }\n",
       "\n",
       "    .dataframe tbody tr th {\n",
       "        vertical-align: top;\n",
       "    }\n",
       "\n",
       "    .dataframe thead th {\n",
       "        text-align: right;\n",
       "    }\n",
       "</style>\n",
       "<table border=\"1\" class=\"dataframe\">\n",
       "  <thead>\n",
       "    <tr style=\"text-align: right;\">\n",
       "      <th></th>\n",
       "      <th>userId</th>\n",
       "      <th>movieId</th>\n",
       "      <th>rating</th>\n",
       "      <th>timestamp</th>\n",
       "    </tr>\n",
       "  </thead>\n",
       "  <tbody>\n",
       "    <tr>\n",
       "      <th>count</th>\n",
       "      <td>100836.000000</td>\n",
       "      <td>100836.000000</td>\n",
       "      <td>100836.000000</td>\n",
       "      <td>1.008360e+05</td>\n",
       "    </tr>\n",
       "    <tr>\n",
       "      <th>mean</th>\n",
       "      <td>326.127564</td>\n",
       "      <td>19435.295718</td>\n",
       "      <td>3.501557</td>\n",
       "      <td>1.205946e+09</td>\n",
       "    </tr>\n",
       "    <tr>\n",
       "      <th>std</th>\n",
       "      <td>182.618491</td>\n",
       "      <td>35530.987199</td>\n",
       "      <td>1.042529</td>\n",
       "      <td>2.162610e+08</td>\n",
       "    </tr>\n",
       "    <tr>\n",
       "      <th>min</th>\n",
       "      <td>1.000000</td>\n",
       "      <td>1.000000</td>\n",
       "      <td>0.500000</td>\n",
       "      <td>8.281246e+08</td>\n",
       "    </tr>\n",
       "    <tr>\n",
       "      <th>25%</th>\n",
       "      <td>177.000000</td>\n",
       "      <td>1199.000000</td>\n",
       "      <td>3.000000</td>\n",
       "      <td>1.019124e+09</td>\n",
       "    </tr>\n",
       "    <tr>\n",
       "      <th>50%</th>\n",
       "      <td>325.000000</td>\n",
       "      <td>2991.000000</td>\n",
       "      <td>3.500000</td>\n",
       "      <td>1.186087e+09</td>\n",
       "    </tr>\n",
       "    <tr>\n",
       "      <th>75%</th>\n",
       "      <td>477.000000</td>\n",
       "      <td>8122.000000</td>\n",
       "      <td>4.000000</td>\n",
       "      <td>1.435994e+09</td>\n",
       "    </tr>\n",
       "    <tr>\n",
       "      <th>max</th>\n",
       "      <td>610.000000</td>\n",
       "      <td>193609.000000</td>\n",
       "      <td>5.000000</td>\n",
       "      <td>1.537799e+09</td>\n",
       "    </tr>\n",
       "  </tbody>\n",
       "</table>\n",
       "</div>"
      ],
      "text/plain": [
       "              userId        movieId         rating     timestamp\n",
       "count  100836.000000  100836.000000  100836.000000  1.008360e+05\n",
       "mean      326.127564   19435.295718       3.501557  1.205946e+09\n",
       "std       182.618491   35530.987199       1.042529  2.162610e+08\n",
       "min         1.000000       1.000000       0.500000  8.281246e+08\n",
       "25%       177.000000    1199.000000       3.000000  1.019124e+09\n",
       "50%       325.000000    2991.000000       3.500000  1.186087e+09\n",
       "75%       477.000000    8122.000000       4.000000  1.435994e+09\n",
       "max       610.000000  193609.000000       5.000000  1.537799e+09"
      ]
     },
     "execution_count": 3,
     "metadata": {},
     "output_type": "execute_result"
    }
   ],
   "source": [
    "df_reviews.describe()"
   ]
  },
  {
   "cell_type": "code",
   "execution_count": 4,
   "id": "c0fd9edb-d754-4bf4-8f7f-0f174fcb9440",
   "metadata": {},
   "outputs": [
    {
     "data": {
      "text/plain": [
       "userId\n",
       "414    2698\n",
       "599    2478\n",
       "474    2108\n",
       "448    1864\n",
       "274    1346\n",
       "       ... \n",
       "442      20\n",
       "569      20\n",
       "320      20\n",
       "576      20\n",
       "53       20\n",
       "Name: count, Length: 610, dtype: int64"
      ]
     },
     "execution_count": 4,
     "metadata": {},
     "output_type": "execute_result"
    }
   ],
   "source": [
    "df_reviews['userId'].value_counts()"
   ]
  },
  {
   "cell_type": "code",
   "execution_count": 5,
   "id": "712b830b-9ff8-4b3a-8392-ec569d57ff52",
   "metadata": {
    "scrolled": true
   },
   "outputs": [
    {
     "data": {
      "text/html": [
       "<div>\n",
       "<style scoped>\n",
       "    .dataframe tbody tr th:only-of-type {\n",
       "        vertical-align: middle;\n",
       "    }\n",
       "\n",
       "    .dataframe tbody tr th {\n",
       "        vertical-align: top;\n",
       "    }\n",
       "\n",
       "    .dataframe thead th {\n",
       "        text-align: right;\n",
       "    }\n",
       "</style>\n",
       "<table border=\"1\" class=\"dataframe\">\n",
       "  <thead>\n",
       "    <tr style=\"text-align: right;\">\n",
       "      <th></th>\n",
       "      <th>movieId</th>\n",
       "      <th>title</th>\n",
       "      <th>genres</th>\n",
       "    </tr>\n",
       "  </thead>\n",
       "  <tbody>\n",
       "    <tr>\n",
       "      <th>0</th>\n",
       "      <td>1</td>\n",
       "      <td>Toy Story (1995)</td>\n",
       "      <td>Adventure|Animation|Children|Comedy|Fantasy</td>\n",
       "    </tr>\n",
       "    <tr>\n",
       "      <th>1</th>\n",
       "      <td>2</td>\n",
       "      <td>Jumanji (1995)</td>\n",
       "      <td>Adventure|Children|Fantasy</td>\n",
       "    </tr>\n",
       "    <tr>\n",
       "      <th>2</th>\n",
       "      <td>3</td>\n",
       "      <td>Grumpier Old Men (1995)</td>\n",
       "      <td>Comedy|Romance</td>\n",
       "    </tr>\n",
       "    <tr>\n",
       "      <th>3</th>\n",
       "      <td>4</td>\n",
       "      <td>Waiting to Exhale (1995)</td>\n",
       "      <td>Comedy|Drama|Romance</td>\n",
       "    </tr>\n",
       "    <tr>\n",
       "      <th>4</th>\n",
       "      <td>5</td>\n",
       "      <td>Father of the Bride Part II (1995)</td>\n",
       "      <td>Comedy</td>\n",
       "    </tr>\n",
       "  </tbody>\n",
       "</table>\n",
       "</div>"
      ],
      "text/plain": [
       "   movieId                               title  \\\n",
       "0        1                    Toy Story (1995)   \n",
       "1        2                      Jumanji (1995)   \n",
       "2        3             Grumpier Old Men (1995)   \n",
       "3        4            Waiting to Exhale (1995)   \n",
       "4        5  Father of the Bride Part II (1995)   \n",
       "\n",
       "                                        genres  \n",
       "0  Adventure|Animation|Children|Comedy|Fantasy  \n",
       "1                   Adventure|Children|Fantasy  \n",
       "2                               Comedy|Romance  \n",
       "3                         Comedy|Drama|Romance  \n",
       "4                                       Comedy  "
      ]
     },
     "execution_count": 5,
     "metadata": {},
     "output_type": "execute_result"
    }
   ],
   "source": [
    "# 영화 데이터 불러오기\n",
    "df_movie_titles = pd.read_csv('./data/movies.csv',index_col=False)\n",
    "df_movie_titles.head()"
   ]
  },
  {
   "cell_type": "markdown",
   "id": "45e2977b-454d-40e7-90c8-6476084cec27",
   "metadata": {},
   "source": [
    "#### 3. 데이터 합치기 (영화 리뷰 + 영화 목록)"
   ]
  },
  {
   "cell_type": "code",
   "execution_count": null,
   "id": "ed7855f3-f5db-4fd0-bd3e-a487d83bb7af",
   "metadata": {},
   "outputs": [],
   "source": [
    "# 데이터 합치기 (영화 리뷰 + 영화 목록)\n",
    "df = pd.merge(df_reviews, df_movie_titles, on='movieId')\n",
    "df.head()"
   ]
  },
  {
   "cell_type": "code",
   "execution_count": null,
   "id": "b9a6e0b7-ef8b-4d5c-a7dc-76bd42a3f455",
   "metadata": {},
   "outputs": [],
   "source": [
    "df.describe()"
   ]
  },
  {
   "cell_type": "markdown",
   "id": "4593117d-9a0c-40b2-8601-e3833c7dee0e",
   "metadata": {},
   "source": [
    "#### 4. 데이터 그룹핑하기"
   ]
  },
  {
   "cell_type": "code",
   "execution_count": null,
   "id": "a73f3d02-dfa6-4545-8081-83f939191af0",
   "metadata": {},
   "outputs": [],
   "source": [
    "# 제목(title)으로 그룹화하여 영화의 평균 평점과 평균 빈도 계산하기\n",
    "df_ratings = pd.DataFrame(df.groupby('title')['rating'].mean())\n",
    "df_ratings['number_of_ratings'] = df.groupby('title')['rating'].count()\n",
    "df_ratings.head()"
   ]
  },
  {
   "cell_type": "markdown",
   "id": "e19e50a6-1971-4f43-9509-50a68841d849",
   "metadata": {},
   "source": [
    "#### 5. 특징 행렬(희소 행렬)로 변환  \n",
    "- 추천 알고리즘을 위해 데이터를 특징이 있는 행렬로 변환한다."
   ]
  },
  {
   "cell_type": "code",
   "execution_count": null,
   "id": "775ce9f6-595e-426f-bed8-e658760caf3b",
   "metadata": {},
   "outputs": [],
   "source": [
    "movie_matrix = df.pivot_table(index='userId', columns='title', values='rating')\n",
    "movie_matrix.head()"
   ]
  },
  {
   "cell_type": "markdown",
   "id": "0f8378b0-8659-4ce3-8d47-d45b67a71299",
   "metadata": {},
   "source": [
    "#### 6. 아바타 영화(Avata, 2009) 영화에 관심을 보인 모든 사용자 찾기"
   ]
  },
  {
   "cell_type": "code",
   "execution_count": null,
   "id": "ed2ae967-f306-4ee6-9b20-e3b3213d77ae",
   "metadata": {},
   "outputs": [],
   "source": [
    "Avatar_user_rating = movie_matrix['Avatar (2009)']\n",
    "Avatar_user_rating = Avatar_user_rating.dropna()\n",
    "Avatar_user_rating.head()"
   ]
  },
  {
   "cell_type": "markdown",
   "id": "a0a0a9eb-1abf-4bcb-879a-eb19c3bdd379",
   "metadata": {},
   "source": [
    "#### 7. 아바타와 관련한(유사한) 영화 추천하기\n",
    "- corr메서드 : 각 열 간의 상관 계수를 반환하는 메서드\n",
    "- corrwith메서드 :  두 DataFrame객체의 동일한 행/열 간의 상관 계수를 반환하는 메서드"
   ]
  },
  {
   "cell_type": "code",
   "execution_count": null,
   "id": "4a2ffb1a-ba41-4c2f-bf26-6ce9e8c96635",
   "metadata": {},
   "outputs": [],
   "source": [
    "similar_to_Avatar=movie_matrix.corrwith(Avatar_user_rating)\n",
    "corr_Avatar = pd.DataFrame(similar_to_Avatar, columns=['correlation'])\n",
    "corr_Avatar.dropna(inplace=True)\n",
    "corr_Avatar = corr_Avatar.join(df_ratings['number_of_ratings'])\n",
    "corr_Avatar.head()"
   ]
  },
  {
   "cell_type": "markdown",
   "id": "ed3ec04e-c95d-4075-85e8-0ef4413d3f93",
   "metadata": {},
   "source": [
    "#### 8. 상관관계 높은 순으로 정렬하기"
   ]
  },
  {
   "cell_type": "code",
   "execution_count": null,
   "id": "89a610a7-a1af-4652-839e-df3d8be52c29",
   "metadata": {
    "scrolled": true
   },
   "outputs": [],
   "source": [
    "corr_Avatar[df_ratings['number_of_ratings'] > 100].sort_values(by='correlation', ascending=False).head(10)"
   ]
  },
  {
   "cell_type": "markdown",
   "id": "98838b0a-ed35-4757-9e64-b51f30e8fc9c",
   "metadata": {},
   "source": [
    "### [실습문제] 다른 영화에 대해서도 상관관계 높은 영화 추천하기\n",
    "- 영화 제목: Thor (2011)"
   ]
  },
  {
   "cell_type": "markdown",
   "id": "cc0feb58-265c-48fb-b6aa-595810d00f05",
   "metadata": {},
   "source": [
    "#### 1. 토르(Thor (2011)) 영화에 관심을 보인 모든 사용자 찾기"
   ]
  },
  {
   "cell_type": "code",
   "execution_count": null,
   "id": "51f07262-3823-4d2b-bf51-53b7fc076b0b",
   "metadata": {},
   "outputs": [],
   "source": [
    "\n",
    "\n"
   ]
  },
  {
   "cell_type": "markdown",
   "id": "d4a5d9bc-2f73-4c87-9f32-f121bd0e435b",
   "metadata": {},
   "source": [
    "#### 2. 토르(Thor (2011)) 영화와 관련한(유사한) 영화 추천하기"
   ]
  },
  {
   "cell_type": "code",
   "execution_count": null,
   "id": "43a3ce14-82b3-44ca-a0d2-7ec4f1705775",
   "metadata": {},
   "outputs": [],
   "source": [
    "\n",
    "\n",
    "\n"
   ]
  },
  {
   "cell_type": "markdown",
   "id": "187fd83e-98b1-4dce-91a7-ec5a7bfbf237",
   "metadata": {},
   "source": [
    "#### 3. 상관관계 높은 영화 순으로 정렬하기"
   ]
  },
  {
   "cell_type": "code",
   "execution_count": null,
   "id": "ecb68f83-fb63-4a15-b6cb-17be8da7d6ca",
   "metadata": {
    "scrolled": true
   },
   "outputs": [],
   "source": [
    "\n",
    "\n"
   ]
  },
  {
   "cell_type": "markdown",
   "id": "32b06a7e-d31e-424d-b6ea-9c5470306f36",
   "metadata": {},
   "source": [
    "---------------------------"
   ]
  }
 ],
 "metadata": {
  "kernelspec": {
   "display_name": "Python 3 (ipykernel)",
   "language": "python",
   "name": "python3"
  },
  "language_info": {
   "codemirror_mode": {
    "name": "ipython",
    "version": 3
   },
   "file_extension": ".py",
   "mimetype": "text/x-python",
   "name": "python",
   "nbconvert_exporter": "python",
   "pygments_lexer": "ipython3",
   "version": "3.11.7"
  }
 },
 "nbformat": 4,
 "nbformat_minor": 5
}
